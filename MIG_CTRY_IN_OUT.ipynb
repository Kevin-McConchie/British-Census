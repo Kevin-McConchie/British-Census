{
 "cells": [
  {
   "cell_type": "code",
   "execution_count": null,
   "metadata": {},
   "outputs": [],
   "source": [
    "# Dependencies\n",
    "import plotly.graph_objs as go\n",
    "import plotly.express as px\n",
    "import pandas as pd\n",
    "import numpy as np"
   ]
  },
  {
   "cell_type": "markdown",
   "metadata": {},
   "source": [
    "### Migration inflow ethnicity and movement type\n",
    "\n",
    "Information about the data can be fount here: https://www.nomisweb.co.uk/sources/census_2021_mig"
   ]
  },
  {
   "cell_type": "code",
   "execution_count": 48,
   "metadata": {},
   "outputs": [],
   "source": [
    "# Create df for migration into England and Wales\n",
    "mig_ctry_in_df = pd.read_csv(\"./Resources/MIG004EW_CTRY_IN.csv\")\n",
    "# mig_ctry_in_df.head()\n",
    "\n"
   ]
  },
  {
   "cell_type": "code",
   "execution_count": 42,
   "metadata": {},
   "outputs": [
    {
     "data": {
      "application/vnd.plotly.v1+json": {
       "config": {
        "plotlyServerURL": "https://plot.ly"
       },
       "data": [
        {
         "alignmentgroup": "True",
         "hovertemplate": "%{y:,.0f} Count",
         "legendgroup": "Lived at the same address one year ago",
         "marker": {
          "color": "#636efa",
          "pattern": {
           "shape": ""
          }
         },
         "name": "Lived at the same address one year ago",
         "offsetgroup": "Lived at the same address one year ago",
         "orientation": "v",
         "showlegend": true,
         "textposition": "auto",
         "type": "bar",
         "x": [
          "White",
          "Asian, Asian British or Asian Welsh",
          "Black, Black British, Black Welsh, Caribbean or African",
          "Mixed or Multiple ethnic groups",
          "Other ethnic group"
         ],
         "xaxis": "x",
         "y": [
          40624393,
          4649298,
          2044014,
          1369199,
          1022901
         ],
         "yaxis": "y"
        },
        {
         "alignmentgroup": "True",
         "hovertemplate": "%{y:,.0f} Count",
         "legendgroup": "Lived at the same address one year ago",
         "marker": {
          "color": "#636efa",
          "pattern": {
           "shape": ""
          }
         },
         "name": "Lived at the same address one year ago",
         "offsetgroup": "Lived at the same address one year ago",
         "orientation": "v",
         "showlegend": false,
         "textposition": "auto",
         "type": "bar",
         "x": [
          "White",
          "Asian, Asian British or Asian Welsh",
          "Mixed or Multiple ethnic groups",
          "Black, Black British, Black Welsh, Caribbean or African",
          "Other ethnic group"
         ],
         "xaxis": "x2",
         "y": [
          2631861,
          72286,
          40018,
          21569,
          21002
         ],
         "yaxis": "y2"
        },
        {
         "alignmentgroup": "True",
         "hovertemplate": "%{y:,.0f} Count",
         "legendgroup": "Inflow: lived elsewhere one year ago, but within the same area",
         "marker": {
          "color": "#EF553B",
          "pattern": {
           "shape": ""
          }
         },
         "name": "Inflow: lived elsewhere one year ago, but within the same area",
         "offsetgroup": "Inflow: lived elsewhere one year ago, but within the same area",
         "orientation": "v",
         "showlegend": true,
         "textposition": "auto",
         "type": "bar",
         "x": [
          "White",
          "Asian, Asian British or Asian Welsh",
          "Black, Black British, Black Welsh, Caribbean or African",
          "Mixed or Multiple ethnic groups",
          "Other ethnic group"
         ],
         "xaxis": "x",
         "y": [
          4416699,
          543536,
          260235,
          227289,
          148753
         ],
         "yaxis": "y"
        },
        {
         "alignmentgroup": "True",
         "hovertemplate": "%{y:,.0f} Count",
         "legendgroup": "Inflow: lived elsewhere one year ago, but within the same area",
         "marker": {
          "color": "#EF553B",
          "pattern": {
           "shape": ""
          }
         },
         "name": "Inflow: lived elsewhere one year ago, but within the same area",
         "offsetgroup": "Inflow: lived elsewhere one year ago, but within the same area",
         "orientation": "v",
         "showlegend": false,
         "textposition": "auto",
         "type": "bar",
         "x": [
          "White",
          "Asian, Asian British or Asian Welsh",
          "Mixed or Multiple ethnic groups",
          "Black, Black British, Black Welsh, Caribbean or African",
          "Other ethnic group"
         ],
         "xaxis": "x2",
         "y": [
          199881,
          8144,
          5031,
          2947,
          2856
         ],
         "yaxis": "y2"
        },
        {
         "alignmentgroup": "True",
         "hovertemplate": "%{y:,.0f} Count",
         "legendgroup": "Inflow: lived elsewhere one year ago outside the UK",
         "marker": {
          "color": "#00cc96",
          "pattern": {
           "shape": ""
          }
         },
         "name": "Inflow: lived elsewhere one year ago outside the UK",
         "offsetgroup": "Inflow: lived elsewhere one year ago outside the UK",
         "orientation": "v",
         "showlegend": true,
         "textposition": "auto",
         "type": "bar",
         "x": [
          "White",
          "Asian, Asian British or Asian Welsh",
          "Black, Black British, Black Welsh, Caribbean or African",
          "Other ethnic group",
          "Mixed or Multiple ethnic groups"
         ],
         "xaxis": "x",
         "y": [
          261511,
          157200,
          46562,
          40924,
          22559
         ],
         "yaxis": "y"
        },
        {
         "alignmentgroup": "True",
         "hovertemplate": "%{y:,.0f} Count",
         "legendgroup": "Inflow: lived elsewhere one year ago outside the UK",
         "marker": {
          "color": "#00cc96",
          "pattern": {
           "shape": ""
          }
         },
         "name": "Inflow: lived elsewhere one year ago outside the UK",
         "offsetgroup": "Inflow: lived elsewhere one year ago outside the UK",
         "orientation": "v",
         "showlegend": false,
         "textposition": "auto",
         "type": "bar",
         "x": [
          "White",
          "Asian, Asian British or Asian Welsh",
          "Black, Black British, Black Welsh, Caribbean or African",
          "Other ethnic group",
          "Mixed or Multiple ethnic groups"
         ],
         "xaxis": "x2",
         "y": [
          8643,
          4457,
          1433,
          1223,
          577
         ],
         "yaxis": "y2"
        },
        {
         "alignmentgroup": "True",
         "hovertemplate": "%{y:,.0f} Count",
         "legendgroup": "Inflow: lived elsewhere one year ago outside the area, but within the associated area",
         "marker": {
          "color": "#ab63fa",
          "pattern": {
           "shape": ""
          }
         },
         "name": "Inflow: lived elsewhere one year ago outside the area, but within the associated area",
         "offsetgroup": "Inflow: lived elsewhere one year ago outside the area, but within the associated area",
         "orientation": "v",
         "showlegend": true,
         "textposition": "auto",
         "type": "bar",
         "x": [
          "White",
          "Asian, Asian British or Asian Welsh",
          "Mixed or Multiple ethnic groups",
          "Black, Black British, Black Welsh, Caribbean or African",
          "Other ethnic group"
         ],
         "xaxis": "x",
         "y": [
          63445,
          5934,
          2343,
          2302,
          1960
         ],
         "yaxis": "y"
        },
        {
         "alignmentgroup": "True",
         "hovertemplate": "%{y:,.0f} Count",
         "legendgroup": "Inflow: lived elsewhere one year ago outside the area, but within the associated area",
         "marker": {
          "color": "#ab63fa",
          "pattern": {
           "shape": ""
          }
         },
         "name": "Inflow: lived elsewhere one year ago outside the area, but within the associated area",
         "offsetgroup": "Inflow: lived elsewhere one year ago outside the area, but within the associated area",
         "orientation": "v",
         "showlegend": false,
         "textposition": "auto",
         "type": "bar",
         "x": [
          "White",
          "Asian, Asian British or Asian Welsh",
          "Mixed or Multiple ethnic groups",
          "Black, Black British, Black Welsh, Caribbean or African",
          "Other ethnic group"
         ],
         "xaxis": "x2",
         "y": [
          49969,
          3242,
          1816,
          1226,
          982
         ],
         "yaxis": "y2"
        }
       ],
       "layout": {
        "annotations": [
         {
          "font": {},
          "showarrow": false,
          "text": "Countries label=England",
          "x": 0.245,
          "xanchor": "center",
          "xref": "paper",
          "y": 1,
          "yanchor": "bottom",
          "yref": "paper"
         },
         {
          "font": {},
          "showarrow": false,
          "text": "Countries label=Wales",
          "x": 0.755,
          "xanchor": "center",
          "xref": "paper",
          "y": 1,
          "yanchor": "bottom",
          "yref": "paper"
         }
        ],
        "barmode": "relative",
        "height": 800,
        "legend": {
         "title": {
          "text": "Migration Country (inflow) (5 categories) label"
         },
         "tracegroupgap": 0
        },
        "template": {
         "data": {
          "bar": [
           {
            "error_x": {
             "color": "#2a3f5f"
            },
            "error_y": {
             "color": "#2a3f5f"
            },
            "marker": {
             "line": {
              "color": "#E5ECF6",
              "width": 0.5
             },
             "pattern": {
              "fillmode": "overlay",
              "size": 10,
              "solidity": 0.2
             }
            },
            "type": "bar"
           }
          ],
          "barpolar": [
           {
            "marker": {
             "line": {
              "color": "#E5ECF6",
              "width": 0.5
             },
             "pattern": {
              "fillmode": "overlay",
              "size": 10,
              "solidity": 0.2
             }
            },
            "type": "barpolar"
           }
          ],
          "carpet": [
           {
            "aaxis": {
             "endlinecolor": "#2a3f5f",
             "gridcolor": "white",
             "linecolor": "white",
             "minorgridcolor": "white",
             "startlinecolor": "#2a3f5f"
            },
            "baxis": {
             "endlinecolor": "#2a3f5f",
             "gridcolor": "white",
             "linecolor": "white",
             "minorgridcolor": "white",
             "startlinecolor": "#2a3f5f"
            },
            "type": "carpet"
           }
          ],
          "choropleth": [
           {
            "colorbar": {
             "outlinewidth": 0,
             "ticks": ""
            },
            "type": "choropleth"
           }
          ],
          "contour": [
           {
            "colorbar": {
             "outlinewidth": 0,
             "ticks": ""
            },
            "colorscale": [
             [
              0,
              "#0d0887"
             ],
             [
              0.1111111111111111,
              "#46039f"
             ],
             [
              0.2222222222222222,
              "#7201a8"
             ],
             [
              0.3333333333333333,
              "#9c179e"
             ],
             [
              0.4444444444444444,
              "#bd3786"
             ],
             [
              0.5555555555555556,
              "#d8576b"
             ],
             [
              0.6666666666666666,
              "#ed7953"
             ],
             [
              0.7777777777777778,
              "#fb9f3a"
             ],
             [
              0.8888888888888888,
              "#fdca26"
             ],
             [
              1,
              "#f0f921"
             ]
            ],
            "type": "contour"
           }
          ],
          "contourcarpet": [
           {
            "colorbar": {
             "outlinewidth": 0,
             "ticks": ""
            },
            "type": "contourcarpet"
           }
          ],
          "heatmap": [
           {
            "colorbar": {
             "outlinewidth": 0,
             "ticks": ""
            },
            "colorscale": [
             [
              0,
              "#0d0887"
             ],
             [
              0.1111111111111111,
              "#46039f"
             ],
             [
              0.2222222222222222,
              "#7201a8"
             ],
             [
              0.3333333333333333,
              "#9c179e"
             ],
             [
              0.4444444444444444,
              "#bd3786"
             ],
             [
              0.5555555555555556,
              "#d8576b"
             ],
             [
              0.6666666666666666,
              "#ed7953"
             ],
             [
              0.7777777777777778,
              "#fb9f3a"
             ],
             [
              0.8888888888888888,
              "#fdca26"
             ],
             [
              1,
              "#f0f921"
             ]
            ],
            "type": "heatmap"
           }
          ],
          "heatmapgl": [
           {
            "colorbar": {
             "outlinewidth": 0,
             "ticks": ""
            },
            "colorscale": [
             [
              0,
              "#0d0887"
             ],
             [
              0.1111111111111111,
              "#46039f"
             ],
             [
              0.2222222222222222,
              "#7201a8"
             ],
             [
              0.3333333333333333,
              "#9c179e"
             ],
             [
              0.4444444444444444,
              "#bd3786"
             ],
             [
              0.5555555555555556,
              "#d8576b"
             ],
             [
              0.6666666666666666,
              "#ed7953"
             ],
             [
              0.7777777777777778,
              "#fb9f3a"
             ],
             [
              0.8888888888888888,
              "#fdca26"
             ],
             [
              1,
              "#f0f921"
             ]
            ],
            "type": "heatmapgl"
           }
          ],
          "histogram": [
           {
            "marker": {
             "pattern": {
              "fillmode": "overlay",
              "size": 10,
              "solidity": 0.2
             }
            },
            "type": "histogram"
           }
          ],
          "histogram2d": [
           {
            "colorbar": {
             "outlinewidth": 0,
             "ticks": ""
            },
            "colorscale": [
             [
              0,
              "#0d0887"
             ],
             [
              0.1111111111111111,
              "#46039f"
             ],
             [
              0.2222222222222222,
              "#7201a8"
             ],
             [
              0.3333333333333333,
              "#9c179e"
             ],
             [
              0.4444444444444444,
              "#bd3786"
             ],
             [
              0.5555555555555556,
              "#d8576b"
             ],
             [
              0.6666666666666666,
              "#ed7953"
             ],
             [
              0.7777777777777778,
              "#fb9f3a"
             ],
             [
              0.8888888888888888,
              "#fdca26"
             ],
             [
              1,
              "#f0f921"
             ]
            ],
            "type": "histogram2d"
           }
          ],
          "histogram2dcontour": [
           {
            "colorbar": {
             "outlinewidth": 0,
             "ticks": ""
            },
            "colorscale": [
             [
              0,
              "#0d0887"
             ],
             [
              0.1111111111111111,
              "#46039f"
             ],
             [
              0.2222222222222222,
              "#7201a8"
             ],
             [
              0.3333333333333333,
              "#9c179e"
             ],
             [
              0.4444444444444444,
              "#bd3786"
             ],
             [
              0.5555555555555556,
              "#d8576b"
             ],
             [
              0.6666666666666666,
              "#ed7953"
             ],
             [
              0.7777777777777778,
              "#fb9f3a"
             ],
             [
              0.8888888888888888,
              "#fdca26"
             ],
             [
              1,
              "#f0f921"
             ]
            ],
            "type": "histogram2dcontour"
           }
          ],
          "mesh3d": [
           {
            "colorbar": {
             "outlinewidth": 0,
             "ticks": ""
            },
            "type": "mesh3d"
           }
          ],
          "parcoords": [
           {
            "line": {
             "colorbar": {
              "outlinewidth": 0,
              "ticks": ""
             }
            },
            "type": "parcoords"
           }
          ],
          "pie": [
           {
            "automargin": true,
            "type": "pie"
           }
          ],
          "scatter": [
           {
            "fillpattern": {
             "fillmode": "overlay",
             "size": 10,
             "solidity": 0.2
            },
            "type": "scatter"
           }
          ],
          "scatter3d": [
           {
            "line": {
             "colorbar": {
              "outlinewidth": 0,
              "ticks": ""
             }
            },
            "marker": {
             "colorbar": {
              "outlinewidth": 0,
              "ticks": ""
             }
            },
            "type": "scatter3d"
           }
          ],
          "scattercarpet": [
           {
            "marker": {
             "colorbar": {
              "outlinewidth": 0,
              "ticks": ""
             }
            },
            "type": "scattercarpet"
           }
          ],
          "scattergeo": [
           {
            "marker": {
             "colorbar": {
              "outlinewidth": 0,
              "ticks": ""
             }
            },
            "type": "scattergeo"
           }
          ],
          "scattergl": [
           {
            "marker": {
             "colorbar": {
              "outlinewidth": 0,
              "ticks": ""
             }
            },
            "type": "scattergl"
           }
          ],
          "scattermapbox": [
           {
            "marker": {
             "colorbar": {
              "outlinewidth": 0,
              "ticks": ""
             }
            },
            "type": "scattermapbox"
           }
          ],
          "scatterpolar": [
           {
            "marker": {
             "colorbar": {
              "outlinewidth": 0,
              "ticks": ""
             }
            },
            "type": "scatterpolar"
           }
          ],
          "scatterpolargl": [
           {
            "marker": {
             "colorbar": {
              "outlinewidth": 0,
              "ticks": ""
             }
            },
            "type": "scatterpolargl"
           }
          ],
          "scatterternary": [
           {
            "marker": {
             "colorbar": {
              "outlinewidth": 0,
              "ticks": ""
             }
            },
            "type": "scatterternary"
           }
          ],
          "surface": [
           {
            "colorbar": {
             "outlinewidth": 0,
             "ticks": ""
            },
            "colorscale": [
             [
              0,
              "#0d0887"
             ],
             [
              0.1111111111111111,
              "#46039f"
             ],
             [
              0.2222222222222222,
              "#7201a8"
             ],
             [
              0.3333333333333333,
              "#9c179e"
             ],
             [
              0.4444444444444444,
              "#bd3786"
             ],
             [
              0.5555555555555556,
              "#d8576b"
             ],
             [
              0.6666666666666666,
              "#ed7953"
             ],
             [
              0.7777777777777778,
              "#fb9f3a"
             ],
             [
              0.8888888888888888,
              "#fdca26"
             ],
             [
              1,
              "#f0f921"
             ]
            ],
            "type": "surface"
           }
          ],
          "table": [
           {
            "cells": {
             "fill": {
              "color": "#EBF0F8"
             },
             "line": {
              "color": "white"
             }
            },
            "header": {
             "fill": {
              "color": "#C8D4E3"
             },
             "line": {
              "color": "white"
             }
            },
            "type": "table"
           }
          ]
         },
         "layout": {
          "annotationdefaults": {
           "arrowcolor": "#2a3f5f",
           "arrowhead": 0,
           "arrowwidth": 1
          },
          "autotypenumbers": "strict",
          "coloraxis": {
           "colorbar": {
            "outlinewidth": 0,
            "ticks": ""
           }
          },
          "colorscale": {
           "diverging": [
            [
             0,
             "#8e0152"
            ],
            [
             0.1,
             "#c51b7d"
            ],
            [
             0.2,
             "#de77ae"
            ],
            [
             0.3,
             "#f1b6da"
            ],
            [
             0.4,
             "#fde0ef"
            ],
            [
             0.5,
             "#f7f7f7"
            ],
            [
             0.6,
             "#e6f5d0"
            ],
            [
             0.7,
             "#b8e186"
            ],
            [
             0.8,
             "#7fbc41"
            ],
            [
             0.9,
             "#4d9221"
            ],
            [
             1,
             "#276419"
            ]
           ],
           "sequential": [
            [
             0,
             "#0d0887"
            ],
            [
             0.1111111111111111,
             "#46039f"
            ],
            [
             0.2222222222222222,
             "#7201a8"
            ],
            [
             0.3333333333333333,
             "#9c179e"
            ],
            [
             0.4444444444444444,
             "#bd3786"
            ],
            [
             0.5555555555555556,
             "#d8576b"
            ],
            [
             0.6666666666666666,
             "#ed7953"
            ],
            [
             0.7777777777777778,
             "#fb9f3a"
            ],
            [
             0.8888888888888888,
             "#fdca26"
            ],
            [
             1,
             "#f0f921"
            ]
           ],
           "sequentialminus": [
            [
             0,
             "#0d0887"
            ],
            [
             0.1111111111111111,
             "#46039f"
            ],
            [
             0.2222222222222222,
             "#7201a8"
            ],
            [
             0.3333333333333333,
             "#9c179e"
            ],
            [
             0.4444444444444444,
             "#bd3786"
            ],
            [
             0.5555555555555556,
             "#d8576b"
            ],
            [
             0.6666666666666666,
             "#ed7953"
            ],
            [
             0.7777777777777778,
             "#fb9f3a"
            ],
            [
             0.8888888888888888,
             "#fdca26"
            ],
            [
             1,
             "#f0f921"
            ]
           ]
          },
          "colorway": [
           "#636efa",
           "#EF553B",
           "#00cc96",
           "#ab63fa",
           "#FFA15A",
           "#19d3f3",
           "#FF6692",
           "#B6E880",
           "#FF97FF",
           "#FECB52"
          ],
          "font": {
           "color": "#2a3f5f"
          },
          "geo": {
           "bgcolor": "white",
           "lakecolor": "white",
           "landcolor": "#E5ECF6",
           "showlakes": true,
           "showland": true,
           "subunitcolor": "white"
          },
          "hoverlabel": {
           "align": "left"
          },
          "hovermode": "closest",
          "mapbox": {
           "style": "light"
          },
          "paper_bgcolor": "white",
          "plot_bgcolor": "#E5ECF6",
          "polar": {
           "angularaxis": {
            "gridcolor": "white",
            "linecolor": "white",
            "ticks": ""
           },
           "bgcolor": "#E5ECF6",
           "radialaxis": {
            "gridcolor": "white",
            "linecolor": "white",
            "ticks": ""
           }
          },
          "scene": {
           "xaxis": {
            "backgroundcolor": "#E5ECF6",
            "gridcolor": "white",
            "gridwidth": 2,
            "linecolor": "white",
            "showbackground": true,
            "ticks": "",
            "zerolinecolor": "white"
           },
           "yaxis": {
            "backgroundcolor": "#E5ECF6",
            "gridcolor": "white",
            "gridwidth": 2,
            "linecolor": "white",
            "showbackground": true,
            "ticks": "",
            "zerolinecolor": "white"
           },
           "zaxis": {
            "backgroundcolor": "#E5ECF6",
            "gridcolor": "white",
            "gridwidth": 2,
            "linecolor": "white",
            "showbackground": true,
            "ticks": "",
            "zerolinecolor": "white"
           }
          },
          "shapedefaults": {
           "line": {
            "color": "#2a3f5f"
           }
          },
          "ternary": {
           "aaxis": {
            "gridcolor": "white",
            "linecolor": "white",
            "ticks": ""
           },
           "baxis": {
            "gridcolor": "white",
            "linecolor": "white",
            "ticks": ""
           },
           "bgcolor": "#E5ECF6",
           "caxis": {
            "gridcolor": "white",
            "linecolor": "white",
            "ticks": ""
           }
          },
          "title": {
           "x": 0.05
          },
          "xaxis": {
           "automargin": true,
           "gridcolor": "white",
           "linecolor": "white",
           "ticks": "",
           "title": {
            "standoff": 15
           },
           "zerolinecolor": "white",
           "zerolinewidth": 2
          },
          "yaxis": {
           "automargin": true,
           "gridcolor": "white",
           "linecolor": "white",
           "ticks": "",
           "title": {
            "standoff": 15
           },
           "zerolinecolor": "white",
           "zerolinewidth": 2
          }
         }
        },
        "title": {
         "text": "Movement by Country and Ethnicity"
        },
        "width": 1200,
        "xaxis": {
         "anchor": "y",
         "domain": [
          0,
          0.49
         ],
         "title": {
          "text": "Ethnic group (6 categories) label"
         }
        },
        "xaxis2": {
         "anchor": "y2",
         "domain": [
          0.51,
          1
         ],
         "matches": "x",
         "title": {
          "text": "Ethnic group (6 categories) label"
         }
        },
        "yaxis": {
         "anchor": "x",
         "domain": [
          0,
          1
         ],
         "title": {
          "text": "Count"
         }
        },
        "yaxis2": {
         "anchor": "x2",
         "domain": [
          0,
          1
         ],
         "matches": "y",
         "showticklabels": false
        }
       }
      }
     },
     "metadata": {},
     "output_type": "display_data"
    }
   ],
   "source": [
    "#Group inflow by country migration type and ethnicities\n",
    "in_catergory = mig_ctry_in_df.groupby(['Countries label', 'Migration Country (inflow) (5 categories) label','Ethnic group (6 categories) label' ])['Count'].sum().reset_index()\n",
    "in_catergory = in_catergory.sort_values(by='Count', ascending=False)\n",
    "\n",
    "# Remove rows with 'Does not apply' in any of the specified columns\n",
    "in_catergory_filtered = in_catergory[~in_catergory[['Countries label', 'Migration Country (inflow) (5 categories) label',\n",
    "                                                    'Ethnic group (6 categories) label']].apply(lambda x: 'Does not apply' in x.values, axis=1)]\n",
    "\n",
    "# Sort the DataFrame in descending order by 'Count'\n",
    "in_catergory_filtered = in_catergory_filtered.sort_values(by='Count', ascending=False)\n",
    "\n",
    "# Display the filtered DataFrame\n",
    "# print(in_catergory_filtered)\n",
    "\n",
    "# Create a grouped bar chart\n",
    "fig = px.bar(in_catergory_filtered, \n",
    "             x='Ethnic group (6 categories) label', \n",
    "             y='Count', \n",
    "             color='Migration Country (inflow) (5 categories) label', \n",
    "             facet_col='Countries label',\n",
    "             labels={'Count': 'Count'},\n",
    "             title='Movement by Country and Ethnicity',\n",
    "             width=1200, height=800)\n",
    "\n",
    "# Customize tooltip format\n",
    "fig.update_traces(hovertemplate='%{y:,.0f} Count')\n",
    "\n",
    "# Show the plot\n",
    "fig.show()"
   ]
  },
  {
   "cell_type": "markdown",
   "metadata": {},
   "source": [
    "### Migration inflow ethnicity socio-economic classification"
   ]
  },
  {
   "cell_type": "code",
   "execution_count": 57,
   "metadata": {},
   "outputs": [
    {
     "data": {
      "application/vnd.plotly.v1+json": {
       "config": {
        "plotlyServerURL": "https://plot.ly"
       },
       "data": [
        {
         "alignmentgroup": "True",
         "hovertemplate": "%{y:,.0f} Count",
         "legendgroup": "White",
         "marker": {
          "color": "#636efa",
          "pattern": {
           "shape": ""
          }
         },
         "name": "White",
         "offsetgroup": "White",
         "orientation": "v",
         "showlegend": true,
         "textposition": "auto",
         "type": "bar",
         "x": [
          "L4, L5 and L6: Lower managerial, administrative and professional occupations",
          "L1, L2 and L3: Higher managerial, administrative and professional occupations",
          "L13: Routine occupations",
          "L7: Intermediate occupations",
          "L12: Semi-routine occupations",
          "L8 and L9: Small employers and own account workers",
          "L14.1 and L14.2: Never worked and long-term unemployed",
          "L15: Full-time students",
          "L10 and L11: Lower supervisory and technical occupations"
         ],
         "xaxis": "x",
         "y": [
          7907349,
          5124906,
          4713648,
          4563515,
          4396121,
          4166927,
          2804885,
          2345421,
          2168653
         ],
         "yaxis": "y"
        },
        {
         "alignmentgroup": "True",
         "hovertemplate": "%{y:,.0f} Count",
         "legendgroup": "White",
         "marker": {
          "color": "#636efa",
          "pattern": {
           "shape": ""
          }
         },
         "name": "White",
         "offsetgroup": "White",
         "orientation": "v",
         "showlegend": false,
         "textposition": "auto",
         "type": "bar",
         "x": [
          "L4, L5 and L6: Lower managerial, administrative and professional occupations",
          "L13: Routine occupations",
          "L12: Semi-routine occupations",
          "L7: Intermediate occupations",
          "L1, L2 and L3: Higher managerial, administrative and professional occupations",
          "L8 and L9: Small employers and own account workers",
          "L14.1 and L14.2: Never worked and long-term unemployed",
          "L15: Full-time students",
          "L10 and L11: Lower supervisory and technical occupations"
         ],
         "xaxis": "x2",
         "y": [
          478010,
          324637,
          322199,
          285845,
          246120,
          245488,
          200414,
          165421,
          153945
         ],
         "yaxis": "y2"
        },
        {
         "alignmentgroup": "True",
         "hovertemplate": "%{y:,.0f} Count",
         "legendgroup": "Asian, Asian British or Asian Welsh",
         "marker": {
          "color": "#EF553B",
          "pattern": {
           "shape": ""
          }
         },
         "name": "Asian, Asian British or Asian Welsh",
         "offsetgroup": "Asian, Asian British or Asian Welsh",
         "orientation": "v",
         "showlegend": true,
         "textposition": "auto",
         "type": "bar",
         "x": [
          "L14.1 and L14.2: Never worked and long-term unemployed",
          "L4, L5 and L6: Lower managerial, administrative and professional occupations",
          "L15: Full-time students",
          "L1, L2 and L3: Higher managerial, administrative and professional occupations",
          "L8 and L9: Small employers and own account workers",
          "L13: Routine occupations",
          "L12: Semi-routine occupations",
          "L7: Intermediate occupations",
          "L10 and L11: Lower supervisory and technical occupations"
         ],
         "xaxis": "x",
         "y": [
          643124,
          636900,
          581179,
          574579,
          397993,
          397683,
          391001,
          363419,
          148507
         ],
         "yaxis": "y"
        },
        {
         "alignmentgroup": "True",
         "hovertemplate": "%{y:,.0f} Count",
         "legendgroup": "Asian, Asian British or Asian Welsh",
         "marker": {
          "color": "#EF553B",
          "pattern": {
           "shape": ""
          }
         },
         "name": "Asian, Asian British or Asian Welsh",
         "offsetgroup": "Asian, Asian British or Asian Welsh",
         "orientation": "v",
         "showlegend": false,
         "textposition": "auto",
         "type": "bar",
         "x": [
          "L15: Full-time students",
          "L4, L5 and L6: Lower managerial, administrative and professional occupations",
          "L14.1 and L14.2: Never worked and long-term unemployed",
          "L1, L2 and L3: Higher managerial, administrative and professional occupations",
          "L8 and L9: Small employers and own account workers",
          "L12: Semi-routine occupations",
          "L13: Routine occupations",
          "L7: Intermediate occupations",
          "L10 and L11: Lower supervisory and technical occupations"
         ],
         "xaxis": "x2",
         "y": [
          14596,
          9874,
          8787,
          8410,
          7159,
          6171,
          5599,
          4988,
          3246
         ],
         "yaxis": "y2"
        },
        {
         "alignmentgroup": "True",
         "hovertemplate": "%{y:,.0f} Count",
         "legendgroup": "Black, Black British, Black Welsh, Caribbean or African",
         "marker": {
          "color": "#00cc96",
          "pattern": {
           "shape": ""
          }
         },
         "name": "Black, Black British, Black Welsh, Caribbean or African",
         "offsetgroup": "Black, Black British, Black Welsh, Caribbean or African",
         "orientation": "v",
         "showlegend": true,
         "textposition": "auto",
         "type": "bar",
         "x": [
          "L4, L5 and L6: Lower managerial, administrative and professional occupations",
          "L15: Full-time students",
          "L12: Semi-routine occupations",
          "L14.1 and L14.2: Never worked and long-term unemployed",
          "L13: Routine occupations",
          "L7: Intermediate occupations",
          "L1, L2 and L3: Higher managerial, administrative and professional occupations",
          "L8 and L9: Small employers and own account workers",
          "L10 and L11: Lower supervisory and technical occupations"
         ],
         "xaxis": "x",
         "y": [
          324570,
          298519,
          228150,
          209184,
          204276,
          171900,
          161421,
          127467,
          66795
         ],
         "yaxis": "y"
        },
        {
         "alignmentgroup": "True",
         "hovertemplate": "%{y:,.0f} Count",
         "legendgroup": "Black, Black British, Black Welsh, Caribbean or African",
         "marker": {
          "color": "#00cc96",
          "pattern": {
           "shape": ""
          }
         },
         "name": "Black, Black British, Black Welsh, Caribbean or African",
         "offsetgroup": "Black, Black British, Black Welsh, Caribbean or African",
         "orientation": "v",
         "showlegend": false,
         "textposition": "auto",
         "type": "bar",
         "x": [
          "L15: Full-time students",
          "L4, L5 and L6: Lower managerial, administrative and professional occupations",
          "L14.1 and L14.2: Never worked and long-term unemployed",
          "L13: Routine occupations",
          "L12: Semi-routine occupations",
          "L1, L2 and L3: Higher managerial, administrative and professional occupations",
          "L7: Intermediate occupations",
          "L8 and L9: Small employers and own account workers",
          "L10 and L11: Lower supervisory and technical occupations"
         ],
         "xaxis": "x2",
         "y": [
          5089,
          2944,
          2611,
          2330,
          2237,
          1790,
          1478,
          1387,
          647
         ],
         "yaxis": "y2"
        },
        {
         "alignmentgroup": "True",
         "hovertemplate": "%{y:,.0f} Count",
         "legendgroup": "Mixed or Multiple ethnic groups",
         "marker": {
          "color": "#ab63fa",
          "pattern": {
           "shape": ""
          }
         },
         "name": "Mixed or Multiple ethnic groups",
         "offsetgroup": "Mixed or Multiple ethnic groups",
         "orientation": "v",
         "showlegend": true,
         "textposition": "auto",
         "type": "bar",
         "x": [
          "L15: Full-time students",
          "L4, L5 and L6: Lower managerial, administrative and professional occupations",
          "L1, L2 and L3: Higher managerial, administrative and professional occupations",
          "L7: Intermediate occupations",
          "L13: Routine occupations",
          "L12: Semi-routine occupations",
          "L14.1 and L14.2: Never worked and long-term unemployed",
          "L8 and L9: Small employers and own account workers",
          "L10 and L11: Lower supervisory and technical occupations"
         ],
         "xaxis": "x",
         "y": [
          176894,
          176714,
          121382,
          91824,
          89603,
          88235,
          83046,
          73637,
          36875
         ],
         "yaxis": "y"
        },
        {
         "alignmentgroup": "True",
         "hovertemplate": "%{y:,.0f} Count",
         "legendgroup": "Mixed or Multiple ethnic groups",
         "marker": {
          "color": "#ab63fa",
          "pattern": {
           "shape": ""
          }
         },
         "name": "Mixed or Multiple ethnic groups",
         "offsetgroup": "Mixed or Multiple ethnic groups",
         "orientation": "v",
         "showlegend": false,
         "textposition": "auto",
         "type": "bar",
         "x": [
          "L15: Full-time students",
          "L4, L5 and L6: Lower managerial, administrative and professional occupations",
          "L13: Routine occupations",
          "L12: Semi-routine occupations",
          "L14.1 and L14.2: Never worked and long-term unemployed",
          "L1, L2 and L3: Higher managerial, administrative and professional occupations",
          "L7: Intermediate occupations",
          "L8 and L9: Small employers and own account workers",
          "L10 and L11: Lower supervisory and technical occupations"
         ],
         "xaxis": "x2",
         "y": [
          5754,
          4613,
          3158,
          3147,
          2857,
          2748,
          2743,
          2261,
          1248
         ],
         "yaxis": "y2"
        },
        {
         "alignmentgroup": "True",
         "hovertemplate": "%{y:,.0f} Count",
         "legendgroup": "Other ethnic group",
         "marker": {
          "color": "#FFA15A",
          "pattern": {
           "shape": ""
          }
         },
         "name": "Other ethnic group",
         "offsetgroup": "Other ethnic group",
         "orientation": "v",
         "showlegend": true,
         "textposition": "auto",
         "type": "bar",
         "x": [
          "L14.1 and L14.2: Never worked and long-term unemployed",
          "L15: Full-time students",
          "L4, L5 and L6: Lower managerial, administrative and professional occupations",
          "L13: Routine occupations",
          "L1, L2 and L3: Higher managerial, administrative and professional occupations",
          "L8 and L9: Small employers and own account workers",
          "L12: Semi-routine occupations",
          "L7: Intermediate occupations",
          "L10 and L11: Lower supervisory and technical occupations"
         ],
         "xaxis": "x",
         "y": [
          175243,
          128976,
          126837,
          117063,
          110507,
          107379,
          80072,
          64671,
          39904
         ],
         "yaxis": "y"
        },
        {
         "alignmentgroup": "True",
         "hovertemplate": "%{y:,.0f} Count",
         "legendgroup": "Other ethnic group",
         "marker": {
          "color": "#FFA15A",
          "pattern": {
           "shape": ""
          }
         },
         "name": "Other ethnic group",
         "offsetgroup": "Other ethnic group",
         "orientation": "v",
         "showlegend": false,
         "textposition": "auto",
         "type": "bar",
         "x": [
          "L15: Full-time students",
          "L14.1 and L14.2: Never worked and long-term unemployed",
          "L1, L2 and L3: Higher managerial, administrative and professional occupations",
          "L4, L5 and L6: Lower managerial, administrative and professional occupations",
          "L13: Routine occupations",
          "L8 and L9: Small employers and own account workers",
          "L12: Semi-routine occupations",
          "L7: Intermediate occupations",
          "L10 and L11: Lower supervisory and technical occupations"
         ],
         "xaxis": "x2",
         "y": [
          4606,
          3811,
          2039,
          1998,
          1964,
          1859,
          1378,
          1030,
          785
         ],
         "yaxis": "y2"
        }
       ],
       "layout": {
        "annotations": [
         {
          "font": {},
          "showarrow": false,
          "text": "Countries label=England",
          "x": 0.245,
          "xanchor": "center",
          "xref": "paper",
          "y": 1,
          "yanchor": "bottom",
          "yref": "paper"
         },
         {
          "font": {},
          "showarrow": false,
          "text": "Countries label=Wales",
          "x": 0.755,
          "xanchor": "center",
          "xref": "paper",
          "y": 1,
          "yanchor": "bottom",
          "yref": "paper"
         }
        ],
        "barmode": "relative",
        "height": 800,
        "legend": {
         "title": {
          "text": "Ethnic group (6 categories) label"
         },
         "tracegroupgap": 0
        },
        "template": {
         "data": {
          "bar": [
           {
            "error_x": {
             "color": "#2a3f5f"
            },
            "error_y": {
             "color": "#2a3f5f"
            },
            "marker": {
             "line": {
              "color": "#E5ECF6",
              "width": 0.5
             },
             "pattern": {
              "fillmode": "overlay",
              "size": 10,
              "solidity": 0.2
             }
            },
            "type": "bar"
           }
          ],
          "barpolar": [
           {
            "marker": {
             "line": {
              "color": "#E5ECF6",
              "width": 0.5
             },
             "pattern": {
              "fillmode": "overlay",
              "size": 10,
              "solidity": 0.2
             }
            },
            "type": "barpolar"
           }
          ],
          "carpet": [
           {
            "aaxis": {
             "endlinecolor": "#2a3f5f",
             "gridcolor": "white",
             "linecolor": "white",
             "minorgridcolor": "white",
             "startlinecolor": "#2a3f5f"
            },
            "baxis": {
             "endlinecolor": "#2a3f5f",
             "gridcolor": "white",
             "linecolor": "white",
             "minorgridcolor": "white",
             "startlinecolor": "#2a3f5f"
            },
            "type": "carpet"
           }
          ],
          "choropleth": [
           {
            "colorbar": {
             "outlinewidth": 0,
             "ticks": ""
            },
            "type": "choropleth"
           }
          ],
          "contour": [
           {
            "colorbar": {
             "outlinewidth": 0,
             "ticks": ""
            },
            "colorscale": [
             [
              0,
              "#0d0887"
             ],
             [
              0.1111111111111111,
              "#46039f"
             ],
             [
              0.2222222222222222,
              "#7201a8"
             ],
             [
              0.3333333333333333,
              "#9c179e"
             ],
             [
              0.4444444444444444,
              "#bd3786"
             ],
             [
              0.5555555555555556,
              "#d8576b"
             ],
             [
              0.6666666666666666,
              "#ed7953"
             ],
             [
              0.7777777777777778,
              "#fb9f3a"
             ],
             [
              0.8888888888888888,
              "#fdca26"
             ],
             [
              1,
              "#f0f921"
             ]
            ],
            "type": "contour"
           }
          ],
          "contourcarpet": [
           {
            "colorbar": {
             "outlinewidth": 0,
             "ticks": ""
            },
            "type": "contourcarpet"
           }
          ],
          "heatmap": [
           {
            "colorbar": {
             "outlinewidth": 0,
             "ticks": ""
            },
            "colorscale": [
             [
              0,
              "#0d0887"
             ],
             [
              0.1111111111111111,
              "#46039f"
             ],
             [
              0.2222222222222222,
              "#7201a8"
             ],
             [
              0.3333333333333333,
              "#9c179e"
             ],
             [
              0.4444444444444444,
              "#bd3786"
             ],
             [
              0.5555555555555556,
              "#d8576b"
             ],
             [
              0.6666666666666666,
              "#ed7953"
             ],
             [
              0.7777777777777778,
              "#fb9f3a"
             ],
             [
              0.8888888888888888,
              "#fdca26"
             ],
             [
              1,
              "#f0f921"
             ]
            ],
            "type": "heatmap"
           }
          ],
          "heatmapgl": [
           {
            "colorbar": {
             "outlinewidth": 0,
             "ticks": ""
            },
            "colorscale": [
             [
              0,
              "#0d0887"
             ],
             [
              0.1111111111111111,
              "#46039f"
             ],
             [
              0.2222222222222222,
              "#7201a8"
             ],
             [
              0.3333333333333333,
              "#9c179e"
             ],
             [
              0.4444444444444444,
              "#bd3786"
             ],
             [
              0.5555555555555556,
              "#d8576b"
             ],
             [
              0.6666666666666666,
              "#ed7953"
             ],
             [
              0.7777777777777778,
              "#fb9f3a"
             ],
             [
              0.8888888888888888,
              "#fdca26"
             ],
             [
              1,
              "#f0f921"
             ]
            ],
            "type": "heatmapgl"
           }
          ],
          "histogram": [
           {
            "marker": {
             "pattern": {
              "fillmode": "overlay",
              "size": 10,
              "solidity": 0.2
             }
            },
            "type": "histogram"
           }
          ],
          "histogram2d": [
           {
            "colorbar": {
             "outlinewidth": 0,
             "ticks": ""
            },
            "colorscale": [
             [
              0,
              "#0d0887"
             ],
             [
              0.1111111111111111,
              "#46039f"
             ],
             [
              0.2222222222222222,
              "#7201a8"
             ],
             [
              0.3333333333333333,
              "#9c179e"
             ],
             [
              0.4444444444444444,
              "#bd3786"
             ],
             [
              0.5555555555555556,
              "#d8576b"
             ],
             [
              0.6666666666666666,
              "#ed7953"
             ],
             [
              0.7777777777777778,
              "#fb9f3a"
             ],
             [
              0.8888888888888888,
              "#fdca26"
             ],
             [
              1,
              "#f0f921"
             ]
            ],
            "type": "histogram2d"
           }
          ],
          "histogram2dcontour": [
           {
            "colorbar": {
             "outlinewidth": 0,
             "ticks": ""
            },
            "colorscale": [
             [
              0,
              "#0d0887"
             ],
             [
              0.1111111111111111,
              "#46039f"
             ],
             [
              0.2222222222222222,
              "#7201a8"
             ],
             [
              0.3333333333333333,
              "#9c179e"
             ],
             [
              0.4444444444444444,
              "#bd3786"
             ],
             [
              0.5555555555555556,
              "#d8576b"
             ],
             [
              0.6666666666666666,
              "#ed7953"
             ],
             [
              0.7777777777777778,
              "#fb9f3a"
             ],
             [
              0.8888888888888888,
              "#fdca26"
             ],
             [
              1,
              "#f0f921"
             ]
            ],
            "type": "histogram2dcontour"
           }
          ],
          "mesh3d": [
           {
            "colorbar": {
             "outlinewidth": 0,
             "ticks": ""
            },
            "type": "mesh3d"
           }
          ],
          "parcoords": [
           {
            "line": {
             "colorbar": {
              "outlinewidth": 0,
              "ticks": ""
             }
            },
            "type": "parcoords"
           }
          ],
          "pie": [
           {
            "automargin": true,
            "type": "pie"
           }
          ],
          "scatter": [
           {
            "fillpattern": {
             "fillmode": "overlay",
             "size": 10,
             "solidity": 0.2
            },
            "type": "scatter"
           }
          ],
          "scatter3d": [
           {
            "line": {
             "colorbar": {
              "outlinewidth": 0,
              "ticks": ""
             }
            },
            "marker": {
             "colorbar": {
              "outlinewidth": 0,
              "ticks": ""
             }
            },
            "type": "scatter3d"
           }
          ],
          "scattercarpet": [
           {
            "marker": {
             "colorbar": {
              "outlinewidth": 0,
              "ticks": ""
             }
            },
            "type": "scattercarpet"
           }
          ],
          "scattergeo": [
           {
            "marker": {
             "colorbar": {
              "outlinewidth": 0,
              "ticks": ""
             }
            },
            "type": "scattergeo"
           }
          ],
          "scattergl": [
           {
            "marker": {
             "colorbar": {
              "outlinewidth": 0,
              "ticks": ""
             }
            },
            "type": "scattergl"
           }
          ],
          "scattermapbox": [
           {
            "marker": {
             "colorbar": {
              "outlinewidth": 0,
              "ticks": ""
             }
            },
            "type": "scattermapbox"
           }
          ],
          "scatterpolar": [
           {
            "marker": {
             "colorbar": {
              "outlinewidth": 0,
              "ticks": ""
             }
            },
            "type": "scatterpolar"
           }
          ],
          "scatterpolargl": [
           {
            "marker": {
             "colorbar": {
              "outlinewidth": 0,
              "ticks": ""
             }
            },
            "type": "scatterpolargl"
           }
          ],
          "scatterternary": [
           {
            "marker": {
             "colorbar": {
              "outlinewidth": 0,
              "ticks": ""
             }
            },
            "type": "scatterternary"
           }
          ],
          "surface": [
           {
            "colorbar": {
             "outlinewidth": 0,
             "ticks": ""
            },
            "colorscale": [
             [
              0,
              "#0d0887"
             ],
             [
              0.1111111111111111,
              "#46039f"
             ],
             [
              0.2222222222222222,
              "#7201a8"
             ],
             [
              0.3333333333333333,
              "#9c179e"
             ],
             [
              0.4444444444444444,
              "#bd3786"
             ],
             [
              0.5555555555555556,
              "#d8576b"
             ],
             [
              0.6666666666666666,
              "#ed7953"
             ],
             [
              0.7777777777777778,
              "#fb9f3a"
             ],
             [
              0.8888888888888888,
              "#fdca26"
             ],
             [
              1,
              "#f0f921"
             ]
            ],
            "type": "surface"
           }
          ],
          "table": [
           {
            "cells": {
             "fill": {
              "color": "#EBF0F8"
             },
             "line": {
              "color": "white"
             }
            },
            "header": {
             "fill": {
              "color": "#C8D4E3"
             },
             "line": {
              "color": "white"
             }
            },
            "type": "table"
           }
          ]
         },
         "layout": {
          "annotationdefaults": {
           "arrowcolor": "#2a3f5f",
           "arrowhead": 0,
           "arrowwidth": 1
          },
          "autotypenumbers": "strict",
          "coloraxis": {
           "colorbar": {
            "outlinewidth": 0,
            "ticks": ""
           }
          },
          "colorscale": {
           "diverging": [
            [
             0,
             "#8e0152"
            ],
            [
             0.1,
             "#c51b7d"
            ],
            [
             0.2,
             "#de77ae"
            ],
            [
             0.3,
             "#f1b6da"
            ],
            [
             0.4,
             "#fde0ef"
            ],
            [
             0.5,
             "#f7f7f7"
            ],
            [
             0.6,
             "#e6f5d0"
            ],
            [
             0.7,
             "#b8e186"
            ],
            [
             0.8,
             "#7fbc41"
            ],
            [
             0.9,
             "#4d9221"
            ],
            [
             1,
             "#276419"
            ]
           ],
           "sequential": [
            [
             0,
             "#0d0887"
            ],
            [
             0.1111111111111111,
             "#46039f"
            ],
            [
             0.2222222222222222,
             "#7201a8"
            ],
            [
             0.3333333333333333,
             "#9c179e"
            ],
            [
             0.4444444444444444,
             "#bd3786"
            ],
            [
             0.5555555555555556,
             "#d8576b"
            ],
            [
             0.6666666666666666,
             "#ed7953"
            ],
            [
             0.7777777777777778,
             "#fb9f3a"
            ],
            [
             0.8888888888888888,
             "#fdca26"
            ],
            [
             1,
             "#f0f921"
            ]
           ],
           "sequentialminus": [
            [
             0,
             "#0d0887"
            ],
            [
             0.1111111111111111,
             "#46039f"
            ],
            [
             0.2222222222222222,
             "#7201a8"
            ],
            [
             0.3333333333333333,
             "#9c179e"
            ],
            [
             0.4444444444444444,
             "#bd3786"
            ],
            [
             0.5555555555555556,
             "#d8576b"
            ],
            [
             0.6666666666666666,
             "#ed7953"
            ],
            [
             0.7777777777777778,
             "#fb9f3a"
            ],
            [
             0.8888888888888888,
             "#fdca26"
            ],
            [
             1,
             "#f0f921"
            ]
           ]
          },
          "colorway": [
           "#636efa",
           "#EF553B",
           "#00cc96",
           "#ab63fa",
           "#FFA15A",
           "#19d3f3",
           "#FF6692",
           "#B6E880",
           "#FF97FF",
           "#FECB52"
          ],
          "font": {
           "color": "#2a3f5f"
          },
          "geo": {
           "bgcolor": "white",
           "lakecolor": "white",
           "landcolor": "#E5ECF6",
           "showlakes": true,
           "showland": true,
           "subunitcolor": "white"
          },
          "hoverlabel": {
           "align": "left"
          },
          "hovermode": "closest",
          "mapbox": {
           "style": "light"
          },
          "paper_bgcolor": "white",
          "plot_bgcolor": "#E5ECF6",
          "polar": {
           "angularaxis": {
            "gridcolor": "white",
            "linecolor": "white",
            "ticks": ""
           },
           "bgcolor": "#E5ECF6",
           "radialaxis": {
            "gridcolor": "white",
            "linecolor": "white",
            "ticks": ""
           }
          },
          "scene": {
           "xaxis": {
            "backgroundcolor": "#E5ECF6",
            "gridcolor": "white",
            "gridwidth": 2,
            "linecolor": "white",
            "showbackground": true,
            "ticks": "",
            "zerolinecolor": "white"
           },
           "yaxis": {
            "backgroundcolor": "#E5ECF6",
            "gridcolor": "white",
            "gridwidth": 2,
            "linecolor": "white",
            "showbackground": true,
            "ticks": "",
            "zerolinecolor": "white"
           },
           "zaxis": {
            "backgroundcolor": "#E5ECF6",
            "gridcolor": "white",
            "gridwidth": 2,
            "linecolor": "white",
            "showbackground": true,
            "ticks": "",
            "zerolinecolor": "white"
           }
          },
          "shapedefaults": {
           "line": {
            "color": "#2a3f5f"
           }
          },
          "ternary": {
           "aaxis": {
            "gridcolor": "white",
            "linecolor": "white",
            "ticks": ""
           },
           "baxis": {
            "gridcolor": "white",
            "linecolor": "white",
            "ticks": ""
           },
           "bgcolor": "#E5ECF6",
           "caxis": {
            "gridcolor": "white",
            "linecolor": "white",
            "ticks": ""
           }
          },
          "title": {
           "x": 0.05
          },
          "xaxis": {
           "automargin": true,
           "gridcolor": "white",
           "linecolor": "white",
           "ticks": "",
           "title": {
            "standoff": 15
           },
           "zerolinecolor": "white",
           "zerolinewidth": 2
          },
          "yaxis": {
           "automargin": true,
           "gridcolor": "white",
           "linecolor": "white",
           "ticks": "",
           "title": {
            "standoff": 15
           },
           "zerolinecolor": "white",
           "zerolinewidth": 2
          }
         }
        },
        "title": {
         "text": "Movement inflow by Country Socio-economic Classification and Ethnicity "
        },
        "width": 1200,
        "xaxis": {
         "anchor": "y",
         "domain": [
          0,
          0.49
         ],
         "title": {
          "text": "National Statistics Socio-economic Classification"
         }
        },
        "xaxis2": {
         "anchor": "y2",
         "domain": [
          0.51,
          1
         ],
         "matches": "x",
         "title": {
          "text": "National Statistics Socio-economic Classification"
         }
        },
        "yaxis": {
         "anchor": "x",
         "domain": [
          0,
          1
         ],
         "title": {
          "text": "Count"
         }
        },
        "yaxis2": {
         "anchor": "x2",
         "domain": [
          0,
          1
         ],
         "matches": "y",
         "showticklabels": false
        }
       }
      }
     },
     "metadata": {},
     "output_type": "display_data"
    }
   ],
   "source": [
    "#groupby country inflow, ethnicity socio-economic classification\n",
    "socio_catergory = mig_ctry_in_df.groupby(['Countries label', 'Ethnic group (6 categories) label','National Statistics Socio-economic Classification (NS-SeC) (10 categories) label'])['Count'].sum().reset_index()\n",
    "socio_catergory = socio_catergory.sort_values(by='Count', ascending=False)\n",
    "\n",
    "# Remove rows with 'Does not apply' in any of the specified columns\n",
    "socio_catergory_filtered = socio_catergory[~socio_catergory[['Countries label', 'National Statistics Socio-economic Classification (NS-SeC) (10 categories) label',\n",
    "                                                    'Ethnic group (6 categories) label']].apply(lambda x: 'Does not apply' in x.values, axis=1)]\n",
    "# print(eth_catergory)\n",
    "\n",
    "# Create a grouped bar chart\n",
    "fig = px.bar(socio_catergory_filtered, \n",
    "             x='National Statistics Socio-economic Classification (NS-SeC) (10 categories) label', \n",
    "             y='Count', \n",
    "             color='Ethnic group (6 categories) label', \n",
    "             facet_col='Countries label',\n",
    "             labels={'Count': 'Count',\n",
    "                     'National Statistics Socio-economic Classification (NS-SeC) (10 categories) label':'National Statistics Socio-economic Classification'},\n",
    "             title='Movement inflow by Country Socio-economic Classification and Ethnicity ',\n",
    "             width=1200, height=800)\n",
    "\n",
    "# Customize tooltip format\n",
    "fig.update_traces(hovertemplate='%{y:,.0f} Count')\n",
    "\n",
    "# Update x-axis label\n",
    "fig.update_layout(xaxis_title='National Statistics Socio-economic Classification')\n",
    "\n",
    "# Show the plot\n",
    "fig.show()"
   ]
  },
  {
   "cell_type": "code",
   "execution_count": null,
   "metadata": {},
   "outputs": [],
   "source": [
    "\n"
   ]
  },
  {
   "cell_type": "markdown",
   "metadata": {},
   "source": [
    "# Migration outflow for Wales and England"
   ]
  },
  {
   "cell_type": "code",
   "execution_count": null,
   "metadata": {},
   "outputs": [],
   "source": [
    "# Create df for migration into the England and Wales\n",
    "mig_ctry_out_df = pd.read_csv(\"./Resources/MIG004EW_CTRY_OUT.csv\")\n",
    "mig_ctry_out_df.tail()"
   ]
  },
  {
   "cell_type": "code",
   "execution_count": null,
   "metadata": {},
   "outputs": [],
   "source": [
    "# Select country and migration categories\n",
    "out2_category = mig_ctry_out_df.groupby(['Migrant country one year ago label'])['Count'].sum().reset_index()\n",
    "out2_category = out2_category.sort_values(by='Count', ascending=False)\n",
    "# Create a grouped bar graph for all Migrant country one year ago label types\n",
    "fig = px.bar(out2_category, x='Migrant country one year ago label', y='Count',\n",
    "             labels={'Count': 'Migration Count'}, color='Migrant country one year ago label',\n",
    "             barmode='group')  # Use barmode='group' to create separate bars\n",
    "\n",
    "fig.update_layout(\n",
    "    title='Migration Outflow by Country of Departure',\n",
    "    xaxis_title='',\n",
    "    yaxis_title='Count',\n",
    "    width=700,\n",
    "    height=500\n",
    ")\n",
    "# Remove the x-axis tick labels\n",
    "fig.update_xaxes(showticklabels=False)\n",
    "# # Adjust the bargap to make the bars wider\n",
    "fig.update_traces(width=1)\n",
    "# Show the grouped bar graph\n",
    "fig.show()\n",
    "\n",
    "\n",
    "\n"
   ]
  },
  {
   "cell_type": "code",
   "execution_count": null,
   "metadata": {},
   "outputs": [],
   "source": [
    "# Select country and migration categories\n",
    "eth2_category = mig_ctry_out_df.groupby(['Ethnic group (6 categories) label'])['Count'].sum().reset_index()\n",
    "eth2_category = eth2_category.sort_values(by='Count', ascending=False)\n",
    "# Create a grouped bar graph for all Migrant country one year ago label types\n",
    "fig = px.bar(eth2_category, x='Ethnic group (6 categories) label', y='Count',\n",
    "             labels={'Count': 'Migration Count'}, color='Ethnic group (6 categories) label',\n",
    "             barmode='group')  # Use barmode='group' to create separate bars\n",
    "\n",
    "fig.update_layout(\n",
    "    title='Migration Outflow for All Ethnic Groups',\n",
    "    xaxis_title='',\n",
    "    yaxis_title='Count',\n",
    "    width=800,\n",
    "    height=500\n",
    ")\n",
    "# Remove the x-axis tick labels\n",
    "fig.update_xaxes(showticklabels=False)\n",
    "# Adjust the bargap to make the bars wider\n",
    "fig.update_traces(width=1)\n",
    "# Show the grouped bar graph\n",
    "fig.show()"
   ]
  },
  {
   "cell_type": "code",
   "execution_count": null,
   "metadata": {},
   "outputs": [],
   "source": [
    "#groupby socio-economic classification and count\n",
    "soec2_category = mig_ctry_in_df.groupby(['Countries label', 'National Statistics Socio-economic Classification (NS-SeC) (10 categories) label'])['Count'].sum().reset_index()\n",
    "soec2_category = soec2_category.sort_values(by='Count', ascending=False)\n",
    "\n",
    "# Get unique countries\n",
    "unique_countries = soec_catergory['Countries label'].unique()\n",
    "\n",
    "# Create a graph for each country\n",
    "for country in unique_countries:\n",
    "    country_data = soec2_category[soec2_category['Countries label'] == country]\n",
    "\n",
    "    # Create a bar graph for the current country with colors based on migration categories\n",
    "    fig = px.bar(country_data, x='National Statistics Socio-economic Classification (NS-SeC) (10 categories) label', y='Count',\n",
    "                 labels={'Count': 'Count'}, color='National Statistics Socio-economic Classification (NS-SeC) (10 categories) label')\n",
    "\n",
    "    fig.update_layout(\n",
    "        title=f'Socio Economic Inflow in {country}',\n",
    "        xaxis_title='',\n",
    "        yaxis_title='Count',\n",
    "        width=1000,\n",
    "        height=500\n",
    "    )\n",
    "\n",
    "    # Remove the x-axis tick labels\n",
    "    fig.update_xaxes(showticklabels=False)\n",
    "\n",
    "    # Show the plot for the current country\n",
    "    fig.show()\n"
   ]
  }
 ],
 "metadata": {
  "kernelspec": {
   "display_name": "Python 3",
   "language": "python",
   "name": "python3"
  },
  "language_info": {
   "codemirror_mode": {
    "name": "ipython",
    "version": 3
   },
   "file_extension": ".py",
   "mimetype": "text/x-python",
   "name": "python",
   "nbconvert_exporter": "python",
   "pygments_lexer": "ipython3",
   "version": "3.10.4"
  }
 },
 "nbformat": 4,
 "nbformat_minor": 2
}
