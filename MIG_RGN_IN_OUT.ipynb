{
 "cells": [
  {
   "cell_type": "code",
   "execution_count": 2,
   "metadata": {},
   "outputs": [],
   "source": [
    "# Dependencies\n",
    "import plotly.graph_objs as go\n",
    "from shapely.geometry import shape\n",
    "import plotly.express as px\n",
    "import geopandas as gpd\n",
    "import pandas as pd\n",
    "import numpy as np\n",
    "import requests\n",
    "import json"
   ]
  },
  {
   "cell_type": "markdown",
   "metadata": {},
   "source": [
    "### Migration flows by Region\n",
    "\n",
    "Information about the data can be fount here: https://www.nomisweb.co.uk/sources/census_2021_mig"
   ]
  },
  {
   "cell_type": "code",
   "execution_count": 9,
   "metadata": {},
   "outputs": [],
   "source": [
    "# Create df for migration into England and Wales\n",
    "mig_rgn_in_df = pd.read_csv(\"./Resources/MIG004EW_RGN_IN.csv\")\n",
    "# print(mig_rgn_in_df.head())\n",
    "\n",
    "# Create df for emigration from England and Wales\n",
    "mig_rgn_out_df = pd.read_csv(\"./Resources/MIG004EW_RGN_OUT.csv\")\n",
    "# mig_rgn_out_df.head()"
   ]
  },
  {
   "cell_type": "code",
   "execution_count": 10,
   "metadata": {},
   "outputs": [
    {
     "name": "stdout",
     "output_type": "stream",
     "text": [
      "   Migration Region (outflow) (3 categories) code  \\\n",
      "0                                              -8   \n",
      "1                                               1   \n",
      "2                                               2   \n",
      "\n",
      "     Migration Region (outflow) (3 categories) label     Count  \n",
      "0                                     Does not apply  57800607  \n",
      "1  Outflow: moved out of the area, but within the...   1091937  \n",
      "2  Outflow: moved out of the associated area, but...     97709  \n"
     ]
    }
   ],
   "source": [
    "# Count for regions in flow\n",
    "mig_rgn_in = mig_rgn_in_df.groupby(['Migration Region (inflow) (6 categories) code', 'Migration Region (inflow) (6 categories) label'])['Count'].sum().reset_index()\n",
    "mig_rgn_in = mig_rgn_in.sort_values(by='Count', ascending=False)\n",
    "\n",
    "#Save df to csv file\n",
    "mig_rgn_in.to_csv(\"./Resources/local_authority_in.csv\", index=False)\n",
    "\n",
    "\n",
    "# Count local regions out flow\n",
    "mig_rgn_out = mig_rgn_out_df.groupby(['Migration Region (outflow) (3 categories) code', 'Migration Region (outflow) (3 categories) label'])['Count'].sum().reset_index()\n",
    "mig_rgn_out = mig_rgn_out.sort_values(by='Count', ascending=False)\n",
    "\n",
    "\n",
    "#Save df to csv file\n",
    "mig_rgn_out.to_csv(\"./Resources/local_authority_out.csv\", index=False)\n",
    "\n",
    "print(mig_rgn_out)"
   ]
  },
  {
   "cell_type": "markdown",
   "metadata": {},
   "source": [
    "### Merge of Net Migration information by region"
   ]
  },
  {
   "cell_type": "code",
   "execution_count": 18,
   "metadata": {},
   "outputs": [
    {
     "data": {
      "text/html": [
       "<div>\n",
       "<style scoped>\n",
       "    .dataframe tbody tr th:only-of-type {\n",
       "        vertical-align: middle;\n",
       "    }\n",
       "\n",
       "    .dataframe tbody tr th {\n",
       "        vertical-align: top;\n",
       "    }\n",
       "\n",
       "    .dataframe thead th {\n",
       "        text-align: right;\n",
       "    }\n",
       "</style>\n",
       "<table border=\"1\" class=\"dataframe\">\n",
       "  <thead>\n",
       "    <tr style=\"text-align: right;\">\n",
       "      <th></th>\n",
       "      <th>Regions code</th>\n",
       "      <th>Regions label</th>\n",
       "      <th>Net Migration</th>\n",
       "    </tr>\n",
       "  </thead>\n",
       "  <tbody>\n",
       "    <tr>\n",
       "      <th>0</th>\n",
       "      <td>E12000008</td>\n",
       "      <td>South East</td>\n",
       "      <td>8246470</td>\n",
       "    </tr>\n",
       "    <tr>\n",
       "      <th>1</th>\n",
       "      <td>E12000007</td>\n",
       "      <td>London</td>\n",
       "      <td>7520262</td>\n",
       "    </tr>\n",
       "    <tr>\n",
       "      <th>2</th>\n",
       "      <td>E12000002</td>\n",
       "      <td>North West</td>\n",
       "      <td>6688909</td>\n",
       "    </tr>\n",
       "    <tr>\n",
       "      <th>3</th>\n",
       "      <td>E12000006</td>\n",
       "      <td>East of England</td>\n",
       "      <td>5687069</td>\n",
       "    </tr>\n",
       "    <tr>\n",
       "      <th>4</th>\n",
       "      <td>E12000005</td>\n",
       "      <td>West Midlands</td>\n",
       "      <td>5368354</td>\n",
       "    </tr>\n",
       "    <tr>\n",
       "      <th>5</th>\n",
       "      <td>E12000009</td>\n",
       "      <td>South West</td>\n",
       "      <td>5067886</td>\n",
       "    </tr>\n",
       "    <tr>\n",
       "      <th>6</th>\n",
       "      <td>E12000003</td>\n",
       "      <td>Yorkshire and The Humber</td>\n",
       "      <td>4918006</td>\n",
       "    </tr>\n",
       "    <tr>\n",
       "      <th>7</th>\n",
       "      <td>E12000004</td>\n",
       "      <td>East Midlands</td>\n",
       "      <td>4373113</td>\n",
       "    </tr>\n",
       "    <tr>\n",
       "      <th>8</th>\n",
       "      <td>W92000004</td>\n",
       "      <td>Wales</td>\n",
       "      <td>2818571</td>\n",
       "    </tr>\n",
       "    <tr>\n",
       "      <th>9</th>\n",
       "      <td>E12000001</td>\n",
       "      <td>North East</td>\n",
       "      <td>2388495</td>\n",
       "    </tr>\n",
       "  </tbody>\n",
       "</table>\n",
       "</div>"
      ],
      "text/plain": [
       "  Regions code             Regions label  Net Migration\n",
       "0    E12000008                South East        8246470\n",
       "1    E12000007                    London        7520262\n",
       "2    E12000002                North West        6688909\n",
       "3    E12000006           East of England        5687069\n",
       "4    E12000005             West Midlands        5368354\n",
       "5    E12000009                South West        5067886\n",
       "6    E12000003  Yorkshire and The Humber        4918006\n",
       "7    E12000004             East Midlands        4373113\n",
       "8    W92000004                     Wales        2818571\n",
       "9    E12000001                North East        2388495"
      ]
     },
     "execution_count": 18,
     "metadata": {},
     "output_type": "execute_result"
    }
   ],
   "source": [
    "# Count for regions in flow\n",
    "mig_rgn_in = mig_rgn_in_df.groupby(['Regions code','Regions label'])['Count'].sum().reset_index()\n",
    "mig_rgn_in = mig_rgn_in.sort_values(by='Count', ascending=False)\n",
    "mig_rgn_in\n",
    "\n",
    "mig_rgn_out = mig_rgn_out_df.groupby(['Migrant region one year ago code', 'Migrant region one year ago label'])['Count'].sum().reset_index()\n",
    "mig_rgn_out = mig_rgn_out.sort_values(by='Count', ascending=False)\n",
    "# mig_rgn_out\n",
    "\n",
    "# Merge DataFrames on the common column\n",
    "region_df = pd.merge(mig_rgn_in, mig_rgn_out, left_on='Regions code', right_on='Migrant region one year ago code', how='left')\n",
    "\n",
    "# Fill NaN values with 0\n",
    "region_df[['Count_x', 'Count_y']] = region_df[['Count_x', 'Count_y']].fillna(0)\n",
    "\n",
    "# Calculate net migration\n",
    "region_df['Net Migration'] = region_df['Count_x'] - region_df['Count_y']\n",
    "\n",
    "# Select relevant columns\n",
    "region_net_migration = region_df[['Regions code', 'Regions label', 'Net Migration']]\n",
    "region_net_migration\n",
    "\n"
   ]
  }
 ],
 "metadata": {
  "kernelspec": {
   "display_name": "3.10.4",
   "language": "python",
   "name": "python3"
  },
  "language_info": {
   "codemirror_mode": {
    "name": "ipython",
    "version": 3
   },
   "file_extension": ".py",
   "mimetype": "text/x-python",
   "name": "python",
   "nbconvert_exporter": "python",
   "pygments_lexer": "ipython3",
   "version": "3.10.4"
  }
 },
 "nbformat": 4,
 "nbformat_minor": 2
}
