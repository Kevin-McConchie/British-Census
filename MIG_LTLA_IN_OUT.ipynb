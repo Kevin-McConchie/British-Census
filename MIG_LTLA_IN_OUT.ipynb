{
 "cells": [
  {
   "cell_type": "code",
   "execution_count": 24,
   "metadata": {},
   "outputs": [],
   "source": [
    "# Dependencies\n",
    "import plotly.graph_objs as go\n",
    "import plotly.express as px\n",
    "import pandas as pd\n",
    "import numpy as np\n",
    "import requests"
   ]
  },
  {
   "cell_type": "markdown",
   "metadata": {},
   "source": [
    "# Migration inflow by authority\n",
    "\n",
    "Information about the data can be fount here: https://www.nomisweb.co.uk/sources/census_2021_mig"
   ]
  },
  {
   "cell_type": "code",
   "execution_count": 25,
   "metadata": {},
   "outputs": [
    {
     "data": {
      "text/html": [
       "<div>\n",
       "<style scoped>\n",
       "    .dataframe tbody tr th:only-of-type {\n",
       "        vertical-align: middle;\n",
       "    }\n",
       "\n",
       "    .dataframe tbody tr th {\n",
       "        vertical-align: top;\n",
       "    }\n",
       "\n",
       "    .dataframe thead th {\n",
       "        text-align: right;\n",
       "    }\n",
       "</style>\n",
       "<table border=\"1\" class=\"dataframe\">\n",
       "  <thead>\n",
       "    <tr style=\"text-align: right;\">\n",
       "      <th></th>\n",
       "      <th>Lower tier local authorities code</th>\n",
       "      <th>Lower tier local authorities label</th>\n",
       "      <th>Migration LTLA (inflow) (6 categories) code</th>\n",
       "      <th>Migration LTLA (inflow) (6 categories) label</th>\n",
       "      <th>Ethnic group (6 categories) code</th>\n",
       "      <th>Ethnic group (6 categories) label</th>\n",
       "      <th>National Statistics Socio-economic Classification (NS-SeC) (10 categories) code</th>\n",
       "      <th>National Statistics Socio-economic Classification (NS-SeC) (10 categories) label</th>\n",
       "      <th>Count</th>\n",
       "    </tr>\n",
       "  </thead>\n",
       "  <tbody>\n",
       "    <tr>\n",
       "      <th>0</th>\n",
       "      <td>E06000001</td>\n",
       "      <td>Hartlepool</td>\n",
       "      <td>-8</td>\n",
       "      <td>Does not apply</td>\n",
       "      <td>-8</td>\n",
       "      <td>Does not apply</td>\n",
       "      <td>-8</td>\n",
       "      <td>Does not apply</td>\n",
       "      <td>0</td>\n",
       "    </tr>\n",
       "    <tr>\n",
       "      <th>1</th>\n",
       "      <td>E06000001</td>\n",
       "      <td>Hartlepool</td>\n",
       "      <td>-8</td>\n",
       "      <td>Does not apply</td>\n",
       "      <td>-8</td>\n",
       "      <td>Does not apply</td>\n",
       "      <td>1</td>\n",
       "      <td>L1, L2 and L3: Higher managerial, administrati...</td>\n",
       "      <td>0</td>\n",
       "    </tr>\n",
       "    <tr>\n",
       "      <th>2</th>\n",
       "      <td>E06000001</td>\n",
       "      <td>Hartlepool</td>\n",
       "      <td>-8</td>\n",
       "      <td>Does not apply</td>\n",
       "      <td>-8</td>\n",
       "      <td>Does not apply</td>\n",
       "      <td>2</td>\n",
       "      <td>L4, L5 and L6: Lower managerial, administrativ...</td>\n",
       "      <td>0</td>\n",
       "    </tr>\n",
       "    <tr>\n",
       "      <th>3</th>\n",
       "      <td>E06000001</td>\n",
       "      <td>Hartlepool</td>\n",
       "      <td>-8</td>\n",
       "      <td>Does not apply</td>\n",
       "      <td>-8</td>\n",
       "      <td>Does not apply</td>\n",
       "      <td>3</td>\n",
       "      <td>L7: Intermediate occupations</td>\n",
       "      <td>0</td>\n",
       "    </tr>\n",
       "    <tr>\n",
       "      <th>4</th>\n",
       "      <td>E06000001</td>\n",
       "      <td>Hartlepool</td>\n",
       "      <td>-8</td>\n",
       "      <td>Does not apply</td>\n",
       "      <td>-8</td>\n",
       "      <td>Does not apply</td>\n",
       "      <td>4</td>\n",
       "      <td>L8 and L9: Small employers and own account wor...</td>\n",
       "      <td>0</td>\n",
       "    </tr>\n",
       "  </tbody>\n",
       "</table>\n",
       "</div>"
      ],
      "text/plain": [
       "  Lower tier local authorities code Lower tier local authorities label  \\\n",
       "0                         E06000001                         Hartlepool   \n",
       "1                         E06000001                         Hartlepool   \n",
       "2                         E06000001                         Hartlepool   \n",
       "3                         E06000001                         Hartlepool   \n",
       "4                         E06000001                         Hartlepool   \n",
       "\n",
       "   Migration LTLA (inflow) (6 categories) code  \\\n",
       "0                                           -8   \n",
       "1                                           -8   \n",
       "2                                           -8   \n",
       "3                                           -8   \n",
       "4                                           -8   \n",
       "\n",
       "  Migration LTLA (inflow) (6 categories) label  \\\n",
       "0                               Does not apply   \n",
       "1                               Does not apply   \n",
       "2                               Does not apply   \n",
       "3                               Does not apply   \n",
       "4                               Does not apply   \n",
       "\n",
       "   Ethnic group (6 categories) code Ethnic group (6 categories) label  \\\n",
       "0                                -8                    Does not apply   \n",
       "1                                -8                    Does not apply   \n",
       "2                                -8                    Does not apply   \n",
       "3                                -8                    Does not apply   \n",
       "4                                -8                    Does not apply   \n",
       "\n",
       "   National Statistics Socio-economic Classification (NS-SeC) (10 categories) code  \\\n",
       "0                                                 -8                                 \n",
       "1                                                  1                                 \n",
       "2                                                  2                                 \n",
       "3                                                  3                                 \n",
       "4                                                  4                                 \n",
       "\n",
       "  National Statistics Socio-economic Classification (NS-SeC) (10 categories) label  \\\n",
       "0                                     Does not apply                                 \n",
       "1  L1, L2 and L3: Higher managerial, administrati...                                 \n",
       "2  L4, L5 and L6: Lower managerial, administrativ...                                 \n",
       "3                       L7: Intermediate occupations                                 \n",
       "4  L8 and L9: Small employers and own account wor...                                 \n",
       "\n",
       "   Count  \n",
       "0      0  \n",
       "1      0  \n",
       "2      0  \n",
       "3      0  \n",
       "4      0  "
      ]
     },
     "execution_count": 25,
     "metadata": {},
     "output_type": "execute_result"
    }
   ],
   "source": [
    "# Create df for migration into England and Wales\n",
    "mig_ltla_in_df = pd.read_csv(\"./Resources/MIG004EW_LTLA_IN.csv\")\n",
    "mig_ltla_in_df.head()\n"
   ]
  },
  {
   "cell_type": "code",
   "execution_count": 26,
   "metadata": {},
   "outputs": [
    {
     "data": {
      "text/html": [
       "<div>\n",
       "<style scoped>\n",
       "    .dataframe tbody tr th:only-of-type {\n",
       "        vertical-align: middle;\n",
       "    }\n",
       "\n",
       "    .dataframe tbody tr th {\n",
       "        vertical-align: top;\n",
       "    }\n",
       "\n",
       "    .dataframe thead th {\n",
       "        text-align: right;\n",
       "    }\n",
       "</style>\n",
       "<table border=\"1\" class=\"dataframe\">\n",
       "  <thead>\n",
       "    <tr style=\"text-align: right;\">\n",
       "      <th></th>\n",
       "      <th>Lower tier local authorities code</th>\n",
       "      <th>Lower tier local authorities label</th>\n",
       "      <th>Migration LTLA (inflow) (6 categories) label</th>\n",
       "      <th>Count</th>\n",
       "    </tr>\n",
       "  </thead>\n",
       "  <tbody>\n",
       "    <tr>\n",
       "      <th>1583</th>\n",
       "      <td>E08000025</td>\n",
       "      <td>Birmingham</td>\n",
       "      <td>Lived at the same address one year ago</td>\n",
       "      <td>1007979</td>\n",
       "    </tr>\n",
       "    <tr>\n",
       "      <th>1643</th>\n",
       "      <td>E08000035</td>\n",
       "      <td>Leeds</td>\n",
       "      <td>Lived at the same address one year ago</td>\n",
       "      <td>689265</td>\n",
       "    </tr>\n",
       "    <tr>\n",
       "      <th>293</th>\n",
       "      <td>E06000052</td>\n",
       "      <td>Cornwall</td>\n",
       "      <td>Lived at the same address one year ago</td>\n",
       "      <td>504531</td>\n",
       "    </tr>\n",
       "    <tr>\n",
       "      <th>1625</th>\n",
       "      <td>E08000032</td>\n",
       "      <td>Bradford</td>\n",
       "      <td>Lived at the same address one year ago</td>\n",
       "      <td>495205</td>\n",
       "    </tr>\n",
       "    <tr>\n",
       "      <th>341</th>\n",
       "      <td>E06000060</td>\n",
       "      <td>Buckinghamshire</td>\n",
       "      <td>Lived at the same address one year ago</td>\n",
       "      <td>491753</td>\n",
       "    </tr>\n",
       "    <tr>\n",
       "      <th>...</th>\n",
       "      <td>...</td>\n",
       "      <td>...</td>\n",
       "      <td>...</td>\n",
       "      <td>...</td>\n",
       "    </tr>\n",
       "    <tr>\n",
       "      <th>1728</th>\n",
       "      <td>E09000013</td>\n",
       "      <td>Hammersmith and Fulham</td>\n",
       "      <td>Does not apply</td>\n",
       "      <td>0</td>\n",
       "    </tr>\n",
       "    <tr>\n",
       "      <th>612</th>\n",
       "      <td>E07000077</td>\n",
       "      <td>Uttlesford</td>\n",
       "      <td>Does not apply</td>\n",
       "      <td>0</td>\n",
       "    </tr>\n",
       "    <tr>\n",
       "      <th>1086</th>\n",
       "      <td>E07000173</td>\n",
       "      <td>Gedling</td>\n",
       "      <td>Does not apply</td>\n",
       "      <td>0</td>\n",
       "    </tr>\n",
       "    <tr>\n",
       "      <th>618</th>\n",
       "      <td>E07000078</td>\n",
       "      <td>Cheltenham</td>\n",
       "      <td>Does not apply</td>\n",
       "      <td>0</td>\n",
       "    </tr>\n",
       "    <tr>\n",
       "      <th>0</th>\n",
       "      <td>E06000001</td>\n",
       "      <td>Hartlepool</td>\n",
       "      <td>Does not apply</td>\n",
       "      <td>0</td>\n",
       "    </tr>\n",
       "  </tbody>\n",
       "</table>\n",
       "<p>1986 rows × 4 columns</p>\n",
       "</div>"
      ],
      "text/plain": [
       "     Lower tier local authorities code Lower tier local authorities label  \\\n",
       "1583                         E08000025                         Birmingham   \n",
       "1643                         E08000035                              Leeds   \n",
       "293                          E06000052                           Cornwall   \n",
       "1625                         E08000032                           Bradford   \n",
       "341                          E06000060                    Buckinghamshire   \n",
       "...                                ...                                ...   \n",
       "1728                         E09000013             Hammersmith and Fulham   \n",
       "612                          E07000077                         Uttlesford   \n",
       "1086                         E07000173                            Gedling   \n",
       "618                          E07000078                         Cheltenham   \n",
       "0                            E06000001                         Hartlepool   \n",
       "\n",
       "     Migration LTLA (inflow) (6 categories) label    Count  \n",
       "1583       Lived at the same address one year ago  1007979  \n",
       "1643       Lived at the same address one year ago   689265  \n",
       "293        Lived at the same address one year ago   504531  \n",
       "1625       Lived at the same address one year ago   495205  \n",
       "341        Lived at the same address one year ago   491753  \n",
       "...                                           ...      ...  \n",
       "1728                               Does not apply        0  \n",
       "612                                Does not apply        0  \n",
       "1086                               Does not apply        0  \n",
       "618                                Does not apply        0  \n",
       "0                                  Does not apply        0  \n",
       "\n",
       "[1986 rows x 4 columns]"
      ]
     },
     "execution_count": 26,
     "metadata": {},
     "output_type": "execute_result"
    }
   ],
   "source": [
    "# Countlocal authority labels\n",
    "in_authority = mig_ltla_in_df.groupby(['Lower tier local authorities code', 'Lower tier local authorities label', 'Migration LTLA (inflow) (6 categories) label'])['Count'].sum().reset_index()\n",
    "in_authority = in_authority.sort_values(by='Count', ascending=False)\n",
    "\n",
    "in_authority"
   ]
  },
  {
   "cell_type": "code",
   "execution_count": 27,
   "metadata": {},
   "outputs": [
    {
     "data": {
      "application/vnd.plotly.v1+json": {
       "config": {
        "plotlyServerURL": "https://plot.ly"
       },
       "data": [
        {
         "alignmentgroup": "True",
         "hovertemplate": "Lower tier local authorities label=%{x}<br>Count=%{y}<extra></extra>",
         "legendgroup": "",
         "marker": {
          "color": "#636efa",
          "pattern": {
           "shape": ""
          }
         },
         "name": "",
         "offsetgroup": "",
         "orientation": "v",
         "showlegend": false,
         "textposition": "auto",
         "type": "bar",
         "x": [
          "Birmingham",
          "Leeds",
          "Cornwall",
          "Bradford",
          "Buckinghamshire",
          "Sheffield",
          "County Durham",
          "Wiltshire",
          "Manchester",
          "Liverpool",
          "Kirklees",
          "Bristol",
          "West Northamptonshire",
          "Cheshire East",
          "Croydon",
          "Bournemouth, Christchurch and Poole",
          "Barnet",
          "Dorset",
          "Wakefield",
          "North Northamptonshire",
          "Cheshire West and Chester",
          "Ealing",
          "Leicester",
          "Sandwell",
          "East Riding of Yorkshire",
          "Newham",
          "Wigan",
          "Cardiff",
          "Enfield",
          "Dudley",
          "Bromley",
          "Wirral",
          "Brent",
          "Coventry",
          "Northumberland",
          "Shropshire",
          "Doncaster",
          "Redbridge",
          "Bolton",
          "Hillingdon",
          "Stockport",
          "Central Bedfordshire",
          "Lewisham",
          "Walsall",
          "Wandsworth",
          "Lambeth",
          "South Gloucestershire",
          "Sefton",
          "Nottingham",
          "Southwark",
          "Milton Keynes",
          "Hounslow",
          "Greenwich",
          "Sunderland",
          "Medway",
          "Waltham Forest",
          "Rotherham",
          "Tower Hamlets",
          "Newcastle upon Tyne",
          "Wolverhampton",
          "Havering",
          "Kingston upon Hull",
          "Harrow",
          "Stoke-on-Trent",
          "Derby",
          "Plymouth",
          "Salford",
          "Haringey",
          "Bexley",
          "Barnsley",
          "Oldham",
          "Brighton and Hove",
          "East Suffolk",
          "Rhondda Cynon Taf",
          "Hackney",
          "Trafford",
          "Tameside",
          "Swansea",
          "Swindon",
          "Southampton",
          "Rochdale",
          "Luton",
          "Barking and Dagenham",
          "Solihull",
          "North Somerset",
          "Warrington",
          "North Tyneside",
          "Peterborough",
          "Sutton",
          "Calderdale",
          "Merton",
          "Bury",
          "Stockton-on-Tees",
          "Gateshead",
          "Portsmouth",
          "Islington",
          "Carmarthenshire",
          "Basildon",
          "Richmond upon Thames",
          "St. Helens",
          "Herefordshire",
          "York",
          "Camden",
          "Colchester",
          "Telford and Wrekin",
          "Bedford",
          "Basingstoke and Deane",
          "Caerphilly",
          "Southend-on-Sea",
          "Chelmsford",
          "Huntingdonshire",
          "Westminster",
          "Thurrock",
          "New Forest",
          "Bath and North East Somerset",
          "West Suffolk",
          "Wokingham",
          "Charnwood",
          "Maidstone",
          "North Lincolnshire",
          "South Somerset",
          "Arun",
          "Kingston upon Thames",
          "Newport",
          "Hammersmith and Fulham",
          "South Cambridgeshire",
          "West Berkshire",
          "Reading",
          "Wealden",
          "Harrogate",
          "Knowsley",
          "Flintshire",
          "North East Lincolnshire",
          "Slough",
          "Cherwell",
          "Blackburn with Darwen",
          "Somerset West and Taunton",
          "Braintree",
          "Dacorum",
          "King's Lynn and West Norfolk",
          "Swale",
          "South Tyneside",
          "Mid Sussex",
          "Windsor and Maidenhead",
          "Reigate and Banstead",
          "East Devon",
          "East Hertfordshire",
          "Tendring",
          "Bridgend",
          "St Albans",
          "South Oxfordshire",
          "Horsham",
          "Neath Port Talbot",
          "Canterbury",
          "South Kesteven",
          "East Lindsey",
          "South Norfolk",
          "Preston",
          "Middlesbrough",
          "Breckland",
          "Blackpool",
          "Thanet",
          "Torbay",
          "Redcar and Cleveland",
          "Isle of Wight",
          "Warwick",
          "Ipswich",
          "Wrexham",
          "Stafford",
          "Eastleigh",
          "Elmbridge",
          "Epping Forest",
          "Nuneaton and Bedworth",
          "Teignbridge",
          "Powys",
          "Vale of White Horse",
          "Lancaster",
          "Broadland",
          "Wychavon",
          "North Hertfordshire",
          "Tonbridge and Malling",
          "Oxford",
          "Vale of Glamorgan",
          "Stratford-on-Avon",
          "Halton",
          "Ashford",
          "Gloucester",
          "Guildford",
          "Kensington and Chelsea",
          "Test Valley",
          "Norwich",
          "Ashfield",
          "Amber Valley",
          "Havant",
          "Sedgemoor",
          "Waverley",
          "East Hampshire",
          "Pembrokeshire",
          "East Staffordshire",
          "Cambridge",
          "Newark and Sherwood",
          "Newcastle-under-Lyme",
          "Bracknell Forest",
          "Stroud",
          "Sevenoaks",
          "Chichester",
          "Winchester",
          "Chorley",
          "Gedling",
          "Bassetlaw",
          "North Kesteven",
          "Rushcliffe",
          "Crawley",
          "Conwy",
          "Dartford",
          "Dover",
          "Mendip",
          "Fareham",
          "Hinckley and Bosworth",
          "Gwynedd",
          "Erewash",
          "West Lancashire",
          "Welwyn Hatfield",
          "South Ribble",
          "Exeter",
          "Cheltenham",
          "Tunbridge Wells",
          "South Staffordshire",
          "Rugby",
          "Wyre",
          "Mansfield",
          "West Oxfordshire",
          "Worthing",
          "Broxtowe",
          "Folkestone and Hythe",
          "Carlisle",
          "Scarborough",
          "Gravesham",
          "Hertsmere",
          "Darlington",
          "Lichfield",
          "South Derbyshire",
          "Chesterfield",
          "South Lakeland",
          "Blaby",
          "North West Leicestershire",
          "North East Derbyshire",
          "North Norfolk",
          "Wyre Forest",
          "Fenland",
          "Spelthorne",
          "Mid Suffolk",
          "Cannock Chase",
          "Woking",
          "Worcester",
          "Bromsgrove",
          "Watford",
          "Broxbourne",
          "Lewes",
          "Eastbourne",
          "Great Yarmouth",
          "Hart",
          "Allerdale",
          "Staffordshire Moorlands",
          "Rushmoor",
          "North Devon",
          "Pendle",
          "Denbighshire",
          "Harborough",
          "West Lindsey",
          "Burnley",
          "Torfaen",
          "Tewkesbury",
          "Three Rivers",
          "South Holland",
          "Monmouthshire",
          "Harlow",
          "Rother",
          "Hartlepool",
          "Babergh",
          "Selby",
          "High Peak",
          "Lincoln",
          "Castle Point",
          "Uttlesford",
          "Hastings",
          "Hambleton",
          "Stevenage",
          "Surrey Heath",
          "Cotswold",
          "Tandridge",
          "Redditch",
          "East Cambridgeshire",
          "Mole Valley",
          "Forest of Dean",
          "South Hams",
          "Rochford",
          "Hyndburn",
          "Mid Devon",
          "Gosport",
          "Runnymede",
          "Bolsover",
          "Fylde",
          "Epsom and Ewell",
          "Malvern Hills",
          "Tamworth",
          "Brentwood",
          "Rossendale",
          "Derbyshire Dales",
          "Isle of Anglesey",
          "Boston",
          "Blaenau Gwent",
          "Barrow-in-Furness",
          "Copeland",
          "Torridge",
          "Ceredigion",
          "Maldon",
          "North Warwickshire",
          "Adur",
          "Ribble Valley",
          "Merthyr Tydfil",
          "Oadby and Wigston",
          "West Devon",
          "Craven",
          "Eden",
          "Ryedale",
          "Melton",
          "Richmondshire",
          "Rutland",
          "City of London",
          "Isles of Scilly"
         ],
         "xaxis": "x",
         "y": [
          1007979,
          689265,
          504531,
          495205,
          491753,
          477722,
          462529,
          451882,
          447358,
          407929,
          391650,
          384980,
          374987,
          354254,
          348079,
          341556,
          340979,
          339034,
          322088,
          321138,
          319031,
          318950,
          316171,
          312631,
          309073,
          300630,
          300457,
          298761,
          297539,
          297536,
          296806,
          292543,
          292263,
          292035,
          291003,
          288904,
          278598,
          276581,
          269718,
          268928,
          267293,
          262317,
          261094,
          260533,
          259073,
          257605,
          256216,
          255273,
          254462,
          253018,
          251500,
          251491,
          251008,
          249201,
          249091,
          244814,
          243529,
          242585,
          240279,
          237073,
          236792,
          234758,
          231461,
          231163,
          230958,
          228567,
          227657,
          225529,
          223927,
          223186,
          222762,
          222495,
          222082,
          217432,
          216060,
          212373,
          212106,
          208798,
          207185,
          205699,
          204133,
          199321,
          197249,
          196312,
          194056,
          190566,
          190194,
          190022,
          188779,
          187492,
          187418,
          177515,
          177459,
          177264,
          172539,
          171904,
          171252,
          170212,
          169362,
          167625,
          167361,
          166272,
          166136,
          165752,
          164088,
          163569,
          163501,
          163175,
          161571,
          161258,
          160516,
          159859,
          158910,
          158807,
          157775,
          156808,
          155972,
          155350,
          154595,
          153708,
          153586,
          147238,
          145073,
          144983,
          144730,
          144234,
          144163,
          143158,
          143031,
          142404,
          141960,
          141876,
          141534,
          141154,
          140866,
          140263,
          140164,
          139388,
          138733,
          138315,
          136337,
          135696,
          135511,
          135155,
          133752,
          133750,
          133116,
          133068,
          132888,
          131172,
          130905,
          130228,
          130001,
          128987,
          128896,
          127817,
          127205,
          126870,
          126757,
          126542,
          126404,
          125588,
          125209,
          125079,
          125061,
          124706,
          124496,
          123208,
          122511,
          121904,
          121876,
          121778,
          121503,
          120899,
          120585,
          120363,
          120291,
          119810,
          119793,
          119592,
          119506,
          119346,
          118960,
          118637,
          117889,
          117596,
          117452,
          116855,
          116000,
          115950,
          115724,
          115560,
          115188,
          112860,
          112146,
          112099,
          112019,
          111749,
          111415,
          110418,
          109649,
          109237,
          109161,
          109125,
          108590,
          107637,
          107223,
          106957,
          106722,
          106234,
          105238,
          104979,
          104672,
          104580,
          104497,
          104388,
          103716,
          103553,
          103368,
          103290,
          103178,
          102626,
          101618,
          101311,
          101257,
          101105,
          100879,
          100707,
          100477,
          100186,
          99880,
          99583,
          99053,
          98720,
          98609,
          97949,
          97632,
          97032,
          96588,
          96393,
          96074,
          95899,
          94295,
          94108,
          93863,
          93679,
          93195,
          92797,
          92608,
          92077,
          91933,
          91728,
          91533,
          91292,
          90362,
          90089,
          89928,
          89920,
          89708,
          89700,
          89482,
          88144,
          88026,
          88005,
          87474,
          87343,
          86758,
          86650,
          86571,
          85377,
          85149,
          84978,
          84942,
          84829,
          84681,
          84352,
          83478,
          83472,
          83134,
          82818,
          82733,
          82588,
          82370,
          82094,
          81830,
          81215,
          80884,
          80558,
          80540,
          79612,
          79207,
          79035,
          78693,
          78503,
          78417,
          78376,
          78219,
          74958,
          73915,
          73406,
          73124,
          72631,
          72519,
          72490,
          71392,
          70964,
          68907,
          64691,
          64594,
          62781,
          62455,
          61608,
          61225,
          61156,
          60865,
          60421,
          59566,
          59150,
          58796,
          54985,
          54363,
          51284,
          51151,
          51080,
          49710,
          48980,
          46601,
          42981,
          36057,
          6235,
          1847
         ],
         "yaxis": "y"
        }
       ],
       "layout": {
        "barmode": "relative",
        "legend": {
         "tracegroupgap": 0
        },
        "template": {
         "data": {
          "bar": [
           {
            "error_x": {
             "color": "#2a3f5f"
            },
            "error_y": {
             "color": "#2a3f5f"
            },
            "marker": {
             "line": {
              "color": "#E5ECF6",
              "width": 0.5
             },
             "pattern": {
              "fillmode": "overlay",
              "size": 10,
              "solidity": 0.2
             }
            },
            "type": "bar"
           }
          ],
          "barpolar": [
           {
            "marker": {
             "line": {
              "color": "#E5ECF6",
              "width": 0.5
             },
             "pattern": {
              "fillmode": "overlay",
              "size": 10,
              "solidity": 0.2
             }
            },
            "type": "barpolar"
           }
          ],
          "carpet": [
           {
            "aaxis": {
             "endlinecolor": "#2a3f5f",
             "gridcolor": "white",
             "linecolor": "white",
             "minorgridcolor": "white",
             "startlinecolor": "#2a3f5f"
            },
            "baxis": {
             "endlinecolor": "#2a3f5f",
             "gridcolor": "white",
             "linecolor": "white",
             "minorgridcolor": "white",
             "startlinecolor": "#2a3f5f"
            },
            "type": "carpet"
           }
          ],
          "choropleth": [
           {
            "colorbar": {
             "outlinewidth": 0,
             "ticks": ""
            },
            "type": "choropleth"
           }
          ],
          "contour": [
           {
            "colorbar": {
             "outlinewidth": 0,
             "ticks": ""
            },
            "colorscale": [
             [
              0,
              "#0d0887"
             ],
             [
              0.1111111111111111,
              "#46039f"
             ],
             [
              0.2222222222222222,
              "#7201a8"
             ],
             [
              0.3333333333333333,
              "#9c179e"
             ],
             [
              0.4444444444444444,
              "#bd3786"
             ],
             [
              0.5555555555555556,
              "#d8576b"
             ],
             [
              0.6666666666666666,
              "#ed7953"
             ],
             [
              0.7777777777777778,
              "#fb9f3a"
             ],
             [
              0.8888888888888888,
              "#fdca26"
             ],
             [
              1,
              "#f0f921"
             ]
            ],
            "type": "contour"
           }
          ],
          "contourcarpet": [
           {
            "colorbar": {
             "outlinewidth": 0,
             "ticks": ""
            },
            "type": "contourcarpet"
           }
          ],
          "heatmap": [
           {
            "colorbar": {
             "outlinewidth": 0,
             "ticks": ""
            },
            "colorscale": [
             [
              0,
              "#0d0887"
             ],
             [
              0.1111111111111111,
              "#46039f"
             ],
             [
              0.2222222222222222,
              "#7201a8"
             ],
             [
              0.3333333333333333,
              "#9c179e"
             ],
             [
              0.4444444444444444,
              "#bd3786"
             ],
             [
              0.5555555555555556,
              "#d8576b"
             ],
             [
              0.6666666666666666,
              "#ed7953"
             ],
             [
              0.7777777777777778,
              "#fb9f3a"
             ],
             [
              0.8888888888888888,
              "#fdca26"
             ],
             [
              1,
              "#f0f921"
             ]
            ],
            "type": "heatmap"
           }
          ],
          "heatmapgl": [
           {
            "colorbar": {
             "outlinewidth": 0,
             "ticks": ""
            },
            "colorscale": [
             [
              0,
              "#0d0887"
             ],
             [
              0.1111111111111111,
              "#46039f"
             ],
             [
              0.2222222222222222,
              "#7201a8"
             ],
             [
              0.3333333333333333,
              "#9c179e"
             ],
             [
              0.4444444444444444,
              "#bd3786"
             ],
             [
              0.5555555555555556,
              "#d8576b"
             ],
             [
              0.6666666666666666,
              "#ed7953"
             ],
             [
              0.7777777777777778,
              "#fb9f3a"
             ],
             [
              0.8888888888888888,
              "#fdca26"
             ],
             [
              1,
              "#f0f921"
             ]
            ],
            "type": "heatmapgl"
           }
          ],
          "histogram": [
           {
            "marker": {
             "pattern": {
              "fillmode": "overlay",
              "size": 10,
              "solidity": 0.2
             }
            },
            "type": "histogram"
           }
          ],
          "histogram2d": [
           {
            "colorbar": {
             "outlinewidth": 0,
             "ticks": ""
            },
            "colorscale": [
             [
              0,
              "#0d0887"
             ],
             [
              0.1111111111111111,
              "#46039f"
             ],
             [
              0.2222222222222222,
              "#7201a8"
             ],
             [
              0.3333333333333333,
              "#9c179e"
             ],
             [
              0.4444444444444444,
              "#bd3786"
             ],
             [
              0.5555555555555556,
              "#d8576b"
             ],
             [
              0.6666666666666666,
              "#ed7953"
             ],
             [
              0.7777777777777778,
              "#fb9f3a"
             ],
             [
              0.8888888888888888,
              "#fdca26"
             ],
             [
              1,
              "#f0f921"
             ]
            ],
            "type": "histogram2d"
           }
          ],
          "histogram2dcontour": [
           {
            "colorbar": {
             "outlinewidth": 0,
             "ticks": ""
            },
            "colorscale": [
             [
              0,
              "#0d0887"
             ],
             [
              0.1111111111111111,
              "#46039f"
             ],
             [
              0.2222222222222222,
              "#7201a8"
             ],
             [
              0.3333333333333333,
              "#9c179e"
             ],
             [
              0.4444444444444444,
              "#bd3786"
             ],
             [
              0.5555555555555556,
              "#d8576b"
             ],
             [
              0.6666666666666666,
              "#ed7953"
             ],
             [
              0.7777777777777778,
              "#fb9f3a"
             ],
             [
              0.8888888888888888,
              "#fdca26"
             ],
             [
              1,
              "#f0f921"
             ]
            ],
            "type": "histogram2dcontour"
           }
          ],
          "mesh3d": [
           {
            "colorbar": {
             "outlinewidth": 0,
             "ticks": ""
            },
            "type": "mesh3d"
           }
          ],
          "parcoords": [
           {
            "line": {
             "colorbar": {
              "outlinewidth": 0,
              "ticks": ""
             }
            },
            "type": "parcoords"
           }
          ],
          "pie": [
           {
            "automargin": true,
            "type": "pie"
           }
          ],
          "scatter": [
           {
            "fillpattern": {
             "fillmode": "overlay",
             "size": 10,
             "solidity": 0.2
            },
            "type": "scatter"
           }
          ],
          "scatter3d": [
           {
            "line": {
             "colorbar": {
              "outlinewidth": 0,
              "ticks": ""
             }
            },
            "marker": {
             "colorbar": {
              "outlinewidth": 0,
              "ticks": ""
             }
            },
            "type": "scatter3d"
           }
          ],
          "scattercarpet": [
           {
            "marker": {
             "colorbar": {
              "outlinewidth": 0,
              "ticks": ""
             }
            },
            "type": "scattercarpet"
           }
          ],
          "scattergeo": [
           {
            "marker": {
             "colorbar": {
              "outlinewidth": 0,
              "ticks": ""
             }
            },
            "type": "scattergeo"
           }
          ],
          "scattergl": [
           {
            "marker": {
             "colorbar": {
              "outlinewidth": 0,
              "ticks": ""
             }
            },
            "type": "scattergl"
           }
          ],
          "scattermapbox": [
           {
            "marker": {
             "colorbar": {
              "outlinewidth": 0,
              "ticks": ""
             }
            },
            "type": "scattermapbox"
           }
          ],
          "scatterpolar": [
           {
            "marker": {
             "colorbar": {
              "outlinewidth": 0,
              "ticks": ""
             }
            },
            "type": "scatterpolar"
           }
          ],
          "scatterpolargl": [
           {
            "marker": {
             "colorbar": {
              "outlinewidth": 0,
              "ticks": ""
             }
            },
            "type": "scatterpolargl"
           }
          ],
          "scatterternary": [
           {
            "marker": {
             "colorbar": {
              "outlinewidth": 0,
              "ticks": ""
             }
            },
            "type": "scatterternary"
           }
          ],
          "surface": [
           {
            "colorbar": {
             "outlinewidth": 0,
             "ticks": ""
            },
            "colorscale": [
             [
              0,
              "#0d0887"
             ],
             [
              0.1111111111111111,
              "#46039f"
             ],
             [
              0.2222222222222222,
              "#7201a8"
             ],
             [
              0.3333333333333333,
              "#9c179e"
             ],
             [
              0.4444444444444444,
              "#bd3786"
             ],
             [
              0.5555555555555556,
              "#d8576b"
             ],
             [
              0.6666666666666666,
              "#ed7953"
             ],
             [
              0.7777777777777778,
              "#fb9f3a"
             ],
             [
              0.8888888888888888,
              "#fdca26"
             ],
             [
              1,
              "#f0f921"
             ]
            ],
            "type": "surface"
           }
          ],
          "table": [
           {
            "cells": {
             "fill": {
              "color": "#EBF0F8"
             },
             "line": {
              "color": "white"
             }
            },
            "header": {
             "fill": {
              "color": "#C8D4E3"
             },
             "line": {
              "color": "white"
             }
            },
            "type": "table"
           }
          ]
         },
         "layout": {
          "annotationdefaults": {
           "arrowcolor": "#2a3f5f",
           "arrowhead": 0,
           "arrowwidth": 1
          },
          "autotypenumbers": "strict",
          "coloraxis": {
           "colorbar": {
            "outlinewidth": 0,
            "ticks": ""
           }
          },
          "colorscale": {
           "diverging": [
            [
             0,
             "#8e0152"
            ],
            [
             0.1,
             "#c51b7d"
            ],
            [
             0.2,
             "#de77ae"
            ],
            [
             0.3,
             "#f1b6da"
            ],
            [
             0.4,
             "#fde0ef"
            ],
            [
             0.5,
             "#f7f7f7"
            ],
            [
             0.6,
             "#e6f5d0"
            ],
            [
             0.7,
             "#b8e186"
            ],
            [
             0.8,
             "#7fbc41"
            ],
            [
             0.9,
             "#4d9221"
            ],
            [
             1,
             "#276419"
            ]
           ],
           "sequential": [
            [
             0,
             "#0d0887"
            ],
            [
             0.1111111111111111,
             "#46039f"
            ],
            [
             0.2222222222222222,
             "#7201a8"
            ],
            [
             0.3333333333333333,
             "#9c179e"
            ],
            [
             0.4444444444444444,
             "#bd3786"
            ],
            [
             0.5555555555555556,
             "#d8576b"
            ],
            [
             0.6666666666666666,
             "#ed7953"
            ],
            [
             0.7777777777777778,
             "#fb9f3a"
            ],
            [
             0.8888888888888888,
             "#fdca26"
            ],
            [
             1,
             "#f0f921"
            ]
           ],
           "sequentialminus": [
            [
             0,
             "#0d0887"
            ],
            [
             0.1111111111111111,
             "#46039f"
            ],
            [
             0.2222222222222222,
             "#7201a8"
            ],
            [
             0.3333333333333333,
             "#9c179e"
            ],
            [
             0.4444444444444444,
             "#bd3786"
            ],
            [
             0.5555555555555556,
             "#d8576b"
            ],
            [
             0.6666666666666666,
             "#ed7953"
            ],
            [
             0.7777777777777778,
             "#fb9f3a"
            ],
            [
             0.8888888888888888,
             "#fdca26"
            ],
            [
             1,
             "#f0f921"
            ]
           ]
          },
          "colorway": [
           "#636efa",
           "#EF553B",
           "#00cc96",
           "#ab63fa",
           "#FFA15A",
           "#19d3f3",
           "#FF6692",
           "#B6E880",
           "#FF97FF",
           "#FECB52"
          ],
          "font": {
           "color": "#2a3f5f"
          },
          "geo": {
           "bgcolor": "white",
           "lakecolor": "white",
           "landcolor": "#E5ECF6",
           "showlakes": true,
           "showland": true,
           "subunitcolor": "white"
          },
          "hoverlabel": {
           "align": "left"
          },
          "hovermode": "closest",
          "mapbox": {
           "style": "light"
          },
          "paper_bgcolor": "white",
          "plot_bgcolor": "#E5ECF6",
          "polar": {
           "angularaxis": {
            "gridcolor": "white",
            "linecolor": "white",
            "ticks": ""
           },
           "bgcolor": "#E5ECF6",
           "radialaxis": {
            "gridcolor": "white",
            "linecolor": "white",
            "ticks": ""
           }
          },
          "scene": {
           "xaxis": {
            "backgroundcolor": "#E5ECF6",
            "gridcolor": "white",
            "gridwidth": 2,
            "linecolor": "white",
            "showbackground": true,
            "ticks": "",
            "zerolinecolor": "white"
           },
           "yaxis": {
            "backgroundcolor": "#E5ECF6",
            "gridcolor": "white",
            "gridwidth": 2,
            "linecolor": "white",
            "showbackground": true,
            "ticks": "",
            "zerolinecolor": "white"
           },
           "zaxis": {
            "backgroundcolor": "#E5ECF6",
            "gridcolor": "white",
            "gridwidth": 2,
            "linecolor": "white",
            "showbackground": true,
            "ticks": "",
            "zerolinecolor": "white"
           }
          },
          "shapedefaults": {
           "line": {
            "color": "#2a3f5f"
           }
          },
          "ternary": {
           "aaxis": {
            "gridcolor": "white",
            "linecolor": "white",
            "ticks": ""
           },
           "baxis": {
            "gridcolor": "white",
            "linecolor": "white",
            "ticks": ""
           },
           "bgcolor": "#E5ECF6",
           "caxis": {
            "gridcolor": "white",
            "linecolor": "white",
            "ticks": ""
           }
          },
          "title": {
           "x": 0.05
          },
          "xaxis": {
           "automargin": true,
           "gridcolor": "white",
           "linecolor": "white",
           "ticks": "",
           "title": {
            "standoff": 15
           },
           "zerolinecolor": "white",
           "zerolinewidth": 2
          },
          "yaxis": {
           "automargin": true,
           "gridcolor": "white",
           "linecolor": "white",
           "ticks": "",
           "title": {
            "standoff": 15
           },
           "zerolinecolor": "white",
           "zerolinewidth": 2
          }
         }
        },
        "title": {
         "text": "Migration LTLA: Lived at the same address one year ago"
        },
        "xaxis": {
         "anchor": "y",
         "categoryorder": "total ascending",
         "domain": [
          0,
          1
         ],
         "title": {
          "text": "Local Authority"
         }
        },
        "yaxis": {
         "anchor": "x",
         "domain": [
          0,
          1
         ],
         "title": {
          "text": "Count"
         }
        }
       }
      }
     },
     "metadata": {},
     "output_type": "display_data"
    },
    {
     "data": {
      "application/vnd.plotly.v1+json": {
       "config": {
        "plotlyServerURL": "https://plot.ly"
       },
       "data": [
        {
         "alignmentgroup": "True",
         "hovertemplate": "Lower tier local authorities label=%{x}<br>Count=%{y}<extra></extra>",
         "legendgroup": "",
         "marker": {
          "color": "#636efa",
          "pattern": {
           "shape": ""
          }
         },
         "name": "",
         "offsetgroup": "",
         "orientation": "v",
         "showlegend": false,
         "textposition": "auto",
         "type": "bar",
         "x": [
          "Birmingham",
          "Leeds",
          "Manchester",
          "Bristol",
          "Sheffield",
          "Liverpool",
          "Cornwall",
          "County Durham",
          "Cardiff",
          "Bournemouth, Christchurch and Poole",
          "Newcastle upon Tyne",
          "Bradford",
          "Nottingham",
          "Brighton and Hove",
          "Wiltshire",
          "West Northamptonshire",
          "Buckinghamshire",
          "Coventry",
          "Leicester",
          "Kirklees",
          "Wandsworth",
          "Cheshire East",
          "North Northamptonshire",
          "Tower Hamlets",
          "Southampton",
          "Plymouth",
          "Kingston upon Hull",
          "Cheshire West and Chester",
          "Dorset",
          "Newham",
          "Milton Keynes",
          "Brent",
          "Ealing",
          "Portsmouth",
          "York",
          "Oxford",
          "Barnet",
          "Wirral",
          "East Riding of Yorkshire",
          "Doncaster",
          "Wakefield",
          "Shropshire",
          "Croydon",
          "Lambeth",
          "Northumberland",
          "Derby",
          "Salford",
          "Swansea",
          "Southwark",
          "Swindon",
          "Wigan",
          "Sunderland",
          "Bath and North East Somerset",
          "Medway",
          "Hounslow",
          "Stoke-on-Trent",
          "South Gloucestershire",
          "Bolton",
          "Hillingdon",
          "Reading",
          "Peterborough",
          "Hackney",
          "Enfield",
          "Cambridge",
          "Canterbury",
          "Dudley",
          "Exeter",
          "Colchester",
          "Norwich",
          "Haringey",
          "Stockport",
          "Sefton",
          "Lewisham",
          "Bromley",
          "Wolverhampton",
          "Sandwell",
          "Rotherham",
          "Barnsley",
          "North Somerset",
          "East Suffolk",
          "Central Bedfordshire",
          "Luton",
          "Charnwood",
          "Waltham Forest",
          "Lancaster",
          "Greenwich",
          "Rhondda Cynon Taf",
          "Telford and Wrekin",
          "Redbridge",
          "Islington",
          "Camden",
          "Warrington",
          "Hammersmith and Fulham",
          "Calderdale",
          "Westminster",
          "Stockton-on-Tees",
          "Basingstoke and Deane",
          "Walsall",
          "Harrow",
          "Herefordshire",
          "Bedford",
          "North East Lincolnshire",
          "Lincoln",
          "Harrogate",
          "Warwick",
          "Preston",
          "North Tyneside",
          "Rochdale",
          "Isle of Wight",
          "Oldham",
          "North Lincolnshire",
          "Tameside",
          "West Suffolk",
          "Southend-on-Sea",
          "Havering",
          "Gateshead",
          "Guildford",
          "South Somerset",
          "Trafford",
          "Huntingdonshire",
          "Carmarthenshire",
          "Richmond upon Thames",
          "Maidstone",
          "Cherwell",
          "Somerset West and Taunton",
          "Middlesbrough",
          "Solihull",
          "Chelmsford",
          "Arun",
          "Thanet",
          "Cheltenham",
          "Bexley",
          "Merton",
          "Kingston upon Thames",
          "Blackpool",
          "New Forest",
          "St. Helens",
          "King's Lynn and West Norfolk",
          "Ipswich",
          "Bury",
          "Sutton",
          "Blackburn with Darwen",
          "Torbay",
          "Tendring",
          "Gwynedd",
          "West Berkshire",
          "Swale",
          "Caerphilly",
          "Wokingham",
          "Slough",
          "East Devon",
          "Basildon",
          "Gloucester",
          "Winchester",
          "Ashford",
          "South Tyneside",
          "Thurrock",
          "Flintshire",
          "Bridgend",
          "Carlisle",
          "Welwyn Hatfield",
          "Kensington and Chelsea",
          "Newport",
          "St Albans",
          "Wrexham",
          "East Lindsey",
          "Redcar and Cleveland",
          "South Kesteven",
          "Mid Sussex",
          "Stafford",
          "Vale of White Horse",
          "Crawley",
          "Wealden",
          "Braintree",
          "East Hertfordshire",
          "Breckland",
          "Horsham",
          "Pembrokeshire",
          "Stratford-on-Avon",
          "Sedgemoor",
          "South Oxfordshire",
          "Teignbridge",
          "Dacorum",
          "Vale of Glamorgan",
          "Barking and Dagenham",
          "Windsor and Maidenhead",
          "Worcester",
          "Rugby",
          "West Oxfordshire",
          "Chichester",
          "Scarborough",
          "Darlington",
          "Powys",
          "Dover",
          "West Lancashire",
          "Nuneaton and Bedworth",
          "East Staffordshire",
          "Newark and Sherwood",
          "Hartlepool",
          "Reigate and Banstead",
          "Newcastle-under-Lyme",
          "South Cambridgeshire",
          "Neath Port Talbot",
          "Halton",
          "Great Yarmouth",
          "Eastleigh",
          "Bassetlaw",
          "North Devon",
          "Bracknell Forest",
          "Eastbourne",
          "Worthing",
          "Test Valley",
          "Elmbridge",
          "Ceredigion",
          "Tunbridge Wells",
          "Waverley",
          "South Norfolk",
          "Conwy",
          "Runnymede",
          "Folkestone and Hythe",
          "Wyre",
          "Mendip",
          "Amber Valley",
          "Rushcliffe",
          "East Hampshire",
          "South Holland",
          "North Kesteven",
          "North Hertfordshire",
          "Stroud",
          "South Lakeland",
          "Wychavon",
          "Fenland",
          "Burnley",
          "Wyre Forest",
          "Mansfield",
          "Knowsley",
          "Woking",
          "Broadland",
          "Chorley",
          "Hastings",
          "North West Leicestershire",
          "Denbighshire",
          "Havant",
          "Hinckley and Bosworth",
          "Rushmoor",
          "Ashfield",
          "Chesterfield",
          "Allerdale",
          "Pendle",
          "Erewash",
          "Boston",
          "Fareham",
          "Epping Forest",
          "Harlow",
          "Tonbridge and Malling",
          "South Ribble",
          "Gosport",
          "Redditch",
          "High Peak",
          "Watford",
          "Mid Suffolk",
          "North Norfolk",
          "Torfaen",
          "Lewes",
          "Gedling",
          "West Lindsey",
          "Cotswold",
          "South Derbyshire",
          "Harborough",
          "Barrow-in-Furness",
          "Gravesham",
          "Mid Devon",
          "Lichfield",
          "Cannock Chase",
          "Broxtowe",
          "Hambleton",
          "Selby",
          "East Cambridgeshire",
          "Tamworth",
          "Hart",
          "Babergh",
          "Stevenage",
          "South Hams",
          "Hyndburn",
          "Spelthorne",
          "Monmouthshire",
          "Staffordshire Moorlands",
          "Sevenoaks",
          "Fylde",
          "Rother",
          "Copeland",
          "Dartford",
          "Hertsmere",
          "Forest of Dean",
          "Tewkesbury",
          "Torridge",
          "Broxbourne",
          "North East Derbyshire",
          "Uttlesford",
          "Isle of Anglesey",
          "Bromsgrove",
          "Blaby",
          "Blaenau Gwent",
          "Surrey Heath",
          "Castle Point",
          "Rossendale",
          "Malvern Hills",
          "Brentwood",
          "Bolsover",
          "South Staffordshire",
          "Mole Valley",
          "Ribble Valley",
          "Rochford",
          "Derbyshire Dales",
          "Ryedale",
          "Eden",
          "Merthyr Tydfil",
          "Craven",
          "Maldon",
          "Melton",
          "West Devon",
          "Epsom and Ewell",
          "Tandridge",
          "Three Rivers",
          "Richmondshire",
          "Adur",
          "North Warwickshire",
          "Oadby and Wigston",
          "Rutland",
          "City of London",
          "Isles of Scilly"
         ],
         "xaxis": "x",
         "y": [
          71452,
          69090,
          46102,
          44650,
          43303,
          38667,
          38553,
          34207,
          33176,
          32268,
          30123,
          29455,
          29276,
          28866,
          27659,
          27504,
          26654,
          26024,
          25279,
          22767,
          22435,
          22388,
          21848,
          21632,
          21051,
          20929,
          19348,
          19330,
          18995,
          18420,
          18358,
          18339,
          17880,
          17821,
          17748,
          17591,
          17538,
          17310,
          17020,
          16944,
          16866,
          16634,
          16583,
          16483,
          16039,
          15995,
          15972,
          15607,
          15575,
          15502,
          15275,
          14986,
          14958,
          14711,
          14381,
          14170,
          14067,
          13911,
          13604,
          13470,
          13326,
          13254,
          13104,
          13104,
          13102,
          12972,
          12870,
          12847,
          12693,
          12679,
          12625,
          12579,
          12402,
          12368,
          12319,
          12311,
          12194,
          12158,
          12085,
          12066,
          12009,
          11973,
          11851,
          11757,
          11721,
          11639,
          11621,
          11539,
          11317,
          11274,
          11224,
          10928,
          10826,
          10764,
          10759,
          10717,
          10617,
          10580,
          10372,
          10199,
          10078,
          10075,
          10070,
          9920,
          9818,
          9788,
          9774,
          9764,
          9738,
          9585,
          9579,
          9534,
          9525,
          9457,
          9333,
          9244,
          9215,
          9048,
          9021,
          9002,
          8944,
          8918,
          8648,
          8531,
          8492,
          8428,
          8424,
          8366,
          8322,
          8236,
          8203,
          8079,
          8015,
          7956,
          7936,
          7883,
          7821,
          7798,
          7725,
          7646,
          7585,
          7556,
          7506,
          7463,
          7438,
          7430,
          7406,
          7379,
          7354,
          7311,
          7276,
          7230,
          7136,
          7128,
          7076,
          7023,
          7004,
          6995,
          6946,
          6939,
          6890,
          6881,
          6879,
          6862,
          6855,
          6838,
          6823,
          6765,
          6728,
          6723,
          6699,
          6677,
          6668,
          6646,
          6604,
          6541,
          6459,
          6443,
          6424,
          6362,
          6359,
          6336,
          6331,
          6321,
          6313,
          6310,
          6283,
          6262,
          6246,
          6148,
          6139,
          6114,
          6057,
          5965,
          5962,
          5961,
          5942,
          5924,
          5924,
          5900,
          5887,
          5873,
          5853,
          5835,
          5832,
          5777,
          5679,
          5677,
          5595,
          5594,
          5550,
          5512,
          5495,
          5478,
          5443,
          5408,
          5371,
          5288,
          5235,
          5211,
          5040,
          5036,
          5031,
          5019,
          5009,
          4970,
          4964,
          4929,
          4927,
          4899,
          4889,
          4809,
          4783,
          4746,
          4726,
          4725,
          4710,
          4688,
          4671,
          4667,
          4612,
          4601,
          4593,
          4573,
          4539,
          4531,
          4530,
          4520,
          4451,
          4445,
          4424,
          4312,
          4306,
          4277,
          4261,
          4248,
          4204,
          4190,
          4180,
          4175,
          4120,
          4111,
          4084,
          4028,
          4012,
          3997,
          3987,
          3979,
          3979,
          3941,
          3905,
          3893,
          3874,
          3863,
          3848,
          3818,
          3719,
          3675,
          3649,
          3599,
          3590,
          3585,
          3582,
          3537,
          3535,
          3458,
          3458,
          3442,
          3421,
          3396,
          3377,
          3337,
          3305,
          3225,
          3178,
          3175,
          3140,
          3119,
          3116,
          3106,
          3049,
          3001,
          2970,
          2961,
          2918,
          2849,
          2831,
          2810,
          2809,
          2757,
          2740,
          2659,
          2657,
          2494,
          2494,
          2381,
          2365,
          2322,
          2302,
          2293,
          2236,
          2182,
          2148,
          2144,
          2010,
          1984,
          1936,
          1467,
          1341,
          176,
          73
         ],
         "yaxis": "y"
        }
       ],
       "layout": {
        "barmode": "relative",
        "legend": {
         "tracegroupgap": 0
        },
        "template": {
         "data": {
          "bar": [
           {
            "error_x": {
             "color": "#2a3f5f"
            },
            "error_y": {
             "color": "#2a3f5f"
            },
            "marker": {
             "line": {
              "color": "#E5ECF6",
              "width": 0.5
             },
             "pattern": {
              "fillmode": "overlay",
              "size": 10,
              "solidity": 0.2
             }
            },
            "type": "bar"
           }
          ],
          "barpolar": [
           {
            "marker": {
             "line": {
              "color": "#E5ECF6",
              "width": 0.5
             },
             "pattern": {
              "fillmode": "overlay",
              "size": 10,
              "solidity": 0.2
             }
            },
            "type": "barpolar"
           }
          ],
          "carpet": [
           {
            "aaxis": {
             "endlinecolor": "#2a3f5f",
             "gridcolor": "white",
             "linecolor": "white",
             "minorgridcolor": "white",
             "startlinecolor": "#2a3f5f"
            },
            "baxis": {
             "endlinecolor": "#2a3f5f",
             "gridcolor": "white",
             "linecolor": "white",
             "minorgridcolor": "white",
             "startlinecolor": "#2a3f5f"
            },
            "type": "carpet"
           }
          ],
          "choropleth": [
           {
            "colorbar": {
             "outlinewidth": 0,
             "ticks": ""
            },
            "type": "choropleth"
           }
          ],
          "contour": [
           {
            "colorbar": {
             "outlinewidth": 0,
             "ticks": ""
            },
            "colorscale": [
             [
              0,
              "#0d0887"
             ],
             [
              0.1111111111111111,
              "#46039f"
             ],
             [
              0.2222222222222222,
              "#7201a8"
             ],
             [
              0.3333333333333333,
              "#9c179e"
             ],
             [
              0.4444444444444444,
              "#bd3786"
             ],
             [
              0.5555555555555556,
              "#d8576b"
             ],
             [
              0.6666666666666666,
              "#ed7953"
             ],
             [
              0.7777777777777778,
              "#fb9f3a"
             ],
             [
              0.8888888888888888,
              "#fdca26"
             ],
             [
              1,
              "#f0f921"
             ]
            ],
            "type": "contour"
           }
          ],
          "contourcarpet": [
           {
            "colorbar": {
             "outlinewidth": 0,
             "ticks": ""
            },
            "type": "contourcarpet"
           }
          ],
          "heatmap": [
           {
            "colorbar": {
             "outlinewidth": 0,
             "ticks": ""
            },
            "colorscale": [
             [
              0,
              "#0d0887"
             ],
             [
              0.1111111111111111,
              "#46039f"
             ],
             [
              0.2222222222222222,
              "#7201a8"
             ],
             [
              0.3333333333333333,
              "#9c179e"
             ],
             [
              0.4444444444444444,
              "#bd3786"
             ],
             [
              0.5555555555555556,
              "#d8576b"
             ],
             [
              0.6666666666666666,
              "#ed7953"
             ],
             [
              0.7777777777777778,
              "#fb9f3a"
             ],
             [
              0.8888888888888888,
              "#fdca26"
             ],
             [
              1,
              "#f0f921"
             ]
            ],
            "type": "heatmap"
           }
          ],
          "heatmapgl": [
           {
            "colorbar": {
             "outlinewidth": 0,
             "ticks": ""
            },
            "colorscale": [
             [
              0,
              "#0d0887"
             ],
             [
              0.1111111111111111,
              "#46039f"
             ],
             [
              0.2222222222222222,
              "#7201a8"
             ],
             [
              0.3333333333333333,
              "#9c179e"
             ],
             [
              0.4444444444444444,
              "#bd3786"
             ],
             [
              0.5555555555555556,
              "#d8576b"
             ],
             [
              0.6666666666666666,
              "#ed7953"
             ],
             [
              0.7777777777777778,
              "#fb9f3a"
             ],
             [
              0.8888888888888888,
              "#fdca26"
             ],
             [
              1,
              "#f0f921"
             ]
            ],
            "type": "heatmapgl"
           }
          ],
          "histogram": [
           {
            "marker": {
             "pattern": {
              "fillmode": "overlay",
              "size": 10,
              "solidity": 0.2
             }
            },
            "type": "histogram"
           }
          ],
          "histogram2d": [
           {
            "colorbar": {
             "outlinewidth": 0,
             "ticks": ""
            },
            "colorscale": [
             [
              0,
              "#0d0887"
             ],
             [
              0.1111111111111111,
              "#46039f"
             ],
             [
              0.2222222222222222,
              "#7201a8"
             ],
             [
              0.3333333333333333,
              "#9c179e"
             ],
             [
              0.4444444444444444,
              "#bd3786"
             ],
             [
              0.5555555555555556,
              "#d8576b"
             ],
             [
              0.6666666666666666,
              "#ed7953"
             ],
             [
              0.7777777777777778,
              "#fb9f3a"
             ],
             [
              0.8888888888888888,
              "#fdca26"
             ],
             [
              1,
              "#f0f921"
             ]
            ],
            "type": "histogram2d"
           }
          ],
          "histogram2dcontour": [
           {
            "colorbar": {
             "outlinewidth": 0,
             "ticks": ""
            },
            "colorscale": [
             [
              0,
              "#0d0887"
             ],
             [
              0.1111111111111111,
              "#46039f"
             ],
             [
              0.2222222222222222,
              "#7201a8"
             ],
             [
              0.3333333333333333,
              "#9c179e"
             ],
             [
              0.4444444444444444,
              "#bd3786"
             ],
             [
              0.5555555555555556,
              "#d8576b"
             ],
             [
              0.6666666666666666,
              "#ed7953"
             ],
             [
              0.7777777777777778,
              "#fb9f3a"
             ],
             [
              0.8888888888888888,
              "#fdca26"
             ],
             [
              1,
              "#f0f921"
             ]
            ],
            "type": "histogram2dcontour"
           }
          ],
          "mesh3d": [
           {
            "colorbar": {
             "outlinewidth": 0,
             "ticks": ""
            },
            "type": "mesh3d"
           }
          ],
          "parcoords": [
           {
            "line": {
             "colorbar": {
              "outlinewidth": 0,
              "ticks": ""
             }
            },
            "type": "parcoords"
           }
          ],
          "pie": [
           {
            "automargin": true,
            "type": "pie"
           }
          ],
          "scatter": [
           {
            "fillpattern": {
             "fillmode": "overlay",
             "size": 10,
             "solidity": 0.2
            },
            "type": "scatter"
           }
          ],
          "scatter3d": [
           {
            "line": {
             "colorbar": {
              "outlinewidth": 0,
              "ticks": ""
             }
            },
            "marker": {
             "colorbar": {
              "outlinewidth": 0,
              "ticks": ""
             }
            },
            "type": "scatter3d"
           }
          ],
          "scattercarpet": [
           {
            "marker": {
             "colorbar": {
              "outlinewidth": 0,
              "ticks": ""
             }
            },
            "type": "scattercarpet"
           }
          ],
          "scattergeo": [
           {
            "marker": {
             "colorbar": {
              "outlinewidth": 0,
              "ticks": ""
             }
            },
            "type": "scattergeo"
           }
          ],
          "scattergl": [
           {
            "marker": {
             "colorbar": {
              "outlinewidth": 0,
              "ticks": ""
             }
            },
            "type": "scattergl"
           }
          ],
          "scattermapbox": [
           {
            "marker": {
             "colorbar": {
              "outlinewidth": 0,
              "ticks": ""
             }
            },
            "type": "scattermapbox"
           }
          ],
          "scatterpolar": [
           {
            "marker": {
             "colorbar": {
              "outlinewidth": 0,
              "ticks": ""
             }
            },
            "type": "scatterpolar"
           }
          ],
          "scatterpolargl": [
           {
            "marker": {
             "colorbar": {
              "outlinewidth": 0,
              "ticks": ""
             }
            },
            "type": "scatterpolargl"
           }
          ],
          "scatterternary": [
           {
            "marker": {
             "colorbar": {
              "outlinewidth": 0,
              "ticks": ""
             }
            },
            "type": "scatterternary"
           }
          ],
          "surface": [
           {
            "colorbar": {
             "outlinewidth": 0,
             "ticks": ""
            },
            "colorscale": [
             [
              0,
              "#0d0887"
             ],
             [
              0.1111111111111111,
              "#46039f"
             ],
             [
              0.2222222222222222,
              "#7201a8"
             ],
             [
              0.3333333333333333,
              "#9c179e"
             ],
             [
              0.4444444444444444,
              "#bd3786"
             ],
             [
              0.5555555555555556,
              "#d8576b"
             ],
             [
              0.6666666666666666,
              "#ed7953"
             ],
             [
              0.7777777777777778,
              "#fb9f3a"
             ],
             [
              0.8888888888888888,
              "#fdca26"
             ],
             [
              1,
              "#f0f921"
             ]
            ],
            "type": "surface"
           }
          ],
          "table": [
           {
            "cells": {
             "fill": {
              "color": "#EBF0F8"
             },
             "line": {
              "color": "white"
             }
            },
            "header": {
             "fill": {
              "color": "#C8D4E3"
             },
             "line": {
              "color": "white"
             }
            },
            "type": "table"
           }
          ]
         },
         "layout": {
          "annotationdefaults": {
           "arrowcolor": "#2a3f5f",
           "arrowhead": 0,
           "arrowwidth": 1
          },
          "autotypenumbers": "strict",
          "coloraxis": {
           "colorbar": {
            "outlinewidth": 0,
            "ticks": ""
           }
          },
          "colorscale": {
           "diverging": [
            [
             0,
             "#8e0152"
            ],
            [
             0.1,
             "#c51b7d"
            ],
            [
             0.2,
             "#de77ae"
            ],
            [
             0.3,
             "#f1b6da"
            ],
            [
             0.4,
             "#fde0ef"
            ],
            [
             0.5,
             "#f7f7f7"
            ],
            [
             0.6,
             "#e6f5d0"
            ],
            [
             0.7,
             "#b8e186"
            ],
            [
             0.8,
             "#7fbc41"
            ],
            [
             0.9,
             "#4d9221"
            ],
            [
             1,
             "#276419"
            ]
           ],
           "sequential": [
            [
             0,
             "#0d0887"
            ],
            [
             0.1111111111111111,
             "#46039f"
            ],
            [
             0.2222222222222222,
             "#7201a8"
            ],
            [
             0.3333333333333333,
             "#9c179e"
            ],
            [
             0.4444444444444444,
             "#bd3786"
            ],
            [
             0.5555555555555556,
             "#d8576b"
            ],
            [
             0.6666666666666666,
             "#ed7953"
            ],
            [
             0.7777777777777778,
             "#fb9f3a"
            ],
            [
             0.8888888888888888,
             "#fdca26"
            ],
            [
             1,
             "#f0f921"
            ]
           ],
           "sequentialminus": [
            [
             0,
             "#0d0887"
            ],
            [
             0.1111111111111111,
             "#46039f"
            ],
            [
             0.2222222222222222,
             "#7201a8"
            ],
            [
             0.3333333333333333,
             "#9c179e"
            ],
            [
             0.4444444444444444,
             "#bd3786"
            ],
            [
             0.5555555555555556,
             "#d8576b"
            ],
            [
             0.6666666666666666,
             "#ed7953"
            ],
            [
             0.7777777777777778,
             "#fb9f3a"
            ],
            [
             0.8888888888888888,
             "#fdca26"
            ],
            [
             1,
             "#f0f921"
            ]
           ]
          },
          "colorway": [
           "#636efa",
           "#EF553B",
           "#00cc96",
           "#ab63fa",
           "#FFA15A",
           "#19d3f3",
           "#FF6692",
           "#B6E880",
           "#FF97FF",
           "#FECB52"
          ],
          "font": {
           "color": "#2a3f5f"
          },
          "geo": {
           "bgcolor": "white",
           "lakecolor": "white",
           "landcolor": "#E5ECF6",
           "showlakes": true,
           "showland": true,
           "subunitcolor": "white"
          },
          "hoverlabel": {
           "align": "left"
          },
          "hovermode": "closest",
          "mapbox": {
           "style": "light"
          },
          "paper_bgcolor": "white",
          "plot_bgcolor": "#E5ECF6",
          "polar": {
           "angularaxis": {
            "gridcolor": "white",
            "linecolor": "white",
            "ticks": ""
           },
           "bgcolor": "#E5ECF6",
           "radialaxis": {
            "gridcolor": "white",
            "linecolor": "white",
            "ticks": ""
           }
          },
          "scene": {
           "xaxis": {
            "backgroundcolor": "#E5ECF6",
            "gridcolor": "white",
            "gridwidth": 2,
            "linecolor": "white",
            "showbackground": true,
            "ticks": "",
            "zerolinecolor": "white"
           },
           "yaxis": {
            "backgroundcolor": "#E5ECF6",
            "gridcolor": "white",
            "gridwidth": 2,
            "linecolor": "white",
            "showbackground": true,
            "ticks": "",
            "zerolinecolor": "white"
           },
           "zaxis": {
            "backgroundcolor": "#E5ECF6",
            "gridcolor": "white",
            "gridwidth": 2,
            "linecolor": "white",
            "showbackground": true,
            "ticks": "",
            "zerolinecolor": "white"
           }
          },
          "shapedefaults": {
           "line": {
            "color": "#2a3f5f"
           }
          },
          "ternary": {
           "aaxis": {
            "gridcolor": "white",
            "linecolor": "white",
            "ticks": ""
           },
           "baxis": {
            "gridcolor": "white",
            "linecolor": "white",
            "ticks": ""
           },
           "bgcolor": "#E5ECF6",
           "caxis": {
            "gridcolor": "white",
            "linecolor": "white",
            "ticks": ""
           }
          },
          "title": {
           "x": 0.05
          },
          "xaxis": {
           "automargin": true,
           "gridcolor": "white",
           "linecolor": "white",
           "ticks": "",
           "title": {
            "standoff": 15
           },
           "zerolinecolor": "white",
           "zerolinewidth": 2
          },
          "yaxis": {
           "automargin": true,
           "gridcolor": "white",
           "linecolor": "white",
           "ticks": "",
           "title": {
            "standoff": 15
           },
           "zerolinecolor": "white",
           "zerolinewidth": 2
          }
         }
        },
        "title": {
         "text": "Migration LTLA: Inflow: lived elsewhere one year ago, but within the same area"
        },
        "xaxis": {
         "anchor": "y",
         "categoryorder": "total ascending",
         "domain": [
          0,
          1
         ],
         "title": {
          "text": "Local Authority"
         }
        },
        "yaxis": {
         "anchor": "x",
         "domain": [
          0,
          1
         ],
         "title": {
          "text": "Count"
         }
        }
       }
      }
     },
     "metadata": {},
     "output_type": "display_data"
    },
    {
     "data": {
      "application/vnd.plotly.v1+json": {
       "config": {
        "plotlyServerURL": "https://plot.ly"
       },
       "data": [
        {
         "alignmentgroup": "True",
         "hovertemplate": "Lower tier local authorities label=%{x}<br>Count=%{y}<extra></extra>",
         "legendgroup": "",
         "marker": {
          "color": "#636efa",
          "pattern": {
           "shape": ""
          }
         },
         "name": "",
         "offsetgroup": "",
         "orientation": "v",
         "showlegend": false,
         "textposition": "auto",
         "type": "bar",
         "x": [
          "Wandsworth",
          "Lambeth",
          "Tower Hamlets",
          "Southwark",
          "Islington",
          "Hackney",
          "Manchester",
          "Westminster",
          "Camden",
          "Lewisham",
          "Haringey",
          "Newham",
          "Hammersmith and Fulham",
          "Barnet",
          "Brent",
          "Ealing",
          "Birmingham",
          "Greenwich",
          "Croydon",
          "Leeds",
          "Salford",
          "Bristol",
          "Waltham Forest",
          "Liverpool",
          "Bromley",
          "Merton",
          "Redbridge",
          "Kensington and Chelsea",
          "Hillingdon",
          "South Gloucestershire",
          "Hounslow",
          "Nottingham",
          "Harrow",
          "Enfield",
          "Newcastle upon Tyne",
          "Central Bedfordshire",
          "Havering",
          "Cardiff",
          "East Riding of Yorkshire",
          "Barking and Dagenham",
          "Richmond upon Thames",
          "Brighton and Hove",
          "Dorset",
          "Wiltshire",
          "Cheshire East",
          "Stockport",
          "Sandwell",
          "Southampton",
          "Wigan",
          "Norwich",
          "Bexley",
          "Wokingham",
          "Portsmouth",
          "County Durham",
          "Sutton",
          "Dudley",
          "Wakefield",
          "Cheshire West and Chester",
          "Cornwall",
          "Trafford",
          "Kirklees",
          "Buckinghamshire",
          "Winchester",
          "Guildford",
          "Bradford",
          "Walsall",
          "Kingston upon Thames",
          "Bath and North East Somerset",
          "Solihull",
          "South Cambridgeshire",
          "Plymouth",
          "Sheffield",
          "Leicester",
          "Wealden",
          "Shropshire",
          "Maidstone",
          "Reading",
          "South Norfolk",
          "Oxford",
          "West Lancashire",
          "East Suffolk",
          "Canterbury",
          "Wolverhampton",
          "Swansea",
          "Sefton",
          "South Oxfordshire",
          "Eastleigh",
          "Northumberland",
          "West Suffolk",
          "Exeter",
          "Chichester",
          "Charnwood",
          "North Somerset",
          "Vale of White Horse",
          "Colchester",
          "Bournemouth, Christchurch and Poole",
          "Horsham",
          "Arun",
          "Coventry",
          "Warwick",
          "Medway",
          "Braintree",
          "South Staffordshire",
          "York",
          "Mid Sussex",
          "Chelmsford",
          "Bracknell Forest",
          "East Hampshire",
          "East Devon",
          "Gateshead",
          "Rushcliffe",
          "Kingston upon Hull",
          "Basingstoke and Deane",
          "Knowsley",
          "Preston",
          "Bolton",
          "Waverley",
          "Broadland",
          "Huntingdonshire",
          "Warrington",
          "Derby",
          "Cambridge",
          "North Tyneside",
          "Breckland",
          "Stratford-on-Avon",
          "Tameside",
          "East Hertfordshire",
          "Stoke-on-Trent",
          "Windsor and Maidenhead",
          "Doncaster",
          "South Somerset",
          "Rotherham",
          "Broxtowe",
          "Bury",
          "Barnsley",
          "Wyre",
          "St. Helens",
          "Rochdale",
          "Havant",
          "West Berkshire",
          "Test Valley",
          "Lincoln",
          "Tonbridge and Malling",
          "Mid Suffolk",
          "Gedling",
          "Cherwell",
          "North Hertfordshire",
          "Hart",
          "Bromsgrove",
          "Tendring",
          "Fareham",
          "Teignbridge",
          "Harrogate",
          "Harborough",
          "Lichfield",
          "Chorley",
          "Blaby",
          "Wychavon",
          "Telford and Wrekin",
          "Newark and Sherwood",
          "Oldham",
          "Swale",
          "Ashfield",
          "Worthing",
          "Tunbridge Wells",
          "Wirral",
          "North Kesteven",
          "Stroud",
          "Rhondda Cynon Taf",
          "Lancaster",
          "Newcastle-under-Lyme",
          "Sunderland",
          "Stafford",
          "Gloucester",
          "North Northamptonshire",
          "South Ribble",
          "Babergh",
          "Rother",
          "Rushmoor",
          "Surrey Heath",
          "Tewkesbury",
          "Runnymede",
          "Cheltenham",
          "Southend-on-Sea",
          "Bedford",
          "Selby",
          "Lewes",
          "Ashford",
          "Somerset West and Taunton",
          "Amber Valley",
          "North West Leicestershire",
          "Sedgemoor",
          "South Hams",
          "Worcester",
          "Stockton-on-Tees",
          "Basildon",
          "Uttlesford",
          "Ipswich",
          "Cannock Chase",
          "South Derbyshire",
          "Mendip",
          "Erewash",
          "Reigate and Banstead",
          "King's Lynn and West Norfolk",
          "North Norfolk",
          "Calderdale",
          "Fylde",
          "Eastbourne",
          "Welwyn Hatfield",
          "Carmarthenshire",
          "Blackpool",
          "Vale of Glamorgan",
          "Mansfield",
          "Nuneaton and Bedworth",
          "Woking",
          "Dacorum",
          "West Oxfordshire",
          "Middlesbrough",
          "Rochford",
          "Dover",
          "New Forest",
          "Bridgend",
          "East Cambridgeshire",
          "St Albans",
          "Blackburn with Darwen",
          "West Northamptonshire",
          "Neath Port Talbot",
          "Mid Devon",
          "Fenland",
          "Caerphilly",
          "Peterborough",
          "Newport",
          "Bolsover",
          "Crawley",
          "Mole Valley",
          "Malvern Hills",
          "Maldon",
          "Torbay",
          "North Warwickshire",
          "Folkestone and Hythe",
          "Adur",
          "Castle Point",
          "Wyre Forest",
          "Ribble Valley",
          "Luton",
          "North East Derbyshire",
          "West Lindsey",
          "Oadby and Wigston",
          "Sevenoaks",
          "Hambleton",
          "Tamworth",
          "South Kesteven",
          "Hinckley and Bosworth",
          "Halton",
          "East Lindsey",
          "Rugby",
          "Gosport",
          "Elmbridge",
          "Cotswold",
          "South Tyneside",
          "Swindon",
          "Hyndburn",
          "Stevenage",
          "Thanet",
          "Burnley",
          "North Devon",
          "South Lakeland",
          "Rossendale",
          "Redditch",
          "Forest of Dean",
          "Staffordshire Moorlands",
          "North Lincolnshire",
          "West Devon",
          "Gravesham",
          "Chesterfield",
          "Hastings",
          "Great Yarmouth",
          "Watford",
          "Three Rivers",
          "East Staffordshire",
          "Scarborough",
          "Tandridge",
          "Milton Keynes",
          "Slough",
          "Torridge",
          "Ceredigion",
          "Denbighshire",
          "Darlington",
          "Epping Forest",
          "Isle of Wight",
          "Dartford",
          "Bassetlaw",
          "Harlow",
          "Gwynedd",
          "Herefordshire",
          "Derbyshire Dales",
          "Melton",
          "Monmouthshire",
          "Spelthorne",
          "Pendle",
          "Redcar and Cleveland",
          "Ryedale",
          "Torfaen",
          "Carlisle",
          "Craven",
          "Pembrokeshire",
          "Hertsmere",
          "Flintshire",
          "Thurrock",
          "Conwy",
          "Rutland",
          "Allerdale",
          "Brentwood",
          "Powys",
          "Hartlepool",
          "City of London",
          "Broxbourne",
          "Blaenau Gwent",
          "Epsom and Ewell",
          "South Holland",
          "Boston",
          "Wrexham",
          "Merthyr Tydfil",
          "North East Lincolnshire",
          "Copeland",
          "Richmondshire",
          "Eden",
          "Isle of Anglesey",
          "Barrow-in-Furness",
          "High Peak",
          "Isles of Scilly"
         ],
         "xaxis": "x",
         "y": [
          24641,
          24411,
          23233,
          21032,
          18847,
          17965,
          17355,
          15996,
          15853,
          15492,
          15222,
          15043,
          14964,
          14915,
          14908,
          14579,
          13966,
          13895,
          12966,
          12728,
          12511,
          12474,
          12450,
          12040,
          11139,
          11057,
          11057,
          10491,
          10092,
          9947,
          9745,
          9553,
          9528,
          9048,
          8978,
          8410,
          8311,
          8281,
          8242,
          8179,
          8134,
          7941,
          7866,
          7812,
          7738,
          7480,
          7395,
          7141,
          7104,
          7101,
          6982,
          6878,
          6759,
          6734,
          6710,
          6679,
          6638,
          6635,
          6629,
          6536,
          6518,
          6476,
          6399,
          6398,
          6384,
          6305,
          6290,
          6062,
          6036,
          5922,
          5916,
          5804,
          5788,
          5742,
          5696,
          5680,
          5612,
          5571,
          5534,
          5489,
          5481,
          5441,
          5437,
          5426,
          5393,
          5391,
          5308,
          5287,
          5227,
          5209,
          5124,
          5119,
          5109,
          5083,
          5082,
          5069,
          5037,
          5003,
          4975,
          4971,
          4947,
          4893,
          4831,
          4820,
          4814,
          4775,
          4767,
          4757,
          4739,
          4698,
          4691,
          4643,
          4631,
          4628,
          4606,
          4595,
          4565,
          4558,
          4543,
          4402,
          4401,
          4389,
          4350,
          4329,
          4316,
          4303,
          4292,
          4282,
          4280,
          4264,
          4260,
          4249,
          4232,
          4229,
          4188,
          4181,
          4178,
          4176,
          4169,
          4101,
          4068,
          4022,
          3971,
          3970,
          3969,
          3933,
          3927,
          3908,
          3903,
          3892,
          3854,
          3830,
          3785,
          3781,
          3774,
          3761,
          3727,
          3717,
          3700,
          3699,
          3699,
          3675,
          3660,
          3648,
          3617,
          3606,
          3601,
          3574,
          3565,
          3563,
          3550,
          3531,
          3527,
          3523,
          3496,
          3488,
          3483,
          3463,
          3453,
          3451,
          3443,
          3434,
          3425,
          3424,
          3392,
          3371,
          3364,
          3355,
          3309,
          3302,
          3248,
          3248,
          3246,
          3229,
          3207,
          3184,
          3175,
          3175,
          3174,
          3165,
          3142,
          3119,
          3102,
          3091,
          3086,
          3071,
          3062,
          3024,
          3019,
          3013,
          3013,
          2972,
          2927,
          2907,
          2896,
          2885,
          2861,
          2809,
          2780,
          2773,
          2769,
          2757,
          2746,
          2731,
          2727,
          2713,
          2690,
          2649,
          2623,
          2598,
          2589,
          2585,
          2581,
          2578,
          2553,
          2552,
          2539,
          2526,
          2519,
          2514,
          2484,
          2430,
          2404,
          2395,
          2380,
          2372,
          2359,
          2321,
          2310,
          2286,
          2281,
          2279,
          2274,
          2268,
          2223,
          2183,
          2145,
          2139,
          2082,
          2079,
          2076,
          2073,
          2040,
          2036,
          2009,
          2003,
          1993,
          1983,
          1940,
          1932,
          1927,
          1919,
          1911,
          1902,
          1893,
          1888,
          1857,
          1759,
          1738,
          1736,
          1732,
          1704,
          1701,
          1693,
          1676,
          1670,
          1663,
          1659,
          1658,
          1631,
          1626,
          1608,
          1602,
          1594,
          1590,
          1551,
          1551,
          1551,
          1528,
          1518,
          1515,
          1490,
          1452,
          1432,
          1430,
          1405,
          1387,
          1361,
          1322,
          1287,
          1270,
          1267,
          1257,
          1255,
          1227,
          1205,
          1126,
          1087,
          1075,
          1070,
          1059,
          1033,
          934,
          912,
          865,
          864,
          855,
          804,
          729,
          342,
          61
         ],
         "yaxis": "y"
        }
       ],
       "layout": {
        "barmode": "relative",
        "legend": {
         "tracegroupgap": 0
        },
        "template": {
         "data": {
          "bar": [
           {
            "error_x": {
             "color": "#2a3f5f"
            },
            "error_y": {
             "color": "#2a3f5f"
            },
            "marker": {
             "line": {
              "color": "#E5ECF6",
              "width": 0.5
             },
             "pattern": {
              "fillmode": "overlay",
              "size": 10,
              "solidity": 0.2
             }
            },
            "type": "bar"
           }
          ],
          "barpolar": [
           {
            "marker": {
             "line": {
              "color": "#E5ECF6",
              "width": 0.5
             },
             "pattern": {
              "fillmode": "overlay",
              "size": 10,
              "solidity": 0.2
             }
            },
            "type": "barpolar"
           }
          ],
          "carpet": [
           {
            "aaxis": {
             "endlinecolor": "#2a3f5f",
             "gridcolor": "white",
             "linecolor": "white",
             "minorgridcolor": "white",
             "startlinecolor": "#2a3f5f"
            },
            "baxis": {
             "endlinecolor": "#2a3f5f",
             "gridcolor": "white",
             "linecolor": "white",
             "minorgridcolor": "white",
             "startlinecolor": "#2a3f5f"
            },
            "type": "carpet"
           }
          ],
          "choropleth": [
           {
            "colorbar": {
             "outlinewidth": 0,
             "ticks": ""
            },
            "type": "choropleth"
           }
          ],
          "contour": [
           {
            "colorbar": {
             "outlinewidth": 0,
             "ticks": ""
            },
            "colorscale": [
             [
              0,
              "#0d0887"
             ],
             [
              0.1111111111111111,
              "#46039f"
             ],
             [
              0.2222222222222222,
              "#7201a8"
             ],
             [
              0.3333333333333333,
              "#9c179e"
             ],
             [
              0.4444444444444444,
              "#bd3786"
             ],
             [
              0.5555555555555556,
              "#d8576b"
             ],
             [
              0.6666666666666666,
              "#ed7953"
             ],
             [
              0.7777777777777778,
              "#fb9f3a"
             ],
             [
              0.8888888888888888,
              "#fdca26"
             ],
             [
              1,
              "#f0f921"
             ]
            ],
            "type": "contour"
           }
          ],
          "contourcarpet": [
           {
            "colorbar": {
             "outlinewidth": 0,
             "ticks": ""
            },
            "type": "contourcarpet"
           }
          ],
          "heatmap": [
           {
            "colorbar": {
             "outlinewidth": 0,
             "ticks": ""
            },
            "colorscale": [
             [
              0,
              "#0d0887"
             ],
             [
              0.1111111111111111,
              "#46039f"
             ],
             [
              0.2222222222222222,
              "#7201a8"
             ],
             [
              0.3333333333333333,
              "#9c179e"
             ],
             [
              0.4444444444444444,
              "#bd3786"
             ],
             [
              0.5555555555555556,
              "#d8576b"
             ],
             [
              0.6666666666666666,
              "#ed7953"
             ],
             [
              0.7777777777777778,
              "#fb9f3a"
             ],
             [
              0.8888888888888888,
              "#fdca26"
             ],
             [
              1,
              "#f0f921"
             ]
            ],
            "type": "heatmap"
           }
          ],
          "heatmapgl": [
           {
            "colorbar": {
             "outlinewidth": 0,
             "ticks": ""
            },
            "colorscale": [
             [
              0,
              "#0d0887"
             ],
             [
              0.1111111111111111,
              "#46039f"
             ],
             [
              0.2222222222222222,
              "#7201a8"
             ],
             [
              0.3333333333333333,
              "#9c179e"
             ],
             [
              0.4444444444444444,
              "#bd3786"
             ],
             [
              0.5555555555555556,
              "#d8576b"
             ],
             [
              0.6666666666666666,
              "#ed7953"
             ],
             [
              0.7777777777777778,
              "#fb9f3a"
             ],
             [
              0.8888888888888888,
              "#fdca26"
             ],
             [
              1,
              "#f0f921"
             ]
            ],
            "type": "heatmapgl"
           }
          ],
          "histogram": [
           {
            "marker": {
             "pattern": {
              "fillmode": "overlay",
              "size": 10,
              "solidity": 0.2
             }
            },
            "type": "histogram"
           }
          ],
          "histogram2d": [
           {
            "colorbar": {
             "outlinewidth": 0,
             "ticks": ""
            },
            "colorscale": [
             [
              0,
              "#0d0887"
             ],
             [
              0.1111111111111111,
              "#46039f"
             ],
             [
              0.2222222222222222,
              "#7201a8"
             ],
             [
              0.3333333333333333,
              "#9c179e"
             ],
             [
              0.4444444444444444,
              "#bd3786"
             ],
             [
              0.5555555555555556,
              "#d8576b"
             ],
             [
              0.6666666666666666,
              "#ed7953"
             ],
             [
              0.7777777777777778,
              "#fb9f3a"
             ],
             [
              0.8888888888888888,
              "#fdca26"
             ],
             [
              1,
              "#f0f921"
             ]
            ],
            "type": "histogram2d"
           }
          ],
          "histogram2dcontour": [
           {
            "colorbar": {
             "outlinewidth": 0,
             "ticks": ""
            },
            "colorscale": [
             [
              0,
              "#0d0887"
             ],
             [
              0.1111111111111111,
              "#46039f"
             ],
             [
              0.2222222222222222,
              "#7201a8"
             ],
             [
              0.3333333333333333,
              "#9c179e"
             ],
             [
              0.4444444444444444,
              "#bd3786"
             ],
             [
              0.5555555555555556,
              "#d8576b"
             ],
             [
              0.6666666666666666,
              "#ed7953"
             ],
             [
              0.7777777777777778,
              "#fb9f3a"
             ],
             [
              0.8888888888888888,
              "#fdca26"
             ],
             [
              1,
              "#f0f921"
             ]
            ],
            "type": "histogram2dcontour"
           }
          ],
          "mesh3d": [
           {
            "colorbar": {
             "outlinewidth": 0,
             "ticks": ""
            },
            "type": "mesh3d"
           }
          ],
          "parcoords": [
           {
            "line": {
             "colorbar": {
              "outlinewidth": 0,
              "ticks": ""
             }
            },
            "type": "parcoords"
           }
          ],
          "pie": [
           {
            "automargin": true,
            "type": "pie"
           }
          ],
          "scatter": [
           {
            "fillpattern": {
             "fillmode": "overlay",
             "size": 10,
             "solidity": 0.2
            },
            "type": "scatter"
           }
          ],
          "scatter3d": [
           {
            "line": {
             "colorbar": {
              "outlinewidth": 0,
              "ticks": ""
             }
            },
            "marker": {
             "colorbar": {
              "outlinewidth": 0,
              "ticks": ""
             }
            },
            "type": "scatter3d"
           }
          ],
          "scattercarpet": [
           {
            "marker": {
             "colorbar": {
              "outlinewidth": 0,
              "ticks": ""
             }
            },
            "type": "scattercarpet"
           }
          ],
          "scattergeo": [
           {
            "marker": {
             "colorbar": {
              "outlinewidth": 0,
              "ticks": ""
             }
            },
            "type": "scattergeo"
           }
          ],
          "scattergl": [
           {
            "marker": {
             "colorbar": {
              "outlinewidth": 0,
              "ticks": ""
             }
            },
            "type": "scattergl"
           }
          ],
          "scattermapbox": [
           {
            "marker": {
             "colorbar": {
              "outlinewidth": 0,
              "ticks": ""
             }
            },
            "type": "scattermapbox"
           }
          ],
          "scatterpolar": [
           {
            "marker": {
             "colorbar": {
              "outlinewidth": 0,
              "ticks": ""
             }
            },
            "type": "scatterpolar"
           }
          ],
          "scatterpolargl": [
           {
            "marker": {
             "colorbar": {
              "outlinewidth": 0,
              "ticks": ""
             }
            },
            "type": "scatterpolargl"
           }
          ],
          "scatterternary": [
           {
            "marker": {
             "colorbar": {
              "outlinewidth": 0,
              "ticks": ""
             }
            },
            "type": "scatterternary"
           }
          ],
          "surface": [
           {
            "colorbar": {
             "outlinewidth": 0,
             "ticks": ""
            },
            "colorscale": [
             [
              0,
              "#0d0887"
             ],
             [
              0.1111111111111111,
              "#46039f"
             ],
             [
              0.2222222222222222,
              "#7201a8"
             ],
             [
              0.3333333333333333,
              "#9c179e"
             ],
             [
              0.4444444444444444,
              "#bd3786"
             ],
             [
              0.5555555555555556,
              "#d8576b"
             ],
             [
              0.6666666666666666,
              "#ed7953"
             ],
             [
              0.7777777777777778,
              "#fb9f3a"
             ],
             [
              0.8888888888888888,
              "#fdca26"
             ],
             [
              1,
              "#f0f921"
             ]
            ],
            "type": "surface"
           }
          ],
          "table": [
           {
            "cells": {
             "fill": {
              "color": "#EBF0F8"
             },
             "line": {
              "color": "white"
             }
            },
            "header": {
             "fill": {
              "color": "#C8D4E3"
             },
             "line": {
              "color": "white"
             }
            },
            "type": "table"
           }
          ]
         },
         "layout": {
          "annotationdefaults": {
           "arrowcolor": "#2a3f5f",
           "arrowhead": 0,
           "arrowwidth": 1
          },
          "autotypenumbers": "strict",
          "coloraxis": {
           "colorbar": {
            "outlinewidth": 0,
            "ticks": ""
           }
          },
          "colorscale": {
           "diverging": [
            [
             0,
             "#8e0152"
            ],
            [
             0.1,
             "#c51b7d"
            ],
            [
             0.2,
             "#de77ae"
            ],
            [
             0.3,
             "#f1b6da"
            ],
            [
             0.4,
             "#fde0ef"
            ],
            [
             0.5,
             "#f7f7f7"
            ],
            [
             0.6,
             "#e6f5d0"
            ],
            [
             0.7,
             "#b8e186"
            ],
            [
             0.8,
             "#7fbc41"
            ],
            [
             0.9,
             "#4d9221"
            ],
            [
             1,
             "#276419"
            ]
           ],
           "sequential": [
            [
             0,
             "#0d0887"
            ],
            [
             0.1111111111111111,
             "#46039f"
            ],
            [
             0.2222222222222222,
             "#7201a8"
            ],
            [
             0.3333333333333333,
             "#9c179e"
            ],
            [
             0.4444444444444444,
             "#bd3786"
            ],
            [
             0.5555555555555556,
             "#d8576b"
            ],
            [
             0.6666666666666666,
             "#ed7953"
            ],
            [
             0.7777777777777778,
             "#fb9f3a"
            ],
            [
             0.8888888888888888,
             "#fdca26"
            ],
            [
             1,
             "#f0f921"
            ]
           ],
           "sequentialminus": [
            [
             0,
             "#0d0887"
            ],
            [
             0.1111111111111111,
             "#46039f"
            ],
            [
             0.2222222222222222,
             "#7201a8"
            ],
            [
             0.3333333333333333,
             "#9c179e"
            ],
            [
             0.4444444444444444,
             "#bd3786"
            ],
            [
             0.5555555555555556,
             "#d8576b"
            ],
            [
             0.6666666666666666,
             "#ed7953"
            ],
            [
             0.7777777777777778,
             "#fb9f3a"
            ],
            [
             0.8888888888888888,
             "#fdca26"
            ],
            [
             1,
             "#f0f921"
            ]
           ]
          },
          "colorway": [
           "#636efa",
           "#EF553B",
           "#00cc96",
           "#ab63fa",
           "#FFA15A",
           "#19d3f3",
           "#FF6692",
           "#B6E880",
           "#FF97FF",
           "#FECB52"
          ],
          "font": {
           "color": "#2a3f5f"
          },
          "geo": {
           "bgcolor": "white",
           "lakecolor": "white",
           "landcolor": "#E5ECF6",
           "showlakes": true,
           "showland": true,
           "subunitcolor": "white"
          },
          "hoverlabel": {
           "align": "left"
          },
          "hovermode": "closest",
          "mapbox": {
           "style": "light"
          },
          "paper_bgcolor": "white",
          "plot_bgcolor": "#E5ECF6",
          "polar": {
           "angularaxis": {
            "gridcolor": "white",
            "linecolor": "white",
            "ticks": ""
           },
           "bgcolor": "#E5ECF6",
           "radialaxis": {
            "gridcolor": "white",
            "linecolor": "white",
            "ticks": ""
           }
          },
          "scene": {
           "xaxis": {
            "backgroundcolor": "#E5ECF6",
            "gridcolor": "white",
            "gridwidth": 2,
            "linecolor": "white",
            "showbackground": true,
            "ticks": "",
            "zerolinecolor": "white"
           },
           "yaxis": {
            "backgroundcolor": "#E5ECF6",
            "gridcolor": "white",
            "gridwidth": 2,
            "linecolor": "white",
            "showbackground": true,
            "ticks": "",
            "zerolinecolor": "white"
           },
           "zaxis": {
            "backgroundcolor": "#E5ECF6",
            "gridcolor": "white",
            "gridwidth": 2,
            "linecolor": "white",
            "showbackground": true,
            "ticks": "",
            "zerolinecolor": "white"
           }
          },
          "shapedefaults": {
           "line": {
            "color": "#2a3f5f"
           }
          },
          "ternary": {
           "aaxis": {
            "gridcolor": "white",
            "linecolor": "white",
            "ticks": ""
           },
           "baxis": {
            "gridcolor": "white",
            "linecolor": "white",
            "ticks": ""
           },
           "bgcolor": "#E5ECF6",
           "caxis": {
            "gridcolor": "white",
            "linecolor": "white",
            "ticks": ""
           }
          },
          "title": {
           "x": 0.05
          },
          "xaxis": {
           "automargin": true,
           "gridcolor": "white",
           "linecolor": "white",
           "ticks": "",
           "title": {
            "standoff": 15
           },
           "zerolinecolor": "white",
           "zerolinewidth": 2
          },
          "yaxis": {
           "automargin": true,
           "gridcolor": "white",
           "linecolor": "white",
           "ticks": "",
           "title": {
            "standoff": 15
           },
           "zerolinecolor": "white",
           "zerolinewidth": 2
          }
         }
        },
        "title": {
         "text": "Migration LTLA: Inflow: lived elsewhere one year ago outside the area, but within the associated area"
        },
        "xaxis": {
         "anchor": "y",
         "categoryorder": "total ascending",
         "domain": [
          0,
          1
         ],
         "title": {
          "text": "Local Authority"
         }
        },
        "yaxis": {
         "anchor": "x",
         "domain": [
          0,
          1
         ],
         "title": {
          "text": "Count"
         }
        }
       }
      }
     },
     "metadata": {},
     "output_type": "display_data"
    },
    {
     "data": {
      "application/vnd.plotly.v1+json": {
       "config": {
        "plotlyServerURL": "https://plot.ly"
       },
       "data": [
        {
         "alignmentgroup": "True",
         "hovertemplate": "Lower tier local authorities label=%{x}<br>Count=%{y}<extra></extra>",
         "legendgroup": "",
         "marker": {
          "color": "#636efa",
          "pattern": {
           "shape": ""
          }
         },
         "name": "",
         "offsetgroup": "",
         "orientation": "v",
         "showlegend": false,
         "textposition": "auto",
         "type": "bar",
         "x": [
          "Birmingham",
          "Leeds",
          "Manchester",
          "Nottingham",
          "Buckinghamshire",
          "Bristol",
          "Sheffield",
          "Liverpool",
          "Wiltshire",
          "Bournemouth, Christchurch and Poole",
          "Cardiff",
          "Cornwall",
          "Newcastle upon Tyne",
          "West Northamptonshire",
          "Oxford",
          "Brighton and Hove",
          "County Durham",
          "Coventry",
          "Wandsworth",
          "Cambridge",
          "Lambeth",
          "Leicester",
          "Bath and North East Somerset",
          "York",
          "Dorset",
          "Milton Keynes",
          "Tower Hamlets",
          "Cheshire East",
          "Charnwood",
          "Southwark",
          "Shropshire",
          "Exeter",
          "Southampton",
          "Guildford",
          "North Northamptonshire",
          "Camden",
          "Cheshire West and Chester",
          "Canterbury",
          "Salford",
          "Central Bedfordshire",
          "Islington",
          "Reading",
          "Medway",
          "Elmbridge",
          "Westminster",
          "Portsmouth",
          "Hammersmith and Fulham",
          "Thurrock",
          "Warwick",
          "Ealing",
          "Barnet",
          "Herefordshire",
          "Reigate and Banstead",
          "Hillingdon",
          "Plymouth",
          "Epping Forest",
          "Colchester",
          "South Gloucestershire",
          "Lincoln",
          "Norwich",
          "Dartford",
          "Bradford",
          "Derby",
          "Swansea",
          "Greenwich",
          "Welwyn Hatfield",
          "Kirklees",
          "Peterborough",
          "Luton",
          "Northumberland",
          "Brent",
          "Hertsmere",
          "Newham",
          "Croydon",
          "St Albans",
          "Hackney",
          "Cherwell",
          "Windsor and Maidenhead",
          "Dacorum",
          "Bedford",
          "Lewisham",
          "Winchester",
          "New Forest",
          "Lancaster",
          "Sevenoaks",
          "Runnymede",
          "Kingston upon Thames",
          "East Riding of Yorkshire",
          "Harrogate",
          "Spelthorne",
          "Slough",
          "Vale of White Horse",
          "Chelmsford",
          "Stoke-on-Trent",
          "Waverley",
          "South Oxfordshire",
          "Swindon",
          "Haringey",
          "Cheltenham",
          "East Lindsey",
          "Basildon",
          "Hounslow",
          "Bromley",
          "Powys",
          "Huntingdonshire",
          "Maidstone",
          "East Suffolk",
          "Watford",
          "Cotswold",
          "Wokingham",
          "East Hertfordshire",
          "West Oxfordshire",
          "Enfield",
          "Doncaster",
          "South Kesteven",
          "Richmond upon Thames",
          "Epsom and Ewell",
          "Stratford-on-Avon",
          "Three Rivers",
          "Tandridge",
          "Gwynedd",
          "Chichester",
          "Rugby",
          "Broxbourne",
          "Bexley",
          "Redbridge",
          "Southend-on-Sea",
          "Tunbridge Wells",
          "South Somerset",
          "West Berkshire",
          "Kingston upon Hull",
          "Harrow",
          "East Devon",
          "South Cambridgeshire",
          "Kensington and Chelsea",
          "Havering",
          "Telford and Wrekin",
          "Wolverhampton",
          "South Holland",
          "Test Valley",
          "Merton",
          "Newcastle-under-Lyme",
          "Mid Sussex",
          "Ceredigion",
          "East Staffordshire",
          "Waltham Forest",
          "Richmondshire",
          "Basingstoke and Deane",
          "Flintshire",
          "Bassetlaw",
          "Brentwood",
          "Somerset West and Taunton",
          "High Peak",
          "North Kesteven",
          "Stockport",
          "North Hertfordshire",
          "South Derbyshire",
          "Wealden",
          "Horsham",
          "Bracknell Forest",
          "Rushcliffe",
          "Hambleton",
          "King's Lynn and West Norfolk",
          "Thanet",
          "Sandwell",
          "Trafford",
          "Wirral",
          "Sutton",
          "Wakefield",
          "Tonbridge and Malling",
          "Woking",
          "Monmouthshire",
          "North Somerset",
          "Stockton-on-Tees",
          "Braintree",
          "Mendip",
          "West Suffolk",
          "Calderdale",
          "Preston",
          "Carmarthenshire",
          "Wychavon",
          "Isle of Wight",
          "Ashford",
          "Forest of Dean",
          "Torbay",
          "Stafford",
          "West Lindsey",
          "South Hams",
          "Broxtowe",
          "Mole Valley",
          "Rotherham",
          "Tendring",
          "Conwy",
          "Pembrokeshire",
          "Gravesham",
          "Solihull",
          "North Devon",
          "Wrexham",
          "North East Lincolnshire",
          "Gloucester",
          "Newport",
          "Teignbridge",
          "Swale",
          "North East Derbyshire",
          "Arun",
          "Gateshead",
          "East Hampshire",
          "Hart",
          "Sefton",
          "Harlow",
          "Hinckley and Bosworth",
          "Derbyshire Dales",
          "Carlisle",
          "Rushmoor",
          "South Lakeland",
          "Darlington",
          "Worcester",
          "Middlesbrough",
          "Sunderland",
          "North Lincolnshire",
          "Neath Port Talbot",
          "Newark and Sherwood",
          "Breckland",
          "Stroud",
          "Crawley",
          "North Norfolk",
          "Walsall",
          "Harborough",
          "Sedgemoor",
          "Bolton",
          "Folkestone and Hythe",
          "South Norfolk",
          "Uttlesford",
          "Surrey Heath",
          "Tewkesbury",
          "North Tyneside",
          "West Lancashire",
          "Rutland",
          "Wigan",
          "Rhondda Cynon Taf",
          "Vale of Glamorgan",
          "Barking and Dagenham",
          "Warrington",
          "Dudley",
          "Scarborough",
          "Hastings",
          "North West Leicestershire",
          "Malvern Hills",
          "Nuneaton and Bedworth",
          "Denbighshire",
          "Barnsley",
          "Oadby and Wigston",
          "Eastbourne",
          "Dover",
          "Rother",
          "Ipswich",
          "Redcar and Cleveland",
          "Tameside",
          "Chesterfield",
          "Torridge",
          "Oldham",
          "Fenland",
          "Lewes",
          "Stevenage",
          "Staffordshire Moorlands",
          "Mid Suffolk",
          "Eastleigh",
          "Isle of Anglesey",
          "Rochdale",
          "Worthing",
          "Lichfield",
          "Babergh",
          "Craven",
          "Fareham",
          "Blackpool",
          "Bury",
          "Mid Devon",
          "Broadland",
          "Amber Valley",
          "East Cambridgeshire",
          "Allerdale",
          "Mansfield",
          "Wyre",
          "St. Helens",
          "Eden",
          "Castle Point",
          "Boston",
          "Bolsover",
          "West Devon",
          "Bridgend",
          "Havant",
          "Ryedale",
          "Fylde",
          "Gedling",
          "South Staffordshire",
          "Rochford",
          "Gosport",
          "Maldon",
          "Great Yarmouth",
          "Blackburn with Darwen",
          "South Tyneside",
          "Blaby",
          "Ashfield",
          "Caerphilly",
          "Pendle",
          "Selby",
          "Bromsgrove",
          "Erewash",
          "Chorley",
          "Hartlepool",
          "Copeland",
          "Knowsley",
          "Wyre Forest",
          "Burnley",
          "Ribble Valley",
          "Halton",
          "Torfaen",
          "South Ribble",
          "North Warwickshire",
          "Tamworth",
          "Melton",
          "Cannock Chase",
          "Barrow-in-Furness",
          "Redditch",
          "Adur",
          "Hyndburn",
          "Rossendale",
          "Blaenau Gwent",
          "City of London",
          "Merthyr Tydfil",
          "Isles of Scilly"
         ],
         "xaxis": "x",
         "y": [
          23607,
          22459,
          21882,
          20937,
          18711,
          18514,
          17263,
          15221,
          15094,
          13813,
          13346,
          13197,
          13026,
          11826,
          11589,
          11424,
          11323,
          11247,
          11087,
          10348,
          10263,
          10090,
          10042,
          9719,
          9189,
          9092,
          8354,
          8099,
          8073,
          7936,
          7935,
          7639,
          7351,
          7153,
          6796,
          6692,
          6568,
          6506,
          6334,
          6309,
          6251,
          6098,
          6033,
          6024,
          5867,
          5856,
          5775,
          5481,
          5462,
          5450,
          5397,
          5252,
          5187,
          5156,
          5114,
          5082,
          5071,
          5033,
          5033,
          4990,
          4925,
          4925,
          4916,
          4885,
          4762,
          4750,
          4739,
          4717,
          4694,
          4680,
          4650,
          4568,
          4527,
          4509,
          4465,
          4411,
          4389,
          4387,
          4365,
          4357,
          4294,
          4292,
          4290,
          4240,
          4167,
          4116,
          4102,
          4088,
          4061,
          4015,
          3993,
          3984,
          3963,
          3953,
          3942,
          3886,
          3883,
          3858,
          3848,
          3847,
          3813,
          3792,
          3777,
          3752,
          3751,
          3738,
          3730,
          3725,
          3720,
          3719,
          3620,
          3577,
          3571,
          3567,
          3564,
          3558,
          3543,
          3468,
          3459,
          3404,
          3367,
          3364,
          3339,
          3317,
          3286,
          3283,
          3265,
          3259,
          3230,
          3165,
          3161,
          3142,
          3134,
          3106,
          3081,
          3057,
          3034,
          3030,
          3026,
          3012,
          2998,
          2943,
          2891,
          2886,
          2858,
          2856,
          2824,
          2820,
          2818,
          2815,
          2792,
          2774,
          2752,
          2747,
          2745,
          2741,
          2735,
          2727,
          2706,
          2664,
          2629,
          2627,
          2627,
          2612,
          2609,
          2599,
          2583,
          2579,
          2569,
          2525,
          2475,
          2467,
          2448,
          2443,
          2436,
          2432,
          2428,
          2419,
          2418,
          2410,
          2384,
          2366,
          2362,
          2352,
          2330,
          2325,
          2313,
          2310,
          2305,
          2300,
          2292,
          2284,
          2261,
          2257,
          2252,
          2247,
          2243,
          2238,
          2237,
          2237,
          2228,
          2215,
          2187,
          2177,
          2176,
          2156,
          2152,
          2150,
          2146,
          2120,
          2110,
          2108,
          2108,
          2100,
          2069,
          2067,
          2066,
          2051,
          2028,
          2021,
          2009,
          2009,
          2002,
          1992,
          1986,
          1984,
          1970,
          1945,
          1929,
          1922,
          1920,
          1910,
          1901,
          1895,
          1883,
          1878,
          1872,
          1831,
          1818,
          1807,
          1799,
          1788,
          1787,
          1780,
          1765,
          1764,
          1750,
          1748,
          1731,
          1724,
          1719,
          1712,
          1698,
          1672,
          1655,
          1644,
          1610,
          1606,
          1583,
          1581,
          1569,
          1553,
          1539,
          1478,
          1473,
          1468,
          1467,
          1465,
          1455,
          1446,
          1440,
          1425,
          1404,
          1397,
          1381,
          1329,
          1284,
          1265,
          1259,
          1241,
          1227,
          1221,
          1197,
          1182,
          1160,
          1159,
          1148,
          1147,
          1093,
          1080,
          1067,
          1060,
          1055,
          1049,
          1046,
          1040,
          1035,
          1034,
          1032,
          1022,
          992,
          989,
          980,
          948,
          939,
          931,
          924,
          895,
          866,
          864,
          856,
          800,
          776,
          754,
          735,
          728,
          687,
          673,
          670,
          658,
          655,
          650,
          543,
          525,
          514,
          487,
          471,
          467,
          370,
          320,
          43
         ],
         "yaxis": "y"
        }
       ],
       "layout": {
        "barmode": "relative",
        "legend": {
         "tracegroupgap": 0
        },
        "template": {
         "data": {
          "bar": [
           {
            "error_x": {
             "color": "#2a3f5f"
            },
            "error_y": {
             "color": "#2a3f5f"
            },
            "marker": {
             "line": {
              "color": "#E5ECF6",
              "width": 0.5
             },
             "pattern": {
              "fillmode": "overlay",
              "size": 10,
              "solidity": 0.2
             }
            },
            "type": "bar"
           }
          ],
          "barpolar": [
           {
            "marker": {
             "line": {
              "color": "#E5ECF6",
              "width": 0.5
             },
             "pattern": {
              "fillmode": "overlay",
              "size": 10,
              "solidity": 0.2
             }
            },
            "type": "barpolar"
           }
          ],
          "carpet": [
           {
            "aaxis": {
             "endlinecolor": "#2a3f5f",
             "gridcolor": "white",
             "linecolor": "white",
             "minorgridcolor": "white",
             "startlinecolor": "#2a3f5f"
            },
            "baxis": {
             "endlinecolor": "#2a3f5f",
             "gridcolor": "white",
             "linecolor": "white",
             "minorgridcolor": "white",
             "startlinecolor": "#2a3f5f"
            },
            "type": "carpet"
           }
          ],
          "choropleth": [
           {
            "colorbar": {
             "outlinewidth": 0,
             "ticks": ""
            },
            "type": "choropleth"
           }
          ],
          "contour": [
           {
            "colorbar": {
             "outlinewidth": 0,
             "ticks": ""
            },
            "colorscale": [
             [
              0,
              "#0d0887"
             ],
             [
              0.1111111111111111,
              "#46039f"
             ],
             [
              0.2222222222222222,
              "#7201a8"
             ],
             [
              0.3333333333333333,
              "#9c179e"
             ],
             [
              0.4444444444444444,
              "#bd3786"
             ],
             [
              0.5555555555555556,
              "#d8576b"
             ],
             [
              0.6666666666666666,
              "#ed7953"
             ],
             [
              0.7777777777777778,
              "#fb9f3a"
             ],
             [
              0.8888888888888888,
              "#fdca26"
             ],
             [
              1,
              "#f0f921"
             ]
            ],
            "type": "contour"
           }
          ],
          "contourcarpet": [
           {
            "colorbar": {
             "outlinewidth": 0,
             "ticks": ""
            },
            "type": "contourcarpet"
           }
          ],
          "heatmap": [
           {
            "colorbar": {
             "outlinewidth": 0,
             "ticks": ""
            },
            "colorscale": [
             [
              0,
              "#0d0887"
             ],
             [
              0.1111111111111111,
              "#46039f"
             ],
             [
              0.2222222222222222,
              "#7201a8"
             ],
             [
              0.3333333333333333,
              "#9c179e"
             ],
             [
              0.4444444444444444,
              "#bd3786"
             ],
             [
              0.5555555555555556,
              "#d8576b"
             ],
             [
              0.6666666666666666,
              "#ed7953"
             ],
             [
              0.7777777777777778,
              "#fb9f3a"
             ],
             [
              0.8888888888888888,
              "#fdca26"
             ],
             [
              1,
              "#f0f921"
             ]
            ],
            "type": "heatmap"
           }
          ],
          "heatmapgl": [
           {
            "colorbar": {
             "outlinewidth": 0,
             "ticks": ""
            },
            "colorscale": [
             [
              0,
              "#0d0887"
             ],
             [
              0.1111111111111111,
              "#46039f"
             ],
             [
              0.2222222222222222,
              "#7201a8"
             ],
             [
              0.3333333333333333,
              "#9c179e"
             ],
             [
              0.4444444444444444,
              "#bd3786"
             ],
             [
              0.5555555555555556,
              "#d8576b"
             ],
             [
              0.6666666666666666,
              "#ed7953"
             ],
             [
              0.7777777777777778,
              "#fb9f3a"
             ],
             [
              0.8888888888888888,
              "#fdca26"
             ],
             [
              1,
              "#f0f921"
             ]
            ],
            "type": "heatmapgl"
           }
          ],
          "histogram": [
           {
            "marker": {
             "pattern": {
              "fillmode": "overlay",
              "size": 10,
              "solidity": 0.2
             }
            },
            "type": "histogram"
           }
          ],
          "histogram2d": [
           {
            "colorbar": {
             "outlinewidth": 0,
             "ticks": ""
            },
            "colorscale": [
             [
              0,
              "#0d0887"
             ],
             [
              0.1111111111111111,
              "#46039f"
             ],
             [
              0.2222222222222222,
              "#7201a8"
             ],
             [
              0.3333333333333333,
              "#9c179e"
             ],
             [
              0.4444444444444444,
              "#bd3786"
             ],
             [
              0.5555555555555556,
              "#d8576b"
             ],
             [
              0.6666666666666666,
              "#ed7953"
             ],
             [
              0.7777777777777778,
              "#fb9f3a"
             ],
             [
              0.8888888888888888,
              "#fdca26"
             ],
             [
              1,
              "#f0f921"
             ]
            ],
            "type": "histogram2d"
           }
          ],
          "histogram2dcontour": [
           {
            "colorbar": {
             "outlinewidth": 0,
             "ticks": ""
            },
            "colorscale": [
             [
              0,
              "#0d0887"
             ],
             [
              0.1111111111111111,
              "#46039f"
             ],
             [
              0.2222222222222222,
              "#7201a8"
             ],
             [
              0.3333333333333333,
              "#9c179e"
             ],
             [
              0.4444444444444444,
              "#bd3786"
             ],
             [
              0.5555555555555556,
              "#d8576b"
             ],
             [
              0.6666666666666666,
              "#ed7953"
             ],
             [
              0.7777777777777778,
              "#fb9f3a"
             ],
             [
              0.8888888888888888,
              "#fdca26"
             ],
             [
              1,
              "#f0f921"
             ]
            ],
            "type": "histogram2dcontour"
           }
          ],
          "mesh3d": [
           {
            "colorbar": {
             "outlinewidth": 0,
             "ticks": ""
            },
            "type": "mesh3d"
           }
          ],
          "parcoords": [
           {
            "line": {
             "colorbar": {
              "outlinewidth": 0,
              "ticks": ""
             }
            },
            "type": "parcoords"
           }
          ],
          "pie": [
           {
            "automargin": true,
            "type": "pie"
           }
          ],
          "scatter": [
           {
            "fillpattern": {
             "fillmode": "overlay",
             "size": 10,
             "solidity": 0.2
            },
            "type": "scatter"
           }
          ],
          "scatter3d": [
           {
            "line": {
             "colorbar": {
              "outlinewidth": 0,
              "ticks": ""
             }
            },
            "marker": {
             "colorbar": {
              "outlinewidth": 0,
              "ticks": ""
             }
            },
            "type": "scatter3d"
           }
          ],
          "scattercarpet": [
           {
            "marker": {
             "colorbar": {
              "outlinewidth": 0,
              "ticks": ""
             }
            },
            "type": "scattercarpet"
           }
          ],
          "scattergeo": [
           {
            "marker": {
             "colorbar": {
              "outlinewidth": 0,
              "ticks": ""
             }
            },
            "type": "scattergeo"
           }
          ],
          "scattergl": [
           {
            "marker": {
             "colorbar": {
              "outlinewidth": 0,
              "ticks": ""
             }
            },
            "type": "scattergl"
           }
          ],
          "scattermapbox": [
           {
            "marker": {
             "colorbar": {
              "outlinewidth": 0,
              "ticks": ""
             }
            },
            "type": "scattermapbox"
           }
          ],
          "scatterpolar": [
           {
            "marker": {
             "colorbar": {
              "outlinewidth": 0,
              "ticks": ""
             }
            },
            "type": "scatterpolar"
           }
          ],
          "scatterpolargl": [
           {
            "marker": {
             "colorbar": {
              "outlinewidth": 0,
              "ticks": ""
             }
            },
            "type": "scatterpolargl"
           }
          ],
          "scatterternary": [
           {
            "marker": {
             "colorbar": {
              "outlinewidth": 0,
              "ticks": ""
             }
            },
            "type": "scatterternary"
           }
          ],
          "surface": [
           {
            "colorbar": {
             "outlinewidth": 0,
             "ticks": ""
            },
            "colorscale": [
             [
              0,
              "#0d0887"
             ],
             [
              0.1111111111111111,
              "#46039f"
             ],
             [
              0.2222222222222222,
              "#7201a8"
             ],
             [
              0.3333333333333333,
              "#9c179e"
             ],
             [
              0.4444444444444444,
              "#bd3786"
             ],
             [
              0.5555555555555556,
              "#d8576b"
             ],
             [
              0.6666666666666666,
              "#ed7953"
             ],
             [
              0.7777777777777778,
              "#fb9f3a"
             ],
             [
              0.8888888888888888,
              "#fdca26"
             ],
             [
              1,
              "#f0f921"
             ]
            ],
            "type": "surface"
           }
          ],
          "table": [
           {
            "cells": {
             "fill": {
              "color": "#EBF0F8"
             },
             "line": {
              "color": "white"
             }
            },
            "header": {
             "fill": {
              "color": "#C8D4E3"
             },
             "line": {
              "color": "white"
             }
            },
            "type": "table"
           }
          ]
         },
         "layout": {
          "annotationdefaults": {
           "arrowcolor": "#2a3f5f",
           "arrowhead": 0,
           "arrowwidth": 1
          },
          "autotypenumbers": "strict",
          "coloraxis": {
           "colorbar": {
            "outlinewidth": 0,
            "ticks": ""
           }
          },
          "colorscale": {
           "diverging": [
            [
             0,
             "#8e0152"
            ],
            [
             0.1,
             "#c51b7d"
            ],
            [
             0.2,
             "#de77ae"
            ],
            [
             0.3,
             "#f1b6da"
            ],
            [
             0.4,
             "#fde0ef"
            ],
            [
             0.5,
             "#f7f7f7"
            ],
            [
             0.6,
             "#e6f5d0"
            ],
            [
             0.7,
             "#b8e186"
            ],
            [
             0.8,
             "#7fbc41"
            ],
            [
             0.9,
             "#4d9221"
            ],
            [
             1,
             "#276419"
            ]
           ],
           "sequential": [
            [
             0,
             "#0d0887"
            ],
            [
             0.1111111111111111,
             "#46039f"
            ],
            [
             0.2222222222222222,
             "#7201a8"
            ],
            [
             0.3333333333333333,
             "#9c179e"
            ],
            [
             0.4444444444444444,
             "#bd3786"
            ],
            [
             0.5555555555555556,
             "#d8576b"
            ],
            [
             0.6666666666666666,
             "#ed7953"
            ],
            [
             0.7777777777777778,
             "#fb9f3a"
            ],
            [
             0.8888888888888888,
             "#fdca26"
            ],
            [
             1,
             "#f0f921"
            ]
           ],
           "sequentialminus": [
            [
             0,
             "#0d0887"
            ],
            [
             0.1111111111111111,
             "#46039f"
            ],
            [
             0.2222222222222222,
             "#7201a8"
            ],
            [
             0.3333333333333333,
             "#9c179e"
            ],
            [
             0.4444444444444444,
             "#bd3786"
            ],
            [
             0.5555555555555556,
             "#d8576b"
            ],
            [
             0.6666666666666666,
             "#ed7953"
            ],
            [
             0.7777777777777778,
             "#fb9f3a"
            ],
            [
             0.8888888888888888,
             "#fdca26"
            ],
            [
             1,
             "#f0f921"
            ]
           ]
          },
          "colorway": [
           "#636efa",
           "#EF553B",
           "#00cc96",
           "#ab63fa",
           "#FFA15A",
           "#19d3f3",
           "#FF6692",
           "#B6E880",
           "#FF97FF",
           "#FECB52"
          ],
          "font": {
           "color": "#2a3f5f"
          },
          "geo": {
           "bgcolor": "white",
           "lakecolor": "white",
           "landcolor": "#E5ECF6",
           "showlakes": true,
           "showland": true,
           "subunitcolor": "white"
          },
          "hoverlabel": {
           "align": "left"
          },
          "hovermode": "closest",
          "mapbox": {
           "style": "light"
          },
          "paper_bgcolor": "white",
          "plot_bgcolor": "#E5ECF6",
          "polar": {
           "angularaxis": {
            "gridcolor": "white",
            "linecolor": "white",
            "ticks": ""
           },
           "bgcolor": "#E5ECF6",
           "radialaxis": {
            "gridcolor": "white",
            "linecolor": "white",
            "ticks": ""
           }
          },
          "scene": {
           "xaxis": {
            "backgroundcolor": "#E5ECF6",
            "gridcolor": "white",
            "gridwidth": 2,
            "linecolor": "white",
            "showbackground": true,
            "ticks": "",
            "zerolinecolor": "white"
           },
           "yaxis": {
            "backgroundcolor": "#E5ECF6",
            "gridcolor": "white",
            "gridwidth": 2,
            "linecolor": "white",
            "showbackground": true,
            "ticks": "",
            "zerolinecolor": "white"
           },
           "zaxis": {
            "backgroundcolor": "#E5ECF6",
            "gridcolor": "white",
            "gridwidth": 2,
            "linecolor": "white",
            "showbackground": true,
            "ticks": "",
            "zerolinecolor": "white"
           }
          },
          "shapedefaults": {
           "line": {
            "color": "#2a3f5f"
           }
          },
          "ternary": {
           "aaxis": {
            "gridcolor": "white",
            "linecolor": "white",
            "ticks": ""
           },
           "baxis": {
            "gridcolor": "white",
            "linecolor": "white",
            "ticks": ""
           },
           "bgcolor": "#E5ECF6",
           "caxis": {
            "gridcolor": "white",
            "linecolor": "white",
            "ticks": ""
           }
          },
          "title": {
           "x": 0.05
          },
          "xaxis": {
           "automargin": true,
           "gridcolor": "white",
           "linecolor": "white",
           "ticks": "",
           "title": {
            "standoff": 15
           },
           "zerolinecolor": "white",
           "zerolinewidth": 2
          },
          "yaxis": {
           "automargin": true,
           "gridcolor": "white",
           "linecolor": "white",
           "ticks": "",
           "title": {
            "standoff": 15
           },
           "zerolinecolor": "white",
           "zerolinewidth": 2
          }
         }
        },
        "title": {
         "text": "Migration LTLA: Inflow: lived elsewhere one year ago outside the associated area, but within the UK"
        },
        "xaxis": {
         "anchor": "y",
         "categoryorder": "total ascending",
         "domain": [
          0,
          1
         ],
         "title": {
          "text": "Local Authority"
         }
        },
        "yaxis": {
         "anchor": "x",
         "domain": [
          0,
          1
         ],
         "title": {
          "text": "Count"
         }
        }
       }
      }
     },
     "metadata": {},
     "output_type": "display_data"
    },
    {
     "data": {
      "application/vnd.plotly.v1+json": {
       "config": {
        "plotlyServerURL": "https://plot.ly"
       },
       "data": [
        {
         "alignmentgroup": "True",
         "hovertemplate": "Lower tier local authorities label=%{x}<br>Count=%{y}<extra></extra>",
         "legendgroup": "",
         "marker": {
          "color": "#636efa",
          "pattern": {
           "shape": ""
          }
         },
         "name": "",
         "offsetgroup": "",
         "orientation": "v",
         "showlegend": false,
         "textposition": "auto",
         "type": "bar",
         "x": [
          "Birmingham",
          "Manchester",
          "Tower Hamlets",
          "Westminster",
          "Leeds",
          "Camden",
          "Newham",
          "Liverpool",
          "Coventry",
          "Leicester",
          "Southwark",
          "Sheffield",
          "Bristol",
          "Oxford",
          "Nottingham",
          "Wandsworth",
          "Cambridge",
          "Ealing",
          "Barnet",
          "Islington",
          "Lambeth",
          "Brent",
          "Kensington and Chelsea",
          "Hounslow",
          "Cardiff",
          "Hammersmith and Fulham",
          "Southampton",
          "Newcastle upon Tyne",
          "Hillingdon",
          "West Northamptonshire",
          "Brighton and Hove",
          "West Suffolk",
          "Hackney",
          "Greenwich",
          "Redbridge",
          "Haringey",
          "Reading",
          "Salford",
          "Buckinghamshire",
          "Bournemouth, Christchurch and Poole",
          "Bradford",
          "Luton",
          "Harrow",
          "Croydon",
          "Lewisham",
          "Wiltshire",
          "Richmond upon Thames",
          "Milton Keynes",
          "Enfield",
          "Merton",
          "Kingston upon Thames",
          "Bath and North East Somerset",
          "Portsmouth",
          "Wolverhampton",
          "Kirklees",
          "Guildford",
          "County Durham",
          "Cheshire East",
          "Cornwall",
          "Waltham Forest",
          "Sandwell",
          "Exeter",
          "York",
          "North Northamptonshire",
          "Preston",
          "Peterborough",
          "Welwyn Hatfield",
          "Cheshire West and Chester",
          "Bolton",
          "Bromley",
          "Swindon",
          "Middlesbrough",
          "Slough",
          "Barking and Dagenham",
          "Derby",
          "Canterbury",
          "Trafford",
          "Warwick",
          "South Gloucestershire",
          "Norwich",
          "Kingston upon Hull",
          "Colchester",
          "Charnwood",
          "Windsor and Maidenhead",
          "Central Bedfordshire",
          "Lancaster",
          "Wokingham",
          "Dorset",
          "Sunderland",
          "Shropshire",
          "Swansea",
          "Stoke-on-Trent",
          "Plymouth",
          "Medway",
          "Elmbridge",
          "Bedford",
          "Sutton",
          "Basingstoke and Deane",
          "Cherwell",
          "Oldham",
          "Havering",
          "Stockport",
          "Doncaster",
          "Rochdale",
          "St Albans",
          "Walsall",
          "Sefton",
          "South Cambridgeshire",
          "Vale of White Horse",
          "Woking",
          "Bexley",
          "Watford",
          "Chelmsford",
          "Wakefield",
          "Warrington",
          "Winchester",
          "Wigan",
          "Somerset West and Taunton",
          "Runnymede",
          "Lincoln",
          "Huntingdonshire",
          "Blackburn with Darwen",
          "Cheltenham",
          "Reigate and Banstead",
          "Harrogate",
          "Maidstone",
          "Telford and Wrekin",
          "East Riding of Yorkshire",
          "Wirral",
          "Solihull",
          "King's Lynn and West Norfolk",
          "Waverley",
          "Herefordshire",
          "Mid Sussex",
          "North Somerset",
          "West Berkshire",
          "Ipswich",
          "Crawley",
          "South Oxfordshire",
          "Bracknell Forest",
          "Newport",
          "Dudley",
          "Horsham",
          "Southend-on-Sea",
          "Thurrock",
          "Tameside",
          "Bury",
          "Pendle",
          "Northumberland",
          "Tunbridge Wells",
          "South Somerset",
          "East Hertfordshire",
          "Dacorum",
          "Ashford",
          "Worcester",
          "Rushmoor",
          "Rhondda Cynon Taf",
          "Rugby",
          "Gateshead",
          "Blackpool",
          "West Oxfordshire",
          "Burnley",
          "North Lincolnshire",
          "Broxtowe",
          "Basildon",
          "Chichester",
          "Stockton-on-Tees",
          "East Suffolk",
          "Breckland",
          "Barnsley",
          "Eastbourne",
          "Arun",
          "North Tyneside",
          "Rotherham",
          "Spelthorne",
          "Hertsmere",
          "Boston",
          "Dartford",
          "Stevenage",
          "Surrey Heath",
          "Epsom and Ewell",
          "Calderdale",
          "Sevenoaks",
          "Mendip",
          "East Staffordshire",
          "East Devon",
          "New Forest",
          "Test Valley",
          "Fylde",
          "Gwynedd",
          "East Hampshire",
          "Rushcliffe",
          "Thanet",
          "Stratford-on-Avon",
          "Wealden",
          "Cotswold",
          "Isle of Wight",
          "North East Lincolnshire",
          "Hart",
          "South Lakeland",
          "Torbay",
          "Gloucester",
          "Harlow",
          "Vale of Glamorgan",
          "Richmondshire",
          "Epping Forest",
          "South Norfolk",
          "South Kesteven",
          "East Cambridgeshire",
          "Three Rivers",
          "St. Helens",
          "Mansfield",
          "Great Yarmouth",
          "Eastleigh",
          "Nuneaton and Bedworth",
          "Worthing",
          "North Hertfordshire",
          "Knowsley",
          "Carmarthenshire",
          "Carlisle",
          "Tonbridge and Malling",
          "Scarborough",
          "Stafford",
          "Sedgemoor",
          "Newcastle-under-Lyme",
          "Hastings",
          "Mole Valley",
          "Folkestone and Hythe",
          "West Lancashire",
          "Dover",
          "City of London",
          "Wychavon",
          "Mid Suffolk",
          "North Devon",
          "North Kesteven",
          "South Tyneside",
          "Gravesham",
          "South Hams",
          "Wrexham",
          "Ceredigion",
          "East Lindsey",
          "Pembrokeshire",
          "Darlington",
          "Tandridge",
          "Halton",
          "Fareham",
          "Harborough",
          "Stroud",
          "Flintshire",
          "South Holland",
          "Newark and Sherwood",
          "Teignbridge",
          "Brentwood",
          "Swale",
          "Powys",
          "Neath Port Talbot",
          "Bridgend",
          "Uttlesford",
          "Lewes",
          "Oadby and Wigston",
          "Tewkesbury",
          "Braintree",
          "Fenland",
          "Rother",
          "Hambleton",
          "Wyre",
          "Malvern Hills",
          "Monmouthshire",
          "Redditch",
          "Havant",
          "Conwy",
          "Broxbourne",
          "Broadland",
          "North Norfolk",
          "Gedling",
          "Chorley",
          "North West Leicestershire",
          "Bassetlaw",
          "Mid Devon",
          "Forest of Dean",
          "Bromsgrove",
          "Gosport",
          "Ashfield",
          "Barrow-in-Furness",
          "West Lindsey",
          "South Derbyshire",
          "Tendring",
          "Redcar and Cleveland",
          "Amber Valley",
          "Lichfield",
          "Babergh",
          "Blaby",
          "Chesterfield",
          "Ribble Valley",
          "Derbyshire Dales",
          "Denbighshire",
          "Torridge",
          "Hinckley and Bosworth",
          "Craven",
          "High Peak",
          "South Ribble",
          "Hyndburn",
          "Erewash",
          "Selby",
          "West Devon",
          "Rutland",
          "Bolsover",
          "Hartlepool",
          "Ryedale",
          "Allerdale",
          "Tamworth",
          "Merthyr Tydfil",
          "Caerphilly",
          "North East Derbyshire",
          "Adur",
          "Copeland",
          "Eden",
          "Melton",
          "Maldon",
          "Cannock Chase",
          "Wyre Forest",
          "Staffordshire Moorlands",
          "South Staffordshire",
          "Rossendale",
          "Rochford",
          "Castle Point",
          "North Warwickshire",
          "Torfaen",
          "Isle of Anglesey",
          "Blaenau Gwent",
          "Isles of Scilly"
         ],
         "xaxis": "x",
         "y": [
          13642,
          12667,
          10525,
          9889,
          9592,
          8192,
          7621,
          7212,
          7120,
          7032,
          6838,
          6704,
          6665,
          6582,
          6246,
          6245,
          6194,
          6105,
          5918,
          5861,
          5748,
          5669,
          5642,
          5226,
          5185,
          4984,
          4963,
          4740,
          4325,
          4228,
          4162,
          4106,
          4069,
          3981,
          3952,
          3917,
          3913,
          3891,
          3841,
          3811,
          3809,
          3752,
          3667,
          3492,
          3430,
          3334,
          3280,
          3162,
          3006,
          2960,
          2827,
          2806,
          2802,
          2794,
          2788,
          2775,
          2657,
          2646,
          2643,
          2628,
          2622,
          2568,
          2564,
          2534,
          2384,
          2315,
          2315,
          2306,
          2272,
          2264,
          2246,
          2244,
          2185,
          2179,
          2175,
          2166,
          2131,
          2125,
          2095,
          2069,
          2009,
          1962,
          1906,
          1903,
          1897,
          1883,
          1859,
          1827,
          1800,
          1785,
          1771,
          1771,
          1715,
          1711,
          1708,
          1672,
          1669,
          1615,
          1530,
          1487,
          1469,
          1457,
          1454,
          1454,
          1433,
          1400,
          1396,
          1395,
          1387,
          1384,
          1382,
          1380,
          1360,
          1351,
          1346,
          1333,
          1304,
          1303,
          1290,
          1282,
          1261,
          1250,
          1244,
          1225,
          1207,
          1190,
          1180,
          1176,
          1175,
          1153,
          1128,
          1127,
          1126,
          1110,
          1088,
          1083,
          1080,
          1077,
          1077,
          1071,
          1065,
          1056,
          1021,
          1003,
          1000,
          991,
          991,
          986,
          986,
          981,
          968,
          966,
          962,
          960,
          943,
          928,
          924,
          911,
          908,
          896,
          896,
          892,
          886,
          886,
          875,
          869,
          854,
          836,
          836,
          812,
          805,
          802,
          800,
          799,
          795,
          783,
          782,
          781,
          781,
          780,
          775,
          774,
          767,
          760,
          744,
          743,
          742,
          736,
          727,
          726,
          721,
          716,
          711,
          697,
          692,
          685,
          680,
          679,
          675,
          673,
          673,
          669,
          660,
          658,
          658,
          645,
          642,
          632,
          628,
          625,
          620,
          615,
          615,
          609,
          607,
          606,
          603,
          601,
          599,
          585,
          584,
          578,
          572,
          572,
          563,
          562,
          559,
          557,
          553,
          552,
          550,
          549,
          544,
          543,
          539,
          532,
          529,
          528,
          527,
          518,
          517,
          515,
          512,
          504,
          501,
          495,
          492,
          489,
          487,
          485,
          483,
          482,
          482,
          480,
          476,
          472,
          471,
          466,
          465,
          464,
          454,
          450,
          441,
          435,
          418,
          415,
          402,
          401,
          393,
          391,
          391,
          389,
          387,
          372,
          362,
          358,
          356,
          353,
          351,
          344,
          339,
          338,
          337,
          335,
          334,
          334,
          333,
          332,
          331,
          319,
          319,
          318,
          317,
          316,
          307,
          306,
          304,
          299,
          294,
          288,
          287,
          287,
          286,
          285,
          283,
          282,
          278,
          273,
          271,
          263,
          247,
          244,
          235,
          233,
          230,
          228,
          228,
          213,
          208,
          204,
          194,
          191,
          189,
          182,
          180,
          179,
          161,
          157,
          141,
          105,
          14
         ],
         "yaxis": "y"
        }
       ],
       "layout": {
        "barmode": "relative",
        "legend": {
         "tracegroupgap": 0
        },
        "template": {
         "data": {
          "bar": [
           {
            "error_x": {
             "color": "#2a3f5f"
            },
            "error_y": {
             "color": "#2a3f5f"
            },
            "marker": {
             "line": {
              "color": "#E5ECF6",
              "width": 0.5
             },
             "pattern": {
              "fillmode": "overlay",
              "size": 10,
              "solidity": 0.2
             }
            },
            "type": "bar"
           }
          ],
          "barpolar": [
           {
            "marker": {
             "line": {
              "color": "#E5ECF6",
              "width": 0.5
             },
             "pattern": {
              "fillmode": "overlay",
              "size": 10,
              "solidity": 0.2
             }
            },
            "type": "barpolar"
           }
          ],
          "carpet": [
           {
            "aaxis": {
             "endlinecolor": "#2a3f5f",
             "gridcolor": "white",
             "linecolor": "white",
             "minorgridcolor": "white",
             "startlinecolor": "#2a3f5f"
            },
            "baxis": {
             "endlinecolor": "#2a3f5f",
             "gridcolor": "white",
             "linecolor": "white",
             "minorgridcolor": "white",
             "startlinecolor": "#2a3f5f"
            },
            "type": "carpet"
           }
          ],
          "choropleth": [
           {
            "colorbar": {
             "outlinewidth": 0,
             "ticks": ""
            },
            "type": "choropleth"
           }
          ],
          "contour": [
           {
            "colorbar": {
             "outlinewidth": 0,
             "ticks": ""
            },
            "colorscale": [
             [
              0,
              "#0d0887"
             ],
             [
              0.1111111111111111,
              "#46039f"
             ],
             [
              0.2222222222222222,
              "#7201a8"
             ],
             [
              0.3333333333333333,
              "#9c179e"
             ],
             [
              0.4444444444444444,
              "#bd3786"
             ],
             [
              0.5555555555555556,
              "#d8576b"
             ],
             [
              0.6666666666666666,
              "#ed7953"
             ],
             [
              0.7777777777777778,
              "#fb9f3a"
             ],
             [
              0.8888888888888888,
              "#fdca26"
             ],
             [
              1,
              "#f0f921"
             ]
            ],
            "type": "contour"
           }
          ],
          "contourcarpet": [
           {
            "colorbar": {
             "outlinewidth": 0,
             "ticks": ""
            },
            "type": "contourcarpet"
           }
          ],
          "heatmap": [
           {
            "colorbar": {
             "outlinewidth": 0,
             "ticks": ""
            },
            "colorscale": [
             [
              0,
              "#0d0887"
             ],
             [
              0.1111111111111111,
              "#46039f"
             ],
             [
              0.2222222222222222,
              "#7201a8"
             ],
             [
              0.3333333333333333,
              "#9c179e"
             ],
             [
              0.4444444444444444,
              "#bd3786"
             ],
             [
              0.5555555555555556,
              "#d8576b"
             ],
             [
              0.6666666666666666,
              "#ed7953"
             ],
             [
              0.7777777777777778,
              "#fb9f3a"
             ],
             [
              0.8888888888888888,
              "#fdca26"
             ],
             [
              1,
              "#f0f921"
             ]
            ],
            "type": "heatmap"
           }
          ],
          "heatmapgl": [
           {
            "colorbar": {
             "outlinewidth": 0,
             "ticks": ""
            },
            "colorscale": [
             [
              0,
              "#0d0887"
             ],
             [
              0.1111111111111111,
              "#46039f"
             ],
             [
              0.2222222222222222,
              "#7201a8"
             ],
             [
              0.3333333333333333,
              "#9c179e"
             ],
             [
              0.4444444444444444,
              "#bd3786"
             ],
             [
              0.5555555555555556,
              "#d8576b"
             ],
             [
              0.6666666666666666,
              "#ed7953"
             ],
             [
              0.7777777777777778,
              "#fb9f3a"
             ],
             [
              0.8888888888888888,
              "#fdca26"
             ],
             [
              1,
              "#f0f921"
             ]
            ],
            "type": "heatmapgl"
           }
          ],
          "histogram": [
           {
            "marker": {
             "pattern": {
              "fillmode": "overlay",
              "size": 10,
              "solidity": 0.2
             }
            },
            "type": "histogram"
           }
          ],
          "histogram2d": [
           {
            "colorbar": {
             "outlinewidth": 0,
             "ticks": ""
            },
            "colorscale": [
             [
              0,
              "#0d0887"
             ],
             [
              0.1111111111111111,
              "#46039f"
             ],
             [
              0.2222222222222222,
              "#7201a8"
             ],
             [
              0.3333333333333333,
              "#9c179e"
             ],
             [
              0.4444444444444444,
              "#bd3786"
             ],
             [
              0.5555555555555556,
              "#d8576b"
             ],
             [
              0.6666666666666666,
              "#ed7953"
             ],
             [
              0.7777777777777778,
              "#fb9f3a"
             ],
             [
              0.8888888888888888,
              "#fdca26"
             ],
             [
              1,
              "#f0f921"
             ]
            ],
            "type": "histogram2d"
           }
          ],
          "histogram2dcontour": [
           {
            "colorbar": {
             "outlinewidth": 0,
             "ticks": ""
            },
            "colorscale": [
             [
              0,
              "#0d0887"
             ],
             [
              0.1111111111111111,
              "#46039f"
             ],
             [
              0.2222222222222222,
              "#7201a8"
             ],
             [
              0.3333333333333333,
              "#9c179e"
             ],
             [
              0.4444444444444444,
              "#bd3786"
             ],
             [
              0.5555555555555556,
              "#d8576b"
             ],
             [
              0.6666666666666666,
              "#ed7953"
             ],
             [
              0.7777777777777778,
              "#fb9f3a"
             ],
             [
              0.8888888888888888,
              "#fdca26"
             ],
             [
              1,
              "#f0f921"
             ]
            ],
            "type": "histogram2dcontour"
           }
          ],
          "mesh3d": [
           {
            "colorbar": {
             "outlinewidth": 0,
             "ticks": ""
            },
            "type": "mesh3d"
           }
          ],
          "parcoords": [
           {
            "line": {
             "colorbar": {
              "outlinewidth": 0,
              "ticks": ""
             }
            },
            "type": "parcoords"
           }
          ],
          "pie": [
           {
            "automargin": true,
            "type": "pie"
           }
          ],
          "scatter": [
           {
            "fillpattern": {
             "fillmode": "overlay",
             "size": 10,
             "solidity": 0.2
            },
            "type": "scatter"
           }
          ],
          "scatter3d": [
           {
            "line": {
             "colorbar": {
              "outlinewidth": 0,
              "ticks": ""
             }
            },
            "marker": {
             "colorbar": {
              "outlinewidth": 0,
              "ticks": ""
             }
            },
            "type": "scatter3d"
           }
          ],
          "scattercarpet": [
           {
            "marker": {
             "colorbar": {
              "outlinewidth": 0,
              "ticks": ""
             }
            },
            "type": "scattercarpet"
           }
          ],
          "scattergeo": [
           {
            "marker": {
             "colorbar": {
              "outlinewidth": 0,
              "ticks": ""
             }
            },
            "type": "scattergeo"
           }
          ],
          "scattergl": [
           {
            "marker": {
             "colorbar": {
              "outlinewidth": 0,
              "ticks": ""
             }
            },
            "type": "scattergl"
           }
          ],
          "scattermapbox": [
           {
            "marker": {
             "colorbar": {
              "outlinewidth": 0,
              "ticks": ""
             }
            },
            "type": "scattermapbox"
           }
          ],
          "scatterpolar": [
           {
            "marker": {
             "colorbar": {
              "outlinewidth": 0,
              "ticks": ""
             }
            },
            "type": "scatterpolar"
           }
          ],
          "scatterpolargl": [
           {
            "marker": {
             "colorbar": {
              "outlinewidth": 0,
              "ticks": ""
             }
            },
            "type": "scatterpolargl"
           }
          ],
          "scatterternary": [
           {
            "marker": {
             "colorbar": {
              "outlinewidth": 0,
              "ticks": ""
             }
            },
            "type": "scatterternary"
           }
          ],
          "surface": [
           {
            "colorbar": {
             "outlinewidth": 0,
             "ticks": ""
            },
            "colorscale": [
             [
              0,
              "#0d0887"
             ],
             [
              0.1111111111111111,
              "#46039f"
             ],
             [
              0.2222222222222222,
              "#7201a8"
             ],
             [
              0.3333333333333333,
              "#9c179e"
             ],
             [
              0.4444444444444444,
              "#bd3786"
             ],
             [
              0.5555555555555556,
              "#d8576b"
             ],
             [
              0.6666666666666666,
              "#ed7953"
             ],
             [
              0.7777777777777778,
              "#fb9f3a"
             ],
             [
              0.8888888888888888,
              "#fdca26"
             ],
             [
              1,
              "#f0f921"
             ]
            ],
            "type": "surface"
           }
          ],
          "table": [
           {
            "cells": {
             "fill": {
              "color": "#EBF0F8"
             },
             "line": {
              "color": "white"
             }
            },
            "header": {
             "fill": {
              "color": "#C8D4E3"
             },
             "line": {
              "color": "white"
             }
            },
            "type": "table"
           }
          ]
         },
         "layout": {
          "annotationdefaults": {
           "arrowcolor": "#2a3f5f",
           "arrowhead": 0,
           "arrowwidth": 1
          },
          "autotypenumbers": "strict",
          "coloraxis": {
           "colorbar": {
            "outlinewidth": 0,
            "ticks": ""
           }
          },
          "colorscale": {
           "diverging": [
            [
             0,
             "#8e0152"
            ],
            [
             0.1,
             "#c51b7d"
            ],
            [
             0.2,
             "#de77ae"
            ],
            [
             0.3,
             "#f1b6da"
            ],
            [
             0.4,
             "#fde0ef"
            ],
            [
             0.5,
             "#f7f7f7"
            ],
            [
             0.6,
             "#e6f5d0"
            ],
            [
             0.7,
             "#b8e186"
            ],
            [
             0.8,
             "#7fbc41"
            ],
            [
             0.9,
             "#4d9221"
            ],
            [
             1,
             "#276419"
            ]
           ],
           "sequential": [
            [
             0,
             "#0d0887"
            ],
            [
             0.1111111111111111,
             "#46039f"
            ],
            [
             0.2222222222222222,
             "#7201a8"
            ],
            [
             0.3333333333333333,
             "#9c179e"
            ],
            [
             0.4444444444444444,
             "#bd3786"
            ],
            [
             0.5555555555555556,
             "#d8576b"
            ],
            [
             0.6666666666666666,
             "#ed7953"
            ],
            [
             0.7777777777777778,
             "#fb9f3a"
            ],
            [
             0.8888888888888888,
             "#fdca26"
            ],
            [
             1,
             "#f0f921"
            ]
           ],
           "sequentialminus": [
            [
             0,
             "#0d0887"
            ],
            [
             0.1111111111111111,
             "#46039f"
            ],
            [
             0.2222222222222222,
             "#7201a8"
            ],
            [
             0.3333333333333333,
             "#9c179e"
            ],
            [
             0.4444444444444444,
             "#bd3786"
            ],
            [
             0.5555555555555556,
             "#d8576b"
            ],
            [
             0.6666666666666666,
             "#ed7953"
            ],
            [
             0.7777777777777778,
             "#fb9f3a"
            ],
            [
             0.8888888888888888,
             "#fdca26"
            ],
            [
             1,
             "#f0f921"
            ]
           ]
          },
          "colorway": [
           "#636efa",
           "#EF553B",
           "#00cc96",
           "#ab63fa",
           "#FFA15A",
           "#19d3f3",
           "#FF6692",
           "#B6E880",
           "#FF97FF",
           "#FECB52"
          ],
          "font": {
           "color": "#2a3f5f"
          },
          "geo": {
           "bgcolor": "white",
           "lakecolor": "white",
           "landcolor": "#E5ECF6",
           "showlakes": true,
           "showland": true,
           "subunitcolor": "white"
          },
          "hoverlabel": {
           "align": "left"
          },
          "hovermode": "closest",
          "mapbox": {
           "style": "light"
          },
          "paper_bgcolor": "white",
          "plot_bgcolor": "#E5ECF6",
          "polar": {
           "angularaxis": {
            "gridcolor": "white",
            "linecolor": "white",
            "ticks": ""
           },
           "bgcolor": "#E5ECF6",
           "radialaxis": {
            "gridcolor": "white",
            "linecolor": "white",
            "ticks": ""
           }
          },
          "scene": {
           "xaxis": {
            "backgroundcolor": "#E5ECF6",
            "gridcolor": "white",
            "gridwidth": 2,
            "linecolor": "white",
            "showbackground": true,
            "ticks": "",
            "zerolinecolor": "white"
           },
           "yaxis": {
            "backgroundcolor": "#E5ECF6",
            "gridcolor": "white",
            "gridwidth": 2,
            "linecolor": "white",
            "showbackground": true,
            "ticks": "",
            "zerolinecolor": "white"
           },
           "zaxis": {
            "backgroundcolor": "#E5ECF6",
            "gridcolor": "white",
            "gridwidth": 2,
            "linecolor": "white",
            "showbackground": true,
            "ticks": "",
            "zerolinecolor": "white"
           }
          },
          "shapedefaults": {
           "line": {
            "color": "#2a3f5f"
           }
          },
          "ternary": {
           "aaxis": {
            "gridcolor": "white",
            "linecolor": "white",
            "ticks": ""
           },
           "baxis": {
            "gridcolor": "white",
            "linecolor": "white",
            "ticks": ""
           },
           "bgcolor": "#E5ECF6",
           "caxis": {
            "gridcolor": "white",
            "linecolor": "white",
            "ticks": ""
           }
          },
          "title": {
           "x": 0.05
          },
          "xaxis": {
           "automargin": true,
           "gridcolor": "white",
           "linecolor": "white",
           "ticks": "",
           "title": {
            "standoff": 15
           },
           "zerolinecolor": "white",
           "zerolinewidth": 2
          },
          "yaxis": {
           "automargin": true,
           "gridcolor": "white",
           "linecolor": "white",
           "ticks": "",
           "title": {
            "standoff": 15
           },
           "zerolinecolor": "white",
           "zerolinewidth": 2
          }
         }
        },
        "title": {
         "text": "Migration LTLA: Inflow: lived elsewhere one year ago outside the UK"
        },
        "xaxis": {
         "anchor": "y",
         "categoryorder": "total ascending",
         "domain": [
          0,
          1
         ],
         "title": {
          "text": "Local Authority"
         }
        },
        "yaxis": {
         "anchor": "x",
         "domain": [
          0,
          1
         ],
         "title": {
          "text": "Count"
         }
        }
       }
      }
     },
     "metadata": {},
     "output_type": "display_data"
    },
    {
     "data": {
      "application/vnd.plotly.v1+json": {
       "config": {
        "plotlyServerURL": "https://plot.ly"
       },
       "data": [
        {
         "alignmentgroup": "True",
         "hovertemplate": "Lower tier local authorities label=%{x}<br>Count=%{y}<extra></extra>",
         "legendgroup": "",
         "marker": {
          "color": "#636efa",
          "pattern": {
           "shape": ""
          }
         },
         "name": "",
         "offsetgroup": "",
         "orientation": "v",
         "showlegend": false,
         "textposition": "auto",
         "type": "bar",
         "x": [
          "West Northamptonshire",
          "North Northamptonshire",
          "Monmouthshire",
          "Cambridge",
          "East Cambridgeshire",
          "Wandsworth",
          "Buckinghamshire",
          "Westminster",
          "Dorset",
          "Babergh",
          "Bury",
          "Bournemouth, Christchurch and Poole",
          "North East Lincolnshire",
          "Northumberland",
          "Central Bedfordshire",
          "Isle of Anglesey",
          "Crawley",
          "Ipswich",
          "Bedford",
          "Wiltshire",
          "Gwynedd",
          "Mid Suffolk",
          "Warrington",
          "Isles of Scilly",
          "Blackburn with Darwen",
          "Conwy",
          "Chichester",
          "Wyre Forest",
          "Fenland",
          "Tamworth",
          "Huntingdonshire",
          "Richmond upon Thames",
          "Worcester",
          "South Staffordshire",
          "Newcastle-under-Lyme",
          "Stockton-on-Tees",
          "South Lakeland",
          "Powys",
          "Worthing",
          "Bromsgrove",
          "Eden",
          "Amber Valley",
          "Redcar and Cleveland",
          "Middlesbrough",
          "Merthyr Tydfil",
          "Lichfield",
          "Bolsover",
          "Redditch",
          "Darlington",
          "Southwark",
          "Waltham Forest",
          "Horsham",
          "Shropshire",
          "South Cambridgeshire",
          "Allerdale",
          "Wychavon",
          "Halton",
          "Tower Hamlets",
          "Barrow-in-Furness",
          "Manchester",
          "Oldham",
          "Staffordshire Moorlands",
          "Carlisle",
          "Sutton",
          "Stafford",
          "Copeland",
          "Newport",
          "Mid Sussex",
          "Cornwall",
          "Denbighshire",
          "Cheshire West and Chester",
          "Waverley",
          "Adur",
          "Stevenage",
          "Bridgend",
          "Stoke-on-Trent",
          "Bath and North East Somerset",
          "Bristol",
          "North Somerset",
          "Neath Port Talbot",
          "North Warwickshire",
          "Tandridge",
          "South Gloucestershire",
          "Plymouth",
          "Torbay",
          "East Suffolk",
          "Swansea",
          "Swindon",
          "Woking",
          "Telford and Wrekin",
          "Luton",
          "Leicester",
          "Welwyn Hatfield",
          "Rugby",
          "Rhondda Cynon Taf",
          "North Lincolnshire",
          "Nuneaton and Bedworth",
          "York",
          "Derby",
          "Cardiff",
          "East Riding of Yorkshire",
          "Rutland",
          "Warwick",
          "Caerphilly",
          "Nottingham",
          "Herefordshire",
          "East Hertfordshire",
          "Vale of Glamorgan",
          "Peterborough",
          "Kingston upon Hull",
          "Cheshire East",
          "Portsmouth",
          "Somerset West and Taunton",
          "Epsom and Ewell",
          "Blackpool",
          "Wrexham",
          "Wokingham",
          "Milton Keynes",
          "Brighton and Hove",
          "Elmbridge",
          "Slough",
          "Flintshire",
          "Southampton",
          "Isle of Wight",
          "Torfaen",
          "Bolton",
          "County Durham",
          "Stratford-on-Avon",
          "Windsor and Maidenhead",
          "Arun",
          "Southend-on-Sea",
          "West Suffolk",
          "Surrey Heath",
          "Carmarthenshire",
          "Spelthorne",
          "Thurrock",
          "Blaenau Gwent",
          "Runnymede",
          "Medway",
          "Pembrokeshire",
          "Reading",
          "Bracknell Forest",
          "Reigate and Banstead",
          "West Berkshire",
          "Mole Valley",
          "Guildford",
          "Ceredigion",
          "St Albans",
          "Redbridge",
          "Coventry",
          "Rochdale",
          "Hambleton",
          "Dartford",
          "Dover",
          "Barking and Dagenham",
          "Craven",
          "Doncaster",
          "South Norfolk",
          "City of London",
          "Gravesham",
          "Norwich",
          "Maidstone",
          "North Norfolk",
          "Gateshead",
          "Sevenoaks",
          "Rotherham",
          "Folkestone and Hythe",
          "King's Lynn and West Norfolk",
          "Swale",
          "Wakefield",
          "Great Yarmouth",
          "Canterbury",
          "Barnet",
          "Camden",
          "Ashford",
          "Sefton",
          "Rushmoor",
          "Test Valley",
          "Bromley",
          "Ryedale",
          "Winchester",
          "Broxbourne",
          "Wirral",
          "Brent",
          "Dacorum",
          "Malvern Hills",
          "Hertsmere",
          "Richmondshire",
          "North Hertfordshire",
          "Bexley",
          "Harrogate",
          "Three Rivers",
          "Barnsley",
          "Watford",
          "Thanet",
          "Sheffield",
          "Tonbridge and Malling",
          "Leeds",
          "Rossendale",
          "Walsall",
          "Lincoln",
          "South Ribble",
          "East Lindsey",
          "Sunderland",
          "Solihull",
          "West Lancashire",
          "Boston",
          "Wyre",
          "Birmingham",
          "Oadby and Wigston",
          "Sandwell",
          "Blaby",
          "Charnwood",
          "North West Leicestershire",
          "Dudley",
          "Harborough",
          "Hinckley and Bosworth",
          "South Tyneside",
          "Ribble Valley",
          "Wolverhampton",
          "Calderdale",
          "Tunbridge Wells",
          "Burnley",
          "Broadland",
          "Breckland",
          "Kirklees",
          "Chorley",
          "Newcastle upon Tyne",
          "Fylde",
          "West Lindsey",
          "Preston",
          "South Kesteven",
          "Hyndburn",
          "North Tyneside",
          "Bradford",
          "Lancaster",
          "Pendle",
          "South Holland",
          "North Kesteven",
          "New Forest",
          "Scarborough",
          "Chesterfield",
          "Torridge",
          "Kensington and Chelsea",
          "Sedgemoor",
          "Eastbourne",
          "Stockport",
          "Hastings",
          "Islington",
          "Mendip",
          "Lewes",
          "West Oxfordshire",
          "Rother",
          "Vale of White Horse",
          "Hounslow",
          "Wealden",
          "Tameside",
          "Basildon",
          "South Oxfordshire",
          "Braintree",
          "Hillingdon",
          "Oxford",
          "West Devon",
          "South Somerset",
          "Havant",
          "Teignbridge",
          "Derbyshire Dales",
          "Newham",
          "Erewash",
          "East Staffordshire",
          "High Peak",
          "Merton",
          "North East Derbyshire",
          "South Derbyshire",
          "Lewisham",
          "East Devon",
          "Melton",
          "Exeter",
          "Mid Devon",
          "Lambeth",
          "North Devon",
          "Cannock Chase",
          "South Hams",
          "Salford",
          "Kingston upon Thames",
          "Brentwood",
          "Cherwell",
          "Trafford",
          "Castle Point",
          "Forest of Dean",
          "Gloucester",
          "Greenwich",
          "Stroud",
          "Bassetlaw",
          "Tewkesbury",
          "Liverpool",
          "Enfield",
          "Basingstoke and Deane",
          "East Hampshire",
          "Eastleigh",
          "Ashfield",
          "Ealing",
          "Fareham",
          "Gosport",
          "St. Helens",
          "Croydon",
          "Hart",
          "Selby",
          "Broxtowe",
          "Cotswold",
          "Hackney",
          "Wigan",
          "Havering",
          "Rushcliffe",
          "Chelmsford",
          "Colchester",
          "Epping Forest",
          "Harrow",
          "Newark and Sherwood",
          "Harlow",
          "Maldon",
          "Knowsley",
          "Haringey",
          "Mansfield",
          "Rochford",
          "Tendring",
          "Hammersmith and Fulham",
          "Uttlesford",
          "Gedling",
          "Cheltenham",
          "Hartlepool"
         ],
         "xaxis": "x",
         "y": [
          0,
          0,
          0,
          0,
          0,
          0,
          0,
          0,
          0,
          0,
          0,
          0,
          0,
          0,
          0,
          0,
          0,
          0,
          0,
          0,
          0,
          0,
          0,
          0,
          0,
          0,
          0,
          0,
          0,
          0,
          0,
          0,
          0,
          0,
          0,
          0,
          0,
          0,
          0,
          0,
          0,
          0,
          0,
          0,
          0,
          0,
          0,
          0,
          0,
          0,
          0,
          0,
          0,
          0,
          0,
          0,
          0,
          0,
          0,
          0,
          0,
          0,
          0,
          0,
          0,
          0,
          0,
          0,
          0,
          0,
          0,
          0,
          0,
          0,
          0,
          0,
          0,
          0,
          0,
          0,
          0,
          0,
          0,
          0,
          0,
          0,
          0,
          0,
          0,
          0,
          0,
          0,
          0,
          0,
          0,
          0,
          0,
          0,
          0,
          0,
          0,
          0,
          0,
          0,
          0,
          0,
          0,
          0,
          0,
          0,
          0,
          0,
          0,
          0,
          0,
          0,
          0,
          0,
          0,
          0,
          0,
          0,
          0,
          0,
          0,
          0,
          0,
          0,
          0,
          0,
          0,
          0,
          0,
          0,
          0,
          0,
          0,
          0,
          0,
          0,
          0,
          0,
          0,
          0,
          0,
          0,
          0,
          0,
          0,
          0,
          0,
          0,
          0,
          0,
          0,
          0,
          0,
          0,
          0,
          0,
          0,
          0,
          0,
          0,
          0,
          0,
          0,
          0,
          0,
          0,
          0,
          0,
          0,
          0,
          0,
          0,
          0,
          0,
          0,
          0,
          0,
          0,
          0,
          0,
          0,
          0,
          0,
          0,
          0,
          0,
          0,
          0,
          0,
          0,
          0,
          0,
          0,
          0,
          0,
          0,
          0,
          0,
          0,
          0,
          0,
          0,
          0,
          0,
          0,
          0,
          0,
          0,
          0,
          0,
          0,
          0,
          0,
          0,
          0,
          0,
          0,
          0,
          0,
          0,
          0,
          0,
          0,
          0,
          0,
          0,
          0,
          0,
          0,
          0,
          0,
          0,
          0,
          0,
          0,
          0,
          0,
          0,
          0,
          0,
          0,
          0,
          0,
          0,
          0,
          0,
          0,
          0,
          0,
          0,
          0,
          0,
          0,
          0,
          0,
          0,
          0,
          0,
          0,
          0,
          0,
          0,
          0,
          0,
          0,
          0,
          0,
          0,
          0,
          0,
          0,
          0,
          0,
          0,
          0,
          0,
          0,
          0,
          0,
          0,
          0,
          0,
          0,
          0,
          0,
          0,
          0,
          0,
          0,
          0,
          0,
          0,
          0,
          0,
          0,
          0,
          0,
          0,
          0,
          0,
          0,
          0,
          0,
          0,
          0,
          0,
          0,
          0,
          0,
          0,
          0,
          0,
          0,
          0,
          0,
          0,
          0,
          0,
          0,
          0,
          0,
          0,
          0,
          0,
          0,
          0,
          0
         ],
         "yaxis": "y"
        }
       ],
       "layout": {
        "barmode": "relative",
        "legend": {
         "tracegroupgap": 0
        },
        "template": {
         "data": {
          "bar": [
           {
            "error_x": {
             "color": "#2a3f5f"
            },
            "error_y": {
             "color": "#2a3f5f"
            },
            "marker": {
             "line": {
              "color": "#E5ECF6",
              "width": 0.5
             },
             "pattern": {
              "fillmode": "overlay",
              "size": 10,
              "solidity": 0.2
             }
            },
            "type": "bar"
           }
          ],
          "barpolar": [
           {
            "marker": {
             "line": {
              "color": "#E5ECF6",
              "width": 0.5
             },
             "pattern": {
              "fillmode": "overlay",
              "size": 10,
              "solidity": 0.2
             }
            },
            "type": "barpolar"
           }
          ],
          "carpet": [
           {
            "aaxis": {
             "endlinecolor": "#2a3f5f",
             "gridcolor": "white",
             "linecolor": "white",
             "minorgridcolor": "white",
             "startlinecolor": "#2a3f5f"
            },
            "baxis": {
             "endlinecolor": "#2a3f5f",
             "gridcolor": "white",
             "linecolor": "white",
             "minorgridcolor": "white",
             "startlinecolor": "#2a3f5f"
            },
            "type": "carpet"
           }
          ],
          "choropleth": [
           {
            "colorbar": {
             "outlinewidth": 0,
             "ticks": ""
            },
            "type": "choropleth"
           }
          ],
          "contour": [
           {
            "colorbar": {
             "outlinewidth": 0,
             "ticks": ""
            },
            "colorscale": [
             [
              0,
              "#0d0887"
             ],
             [
              0.1111111111111111,
              "#46039f"
             ],
             [
              0.2222222222222222,
              "#7201a8"
             ],
             [
              0.3333333333333333,
              "#9c179e"
             ],
             [
              0.4444444444444444,
              "#bd3786"
             ],
             [
              0.5555555555555556,
              "#d8576b"
             ],
             [
              0.6666666666666666,
              "#ed7953"
             ],
             [
              0.7777777777777778,
              "#fb9f3a"
             ],
             [
              0.8888888888888888,
              "#fdca26"
             ],
             [
              1,
              "#f0f921"
             ]
            ],
            "type": "contour"
           }
          ],
          "contourcarpet": [
           {
            "colorbar": {
             "outlinewidth": 0,
             "ticks": ""
            },
            "type": "contourcarpet"
           }
          ],
          "heatmap": [
           {
            "colorbar": {
             "outlinewidth": 0,
             "ticks": ""
            },
            "colorscale": [
             [
              0,
              "#0d0887"
             ],
             [
              0.1111111111111111,
              "#46039f"
             ],
             [
              0.2222222222222222,
              "#7201a8"
             ],
             [
              0.3333333333333333,
              "#9c179e"
             ],
             [
              0.4444444444444444,
              "#bd3786"
             ],
             [
              0.5555555555555556,
              "#d8576b"
             ],
             [
              0.6666666666666666,
              "#ed7953"
             ],
             [
              0.7777777777777778,
              "#fb9f3a"
             ],
             [
              0.8888888888888888,
              "#fdca26"
             ],
             [
              1,
              "#f0f921"
             ]
            ],
            "type": "heatmap"
           }
          ],
          "heatmapgl": [
           {
            "colorbar": {
             "outlinewidth": 0,
             "ticks": ""
            },
            "colorscale": [
             [
              0,
              "#0d0887"
             ],
             [
              0.1111111111111111,
              "#46039f"
             ],
             [
              0.2222222222222222,
              "#7201a8"
             ],
             [
              0.3333333333333333,
              "#9c179e"
             ],
             [
              0.4444444444444444,
              "#bd3786"
             ],
             [
              0.5555555555555556,
              "#d8576b"
             ],
             [
              0.6666666666666666,
              "#ed7953"
             ],
             [
              0.7777777777777778,
              "#fb9f3a"
             ],
             [
              0.8888888888888888,
              "#fdca26"
             ],
             [
              1,
              "#f0f921"
             ]
            ],
            "type": "heatmapgl"
           }
          ],
          "histogram": [
           {
            "marker": {
             "pattern": {
              "fillmode": "overlay",
              "size": 10,
              "solidity": 0.2
             }
            },
            "type": "histogram"
           }
          ],
          "histogram2d": [
           {
            "colorbar": {
             "outlinewidth": 0,
             "ticks": ""
            },
            "colorscale": [
             [
              0,
              "#0d0887"
             ],
             [
              0.1111111111111111,
              "#46039f"
             ],
             [
              0.2222222222222222,
              "#7201a8"
             ],
             [
              0.3333333333333333,
              "#9c179e"
             ],
             [
              0.4444444444444444,
              "#bd3786"
             ],
             [
              0.5555555555555556,
              "#d8576b"
             ],
             [
              0.6666666666666666,
              "#ed7953"
             ],
             [
              0.7777777777777778,
              "#fb9f3a"
             ],
             [
              0.8888888888888888,
              "#fdca26"
             ],
             [
              1,
              "#f0f921"
             ]
            ],
            "type": "histogram2d"
           }
          ],
          "histogram2dcontour": [
           {
            "colorbar": {
             "outlinewidth": 0,
             "ticks": ""
            },
            "colorscale": [
             [
              0,
              "#0d0887"
             ],
             [
              0.1111111111111111,
              "#46039f"
             ],
             [
              0.2222222222222222,
              "#7201a8"
             ],
             [
              0.3333333333333333,
              "#9c179e"
             ],
             [
              0.4444444444444444,
              "#bd3786"
             ],
             [
              0.5555555555555556,
              "#d8576b"
             ],
             [
              0.6666666666666666,
              "#ed7953"
             ],
             [
              0.7777777777777778,
              "#fb9f3a"
             ],
             [
              0.8888888888888888,
              "#fdca26"
             ],
             [
              1,
              "#f0f921"
             ]
            ],
            "type": "histogram2dcontour"
           }
          ],
          "mesh3d": [
           {
            "colorbar": {
             "outlinewidth": 0,
             "ticks": ""
            },
            "type": "mesh3d"
           }
          ],
          "parcoords": [
           {
            "line": {
             "colorbar": {
              "outlinewidth": 0,
              "ticks": ""
             }
            },
            "type": "parcoords"
           }
          ],
          "pie": [
           {
            "automargin": true,
            "type": "pie"
           }
          ],
          "scatter": [
           {
            "fillpattern": {
             "fillmode": "overlay",
             "size": 10,
             "solidity": 0.2
            },
            "type": "scatter"
           }
          ],
          "scatter3d": [
           {
            "line": {
             "colorbar": {
              "outlinewidth": 0,
              "ticks": ""
             }
            },
            "marker": {
             "colorbar": {
              "outlinewidth": 0,
              "ticks": ""
             }
            },
            "type": "scatter3d"
           }
          ],
          "scattercarpet": [
           {
            "marker": {
             "colorbar": {
              "outlinewidth": 0,
              "ticks": ""
             }
            },
            "type": "scattercarpet"
           }
          ],
          "scattergeo": [
           {
            "marker": {
             "colorbar": {
              "outlinewidth": 0,
              "ticks": ""
             }
            },
            "type": "scattergeo"
           }
          ],
          "scattergl": [
           {
            "marker": {
             "colorbar": {
              "outlinewidth": 0,
              "ticks": ""
             }
            },
            "type": "scattergl"
           }
          ],
          "scattermapbox": [
           {
            "marker": {
             "colorbar": {
              "outlinewidth": 0,
              "ticks": ""
             }
            },
            "type": "scattermapbox"
           }
          ],
          "scatterpolar": [
           {
            "marker": {
             "colorbar": {
              "outlinewidth": 0,
              "ticks": ""
             }
            },
            "type": "scatterpolar"
           }
          ],
          "scatterpolargl": [
           {
            "marker": {
             "colorbar": {
              "outlinewidth": 0,
              "ticks": ""
             }
            },
            "type": "scatterpolargl"
           }
          ],
          "scatterternary": [
           {
            "marker": {
             "colorbar": {
              "outlinewidth": 0,
              "ticks": ""
             }
            },
            "type": "scatterternary"
           }
          ],
          "surface": [
           {
            "colorbar": {
             "outlinewidth": 0,
             "ticks": ""
            },
            "colorscale": [
             [
              0,
              "#0d0887"
             ],
             [
              0.1111111111111111,
              "#46039f"
             ],
             [
              0.2222222222222222,
              "#7201a8"
             ],
             [
              0.3333333333333333,
              "#9c179e"
             ],
             [
              0.4444444444444444,
              "#bd3786"
             ],
             [
              0.5555555555555556,
              "#d8576b"
             ],
             [
              0.6666666666666666,
              "#ed7953"
             ],
             [
              0.7777777777777778,
              "#fb9f3a"
             ],
             [
              0.8888888888888888,
              "#fdca26"
             ],
             [
              1,
              "#f0f921"
             ]
            ],
            "type": "surface"
           }
          ],
          "table": [
           {
            "cells": {
             "fill": {
              "color": "#EBF0F8"
             },
             "line": {
              "color": "white"
             }
            },
            "header": {
             "fill": {
              "color": "#C8D4E3"
             },
             "line": {
              "color": "white"
             }
            },
            "type": "table"
           }
          ]
         },
         "layout": {
          "annotationdefaults": {
           "arrowcolor": "#2a3f5f",
           "arrowhead": 0,
           "arrowwidth": 1
          },
          "autotypenumbers": "strict",
          "coloraxis": {
           "colorbar": {
            "outlinewidth": 0,
            "ticks": ""
           }
          },
          "colorscale": {
           "diverging": [
            [
             0,
             "#8e0152"
            ],
            [
             0.1,
             "#c51b7d"
            ],
            [
             0.2,
             "#de77ae"
            ],
            [
             0.3,
             "#f1b6da"
            ],
            [
             0.4,
             "#fde0ef"
            ],
            [
             0.5,
             "#f7f7f7"
            ],
            [
             0.6,
             "#e6f5d0"
            ],
            [
             0.7,
             "#b8e186"
            ],
            [
             0.8,
             "#7fbc41"
            ],
            [
             0.9,
             "#4d9221"
            ],
            [
             1,
             "#276419"
            ]
           ],
           "sequential": [
            [
             0,
             "#0d0887"
            ],
            [
             0.1111111111111111,
             "#46039f"
            ],
            [
             0.2222222222222222,
             "#7201a8"
            ],
            [
             0.3333333333333333,
             "#9c179e"
            ],
            [
             0.4444444444444444,
             "#bd3786"
            ],
            [
             0.5555555555555556,
             "#d8576b"
            ],
            [
             0.6666666666666666,
             "#ed7953"
            ],
            [
             0.7777777777777778,
             "#fb9f3a"
            ],
            [
             0.8888888888888888,
             "#fdca26"
            ],
            [
             1,
             "#f0f921"
            ]
           ],
           "sequentialminus": [
            [
             0,
             "#0d0887"
            ],
            [
             0.1111111111111111,
             "#46039f"
            ],
            [
             0.2222222222222222,
             "#7201a8"
            ],
            [
             0.3333333333333333,
             "#9c179e"
            ],
            [
             0.4444444444444444,
             "#bd3786"
            ],
            [
             0.5555555555555556,
             "#d8576b"
            ],
            [
             0.6666666666666666,
             "#ed7953"
            ],
            [
             0.7777777777777778,
             "#fb9f3a"
            ],
            [
             0.8888888888888888,
             "#fdca26"
            ],
            [
             1,
             "#f0f921"
            ]
           ]
          },
          "colorway": [
           "#636efa",
           "#EF553B",
           "#00cc96",
           "#ab63fa",
           "#FFA15A",
           "#19d3f3",
           "#FF6692",
           "#B6E880",
           "#FF97FF",
           "#FECB52"
          ],
          "font": {
           "color": "#2a3f5f"
          },
          "geo": {
           "bgcolor": "white",
           "lakecolor": "white",
           "landcolor": "#E5ECF6",
           "showlakes": true,
           "showland": true,
           "subunitcolor": "white"
          },
          "hoverlabel": {
           "align": "left"
          },
          "hovermode": "closest",
          "mapbox": {
           "style": "light"
          },
          "paper_bgcolor": "white",
          "plot_bgcolor": "#E5ECF6",
          "polar": {
           "angularaxis": {
            "gridcolor": "white",
            "linecolor": "white",
            "ticks": ""
           },
           "bgcolor": "#E5ECF6",
           "radialaxis": {
            "gridcolor": "white",
            "linecolor": "white",
            "ticks": ""
           }
          },
          "scene": {
           "xaxis": {
            "backgroundcolor": "#E5ECF6",
            "gridcolor": "white",
            "gridwidth": 2,
            "linecolor": "white",
            "showbackground": true,
            "ticks": "",
            "zerolinecolor": "white"
           },
           "yaxis": {
            "backgroundcolor": "#E5ECF6",
            "gridcolor": "white",
            "gridwidth": 2,
            "linecolor": "white",
            "showbackground": true,
            "ticks": "",
            "zerolinecolor": "white"
           },
           "zaxis": {
            "backgroundcolor": "#E5ECF6",
            "gridcolor": "white",
            "gridwidth": 2,
            "linecolor": "white",
            "showbackground": true,
            "ticks": "",
            "zerolinecolor": "white"
           }
          },
          "shapedefaults": {
           "line": {
            "color": "#2a3f5f"
           }
          },
          "ternary": {
           "aaxis": {
            "gridcolor": "white",
            "linecolor": "white",
            "ticks": ""
           },
           "baxis": {
            "gridcolor": "white",
            "linecolor": "white",
            "ticks": ""
           },
           "bgcolor": "#E5ECF6",
           "caxis": {
            "gridcolor": "white",
            "linecolor": "white",
            "ticks": ""
           }
          },
          "title": {
           "x": 0.05
          },
          "xaxis": {
           "automargin": true,
           "gridcolor": "white",
           "linecolor": "white",
           "ticks": "",
           "title": {
            "standoff": 15
           },
           "zerolinecolor": "white",
           "zerolinewidth": 2
          },
          "yaxis": {
           "automargin": true,
           "gridcolor": "white",
           "linecolor": "white",
           "ticks": "",
           "title": {
            "standoff": 15
           },
           "zerolinecolor": "white",
           "zerolinewidth": 2
          }
         }
        },
        "title": {
         "text": "Migration LTLA: Does not apply"
        },
        "xaxis": {
         "anchor": "y",
         "categoryorder": "total ascending",
         "domain": [
          0,
          1
         ],
         "title": {
          "text": "Local Authority"
         }
        },
        "yaxis": {
         "anchor": "x",
         "domain": [
          0,
          1
         ],
         "title": {
          "text": "Count"
         }
        }
       }
      }
     },
     "metadata": {},
     "output_type": "display_data"
    }
   ],
   "source": [
    "\n",
    "migration_categories = in_authority['Migration LTLA (inflow) (6 categories) label'].unique()\n",
    "\n",
    "# Create a separate bar graph for each category\n",
    "for category in migration_categories:\n",
    "    filtered_data = in_authority[in_authority['Migration LTLA (inflow) (6 categories) label'] == category]\n",
    "    \n",
    "    fig = px.bar(filtered_data, x='Lower tier local authorities label', y='Count',\n",
    "                 title=f'Migration LTLA: {category}')\n",
    "    \n",
    "    fig.update_layout(xaxis_title='Local Authority', yaxis_title='Count')\n",
    "    fig.update_xaxes(categoryorder='total ascending')  # Sort authorities by total count\n",
    "    fig.show()"
   ]
  },
  {
   "cell_type": "markdown",
   "metadata": {},
   "source": [
    "# API For Authority Areas\n",
    "\n",
    "Can be found here: https://findthatpostcode.uk/#api"
   ]
  },
  {
   "cell_type": "code",
   "execution_count": 28,
   "metadata": {},
   "outputs": [],
   "source": []
  },
  {
   "cell_type": "code",
   "execution_count": 29,
   "metadata": {},
   "outputs": [],
   "source": [
    "# Define a function to fetch GeoJSON data\n",
    "def get_geojson(lower_tier_local_authority_code):\n",
    "    base_url = \"https://findthatpostcode.uk/areas/\"\n",
    "    geojson_url = f\"{base_url}{lower_tier_local_authority_code}.geojson\"\n",
    "    try:\n",
    "        response = requests.get(geojson_url)\n",
    "        if response.status_code == 200:\n",
    "            return response.json()  # Assuming the URL returns GeoJSON\n",
    "    except Exception as e:\n",
    "        print(f\"Error fetching GeoJSON for {lower_tier_local_authority_code}: {str(e)}\")\n",
    "    return None\n",
    "\n",
    "# Apply the function to create a new column with GeoJSON data\n",
    "in_authority['GeoJSON'] = in_authority['Lower tier local authorities code'].apply(get_geojson)"
   ]
  },
  {
   "cell_type": "code",
   "execution_count": 30,
   "metadata": {},
   "outputs": [
    {
     "data": {
      "text/html": [
       "<div>\n",
       "<style scoped>\n",
       "    .dataframe tbody tr th:only-of-type {\n",
       "        vertical-align: middle;\n",
       "    }\n",
       "\n",
       "    .dataframe tbody tr th {\n",
       "        vertical-align: top;\n",
       "    }\n",
       "\n",
       "    .dataframe thead th {\n",
       "        text-align: right;\n",
       "    }\n",
       "</style>\n",
       "<table border=\"1\" class=\"dataframe\">\n",
       "  <thead>\n",
       "    <tr style=\"text-align: right;\">\n",
       "      <th></th>\n",
       "      <th>Lower tier local authorities code</th>\n",
       "      <th>Lower tier local authorities label</th>\n",
       "      <th>Migration LTLA (inflow) (6 categories) label</th>\n",
       "      <th>Count</th>\n",
       "      <th>GeoJSON</th>\n",
       "    </tr>\n",
       "  </thead>\n",
       "  <tbody>\n",
       "    <tr>\n",
       "      <th>1583</th>\n",
       "      <td>E08000025</td>\n",
       "      <td>Birmingham</td>\n",
       "      <td>Lived at the same address one year ago</td>\n",
       "      <td>1007979</td>\n",
       "      <td>{'features': [{'geometry': {'coordinates': [[[...</td>\n",
       "    </tr>\n",
       "    <tr>\n",
       "      <th>1643</th>\n",
       "      <td>E08000035</td>\n",
       "      <td>Leeds</td>\n",
       "      <td>Lived at the same address one year ago</td>\n",
       "      <td>689265</td>\n",
       "      <td>{'features': [{'geometry': {'coordinates': [[[...</td>\n",
       "    </tr>\n",
       "    <tr>\n",
       "      <th>293</th>\n",
       "      <td>E06000052</td>\n",
       "      <td>Cornwall</td>\n",
       "      <td>Lived at the same address one year ago</td>\n",
       "      <td>504531</td>\n",
       "      <td>{'features': [{'geometry': {'coordinates': [[[...</td>\n",
       "    </tr>\n",
       "    <tr>\n",
       "      <th>1625</th>\n",
       "      <td>E08000032</td>\n",
       "      <td>Bradford</td>\n",
       "      <td>Lived at the same address one year ago</td>\n",
       "      <td>495205</td>\n",
       "      <td>{'features': [{'geometry': {'coordinates': [[[...</td>\n",
       "    </tr>\n",
       "    <tr>\n",
       "      <th>341</th>\n",
       "      <td>E06000060</td>\n",
       "      <td>Buckinghamshire</td>\n",
       "      <td>Lived at the same address one year ago</td>\n",
       "      <td>491753</td>\n",
       "      <td>{'features': [{'geometry': {'coordinates': [[[...</td>\n",
       "    </tr>\n",
       "    <tr>\n",
       "      <th>...</th>\n",
       "      <td>...</td>\n",
       "      <td>...</td>\n",
       "      <td>...</td>\n",
       "      <td>...</td>\n",
       "      <td>...</td>\n",
       "    </tr>\n",
       "    <tr>\n",
       "      <th>1728</th>\n",
       "      <td>E09000013</td>\n",
       "      <td>Hammersmith and Fulham</td>\n",
       "      <td>Does not apply</td>\n",
       "      <td>0</td>\n",
       "      <td>{'features': [{'geometry': {'coordinates': [[[...</td>\n",
       "    </tr>\n",
       "    <tr>\n",
       "      <th>612</th>\n",
       "      <td>E07000077</td>\n",
       "      <td>Uttlesford</td>\n",
       "      <td>Does not apply</td>\n",
       "      <td>0</td>\n",
       "      <td>{'features': [{'geometry': {'coordinates': [[[...</td>\n",
       "    </tr>\n",
       "    <tr>\n",
       "      <th>1086</th>\n",
       "      <td>E07000173</td>\n",
       "      <td>Gedling</td>\n",
       "      <td>Does not apply</td>\n",
       "      <td>0</td>\n",
       "      <td>{'features': [{'geometry': {'coordinates': [[[...</td>\n",
       "    </tr>\n",
       "    <tr>\n",
       "      <th>618</th>\n",
       "      <td>E07000078</td>\n",
       "      <td>Cheltenham</td>\n",
       "      <td>Does not apply</td>\n",
       "      <td>0</td>\n",
       "      <td>{'features': [{'geometry': {'coordinates': [[[...</td>\n",
       "    </tr>\n",
       "    <tr>\n",
       "      <th>0</th>\n",
       "      <td>E06000001</td>\n",
       "      <td>Hartlepool</td>\n",
       "      <td>Does not apply</td>\n",
       "      <td>0</td>\n",
       "      <td>{'features': [{'geometry': {'coordinates': [[[...</td>\n",
       "    </tr>\n",
       "  </tbody>\n",
       "</table>\n",
       "<p>1986 rows × 5 columns</p>\n",
       "</div>"
      ],
      "text/plain": [
       "     Lower tier local authorities code Lower tier local authorities label  \\\n",
       "1583                         E08000025                         Birmingham   \n",
       "1643                         E08000035                              Leeds   \n",
       "293                          E06000052                           Cornwall   \n",
       "1625                         E08000032                           Bradford   \n",
       "341                          E06000060                    Buckinghamshire   \n",
       "...                                ...                                ...   \n",
       "1728                         E09000013             Hammersmith and Fulham   \n",
       "612                          E07000077                         Uttlesford   \n",
       "1086                         E07000173                            Gedling   \n",
       "618                          E07000078                         Cheltenham   \n",
       "0                            E06000001                         Hartlepool   \n",
       "\n",
       "     Migration LTLA (inflow) (6 categories) label    Count  \\\n",
       "1583       Lived at the same address one year ago  1007979   \n",
       "1643       Lived at the same address one year ago   689265   \n",
       "293        Lived at the same address one year ago   504531   \n",
       "1625       Lived at the same address one year ago   495205   \n",
       "341        Lived at the same address one year ago   491753   \n",
       "...                                           ...      ...   \n",
       "1728                               Does not apply        0   \n",
       "612                                Does not apply        0   \n",
       "1086                               Does not apply        0   \n",
       "618                                Does not apply        0   \n",
       "0                                  Does not apply        0   \n",
       "\n",
       "                                                GeoJSON  \n",
       "1583  {'features': [{'geometry': {'coordinates': [[[...  \n",
       "1643  {'features': [{'geometry': {'coordinates': [[[...  \n",
       "293   {'features': [{'geometry': {'coordinates': [[[...  \n",
       "1625  {'features': [{'geometry': {'coordinates': [[[...  \n",
       "341   {'features': [{'geometry': {'coordinates': [[[...  \n",
       "...                                                 ...  \n",
       "1728  {'features': [{'geometry': {'coordinates': [[[...  \n",
       "612   {'features': [{'geometry': {'coordinates': [[[...  \n",
       "1086  {'features': [{'geometry': {'coordinates': [[[...  \n",
       "618   {'features': [{'geometry': {'coordinates': [[[...  \n",
       "0     {'features': [{'geometry': {'coordinates': [[[...  \n",
       "\n",
       "[1986 rows x 5 columns]"
      ]
     },
     "execution_count": 30,
     "metadata": {},
     "output_type": "execute_result"
    }
   ],
   "source": [
    "in_authority"
   ]
  }
 ],
 "metadata": {
  "kernelspec": {
   "display_name": "3.10.4",
   "language": "python",
   "name": "python3"
  },
  "language_info": {
   "codemirror_mode": {
    "name": "ipython",
    "version": 3
   },
   "file_extension": ".py",
   "mimetype": "text/x-python",
   "name": "python",
   "nbconvert_exporter": "python",
   "pygments_lexer": "ipython3",
   "version": "3.10.4"
  }
 },
 "nbformat": 4,
 "nbformat_minor": 2
}
