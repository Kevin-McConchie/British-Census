{
 "cells": [
  {
   "cell_type": "code",
   "execution_count": 34,
   "metadata": {},
   "outputs": [],
   "source": [
    "# Dependencies\n",
    "import plotly.graph_objs as go\n",
    "import plotly.express as px\n",
    "import pandas as pd\n",
    "import numpy as np\n",
    "import requests\n",
    "import json"
   ]
  },
  {
   "cell_type": "markdown",
   "metadata": {},
   "source": [
    "# Migration inflow by authority\n",
    "\n",
    "Information about the data can be fount here: https://www.nomisweb.co.uk/sources/census_2021_mig"
   ]
  },
  {
   "cell_type": "code",
   "execution_count": 35,
   "metadata": {},
   "outputs": [
    {
     "data": {
      "text/html": [
       "<div>\n",
       "<style scoped>\n",
       "    .dataframe tbody tr th:only-of-type {\n",
       "        vertical-align: middle;\n",
       "    }\n",
       "\n",
       "    .dataframe tbody tr th {\n",
       "        vertical-align: top;\n",
       "    }\n",
       "\n",
       "    .dataframe thead th {\n",
       "        text-align: right;\n",
       "    }\n",
       "</style>\n",
       "<table border=\"1\" class=\"dataframe\">\n",
       "  <thead>\n",
       "    <tr style=\"text-align: right;\">\n",
       "      <th></th>\n",
       "      <th>Lower tier local authorities code</th>\n",
       "      <th>Lower tier local authorities label</th>\n",
       "      <th>Migration LTLA (inflow) (6 categories) code</th>\n",
       "      <th>Migration LTLA (inflow) (6 categories) label</th>\n",
       "      <th>Ethnic group (6 categories) code</th>\n",
       "      <th>Ethnic group (6 categories) label</th>\n",
       "      <th>National Statistics Socio-economic Classification (NS-SeC) (10 categories) code</th>\n",
       "      <th>National Statistics Socio-economic Classification (NS-SeC) (10 categories) label</th>\n",
       "      <th>Count</th>\n",
       "    </tr>\n",
       "  </thead>\n",
       "  <tbody>\n",
       "    <tr>\n",
       "      <th>0</th>\n",
       "      <td>E06000001</td>\n",
       "      <td>Hartlepool</td>\n",
       "      <td>-8</td>\n",
       "      <td>Does not apply</td>\n",
       "      <td>-8</td>\n",
       "      <td>Does not apply</td>\n",
       "      <td>-8</td>\n",
       "      <td>Does not apply</td>\n",
       "      <td>0</td>\n",
       "    </tr>\n",
       "    <tr>\n",
       "      <th>1</th>\n",
       "      <td>E06000001</td>\n",
       "      <td>Hartlepool</td>\n",
       "      <td>-8</td>\n",
       "      <td>Does not apply</td>\n",
       "      <td>-8</td>\n",
       "      <td>Does not apply</td>\n",
       "      <td>1</td>\n",
       "      <td>L1, L2 and L3: Higher managerial, administrati...</td>\n",
       "      <td>0</td>\n",
       "    </tr>\n",
       "    <tr>\n",
       "      <th>2</th>\n",
       "      <td>E06000001</td>\n",
       "      <td>Hartlepool</td>\n",
       "      <td>-8</td>\n",
       "      <td>Does not apply</td>\n",
       "      <td>-8</td>\n",
       "      <td>Does not apply</td>\n",
       "      <td>2</td>\n",
       "      <td>L4, L5 and L6: Lower managerial, administrativ...</td>\n",
       "      <td>0</td>\n",
       "    </tr>\n",
       "    <tr>\n",
       "      <th>3</th>\n",
       "      <td>E06000001</td>\n",
       "      <td>Hartlepool</td>\n",
       "      <td>-8</td>\n",
       "      <td>Does not apply</td>\n",
       "      <td>-8</td>\n",
       "      <td>Does not apply</td>\n",
       "      <td>3</td>\n",
       "      <td>L7: Intermediate occupations</td>\n",
       "      <td>0</td>\n",
       "    </tr>\n",
       "    <tr>\n",
       "      <th>4</th>\n",
       "      <td>E06000001</td>\n",
       "      <td>Hartlepool</td>\n",
       "      <td>-8</td>\n",
       "      <td>Does not apply</td>\n",
       "      <td>-8</td>\n",
       "      <td>Does not apply</td>\n",
       "      <td>4</td>\n",
       "      <td>L8 and L9: Small employers and own account wor...</td>\n",
       "      <td>0</td>\n",
       "    </tr>\n",
       "  </tbody>\n",
       "</table>\n",
       "</div>"
      ],
      "text/plain": [
       "  Lower tier local authorities code Lower tier local authorities label  \\\n",
       "0                         E06000001                         Hartlepool   \n",
       "1                         E06000001                         Hartlepool   \n",
       "2                         E06000001                         Hartlepool   \n",
       "3                         E06000001                         Hartlepool   \n",
       "4                         E06000001                         Hartlepool   \n",
       "\n",
       "   Migration LTLA (inflow) (6 categories) code  \\\n",
       "0                                           -8   \n",
       "1                                           -8   \n",
       "2                                           -8   \n",
       "3                                           -8   \n",
       "4                                           -8   \n",
       "\n",
       "  Migration LTLA (inflow) (6 categories) label  \\\n",
       "0                               Does not apply   \n",
       "1                               Does not apply   \n",
       "2                               Does not apply   \n",
       "3                               Does not apply   \n",
       "4                               Does not apply   \n",
       "\n",
       "   Ethnic group (6 categories) code Ethnic group (6 categories) label  \\\n",
       "0                                -8                    Does not apply   \n",
       "1                                -8                    Does not apply   \n",
       "2                                -8                    Does not apply   \n",
       "3                                -8                    Does not apply   \n",
       "4                                -8                    Does not apply   \n",
       "\n",
       "   National Statistics Socio-economic Classification (NS-SeC) (10 categories) code  \\\n",
       "0                                                 -8                                 \n",
       "1                                                  1                                 \n",
       "2                                                  2                                 \n",
       "3                                                  3                                 \n",
       "4                                                  4                                 \n",
       "\n",
       "  National Statistics Socio-economic Classification (NS-SeC) (10 categories) label  \\\n",
       "0                                     Does not apply                                 \n",
       "1  L1, L2 and L3: Higher managerial, administrati...                                 \n",
       "2  L4, L5 and L6: Lower managerial, administrativ...                                 \n",
       "3                       L7: Intermediate occupations                                 \n",
       "4  L8 and L9: Small employers and own account wor...                                 \n",
       "\n",
       "   Count  \n",
       "0      0  \n",
       "1      0  \n",
       "2      0  \n",
       "3      0  \n",
       "4      0  "
      ]
     },
     "execution_count": 35,
     "metadata": {},
     "output_type": "execute_result"
    }
   ],
   "source": [
    "# Create df for migration into England and Wales\n",
    "mig_ltla_in_df = pd.read_csv(\"./Resources/MIG004EW_LTLA_IN.csv\")\n",
    "mig_ltla_in_df.head()\n"
   ]
  },
  {
   "cell_type": "code",
   "execution_count": 36,
   "metadata": {},
   "outputs": [
    {
     "data": {
      "text/html": [
       "<div>\n",
       "<style scoped>\n",
       "    .dataframe tbody tr th:only-of-type {\n",
       "        vertical-align: middle;\n",
       "    }\n",
       "\n",
       "    .dataframe tbody tr th {\n",
       "        vertical-align: top;\n",
       "    }\n",
       "\n",
       "    .dataframe thead th {\n",
       "        text-align: right;\n",
       "    }\n",
       "</style>\n",
       "<table border=\"1\" class=\"dataframe\">\n",
       "  <thead>\n",
       "    <tr style=\"text-align: right;\">\n",
       "      <th></th>\n",
       "      <th>Lower tier local authorities code</th>\n",
       "      <th>Lower tier local authorities label</th>\n",
       "      <th>Migration LTLA (inflow) (6 categories) label</th>\n",
       "      <th>Count</th>\n",
       "    </tr>\n",
       "  </thead>\n",
       "  <tbody>\n",
       "    <tr>\n",
       "      <th>1583</th>\n",
       "      <td>E08000025</td>\n",
       "      <td>Birmingham</td>\n",
       "      <td>Lived at the same address one year ago</td>\n",
       "      <td>1007979</td>\n",
       "    </tr>\n",
       "    <tr>\n",
       "      <th>1643</th>\n",
       "      <td>E08000035</td>\n",
       "      <td>Leeds</td>\n",
       "      <td>Lived at the same address one year ago</td>\n",
       "      <td>689265</td>\n",
       "    </tr>\n",
       "    <tr>\n",
       "      <th>293</th>\n",
       "      <td>E06000052</td>\n",
       "      <td>Cornwall</td>\n",
       "      <td>Lived at the same address one year ago</td>\n",
       "      <td>504531</td>\n",
       "    </tr>\n",
       "    <tr>\n",
       "      <th>1625</th>\n",
       "      <td>E08000032</td>\n",
       "      <td>Bradford</td>\n",
       "      <td>Lived at the same address one year ago</td>\n",
       "      <td>495205</td>\n",
       "    </tr>\n",
       "    <tr>\n",
       "      <th>341</th>\n",
       "      <td>E06000060</td>\n",
       "      <td>Buckinghamshire</td>\n",
       "      <td>Lived at the same address one year ago</td>\n",
       "      <td>491753</td>\n",
       "    </tr>\n",
       "    <tr>\n",
       "      <th>...</th>\n",
       "      <td>...</td>\n",
       "      <td>...</td>\n",
       "      <td>...</td>\n",
       "      <td>...</td>\n",
       "    </tr>\n",
       "    <tr>\n",
       "      <th>1728</th>\n",
       "      <td>E09000013</td>\n",
       "      <td>Hammersmith and Fulham</td>\n",
       "      <td>Does not apply</td>\n",
       "      <td>0</td>\n",
       "    </tr>\n",
       "    <tr>\n",
       "      <th>612</th>\n",
       "      <td>E07000077</td>\n",
       "      <td>Uttlesford</td>\n",
       "      <td>Does not apply</td>\n",
       "      <td>0</td>\n",
       "    </tr>\n",
       "    <tr>\n",
       "      <th>1086</th>\n",
       "      <td>E07000173</td>\n",
       "      <td>Gedling</td>\n",
       "      <td>Does not apply</td>\n",
       "      <td>0</td>\n",
       "    </tr>\n",
       "    <tr>\n",
       "      <th>618</th>\n",
       "      <td>E07000078</td>\n",
       "      <td>Cheltenham</td>\n",
       "      <td>Does not apply</td>\n",
       "      <td>0</td>\n",
       "    </tr>\n",
       "    <tr>\n",
       "      <th>0</th>\n",
       "      <td>E06000001</td>\n",
       "      <td>Hartlepool</td>\n",
       "      <td>Does not apply</td>\n",
       "      <td>0</td>\n",
       "    </tr>\n",
       "  </tbody>\n",
       "</table>\n",
       "<p>1986 rows × 4 columns</p>\n",
       "</div>"
      ],
      "text/plain": [
       "     Lower tier local authorities code Lower tier local authorities label  \\\n",
       "1583                         E08000025                         Birmingham   \n",
       "1643                         E08000035                              Leeds   \n",
       "293                          E06000052                           Cornwall   \n",
       "1625                         E08000032                           Bradford   \n",
       "341                          E06000060                    Buckinghamshire   \n",
       "...                                ...                                ...   \n",
       "1728                         E09000013             Hammersmith and Fulham   \n",
       "612                          E07000077                         Uttlesford   \n",
       "1086                         E07000173                            Gedling   \n",
       "618                          E07000078                         Cheltenham   \n",
       "0                            E06000001                         Hartlepool   \n",
       "\n",
       "     Migration LTLA (inflow) (6 categories) label    Count  \n",
       "1583       Lived at the same address one year ago  1007979  \n",
       "1643       Lived at the same address one year ago   689265  \n",
       "293        Lived at the same address one year ago   504531  \n",
       "1625       Lived at the same address one year ago   495205  \n",
       "341        Lived at the same address one year ago   491753  \n",
       "...                                           ...      ...  \n",
       "1728                               Does not apply        0  \n",
       "612                                Does not apply        0  \n",
       "1086                               Does not apply        0  \n",
       "618                                Does not apply        0  \n",
       "0                                  Does not apply        0  \n",
       "\n",
       "[1986 rows x 4 columns]"
      ]
     },
     "execution_count": 36,
     "metadata": {},
     "output_type": "execute_result"
    }
   ],
   "source": [
    "# Countlocal authority labels\n",
    "in_authority = mig_ltla_in_df.groupby(['Lower tier local authorities code', 'Lower tier local authorities label', 'Migration LTLA (inflow) (6 categories) label'])['Count'].sum().reset_index()\n",
    "in_authority = in_authority.sort_values(by='Count', ascending=False)\n",
    "\n",
    "in_authority"
   ]
  },
  {
   "cell_type": "code",
   "execution_count": 37,
   "metadata": {},
   "outputs": [
    {
     "data": {
      "application/vnd.plotly.v1+json": {
       "config": {
        "plotlyServerURL": "https://plot.ly"
       },
       "data": [
        {
         "alignmentgroup": "True",
         "hovertemplate": "Lower tier local authorities label=%{x}<br>Count=%{y}<extra></extra>",
         "legendgroup": "",
         "marker": {
          "color": "#636efa",
          "pattern": {
           "shape": ""
          }
         },
         "name": "",
         "offsetgroup": "",
         "orientation": "v",
         "showlegend": false,
         "textposition": "auto",
         "type": "bar",
         "x": [
          "Birmingham",
          "Leeds",
          "Cornwall",
          "Bradford",
          "Buckinghamshire",
          "Sheffield",
          "County Durham",
          "Wiltshire",
          "Manchester",
          "Liverpool",
          "Kirklees",
          "Bristol",
          "West Northamptonshire",
          "Cheshire East",
          "Croydon",
          "Bournemouth, Christchurch and Poole",
          "Barnet",
          "Dorset",
          "Wakefield",
          "North Northamptonshire",
          "Cheshire West and Chester",
          "Ealing",
          "Leicester",
          "Sandwell",
          "East Riding of Yorkshire",
          "Newham",
          "Wigan",
          "Cardiff",
          "Enfield",
          "Dudley",
          "Bromley",
          "Wirral",
          "Brent",
          "Coventry",
          "Northumberland",
          "Shropshire",
          "Doncaster",
          "Redbridge",
          "Bolton",
          "Hillingdon",
          "Stockport",
          "Central Bedfordshire",
          "Lewisham",
          "Walsall",
          "Wandsworth",
          "Lambeth",
          "South Gloucestershire",
          "Sefton",
          "Nottingham",
          "Southwark",
          "Milton Keynes",
          "Hounslow",
          "Greenwich",
          "Sunderland",
          "Medway",
          "Waltham Forest",
          "Rotherham",
          "Tower Hamlets",
          "Newcastle upon Tyne",
          "Wolverhampton",
          "Havering",
          "Kingston upon Hull",
          "Harrow",
          "Stoke-on-Trent",
          "Derby",
          "Plymouth",
          "Salford",
          "Haringey",
          "Bexley",
          "Barnsley",
          "Oldham",
          "Brighton and Hove",
          "East Suffolk",
          "Rhondda Cynon Taf",
          "Hackney",
          "Trafford",
          "Tameside",
          "Swansea",
          "Swindon",
          "Southampton",
          "Rochdale",
          "Luton",
          "Barking and Dagenham",
          "Solihull",
          "North Somerset",
          "Warrington",
          "North Tyneside",
          "Peterborough",
          "Sutton",
          "Calderdale",
          "Merton",
          "Bury",
          "Stockton-on-Tees",
          "Gateshead",
          "Portsmouth",
          "Islington",
          "Carmarthenshire",
          "Basildon",
          "Richmond upon Thames",
          "St. Helens",
          "Herefordshire",
          "York",
          "Camden",
          "Colchester",
          "Telford and Wrekin",
          "Bedford",
          "Basingstoke and Deane",
          "Caerphilly",
          "Southend-on-Sea",
          "Chelmsford",
          "Huntingdonshire",
          "Westminster",
          "Thurrock",
          "New Forest",
          "Bath and North East Somerset",
          "West Suffolk",
          "Wokingham",
          "Charnwood",
          "Maidstone",
          "North Lincolnshire",
          "South Somerset",
          "Arun",
          "Kingston upon Thames",
          "Newport",
          "Hammersmith and Fulham",
          "South Cambridgeshire",
          "West Berkshire",
          "Reading",
          "Wealden",
          "Harrogate",
          "Knowsley",
          "Flintshire",
          "North East Lincolnshire",
          "Slough",
          "Cherwell",
          "Blackburn with Darwen",
          "Somerset West and Taunton",
          "Braintree",
          "Dacorum",
          "King's Lynn and West Norfolk",
          "Swale",
          "South Tyneside",
          "Mid Sussex",
          "Windsor and Maidenhead",
          "Reigate and Banstead",
          "East Devon",
          "East Hertfordshire",
          "Tendring",
          "Bridgend",
          "St Albans",
          "South Oxfordshire",
          "Horsham",
          "Neath Port Talbot",
          "Canterbury",
          "South Kesteven",
          "East Lindsey",
          "South Norfolk",
          "Preston",
          "Middlesbrough",
          "Breckland",
          "Blackpool",
          "Thanet",
          "Torbay",
          "Redcar and Cleveland",
          "Isle of Wight",
          "Warwick",
          "Ipswich",
          "Wrexham",
          "Stafford",
          "Eastleigh",
          "Elmbridge",
          "Epping Forest",
          "Nuneaton and Bedworth",
          "Teignbridge",
          "Powys",
          "Vale of White Horse",
          "Lancaster",
          "Broadland",
          "Wychavon",
          "North Hertfordshire",
          "Tonbridge and Malling",
          "Oxford",
          "Vale of Glamorgan",
          "Stratford-on-Avon",
          "Halton",
          "Ashford",
          "Gloucester",
          "Guildford",
          "Kensington and Chelsea",
          "Test Valley",
          "Norwich",
          "Ashfield",
          "Amber Valley",
          "Havant",
          "Sedgemoor",
          "Waverley",
          "East Hampshire",
          "Pembrokeshire",
          "East Staffordshire",
          "Cambridge",
          "Newark and Sherwood",
          "Newcastle-under-Lyme",
          "Bracknell Forest",
          "Stroud",
          "Sevenoaks",
          "Chichester",
          "Winchester",
          "Chorley",
          "Gedling",
          "Bassetlaw",
          "North Kesteven",
          "Rushcliffe",
          "Crawley",
          "Conwy",
          "Dartford",
          "Dover",
          "Mendip",
          "Fareham",
          "Hinckley and Bosworth",
          "Gwynedd",
          "Erewash",
          "West Lancashire",
          "Welwyn Hatfield",
          "South Ribble",
          "Exeter",
          "Cheltenham",
          "Tunbridge Wells",
          "South Staffordshire",
          "Rugby",
          "Wyre",
          "Mansfield",
          "West Oxfordshire",
          "Worthing",
          "Broxtowe",
          "Folkestone and Hythe",
          "Carlisle",
          "Scarborough",
          "Gravesham",
          "Hertsmere",
          "Darlington",
          "Lichfield",
          "South Derbyshire",
          "Chesterfield",
          "South Lakeland",
          "Blaby",
          "North West Leicestershire",
          "North East Derbyshire",
          "North Norfolk",
          "Wyre Forest",
          "Fenland",
          "Spelthorne",
          "Mid Suffolk",
          "Cannock Chase",
          "Woking",
          "Worcester",
          "Bromsgrove",
          "Watford",
          "Broxbourne",
          "Lewes",
          "Eastbourne",
          "Great Yarmouth",
          "Hart",
          "Allerdale",
          "Staffordshire Moorlands",
          "Rushmoor",
          "North Devon",
          "Pendle",
          "Denbighshire",
          "Harborough",
          "West Lindsey",
          "Burnley",
          "Torfaen",
          "Tewkesbury",
          "Three Rivers",
          "South Holland",
          "Monmouthshire",
          "Harlow",
          "Rother",
          "Hartlepool",
          "Babergh",
          "Selby",
          "High Peak",
          "Lincoln",
          "Castle Point",
          "Uttlesford",
          "Hastings",
          "Hambleton",
          "Stevenage",
          "Surrey Heath",
          "Cotswold",
          "Tandridge",
          "Redditch",
          "East Cambridgeshire",
          "Mole Valley",
          "Forest of Dean",
          "South Hams",
          "Rochford",
          "Hyndburn",
          "Mid Devon",
          "Gosport",
          "Runnymede",
          "Bolsover",
          "Fylde",
          "Epsom and Ewell",
          "Malvern Hills",
          "Tamworth",
          "Brentwood",
          "Rossendale",
          "Derbyshire Dales",
          "Isle of Anglesey",
          "Boston",
          "Blaenau Gwent",
          "Barrow-in-Furness",
          "Copeland",
          "Torridge",
          "Ceredigion",
          "Maldon",
          "North Warwickshire",
          "Adur",
          "Ribble Valley",
          "Merthyr Tydfil",
          "Oadby and Wigston",
          "West Devon",
          "Craven",
          "Eden",
          "Ryedale",
          "Melton",
          "Richmondshire",
          "Rutland",
          "City of London",
          "Isles of Scilly"
         ],
         "xaxis": "x",
         "y": [
          1007979,
          689265,
          504531,
          495205,
          491753,
          477722,
          462529,
          451882,
          447358,
          407929,
          391650,
          384980,
          374987,
          354254,
          348079,
          341556,
          340979,
          339034,
          322088,
          321138,
          319031,
          318950,
          316171,
          312631,
          309073,
          300630,
          300457,
          298761,
          297539,
          297536,
          296806,
          292543,
          292263,
          292035,
          291003,
          288904,
          278598,
          276581,
          269718,
          268928,
          267293,
          262317,
          261094,
          260533,
          259073,
          257605,
          256216,
          255273,
          254462,
          253018,
          251500,
          251491,
          251008,
          249201,
          249091,
          244814,
          243529,
          242585,
          240279,
          237073,
          236792,
          234758,
          231461,
          231163,
          230958,
          228567,
          227657,
          225529,
          223927,
          223186,
          222762,
          222495,
          222082,
          217432,
          216060,
          212373,
          212106,
          208798,
          207185,
          205699,
          204133,
          199321,
          197249,
          196312,
          194056,
          190566,
          190194,
          190022,
          188779,
          187492,
          187418,
          177515,
          177459,
          177264,
          172539,
          171904,
          171252,
          170212,
          169362,
          167625,
          167361,
          166272,
          166136,
          165752,
          164088,
          163569,
          163501,
          163175,
          161571,
          161258,
          160516,
          159859,
          158910,
          158807,
          157775,
          156808,
          155972,
          155350,
          154595,
          153708,
          153586,
          147238,
          145073,
          144983,
          144730,
          144234,
          144163,
          143158,
          143031,
          142404,
          141960,
          141876,
          141534,
          141154,
          140866,
          140263,
          140164,
          139388,
          138733,
          138315,
          136337,
          135696,
          135511,
          135155,
          133752,
          133750,
          133116,
          133068,
          132888,
          131172,
          130905,
          130228,
          130001,
          128987,
          128896,
          127817,
          127205,
          126870,
          126757,
          126542,
          126404,
          125588,
          125209,
          125079,
          125061,
          124706,
          124496,
          123208,
          122511,
          121904,
          121876,
          121778,
          121503,
          120899,
          120585,
          120363,
          120291,
          119810,
          119793,
          119592,
          119506,
          119346,
          118960,
          118637,
          117889,
          117596,
          117452,
          116855,
          116000,
          115950,
          115724,
          115560,
          115188,
          112860,
          112146,
          112099,
          112019,
          111749,
          111415,
          110418,
          109649,
          109237,
          109161,
          109125,
          108590,
          107637,
          107223,
          106957,
          106722,
          106234,
          105238,
          104979,
          104672,
          104580,
          104497,
          104388,
          103716,
          103553,
          103368,
          103290,
          103178,
          102626,
          101618,
          101311,
          101257,
          101105,
          100879,
          100707,
          100477,
          100186,
          99880,
          99583,
          99053,
          98720,
          98609,
          97949,
          97632,
          97032,
          96588,
          96393,
          96074,
          95899,
          94295,
          94108,
          93863,
          93679,
          93195,
          92797,
          92608,
          92077,
          91933,
          91728,
          91533,
          91292,
          90362,
          90089,
          89928,
          89920,
          89708,
          89700,
          89482,
          88144,
          88026,
          88005,
          87474,
          87343,
          86758,
          86650,
          86571,
          85377,
          85149,
          84978,
          84942,
          84829,
          84681,
          84352,
          83478,
          83472,
          83134,
          82818,
          82733,
          82588,
          82370,
          82094,
          81830,
          81215,
          80884,
          80558,
          80540,
          79612,
          79207,
          79035,
          78693,
          78503,
          78417,
          78376,
          78219,
          74958,
          73915,
          73406,
          73124,
          72631,
          72519,
          72490,
          71392,
          70964,
          68907,
          64691,
          64594,
          62781,
          62455,
          61608,
          61225,
          61156,
          60865,
          60421,
          59566,
          59150,
          58796,
          54985,
          54363,
          51284,
          51151,
          51080,
          49710,
          48980,
          46601,
          42981,
          36057,
          6235,
          1847
         ],
         "yaxis": "y"
        }
       ],
       "layout": {
        "barmode": "relative",
        "legend": {
         "tracegroupgap": 0
        },
        "template": {
         "data": {
          "bar": [
           {
            "error_x": {
             "color": "#2a3f5f"
            },
            "error_y": {
             "color": "#2a3f5f"
            },
            "marker": {
             "line": {
              "color": "#E5ECF6",
              "width": 0.5
             },
             "pattern": {
              "fillmode": "overlay",
              "size": 10,
              "solidity": 0.2
             }
            },
            "type": "bar"
           }
          ],
          "barpolar": [
           {
            "marker": {
             "line": {
              "color": "#E5ECF6",
              "width": 0.5
             },
             "pattern": {
              "fillmode": "overlay",
              "size": 10,
              "solidity": 0.2
             }
            },
            "type": "barpolar"
           }
          ],
          "carpet": [
           {
            "aaxis": {
             "endlinecolor": "#2a3f5f",
             "gridcolor": "white",
             "linecolor": "white",
             "minorgridcolor": "white",
             "startlinecolor": "#2a3f5f"
            },
            "baxis": {
             "endlinecolor": "#2a3f5f",
             "gridcolor": "white",
             "linecolor": "white",
             "minorgridcolor": "white",
             "startlinecolor": "#2a3f5f"
            },
            "type": "carpet"
           }
          ],
          "choropleth": [
           {
            "colorbar": {
             "outlinewidth": 0,
             "ticks": ""
            },
            "type": "choropleth"
           }
          ],
          "contour": [
           {
            "colorbar": {
             "outlinewidth": 0,
             "ticks": ""
            },
            "colorscale": [
             [
              0,
              "#0d0887"
             ],
             [
              0.1111111111111111,
              "#46039f"
             ],
             [
              0.2222222222222222,
              "#7201a8"
             ],
             [
              0.3333333333333333,
              "#9c179e"
             ],
             [
              0.4444444444444444,
              "#bd3786"
             ],
             [
              0.5555555555555556,
              "#d8576b"
             ],
             [
              0.6666666666666666,
              "#ed7953"
             ],
             [
              0.7777777777777778,
              "#fb9f3a"
             ],
             [
              0.8888888888888888,
              "#fdca26"
             ],
             [
              1,
              "#f0f921"
             ]
            ],
            "type": "contour"
           }
          ],
          "contourcarpet": [
           {
            "colorbar": {
             "outlinewidth": 0,
             "ticks": ""
            },
            "type": "contourcarpet"
           }
          ],
          "heatmap": [
           {
            "colorbar": {
             "outlinewidth": 0,
             "ticks": ""
            },
            "colorscale": [
             [
              0,
              "#0d0887"
             ],
             [
              0.1111111111111111,
              "#46039f"
             ],
             [
              0.2222222222222222,
              "#7201a8"
             ],
             [
              0.3333333333333333,
              "#9c179e"
             ],
             [
              0.4444444444444444,
              "#bd3786"
             ],
             [
              0.5555555555555556,
              "#d8576b"
             ],
             [
              0.6666666666666666,
              "#ed7953"
             ],
             [
              0.7777777777777778,
              "#fb9f3a"
             ],
             [
              0.8888888888888888,
              "#fdca26"
             ],
             [
              1,
              "#f0f921"
             ]
            ],
            "type": "heatmap"
           }
          ],
          "heatmapgl": [
           {
            "colorbar": {
             "outlinewidth": 0,
             "ticks": ""
            },
            "colorscale": [
             [
              0,
              "#0d0887"
             ],
             [
              0.1111111111111111,
              "#46039f"
             ],
             [
              0.2222222222222222,
              "#7201a8"
             ],
             [
              0.3333333333333333,
              "#9c179e"
             ],
             [
              0.4444444444444444,
              "#bd3786"
             ],
             [
              0.5555555555555556,
              "#d8576b"
             ],
             [
              0.6666666666666666,
              "#ed7953"
             ],
             [
              0.7777777777777778,
              "#fb9f3a"
             ],
             [
              0.8888888888888888,
              "#fdca26"
             ],
             [
              1,
              "#f0f921"
             ]
            ],
            "type": "heatmapgl"
           }
          ],
          "histogram": [
           {
            "marker": {
             "pattern": {
              "fillmode": "overlay",
              "size": 10,
              "solidity": 0.2
             }
            },
            "type": "histogram"
           }
          ],
          "histogram2d": [
           {
            "colorbar": {
             "outlinewidth": 0,
             "ticks": ""
            },
            "colorscale": [
             [
              0,
              "#0d0887"
             ],
             [
              0.1111111111111111,
              "#46039f"
             ],
             [
              0.2222222222222222,
              "#7201a8"
             ],
             [
              0.3333333333333333,
              "#9c179e"
             ],
             [
              0.4444444444444444,
              "#bd3786"
             ],
             [
              0.5555555555555556,
              "#d8576b"
             ],
             [
              0.6666666666666666,
              "#ed7953"
             ],
             [
              0.7777777777777778,
              "#fb9f3a"
             ],
             [
              0.8888888888888888,
              "#fdca26"
             ],
             [
              1,
              "#f0f921"
             ]
            ],
            "type": "histogram2d"
           }
          ],
          "histogram2dcontour": [
           {
            "colorbar": {
             "outlinewidth": 0,
             "ticks": ""
            },
            "colorscale": [
             [
              0,
              "#0d0887"
             ],
             [
              0.1111111111111111,
              "#46039f"
             ],
             [
              0.2222222222222222,
              "#7201a8"
             ],
             [
              0.3333333333333333,
              "#9c179e"
             ],
             [
              0.4444444444444444,
              "#bd3786"
             ],
             [
              0.5555555555555556,
              "#d8576b"
             ],
             [
              0.6666666666666666,
              "#ed7953"
             ],
             [
              0.7777777777777778,
              "#fb9f3a"
             ],
             [
              0.8888888888888888,
              "#fdca26"
             ],
             [
              1,
              "#f0f921"
             ]
            ],
            "type": "histogram2dcontour"
           }
          ],
          "mesh3d": [
           {
            "colorbar": {
             "outlinewidth": 0,
             "ticks": ""
            },
            "type": "mesh3d"
           }
          ],
          "parcoords": [
           {
            "line": {
             "colorbar": {
              "outlinewidth": 0,
              "ticks": ""
             }
            },
            "type": "parcoords"
           }
          ],
          "pie": [
           {
            "automargin": true,
            "type": "pie"
           }
          ],
          "scatter": [
           {
            "fillpattern": {
             "fillmode": "overlay",
             "size": 10,
             "solidity": 0.2
            },
            "type": "scatter"
           }
          ],
          "scatter3d": [
           {
            "line": {
             "colorbar": {
              "outlinewidth": 0,
              "ticks": ""
             }
            },
            "marker": {
             "colorbar": {
              "outlinewidth": 0,
              "ticks": ""
             }
            },
            "type": "scatter3d"
           }
          ],
          "scattercarpet": [
           {
            "marker": {
             "colorbar": {
              "outlinewidth": 0,
              "ticks": ""
             }
            },
            "type": "scattercarpet"
           }
          ],
          "scattergeo": [
           {
            "marker": {
             "colorbar": {
              "outlinewidth": 0,
              "ticks": ""
             }
            },
            "type": "scattergeo"
           }
          ],
          "scattergl": [
           {
            "marker": {
             "colorbar": {
              "outlinewidth": 0,
              "ticks": ""
             }
            },
            "type": "scattergl"
           }
          ],
          "scattermapbox": [
           {
            "marker": {
             "colorbar": {
              "outlinewidth": 0,
              "ticks": ""
             }
            },
            "type": "scattermapbox"
           }
          ],
          "scatterpolar": [
           {
            "marker": {
             "colorbar": {
              "outlinewidth": 0,
              "ticks": ""
             }
            },
            "type": "scatterpolar"
           }
          ],
          "scatterpolargl": [
           {
            "marker": {
             "colorbar": {
              "outlinewidth": 0,
              "ticks": ""
             }
            },
            "type": "scatterpolargl"
           }
          ],
          "scatterternary": [
           {
            "marker": {
             "colorbar": {
              "outlinewidth": 0,
              "ticks": ""
             }
            },
            "type": "scatterternary"
           }
          ],
          "surface": [
           {
            "colorbar": {
             "outlinewidth": 0,
             "ticks": ""
            },
            "colorscale": [
             [
              0,
              "#0d0887"
             ],
             [
              0.1111111111111111,
              "#46039f"
             ],
             [
              0.2222222222222222,
              "#7201a8"
             ],
             [
              0.3333333333333333,
              "#9c179e"
             ],
             [
              0.4444444444444444,
              "#bd3786"
             ],
             [
              0.5555555555555556,
              "#d8576b"
             ],
             [
              0.6666666666666666,
              "#ed7953"
             ],
             [
              0.7777777777777778,
              "#fb9f3a"
             ],
             [
              0.8888888888888888,
              "#fdca26"
             ],
             [
              1,
              "#f0f921"
             ]
            ],
            "type": "surface"
           }
          ],
          "table": [
           {
            "cells": {
             "fill": {
              "color": "#EBF0F8"
             },
             "line": {
              "color": "white"
             }
            },
            "header": {
             "fill": {
              "color": "#C8D4E3"
             },
             "line": {
              "color": "white"
             }
            },
            "type": "table"
           }
          ]
         },
         "layout": {
          "annotationdefaults": {
           "arrowcolor": "#2a3f5f",
           "arrowhead": 0,
           "arrowwidth": 1
          },
          "autotypenumbers": "strict",
          "coloraxis": {
           "colorbar": {
            "outlinewidth": 0,
            "ticks": ""
           }
          },
          "colorscale": {
           "diverging": [
            [
             0,
             "#8e0152"
            ],
            [
             0.1,
             "#c51b7d"
            ],
            [
             0.2,
             "#de77ae"
            ],
            [
             0.3,
             "#f1b6da"
            ],
            [
             0.4,
             "#fde0ef"
            ],
            [
             0.5,
             "#f7f7f7"
            ],
            [
             0.6,
             "#e6f5d0"
            ],
            [
             0.7,
             "#b8e186"
            ],
            [
             0.8,
             "#7fbc41"
            ],
            [
             0.9,
             "#4d9221"
            ],
            [
             1,
             "#276419"
            ]
           ],
           "sequential": [
            [
             0,
             "#0d0887"
            ],
            [
             0.1111111111111111,
             "#46039f"
            ],
            [
             0.2222222222222222,
             "#7201a8"
            ],
            [
             0.3333333333333333,
             "#9c179e"
            ],
            [
             0.4444444444444444,
             "#bd3786"
            ],
            [
             0.5555555555555556,
             "#d8576b"
            ],
            [
             0.6666666666666666,
             "#ed7953"
            ],
            [
             0.7777777777777778,
             "#fb9f3a"
            ],
            [
             0.8888888888888888,
             "#fdca26"
            ],
            [
             1,
             "#f0f921"
            ]
           ],
           "sequentialminus": [
            [
             0,
             "#0d0887"
            ],
            [
             0.1111111111111111,
             "#46039f"
            ],
            [
             0.2222222222222222,
             "#7201a8"
            ],
            [
             0.3333333333333333,
             "#9c179e"
            ],
            [
             0.4444444444444444,
             "#bd3786"
            ],
            [
             0.5555555555555556,
             "#d8576b"
            ],
            [
             0.6666666666666666,
             "#ed7953"
            ],
            [
             0.7777777777777778,
             "#fb9f3a"
            ],
            [
             0.8888888888888888,
             "#fdca26"
            ],
            [
             1,
             "#f0f921"
            ]
           ]
          },
          "colorway": [
           "#636efa",
           "#EF553B",
           "#00cc96",
           "#ab63fa",
           "#FFA15A",
           "#19d3f3",
           "#FF6692",
           "#B6E880",
           "#FF97FF",
           "#FECB52"
          ],
          "font": {
           "color": "#2a3f5f"
          },
          "geo": {
           "bgcolor": "white",
           "lakecolor": "white",
           "landcolor": "#E5ECF6",
           "showlakes": true,
           "showland": true,
           "subunitcolor": "white"
          },
          "hoverlabel": {
           "align": "left"
          },
          "hovermode": "closest",
          "mapbox": {
           "style": "light"
          },
          "paper_bgcolor": "white",
          "plot_bgcolor": "#E5ECF6",
          "polar": {
           "angularaxis": {
            "gridcolor": "white",
            "linecolor": "white",
            "ticks": ""
           },
           "bgcolor": "#E5ECF6",
           "radialaxis": {
            "gridcolor": "white",
            "linecolor": "white",
            "ticks": ""
           }
          },
          "scene": {
           "xaxis": {
            "backgroundcolor": "#E5ECF6",
            "gridcolor": "white",
            "gridwidth": 2,
            "linecolor": "white",
            "showbackground": true,
            "ticks": "",
            "zerolinecolor": "white"
           },
           "yaxis": {
            "backgroundcolor": "#E5ECF6",
            "gridcolor": "white",
            "gridwidth": 2,
            "linecolor": "white",
            "showbackground": true,
            "ticks": "",
            "zerolinecolor": "white"
           },
           "zaxis": {
            "backgroundcolor": "#E5ECF6",
            "gridcolor": "white",
            "gridwidth": 2,
            "linecolor": "white",
            "showbackground": true,
            "ticks": "",
            "zerolinecolor": "white"
           }
          },
          "shapedefaults": {
           "line": {
            "color": "#2a3f5f"
           }
          },
          "ternary": {
           "aaxis": {
            "gridcolor": "white",
            "linecolor": "white",
            "ticks": ""
           },
           "baxis": {
            "gridcolor": "white",
            "linecolor": "white",
            "ticks": ""
           },
           "bgcolor": "#E5ECF6",
           "caxis": {
            "gridcolor": "white",
            "linecolor": "white",
            "ticks": ""
           }
          },
          "title": {
           "x": 0.05
          },
          "xaxis": {
           "automargin": true,
           "gridcolor": "white",
           "linecolor": "white",
           "ticks": "",
           "title": {
            "standoff": 15
           },
           "zerolinecolor": "white",
           "zerolinewidth": 2
          },
          "yaxis": {
           "automargin": true,
           "gridcolor": "white",
           "linecolor": "white",
           "ticks": "",
           "title": {
            "standoff": 15
           },
           "zerolinecolor": "white",
           "zerolinewidth": 2
          }
         }
        },
        "title": {
         "text": "Migration LTLA: Lived at the same address one year ago"
        },
        "xaxis": {
         "anchor": "y",
         "categoryorder": "total ascending",
         "domain": [
          0,
          1
         ],
         "title": {
          "text": "Local Authority"
         }
        },
        "yaxis": {
         "anchor": "x",
         "domain": [
          0,
          1
         ],
         "title": {
          "text": "Count"
         }
        }
       }
      }
     },
     "metadata": {},
     "output_type": "display_data"
    },
    {
     "data": {
      "application/vnd.plotly.v1+json": {
       "config": {
        "plotlyServerURL": "https://plot.ly"
       },
       "data": [
        {
         "alignmentgroup": "True",
         "hovertemplate": "Lower tier local authorities label=%{x}<br>Count=%{y}<extra></extra>",
         "legendgroup": "",
         "marker": {
          "color": "#636efa",
          "pattern": {
           "shape": ""
          }
         },
         "name": "",
         "offsetgroup": "",
         "orientation": "v",
         "showlegend": false,
         "textposition": "auto",
         "type": "bar",
         "x": [
          "Birmingham",
          "Leeds",
          "Manchester",
          "Bristol",
          "Sheffield",
          "Liverpool",
          "Cornwall",
          "County Durham",
          "Cardiff",
          "Bournemouth, Christchurch and Poole",
          "Newcastle upon Tyne",
          "Bradford",
          "Nottingham",
          "Brighton and Hove",
          "Wiltshire",
          "West Northamptonshire",
          "Buckinghamshire",
          "Coventry",
          "Leicester",
          "Kirklees",
          "Wandsworth",
          "Cheshire East",
          "North Northamptonshire",
          "Tower Hamlets",
          "Southampton",
          "Plymouth",
          "Kingston upon Hull",
          "Cheshire West and Chester",
          "Dorset",
          "Newham",
          "Milton Keynes",
          "Brent",
          "Ealing",
          "Portsmouth",
          "York",
          "Oxford",
          "Barnet",
          "Wirral",
          "East Riding of Yorkshire",
          "Doncaster",
          "Wakefield",
          "Shropshire",
          "Croydon",
          "Lambeth",
          "Northumberland",
          "Derby",
          "Salford",
          "Swansea",
          "Southwark",
          "Swindon",
          "Wigan",
          "Sunderland",
          "Bath and North East Somerset",
          "Medway",
          "Hounslow",
          "Stoke-on-Trent",
          "South Gloucestershire",
          "Bolton",
          "Hillingdon",
          "Reading",
          "Peterborough",
          "Hackney",
          "Enfield",
          "Cambridge",
          "Canterbury",
          "Dudley",
          "Exeter",
          "Colchester",
          "Norwich",
          "Haringey",
          "Stockport",
          "Sefton",
          "Lewisham",
          "Bromley",
          "Wolverhampton",
          "Sandwell",
          "Rotherham",
          "Barnsley",
          "North Somerset",
          "East Suffolk",
          "Central Bedfordshire",
          "Luton",
          "Charnwood",
          "Waltham Forest",
          "Lancaster",
          "Greenwich",
          "Rhondda Cynon Taf",
          "Telford and Wrekin",
          "Redbridge",
          "Islington",
          "Camden",
          "Warrington",
          "Hammersmith and Fulham",
          "Calderdale",
          "Westminster",
          "Stockton-on-Tees",
          "Basingstoke and Deane",
          "Walsall",
          "Harrow",
          "Herefordshire",
          "Bedford",
          "North East Lincolnshire",
          "Lincoln",
          "Harrogate",
          "Warwick",
          "Preston",
          "North Tyneside",
          "Rochdale",
          "Isle of Wight",
          "Oldham",
          "North Lincolnshire",
          "Tameside",
          "West Suffolk",
          "Southend-on-Sea",
          "Havering",
          "Gateshead",
          "Guildford",
          "South Somerset",
          "Trafford",
          "Huntingdonshire",
          "Carmarthenshire",
          "Richmond upon Thames",
          "Maidstone",
          "Cherwell",
          "Somerset West and Taunton",
          "Middlesbrough",
          "Solihull",
          "Chelmsford",
          "Arun",
          "Thanet",
          "Cheltenham",
          "Bexley",
          "Merton",
          "Kingston upon Thames",
          "Blackpool",
          "New Forest",
          "St. Helens",
          "King's Lynn and West Norfolk",
          "Ipswich",
          "Bury",
          "Sutton",
          "Blackburn with Darwen",
          "Torbay",
          "Tendring",
          "Gwynedd",
          "West Berkshire",
          "Swale",
          "Caerphilly",
          "Wokingham",
          "Slough",
          "East Devon",
          "Basildon",
          "Gloucester",
          "Winchester",
          "Ashford",
          "South Tyneside",
          "Thurrock",
          "Flintshire",
          "Bridgend",
          "Carlisle",
          "Welwyn Hatfield",
          "Kensington and Chelsea",
          "Newport",
          "St Albans",
          "Wrexham",
          "East Lindsey",
          "Redcar and Cleveland",
          "South Kesteven",
          "Mid Sussex",
          "Stafford",
          "Vale of White Horse",
          "Crawley",
          "Wealden",
          "Braintree",
          "East Hertfordshire",
          "Breckland",
          "Horsham",
          "Pembrokeshire",
          "Stratford-on-Avon",
          "Sedgemoor",
          "South Oxfordshire",
          "Teignbridge",
          "Dacorum",
          "Vale of Glamorgan",
          "Barking and Dagenham",
          "Windsor and Maidenhead",
          "Worcester",
          "Rugby",
          "West Oxfordshire",
          "Chichester",
          "Scarborough",
          "Darlington",
          "Powys",
          "Dover",
          "West Lancashire",
          "Nuneaton and Bedworth",
          "East Staffordshire",
          "Newark and Sherwood",
          "Hartlepool",
          "Reigate and Banstead",
          "Newcastle-under-Lyme",
          "South Cambridgeshire",
          "Neath Port Talbot",
          "Halton",
          "Great Yarmouth",
          "Eastleigh",
          "Bassetlaw",
          "North Devon",
          "Bracknell Forest",
          "Eastbourne",
          "Worthing",
          "Test Valley",
          "Elmbridge",
          "Ceredigion",
          "Tunbridge Wells",
          "Waverley",
          "South Norfolk",
          "Conwy",
          "Runnymede",
          "Folkestone and Hythe",
          "Wyre",
          "Mendip",
          "Amber Valley",
          "Rushcliffe",
          "East Hampshire",
          "South Holland",
          "North Kesteven",
          "North Hertfordshire",
          "Stroud",
          "South Lakeland",
          "Wychavon",
          "Fenland",
          "Burnley",
          "Wyre Forest",
          "Mansfield",
          "Knowsley",
          "Woking",
          "Broadland",
          "Chorley",
          "Hastings",
          "North West Leicestershire",
          "Denbighshire",
          "Havant",
          "Hinckley and Bosworth",
          "Rushmoor",
          "Ashfield",
          "Chesterfield",
          "Allerdale",
          "Pendle",
          "Erewash",
          "Boston",
          "Fareham",
          "Epping Forest",
          "Harlow",
          "Tonbridge and Malling",
          "South Ribble",
          "Gosport",
          "Redditch",
          "High Peak",
          "Watford",
          "Mid Suffolk",
          "North Norfolk",
          "Torfaen",
          "Lewes",
          "Gedling",
          "West Lindsey",
          "Cotswold",
          "South Derbyshire",
          "Harborough",
          "Barrow-in-Furness",
          "Gravesham",
          "Mid Devon",
          "Lichfield",
          "Cannock Chase",
          "Broxtowe",
          "Hambleton",
          "Selby",
          "East Cambridgeshire",
          "Tamworth",
          "Hart",
          "Babergh",
          "Stevenage",
          "South Hams",
          "Hyndburn",
          "Spelthorne",
          "Monmouthshire",
          "Staffordshire Moorlands",
          "Sevenoaks",
          "Fylde",
          "Rother",
          "Copeland",
          "Dartford",
          "Hertsmere",
          "Forest of Dean",
          "Tewkesbury",
          "Torridge",
          "Broxbourne",
          "North East Derbyshire",
          "Uttlesford",
          "Isle of Anglesey",
          "Bromsgrove",
          "Blaby",
          "Blaenau Gwent",
          "Surrey Heath",
          "Castle Point",
          "Rossendale",
          "Malvern Hills",
          "Brentwood",
          "Bolsover",
          "South Staffordshire",
          "Mole Valley",
          "Ribble Valley",
          "Rochford",
          "Derbyshire Dales",
          "Ryedale",
          "Eden",
          "Merthyr Tydfil",
          "Craven",
          "Maldon",
          "Melton",
          "West Devon",
          "Epsom and Ewell",
          "Tandridge",
          "Three Rivers",
          "Richmondshire",
          "Adur",
          "North Warwickshire",
          "Oadby and Wigston",
          "Rutland",
          "City of London",
          "Isles of Scilly"
         ],
         "xaxis": "x",
         "y": [
          71452,
          69090,
          46102,
          44650,
          43303,
          38667,
          38553,
          34207,
          33176,
          32268,
          30123,
          29455,
          29276,
          28866,
          27659,
          27504,
          26654,
          26024,
          25279,
          22767,
          22435,
          22388,
          21848,
          21632,
          21051,
          20929,
          19348,
          19330,
          18995,
          18420,
          18358,
          18339,
          17880,
          17821,
          17748,
          17591,
          17538,
          17310,
          17020,
          16944,
          16866,
          16634,
          16583,
          16483,
          16039,
          15995,
          15972,
          15607,
          15575,
          15502,
          15275,
          14986,
          14958,
          14711,
          14381,
          14170,
          14067,
          13911,
          13604,
          13470,
          13326,
          13254,
          13104,
          13104,
          13102,
          12972,
          12870,
          12847,
          12693,
          12679,
          12625,
          12579,
          12402,
          12368,
          12319,
          12311,
          12194,
          12158,
          12085,
          12066,
          12009,
          11973,
          11851,
          11757,
          11721,
          11639,
          11621,
          11539,
          11317,
          11274,
          11224,
          10928,
          10826,
          10764,
          10759,
          10717,
          10617,
          10580,
          10372,
          10199,
          10078,
          10075,
          10070,
          9920,
          9818,
          9788,
          9774,
          9764,
          9738,
          9585,
          9579,
          9534,
          9525,
          9457,
          9333,
          9244,
          9215,
          9048,
          9021,
          9002,
          8944,
          8918,
          8648,
          8531,
          8492,
          8428,
          8424,
          8366,
          8322,
          8236,
          8203,
          8079,
          8015,
          7956,
          7936,
          7883,
          7821,
          7798,
          7725,
          7646,
          7585,
          7556,
          7506,
          7463,
          7438,
          7430,
          7406,
          7379,
          7354,
          7311,
          7276,
          7230,
          7136,
          7128,
          7076,
          7023,
          7004,
          6995,
          6946,
          6939,
          6890,
          6881,
          6879,
          6862,
          6855,
          6838,
          6823,
          6765,
          6728,
          6723,
          6699,
          6677,
          6668,
          6646,
          6604,
          6541,
          6459,
          6443,
          6424,
          6362,
          6359,
          6336,
          6331,
          6321,
          6313,
          6310,
          6283,
          6262,
          6246,
          6148,
          6139,
          6114,
          6057,
          5965,
          5962,
          5961,
          5942,
          5924,
          5924,
          5900,
          5887,
          5873,
          5853,
          5835,
          5832,
          5777,
          5679,
          5677,
          5595,
          5594,
          5550,
          5512,
          5495,
          5478,
          5443,
          5408,
          5371,
          5288,
          5235,
          5211,
          5040,
          5036,
          5031,
          5019,
          5009,
          4970,
          4964,
          4929,
          4927,
          4899,
          4889,
          4809,
          4783,
          4746,
          4726,
          4725,
          4710,
          4688,
          4671,
          4667,
          4612,
          4601,
          4593,
          4573,
          4539,
          4531,
          4530,
          4520,
          4451,
          4445,
          4424,
          4312,
          4306,
          4277,
          4261,
          4248,
          4204,
          4190,
          4180,
          4175,
          4120,
          4111,
          4084,
          4028,
          4012,
          3997,
          3987,
          3979,
          3979,
          3941,
          3905,
          3893,
          3874,
          3863,
          3848,
          3818,
          3719,
          3675,
          3649,
          3599,
          3590,
          3585,
          3582,
          3537,
          3535,
          3458,
          3458,
          3442,
          3421,
          3396,
          3377,
          3337,
          3305,
          3225,
          3178,
          3175,
          3140,
          3119,
          3116,
          3106,
          3049,
          3001,
          2970,
          2961,
          2918,
          2849,
          2831,
          2810,
          2809,
          2757,
          2740,
          2659,
          2657,
          2494,
          2494,
          2381,
          2365,
          2322,
          2302,
          2293,
          2236,
          2182,
          2148,
          2144,
          2010,
          1984,
          1936,
          1467,
          1341,
          176,
          73
         ],
         "yaxis": "y"
        }
       ],
       "layout": {
        "barmode": "relative",
        "legend": {
         "tracegroupgap": 0
        },
        "template": {
         "data": {
          "bar": [
           {
            "error_x": {
             "color": "#2a3f5f"
            },
            "error_y": {
             "color": "#2a3f5f"
            },
            "marker": {
             "line": {
              "color": "#E5ECF6",
              "width": 0.5
             },
             "pattern": {
              "fillmode": "overlay",
              "size": 10,
              "solidity": 0.2
             }
            },
            "type": "bar"
           }
          ],
          "barpolar": [
           {
            "marker": {
             "line": {
              "color": "#E5ECF6",
              "width": 0.5
             },
             "pattern": {
              "fillmode": "overlay",
              "size": 10,
              "solidity": 0.2
             }
            },
            "type": "barpolar"
           }
          ],
          "carpet": [
           {
            "aaxis": {
             "endlinecolor": "#2a3f5f",
             "gridcolor": "white",
             "linecolor": "white",
             "minorgridcolor": "white",
             "startlinecolor": "#2a3f5f"
            },
            "baxis": {
             "endlinecolor": "#2a3f5f",
             "gridcolor": "white",
             "linecolor": "white",
             "minorgridcolor": "white",
             "startlinecolor": "#2a3f5f"
            },
            "type": "carpet"
           }
          ],
          "choropleth": [
           {
            "colorbar": {
             "outlinewidth": 0,
             "ticks": ""
            },
            "type": "choropleth"
           }
          ],
          "contour": [
           {
            "colorbar": {
             "outlinewidth": 0,
             "ticks": ""
            },
            "colorscale": [
             [
              0,
              "#0d0887"
             ],
             [
              0.1111111111111111,
              "#46039f"
             ],
             [
              0.2222222222222222,
              "#7201a8"
             ],
             [
              0.3333333333333333,
              "#9c179e"
             ],
             [
              0.4444444444444444,
              "#bd3786"
             ],
             [
              0.5555555555555556,
              "#d8576b"
             ],
             [
              0.6666666666666666,
              "#ed7953"
             ],
             [
              0.7777777777777778,
              "#fb9f3a"
             ],
             [
              0.8888888888888888,
              "#fdca26"
             ],
             [
              1,
              "#f0f921"
             ]
            ],
            "type": "contour"
           }
          ],
          "contourcarpet": [
           {
            "colorbar": {
             "outlinewidth": 0,
             "ticks": ""
            },
            "type": "contourcarpet"
           }
          ],
          "heatmap": [
           {
            "colorbar": {
             "outlinewidth": 0,
             "ticks": ""
            },
            "colorscale": [
             [
              0,
              "#0d0887"
             ],
             [
              0.1111111111111111,
              "#46039f"
             ],
             [
              0.2222222222222222,
              "#7201a8"
             ],
             [
              0.3333333333333333,
              "#9c179e"
             ],
             [
              0.4444444444444444,
              "#bd3786"
             ],
             [
              0.5555555555555556,
              "#d8576b"
             ],
             [
              0.6666666666666666,
              "#ed7953"
             ],
             [
              0.7777777777777778,
              "#fb9f3a"
             ],
             [
              0.8888888888888888,
              "#fdca26"
             ],
             [
              1,
              "#f0f921"
             ]
            ],
            "type": "heatmap"
           }
          ],
          "heatmapgl": [
           {
            "colorbar": {
             "outlinewidth": 0,
             "ticks": ""
            },
            "colorscale": [
             [
              0,
              "#0d0887"
             ],
             [
              0.1111111111111111,
              "#46039f"
             ],
             [
              0.2222222222222222,
              "#7201a8"
             ],
             [
              0.3333333333333333,
              "#9c179e"
             ],
             [
              0.4444444444444444,
              "#bd3786"
             ],
             [
              0.5555555555555556,
              "#d8576b"
             ],
             [
              0.6666666666666666,
              "#ed7953"
             ],
             [
              0.7777777777777778,
              "#fb9f3a"
             ],
             [
              0.8888888888888888,
              "#fdca26"
             ],
             [
              1,
              "#f0f921"
             ]
            ],
            "type": "heatmapgl"
           }
          ],
          "histogram": [
           {
            "marker": {
             "pattern": {
              "fillmode": "overlay",
              "size": 10,
              "solidity": 0.2
             }
            },
            "type": "histogram"
           }
          ],
          "histogram2d": [
           {
            "colorbar": {
             "outlinewidth": 0,
             "ticks": ""
            },
            "colorscale": [
             [
              0,
              "#0d0887"
             ],
             [
              0.1111111111111111,
              "#46039f"
             ],
             [
              0.2222222222222222,
              "#7201a8"
             ],
             [
              0.3333333333333333,
              "#9c179e"
             ],
             [
              0.4444444444444444,
              "#bd3786"
             ],
             [
              0.5555555555555556,
              "#d8576b"
             ],
             [
              0.6666666666666666,
              "#ed7953"
             ],
             [
              0.7777777777777778,
              "#fb9f3a"
             ],
             [
              0.8888888888888888,
              "#fdca26"
             ],
             [
              1,
              "#f0f921"
             ]
            ],
            "type": "histogram2d"
           }
          ],
          "histogram2dcontour": [
           {
            "colorbar": {
             "outlinewidth": 0,
             "ticks": ""
            },
            "colorscale": [
             [
              0,
              "#0d0887"
             ],
             [
              0.1111111111111111,
              "#46039f"
             ],
             [
              0.2222222222222222,
              "#7201a8"
             ],
             [
              0.3333333333333333,
              "#9c179e"
             ],
             [
              0.4444444444444444,
              "#bd3786"
             ],
             [
              0.5555555555555556,
              "#d8576b"
             ],
             [
              0.6666666666666666,
              "#ed7953"
             ],
             [
              0.7777777777777778,
              "#fb9f3a"
             ],
             [
              0.8888888888888888,
              "#fdca26"
             ],
             [
              1,
              "#f0f921"
             ]
            ],
            "type": "histogram2dcontour"
           }
          ],
          "mesh3d": [
           {
            "colorbar": {
             "outlinewidth": 0,
             "ticks": ""
            },
            "type": "mesh3d"
           }
          ],
          "parcoords": [
           {
            "line": {
             "colorbar": {
              "outlinewidth": 0,
              "ticks": ""
             }
            },
            "type": "parcoords"
           }
          ],
          "pie": [
           {
            "automargin": true,
            "type": "pie"
           }
          ],
          "scatter": [
           {
            "fillpattern": {
             "fillmode": "overlay",
             "size": 10,
             "solidity": 0.2
            },
            "type": "scatter"
           }
          ],
          "scatter3d": [
           {
            "line": {
             "colorbar": {
              "outlinewidth": 0,
              "ticks": ""
             }
            },
            "marker": {
             "colorbar": {
              "outlinewidth": 0,
              "ticks": ""
             }
            },
            "type": "scatter3d"
           }
          ],
          "scattercarpet": [
           {
            "marker": {
             "colorbar": {
              "outlinewidth": 0,
              "ticks": ""
             }
            },
            "type": "scattercarpet"
           }
          ],
          "scattergeo": [
           {
            "marker": {
             "colorbar": {
              "outlinewidth": 0,
              "ticks": ""
             }
            },
            "type": "scattergeo"
           }
          ],
          "scattergl": [
           {
            "marker": {
             "colorbar": {
              "outlinewidth": 0,
              "ticks": ""
             }
            },
            "type": "scattergl"
           }
          ],
          "scattermapbox": [
           {
            "marker": {
             "colorbar": {
              "outlinewidth": 0,
              "ticks": ""
             }
            },
            "type": "scattermapbox"
           }
          ],
          "scatterpolar": [
           {
            "marker": {
             "colorbar": {
              "outlinewidth": 0,
              "ticks": ""
             }
            },
            "type": "scatterpolar"
           }
          ],
          "scatterpolargl": [
           {
            "marker": {
             "colorbar": {
              "outlinewidth": 0,
              "ticks": ""
             }
            },
            "type": "scatterpolargl"
           }
          ],
          "scatterternary": [
           {
            "marker": {
             "colorbar": {
              "outlinewidth": 0,
              "ticks": ""
             }
            },
            "type": "scatterternary"
           }
          ],
          "surface": [
           {
            "colorbar": {
             "outlinewidth": 0,
             "ticks": ""
            },
            "colorscale": [
             [
              0,
              "#0d0887"
             ],
             [
              0.1111111111111111,
              "#46039f"
             ],
             [
              0.2222222222222222,
              "#7201a8"
             ],
             [
              0.3333333333333333,
              "#9c179e"
             ],
             [
              0.4444444444444444,
              "#bd3786"
             ],
             [
              0.5555555555555556,
              "#d8576b"
             ],
             [
              0.6666666666666666,
              "#ed7953"
             ],
             [
              0.7777777777777778,
              "#fb9f3a"
             ],
             [
              0.8888888888888888,
              "#fdca26"
             ],
             [
              1,
              "#f0f921"
             ]
            ],
            "type": "surface"
           }
          ],
          "table": [
           {
            "cells": {
             "fill": {
              "color": "#EBF0F8"
             },
             "line": {
              "color": "white"
             }
            },
            "header": {
             "fill": {
              "color": "#C8D4E3"
             },
             "line": {
              "color": "white"
             }
            },
            "type": "table"
           }
          ]
         },
         "layout": {
          "annotationdefaults": {
           "arrowcolor": "#2a3f5f",
           "arrowhead": 0,
           "arrowwidth": 1
          },
          "autotypenumbers": "strict",
          "coloraxis": {
           "colorbar": {
            "outlinewidth": 0,
            "ticks": ""
           }
          },
          "colorscale": {
           "diverging": [
            [
             0,
             "#8e0152"
            ],
            [
             0.1,
             "#c51b7d"
            ],
            [
             0.2,
             "#de77ae"
            ],
            [
             0.3,
             "#f1b6da"
            ],
            [
             0.4,
             "#fde0ef"
            ],
            [
             0.5,
             "#f7f7f7"
            ],
            [
             0.6,
             "#e6f5d0"
            ],
            [
             0.7,
             "#b8e186"
            ],
            [
             0.8,
             "#7fbc41"
            ],
            [
             0.9,
             "#4d9221"
            ],
            [
             1,
             "#276419"
            ]
           ],
           "sequential": [
            [
             0,
             "#0d0887"
            ],
            [
             0.1111111111111111,
             "#46039f"
            ],
            [
             0.2222222222222222,
             "#7201a8"
            ],
            [
             0.3333333333333333,
             "#9c179e"
            ],
            [
             0.4444444444444444,
             "#bd3786"
            ],
            [
             0.5555555555555556,
             "#d8576b"
            ],
            [
             0.6666666666666666,
             "#ed7953"
            ],
            [
             0.7777777777777778,
             "#fb9f3a"
            ],
            [
             0.8888888888888888,
             "#fdca26"
            ],
            [
             1,
             "#f0f921"
            ]
           ],
           "sequentialminus": [
            [
             0,
             "#0d0887"
            ],
            [
             0.1111111111111111,
             "#46039f"
            ],
            [
             0.2222222222222222,
             "#7201a8"
            ],
            [
             0.3333333333333333,
             "#9c179e"
            ],
            [
             0.4444444444444444,
             "#bd3786"
            ],
            [
             0.5555555555555556,
             "#d8576b"
            ],
            [
             0.6666666666666666,
             "#ed7953"
            ],
            [
             0.7777777777777778,
             "#fb9f3a"
            ],
            [
             0.8888888888888888,
             "#fdca26"
            ],
            [
             1,
             "#f0f921"
            ]
           ]
          },
          "colorway": [
           "#636efa",
           "#EF553B",
           "#00cc96",
           "#ab63fa",
           "#FFA15A",
           "#19d3f3",
           "#FF6692",
           "#B6E880",
           "#FF97FF",
           "#FECB52"
          ],
          "font": {
           "color": "#2a3f5f"
          },
          "geo": {
           "bgcolor": "white",
           "lakecolor": "white",
           "landcolor": "#E5ECF6",
           "showlakes": true,
           "showland": true,
           "subunitcolor": "white"
          },
          "hoverlabel": {
           "align": "left"
          },
          "hovermode": "closest",
          "mapbox": {
           "style": "light"
          },
          "paper_bgcolor": "white",
          "plot_bgcolor": "#E5ECF6",
          "polar": {
           "angularaxis": {
            "gridcolor": "white",
            "linecolor": "white",
            "ticks": ""
           },
           "bgcolor": "#E5ECF6",
           "radialaxis": {
            "gridcolor": "white",
            "linecolor": "white",
            "ticks": ""
           }
          },
          "scene": {
           "xaxis": {
            "backgroundcolor": "#E5ECF6",
            "gridcolor": "white",
            "gridwidth": 2,
            "linecolor": "white",
            "showbackground": true,
            "ticks": "",
            "zerolinecolor": "white"
           },
           "yaxis": {
            "backgroundcolor": "#E5ECF6",
            "gridcolor": "white",
            "gridwidth": 2,
            "linecolor": "white",
            "showbackground": true,
            "ticks": "",
            "zerolinecolor": "white"
           },
           "zaxis": {
            "backgroundcolor": "#E5ECF6",
            "gridcolor": "white",
            "gridwidth": 2,
            "linecolor": "white",
            "showbackground": true,
            "ticks": "",
            "zerolinecolor": "white"
           }
          },
          "shapedefaults": {
           "line": {
            "color": "#2a3f5f"
           }
          },
          "ternary": {
           "aaxis": {
            "gridcolor": "white",
            "linecolor": "white",
            "ticks": ""
           },
           "baxis": {
            "gridcolor": "white",
            "linecolor": "white",
            "ticks": ""
           },
           "bgcolor": "#E5ECF6",
           "caxis": {
            "gridcolor": "white",
            "linecolor": "white",
            "ticks": ""
           }
          },
          "title": {
           "x": 0.05
          },
          "xaxis": {
           "automargin": true,
           "gridcolor": "white",
           "linecolor": "white",
           "ticks": "",
           "title": {
            "standoff": 15
           },
           "zerolinecolor": "white",
           "zerolinewidth": 2
          },
          "yaxis": {
           "automargin": true,
           "gridcolor": "white",
           "linecolor": "white",
           "ticks": "",
           "title": {
            "standoff": 15
           },
           "zerolinecolor": "white",
           "zerolinewidth": 2
          }
         }
        },
        "title": {
         "text": "Migration LTLA: Inflow: lived elsewhere one year ago, but within the same area"
        },
        "xaxis": {
         "anchor": "y",
         "categoryorder": "total ascending",
         "domain": [
          0,
          1
         ],
         "title": {
          "text": "Local Authority"
         }
        },
        "yaxis": {
         "anchor": "x",
         "domain": [
          0,
          1
         ],
         "title": {
          "text": "Count"
         }
        }
       }
      }
     },
     "metadata": {},
     "output_type": "display_data"
    },
    {
     "data": {
      "application/vnd.plotly.v1+json": {
       "config": {
        "plotlyServerURL": "https://plot.ly"
       },
       "data": [
        {
         "alignmentgroup": "True",
         "hovertemplate": "Lower tier local authorities label=%{x}<br>Count=%{y}<extra></extra>",
         "legendgroup": "",
         "marker": {
          "color": "#636efa",
          "pattern": {
           "shape": ""
          }
         },
         "name": "",
         "offsetgroup": "",
         "orientation": "v",
         "showlegend": false,
         "textposition": "auto",
         "type": "bar",
         "x": [
          "Wandsworth",
          "Lambeth",
          "Tower Hamlets",
          "Southwark",
          "Islington",
          "Hackney",
          "Manchester",
          "Westminster",
          "Camden",
          "Lewisham",
          "Haringey",
          "Newham",
          "Hammersmith and Fulham",
          "Barnet",
          "Brent",
          "Ealing",
          "Birmingham",
          "Greenwich",
          "Croydon",
          "Leeds",
          "Salford",
          "Bristol",
          "Waltham Forest",
          "Liverpool",
          "Bromley",
          "Merton",
          "Redbridge",
          "Kensington and Chelsea",
          "Hillingdon",
          "South Gloucestershire",
          "Hounslow",
          "Nottingham",
          "Harrow",
          "Enfield",
          "Newcastle upon Tyne",
          "Central Bedfordshire",
          "Havering",
          "Cardiff",
          "East Riding of Yorkshire",
          "Barking and Dagenham",
          "Richmond upon Thames",
          "Brighton and Hove",
          "Dorset",
          "Wiltshire",
          "Cheshire East",
          "Stockport",
          "Sandwell",
          "Southampton",
          "Wigan",
          "Norwich",
          "Bexley",
          "Wokingham",
          "Portsmouth",
          "County Durham",
          "Sutton",
          "Dudley",
          "Wakefield",
          "Cheshire West and Chester",
          "Cornwall",
          "Trafford",
          "Kirklees",
          "Buckinghamshire",
          "Winchester",
          "Guildford",
          "Bradford",
          "Walsall",
          "Kingston upon Thames",
          "Bath and North East Somerset",
          "Solihull",
          "South Cambridgeshire",
          "Plymouth",
          "Sheffield",
          "Leicester",
          "Wealden",
          "Shropshire",
          "Maidstone",
          "Reading",
          "South Norfolk",
          "Oxford",
          "West Lancashire",
          "East Suffolk",
          "Canterbury",
          "Wolverhampton",
          "Swansea",
          "Sefton",
          "South Oxfordshire",
          "Eastleigh",
          "Northumberland",
          "West Suffolk",
          "Exeter",
          "Chichester",
          "Charnwood",
          "North Somerset",
          "Vale of White Horse",
          "Colchester",
          "Bournemouth, Christchurch and Poole",
          "Horsham",
          "Arun",
          "Coventry",
          "Warwick",
          "Medway",
          "Braintree",
          "South Staffordshire",
          "York",
          "Mid Sussex",
          "Chelmsford",
          "Bracknell Forest",
          "East Hampshire",
          "East Devon",
          "Gateshead",
          "Rushcliffe",
          "Kingston upon Hull",
          "Basingstoke and Deane",
          "Knowsley",
          "Preston",
          "Bolton",
          "Waverley",
          "Broadland",
          "Huntingdonshire",
          "Warrington",
          "Derby",
          "Cambridge",
          "North Tyneside",
          "Breckland",
          "Stratford-on-Avon",
          "Tameside",
          "East Hertfordshire",
          "Stoke-on-Trent",
          "Windsor and Maidenhead",
          "Doncaster",
          "South Somerset",
          "Rotherham",
          "Broxtowe",
          "Bury",
          "Barnsley",
          "Wyre",
          "St. Helens",
          "Rochdale",
          "Havant",
          "West Berkshire",
          "Test Valley",
          "Lincoln",
          "Tonbridge and Malling",
          "Mid Suffolk",
          "Gedling",
          "Cherwell",
          "North Hertfordshire",
          "Hart",
          "Bromsgrove",
          "Tendring",
          "Fareham",
          "Teignbridge",
          "Harrogate",
          "Harborough",
          "Lichfield",
          "Chorley",
          "Blaby",
          "Wychavon",
          "Telford and Wrekin",
          "Newark and Sherwood",
          "Oldham",
          "Swale",
          "Ashfield",
          "Worthing",
          "Tunbridge Wells",
          "Wirral",
          "North Kesteven",
          "Stroud",
          "Rhondda Cynon Taf",
          "Lancaster",
          "Newcastle-under-Lyme",
          "Sunderland",
          "Stafford",
          "Gloucester",
          "North Northamptonshire",
          "South Ribble",
          "Babergh",
          "Rother",
          "Rushmoor",
          "Surrey Heath",
          "Tewkesbury",
          "Runnymede",
          "Cheltenham",
          "Southend-on-Sea",
          "Bedford",
          "Selby",
          "Lewes",
          "Ashford",
          "Somerset West and Taunton",
          "Amber Valley",
          "North West Leicestershire",
          "Sedgemoor",
          "South Hams",
          "Worcester",
          "Stockton-on-Tees",
          "Basildon",
          "Uttlesford",
          "Ipswich",
          "Cannock Chase",
          "South Derbyshire",
          "Mendip",
          "Erewash",
          "Reigate and Banstead",
          "King's Lynn and West Norfolk",
          "North Norfolk",
          "Calderdale",
          "Fylde",
          "Eastbourne",
          "Welwyn Hatfield",
          "Carmarthenshire",
          "Blackpool",
          "Vale of Glamorgan",
          "Mansfield",
          "Nuneaton and Bedworth",
          "Woking",
          "Dacorum",
          "West Oxfordshire",
          "Middlesbrough",
          "Rochford",
          "Dover",
          "New Forest",
          "Bridgend",
          "East Cambridgeshire",
          "St Albans",
          "Blackburn with Darwen",
          "West Northamptonshire",
          "Neath Port Talbot",
          "Mid Devon",
          "Fenland",
          "Caerphilly",
          "Peterborough",
          "Newport",
          "Bolsover",
          "Crawley",
          "Mole Valley",
          "Malvern Hills",
          "Maldon",
          "Torbay",
          "North Warwickshire",
          "Folkestone and Hythe",
          "Adur",
          "Castle Point",
          "Wyre Forest",
          "Ribble Valley",
          "Luton",
          "North East Derbyshire",
          "West Lindsey",
          "Oadby and Wigston",
          "Sevenoaks",
          "Hambleton",
          "Tamworth",
          "South Kesteven",
          "Hinckley and Bosworth",
          "Halton",
          "East Lindsey",
          "Rugby",
          "Gosport",
          "Elmbridge",
          "Cotswold",
          "South Tyneside",
          "Swindon",
          "Hyndburn",
          "Stevenage",
          "Thanet",
          "Burnley",
          "North Devon",
          "South Lakeland",
          "Rossendale",
          "Redditch",
          "Forest of Dean",
          "Staffordshire Moorlands",
          "North Lincolnshire",
          "West Devon",
          "Gravesham",
          "Chesterfield",
          "Hastings",
          "Great Yarmouth",
          "Watford",
          "Three Rivers",
          "East Staffordshire",
          "Scarborough",
          "Tandridge",
          "Milton Keynes",
          "Slough",
          "Torridge",
          "Ceredigion",
          "Denbighshire",
          "Darlington",
          "Epping Forest",
          "Isle of Wight",
          "Dartford",
          "Bassetlaw",
          "Harlow",
          "Gwynedd",
          "Herefordshire",
          "Derbyshire Dales",
          "Melton",
          "Monmouthshire",
          "Spelthorne",
          "Pendle",
          "Redcar and Cleveland",
          "Ryedale",
          "Torfaen",
          "Carlisle",
          "Craven",
          "Pembrokeshire",
          "Hertsmere",
          "Flintshire",
          "Thurrock",
          "Conwy",
          "Rutland",
          "Allerdale",
          "Brentwood",
          "Powys",
          "Hartlepool",
          "City of London",
          "Broxbourne",
          "Blaenau Gwent",
          "Epsom and Ewell",
          "South Holland",
          "Boston",
          "Wrexham",
          "Merthyr Tydfil",
          "North East Lincolnshire",
          "Copeland",
          "Richmondshire",
          "Eden",
          "Isle of Anglesey",
          "Barrow-in-Furness",
          "High Peak",
          "Isles of Scilly"
         ],
         "xaxis": "x",
         "y": [
          24641,
          24411,
          23233,
          21032,
          18847,
          17965,
          17355,
          15996,
          15853,
          15492,
          15222,
          15043,
          14964,
          14915,
          14908,
          14579,
          13966,
          13895,
          12966,
          12728,
          12511,
          12474,
          12450,
          12040,
          11139,
          11057,
          11057,
          10491,
          10092,
          9947,
          9745,
          9553,
          9528,
          9048,
          8978,
          8410,
          8311,
          8281,
          8242,
          8179,
          8134,
          7941,
          7866,
          7812,
          7738,
          7480,
          7395,
          7141,
          7104,
          7101,
          6982,
          6878,
          6759,
          6734,
          6710,
          6679,
          6638,
          6635,
          6629,
          6536,
          6518,
          6476,
          6399,
          6398,
          6384,
          6305,
          6290,
          6062,
          6036,
          5922,
          5916,
          5804,
          5788,
          5742,
          5696,
          5680,
          5612,
          5571,
          5534,
          5489,
          5481,
          5441,
          5437,
          5426,
          5393,
          5391,
          5308,
          5287,
          5227,
          5209,
          5124,
          5119,
          5109,
          5083,
          5082,
          5069,
          5037,
          5003,
          4975,
          4971,
          4947,
          4893,
          4831,
          4820,
          4814,
          4775,
          4767,
          4757,
          4739,
          4698,
          4691,
          4643,
          4631,
          4628,
          4606,
          4595,
          4565,
          4558,
          4543,
          4402,
          4401,
          4389,
          4350,
          4329,
          4316,
          4303,
          4292,
          4282,
          4280,
          4264,
          4260,
          4249,
          4232,
          4229,
          4188,
          4181,
          4178,
          4176,
          4169,
          4101,
          4068,
          4022,
          3971,
          3970,
          3969,
          3933,
          3927,
          3908,
          3903,
          3892,
          3854,
          3830,
          3785,
          3781,
          3774,
          3761,
          3727,
          3717,
          3700,
          3699,
          3699,
          3675,
          3660,
          3648,
          3617,
          3606,
          3601,
          3574,
          3565,
          3563,
          3550,
          3531,
          3527,
          3523,
          3496,
          3488,
          3483,
          3463,
          3453,
          3451,
          3443,
          3434,
          3425,
          3424,
          3392,
          3371,
          3364,
          3355,
          3309,
          3302,
          3248,
          3248,
          3246,
          3229,
          3207,
          3184,
          3175,
          3175,
          3174,
          3165,
          3142,
          3119,
          3102,
          3091,
          3086,
          3071,
          3062,
          3024,
          3019,
          3013,
          3013,
          2972,
          2927,
          2907,
          2896,
          2885,
          2861,
          2809,
          2780,
          2773,
          2769,
          2757,
          2746,
          2731,
          2727,
          2713,
          2690,
          2649,
          2623,
          2598,
          2589,
          2585,
          2581,
          2578,
          2553,
          2552,
          2539,
          2526,
          2519,
          2514,
          2484,
          2430,
          2404,
          2395,
          2380,
          2372,
          2359,
          2321,
          2310,
          2286,
          2281,
          2279,
          2274,
          2268,
          2223,
          2183,
          2145,
          2139,
          2082,
          2079,
          2076,
          2073,
          2040,
          2036,
          2009,
          2003,
          1993,
          1983,
          1940,
          1932,
          1927,
          1919,
          1911,
          1902,
          1893,
          1888,
          1857,
          1759,
          1738,
          1736,
          1732,
          1704,
          1701,
          1693,
          1676,
          1670,
          1663,
          1659,
          1658,
          1631,
          1626,
          1608,
          1602,
          1594,
          1590,
          1551,
          1551,
          1551,
          1528,
          1518,
          1515,
          1490,
          1452,
          1432,
          1430,
          1405,
          1387,
          1361,
          1322,
          1287,
          1270,
          1267,
          1257,
          1255,
          1227,
          1205,
          1126,
          1087,
          1075,
          1070,
          1059,
          1033,
          934,
          912,
          865,
          864,
          855,
          804,
          729,
          342,
          61
         ],
         "yaxis": "y"
        }
       ],
       "layout": {
        "barmode": "relative",
        "legend": {
         "tracegroupgap": 0
        },
        "template": {
         "data": {
          "bar": [
           {
            "error_x": {
             "color": "#2a3f5f"
            },
            "error_y": {
             "color": "#2a3f5f"
            },
            "marker": {
             "line": {
              "color": "#E5ECF6",
              "width": 0.5
             },
             "pattern": {
              "fillmode": "overlay",
              "size": 10,
              "solidity": 0.2
             }
            },
            "type": "bar"
           }
          ],
          "barpolar": [
           {
            "marker": {
             "line": {
              "color": "#E5ECF6",
              "width": 0.5
             },
             "pattern": {
              "fillmode": "overlay",
              "size": 10,
              "solidity": 0.2
             }
            },
            "type": "barpolar"
           }
          ],
          "carpet": [
           {
            "aaxis": {
             "endlinecolor": "#2a3f5f",
             "gridcolor": "white",
             "linecolor": "white",
             "minorgridcolor": "white",
             "startlinecolor": "#2a3f5f"
            },
            "baxis": {
             "endlinecolor": "#2a3f5f",
             "gridcolor": "white",
             "linecolor": "white",
             "minorgridcolor": "white",
             "startlinecolor": "#2a3f5f"
            },
            "type": "carpet"
           }
          ],
          "choropleth": [
           {
            "colorbar": {
             "outlinewidth": 0,
             "ticks": ""
            },
            "type": "choropleth"
           }
          ],
          "contour": [
           {
            "colorbar": {
             "outlinewidth": 0,
             "ticks": ""
            },
            "colorscale": [
             [
              0,
              "#0d0887"
             ],
             [
              0.1111111111111111,
              "#46039f"
             ],
             [
              0.2222222222222222,
              "#7201a8"
             ],
             [
              0.3333333333333333,
              "#9c179e"
             ],
             [
              0.4444444444444444,
              "#bd3786"
             ],
             [
              0.5555555555555556,
              "#d8576b"
             ],
             [
              0.6666666666666666,
              "#ed7953"
             ],
             [
              0.7777777777777778,
              "#fb9f3a"
             ],
             [
              0.8888888888888888,
              "#fdca26"
             ],
             [
              1,
              "#f0f921"
             ]
            ],
            "type": "contour"
           }
          ],
          "contourcarpet": [
           {
            "colorbar": {
             "outlinewidth": 0,
             "ticks": ""
            },
            "type": "contourcarpet"
           }
          ],
          "heatmap": [
           {
            "colorbar": {
             "outlinewidth": 0,
             "ticks": ""
            },
            "colorscale": [
             [
              0,
              "#0d0887"
             ],
             [
              0.1111111111111111,
              "#46039f"
             ],
             [
              0.2222222222222222,
              "#7201a8"
             ],
             [
              0.3333333333333333,
              "#9c179e"
             ],
             [
              0.4444444444444444,
              "#bd3786"
             ],
             [
              0.5555555555555556,
              "#d8576b"
             ],
             [
              0.6666666666666666,
              "#ed7953"
             ],
             [
              0.7777777777777778,
              "#fb9f3a"
             ],
             [
              0.8888888888888888,
              "#fdca26"
             ],
             [
              1,
              "#f0f921"
             ]
            ],
            "type": "heatmap"
           }
          ],
          "heatmapgl": [
           {
            "colorbar": {
             "outlinewidth": 0,
             "ticks": ""
            },
            "colorscale": [
             [
              0,
              "#0d0887"
             ],
             [
              0.1111111111111111,
              "#46039f"
             ],
             [
              0.2222222222222222,
              "#7201a8"
             ],
             [
              0.3333333333333333,
              "#9c179e"
             ],
             [
              0.4444444444444444,
              "#bd3786"
             ],
             [
              0.5555555555555556,
              "#d8576b"
             ],
             [
              0.6666666666666666,
              "#ed7953"
             ],
             [
              0.7777777777777778,
              "#fb9f3a"
             ],
             [
              0.8888888888888888,
              "#fdca26"
             ],
             [
              1,
              "#f0f921"
             ]
            ],
            "type": "heatmapgl"
           }
          ],
          "histogram": [
           {
            "marker": {
             "pattern": {
              "fillmode": "overlay",
              "size": 10,
              "solidity": 0.2
             }
            },
            "type": "histogram"
           }
          ],
          "histogram2d": [
           {
            "colorbar": {
             "outlinewidth": 0,
             "ticks": ""
            },
            "colorscale": [
             [
              0,
              "#0d0887"
             ],
             [
              0.1111111111111111,
              "#46039f"
             ],
             [
              0.2222222222222222,
              "#7201a8"
             ],
             [
              0.3333333333333333,
              "#9c179e"
             ],
             [
              0.4444444444444444,
              "#bd3786"
             ],
             [
              0.5555555555555556,
              "#d8576b"
             ],
             [
              0.6666666666666666,
              "#ed7953"
             ],
             [
              0.7777777777777778,
              "#fb9f3a"
             ],
             [
              0.8888888888888888,
              "#fdca26"
             ],
             [
              1,
              "#f0f921"
             ]
            ],
            "type": "histogram2d"
           }
          ],
          "histogram2dcontour": [
           {
            "colorbar": {
             "outlinewidth": 0,
             "ticks": ""
            },
            "colorscale": [
             [
              0,
              "#0d0887"
             ],
             [
              0.1111111111111111,
              "#46039f"
             ],
             [
              0.2222222222222222,
              "#7201a8"
             ],
             [
              0.3333333333333333,
              "#9c179e"
             ],
             [
              0.4444444444444444,
              "#bd3786"
             ],
             [
              0.5555555555555556,
              "#d8576b"
             ],
             [
              0.6666666666666666,
              "#ed7953"
             ],
             [
              0.7777777777777778,
              "#fb9f3a"
             ],
             [
              0.8888888888888888,
              "#fdca26"
             ],
             [
              1,
              "#f0f921"
             ]
            ],
            "type": "histogram2dcontour"
           }
          ],
          "mesh3d": [
           {
            "colorbar": {
             "outlinewidth": 0,
             "ticks": ""
            },
            "type": "mesh3d"
           }
          ],
          "parcoords": [
           {
            "line": {
             "colorbar": {
              "outlinewidth": 0,
              "ticks": ""
             }
            },
            "type": "parcoords"
           }
          ],
          "pie": [
           {
            "automargin": true,
            "type": "pie"
           }
          ],
          "scatter": [
           {
            "fillpattern": {
             "fillmode": "overlay",
             "size": 10,
             "solidity": 0.2
            },
            "type": "scatter"
           }
          ],
          "scatter3d": [
           {
            "line": {
             "colorbar": {
              "outlinewidth": 0,
              "ticks": ""
             }
            },
            "marker": {
             "colorbar": {
              "outlinewidth": 0,
              "ticks": ""
             }
            },
            "type": "scatter3d"
           }
          ],
          "scattercarpet": [
           {
            "marker": {
             "colorbar": {
              "outlinewidth": 0,
              "ticks": ""
             }
            },
            "type": "scattercarpet"
           }
          ],
          "scattergeo": [
           {
            "marker": {
             "colorbar": {
              "outlinewidth": 0,
              "ticks": ""
             }
            },
            "type": "scattergeo"
           }
          ],
          "scattergl": [
           {
            "marker": {
             "colorbar": {
              "outlinewidth": 0,
              "ticks": ""
             }
            },
            "type": "scattergl"
           }
          ],
          "scattermapbox": [
           {
            "marker": {
             "colorbar": {
              "outlinewidth": 0,
              "ticks": ""
             }
            },
            "type": "scattermapbox"
           }
          ],
          "scatterpolar": [
           {
            "marker": {
             "colorbar": {
              "outlinewidth": 0,
              "ticks": ""
             }
            },
            "type": "scatterpolar"
           }
          ],
          "scatterpolargl": [
           {
            "marker": {
             "colorbar": {
              "outlinewidth": 0,
              "ticks": ""
             }
            },
            "type": "scatterpolargl"
           }
          ],
          "scatterternary": [
           {
            "marker": {
             "colorbar": {
              "outlinewidth": 0,
              "ticks": ""
             }
            },
            "type": "scatterternary"
           }
          ],
          "surface": [
           {
            "colorbar": {
             "outlinewidth": 0,
             "ticks": ""
            },
            "colorscale": [
             [
              0,
              "#0d0887"
             ],
             [
              0.1111111111111111,
              "#46039f"
             ],
             [
              0.2222222222222222,
              "#7201a8"
             ],
             [
              0.3333333333333333,
              "#9c179e"
             ],
             [
              0.4444444444444444,
              "#bd3786"
             ],
             [
              0.5555555555555556,
              "#d8576b"
             ],
             [
              0.6666666666666666,
              "#ed7953"
             ],
             [
              0.7777777777777778,
              "#fb9f3a"
             ],
             [
              0.8888888888888888,
              "#fdca26"
             ],
             [
              1,
              "#f0f921"
             ]
            ],
            "type": "surface"
           }
          ],
          "table": [
           {
            "cells": {
             "fill": {
              "color": "#EBF0F8"
             },
             "line": {
              "color": "white"
             }
            },
            "header": {
             "fill": {
              "color": "#C8D4E3"
             },
             "line": {
              "color": "white"
             }
            },
            "type": "table"
           }
          ]
         },
         "layout": {
          "annotationdefaults": {
           "arrowcolor": "#2a3f5f",
           "arrowhead": 0,
           "arrowwidth": 1
          },
          "autotypenumbers": "strict",
          "coloraxis": {
           "colorbar": {
            "outlinewidth": 0,
            "ticks": ""
           }
          },
          "colorscale": {
           "diverging": [
            [
             0,
             "#8e0152"
            ],
            [
             0.1,
             "#c51b7d"
            ],
            [
             0.2,
             "#de77ae"
            ],
            [
             0.3,
             "#f1b6da"
            ],
            [
             0.4,
             "#fde0ef"
            ],
            [
             0.5,
             "#f7f7f7"
            ],
            [
             0.6,
             "#e6f5d0"
            ],
            [
             0.7,
             "#b8e186"
            ],
            [
             0.8,
             "#7fbc41"
            ],
            [
             0.9,
             "#4d9221"
            ],
            [
             1,
             "#276419"
            ]
           ],
           "sequential": [
            [
             0,
             "#0d0887"
            ],
            [
             0.1111111111111111,
             "#46039f"
            ],
            [
             0.2222222222222222,
             "#7201a8"
            ],
            [
             0.3333333333333333,
             "#9c179e"
            ],
            [
             0.4444444444444444,
             "#bd3786"
            ],
            [
             0.5555555555555556,
             "#d8576b"
            ],
            [
             0.6666666666666666,
             "#ed7953"
            ],
            [
             0.7777777777777778,
             "#fb9f3a"
            ],
            [
             0.8888888888888888,
             "#fdca26"
            ],
            [
             1,
             "#f0f921"
            ]
           ],
           "sequentialminus": [
            [
             0,
             "#0d0887"
            ],
            [
             0.1111111111111111,
             "#46039f"
            ],
            [
             0.2222222222222222,
             "#7201a8"
            ],
            [
             0.3333333333333333,
             "#9c179e"
            ],
            [
             0.4444444444444444,
             "#bd3786"
            ],
            [
             0.5555555555555556,
             "#d8576b"
            ],
            [
             0.6666666666666666,
             "#ed7953"
            ],
            [
             0.7777777777777778,
             "#fb9f3a"
            ],
            [
             0.8888888888888888,
             "#fdca26"
            ],
            [
             1,
             "#f0f921"
            ]
           ]
          },
          "colorway": [
           "#636efa",
           "#EF553B",
           "#00cc96",
           "#ab63fa",
           "#FFA15A",
           "#19d3f3",
           "#FF6692",
           "#B6E880",
           "#FF97FF",
           "#FECB52"
          ],
          "font": {
           "color": "#2a3f5f"
          },
          "geo": {
           "bgcolor": "white",
           "lakecolor": "white",
           "landcolor": "#E5ECF6",
           "showlakes": true,
           "showland": true,
           "subunitcolor": "white"
          },
          "hoverlabel": {
           "align": "left"
          },
          "hovermode": "closest",
          "mapbox": {
           "style": "light"
          },
          "paper_bgcolor": "white",
          "plot_bgcolor": "#E5ECF6",
          "polar": {
           "angularaxis": {
            "gridcolor": "white",
            "linecolor": "white",
            "ticks": ""
           },
           "bgcolor": "#E5ECF6",
           "radialaxis": {
            "gridcolor": "white",
            "linecolor": "white",
            "ticks": ""
           }
          },
          "scene": {
           "xaxis": {
            "backgroundcolor": "#E5ECF6",
            "gridcolor": "white",
            "gridwidth": 2,
            "linecolor": "white",
            "showbackground": true,
            "ticks": "",
            "zerolinecolor": "white"
           },
           "yaxis": {
            "backgroundcolor": "#E5ECF6",
            "gridcolor": "white",
            "gridwidth": 2,
            "linecolor": "white",
            "showbackground": true,
            "ticks": "",
            "zerolinecolor": "white"
           },
           "zaxis": {
            "backgroundcolor": "#E5ECF6",
            "gridcolor": "white",
            "gridwidth": 2,
            "linecolor": "white",
            "showbackground": true,
            "ticks": "",
            "zerolinecolor": "white"
           }
          },
          "shapedefaults": {
           "line": {
            "color": "#2a3f5f"
           }
          },
          "ternary": {
           "aaxis": {
            "gridcolor": "white",
            "linecolor": "white",
            "ticks": ""
           },
           "baxis": {
            "gridcolor": "white",
            "linecolor": "white",
            "ticks": ""
           },
           "bgcolor": "#E5ECF6",
           "caxis": {
            "gridcolor": "white",
            "linecolor": "white",
            "ticks": ""
           }
          },
          "title": {
           "x": 0.05
          },
          "xaxis": {
           "automargin": true,
           "gridcolor": "white",
           "linecolor": "white",
           "ticks": "",
           "title": {
            "standoff": 15
           },
           "zerolinecolor": "white",
           "zerolinewidth": 2
          },
          "yaxis": {
           "automargin": true,
           "gridcolor": "white",
           "linecolor": "white",
           "ticks": "",
           "title": {
            "standoff": 15
           },
           "zerolinecolor": "white",
           "zerolinewidth": 2
          }
         }
        },
        "title": {
         "text": "Migration LTLA: Inflow: lived elsewhere one year ago outside the area, but within the associated area"
        },
        "xaxis": {
         "anchor": "y",
         "categoryorder": "total ascending",
         "domain": [
          0,
          1
         ],
         "title": {
          "text": "Local Authority"
         }
        },
        "yaxis": {
         "anchor": "x",
         "domain": [
          0,
          1
         ],
         "title": {
          "text": "Count"
         }
        }
       }
      }
     },
     "metadata": {},
     "output_type": "display_data"
    },
    {
     "data": {
      "application/vnd.plotly.v1+json": {
       "config": {
        "plotlyServerURL": "https://plot.ly"
       },
       "data": [
        {
         "alignmentgroup": "True",
         "hovertemplate": "Lower tier local authorities label=%{x}<br>Count=%{y}<extra></extra>",
         "legendgroup": "",
         "marker": {
          "color": "#636efa",
          "pattern": {
           "shape": ""
          }
         },
         "name": "",
         "offsetgroup": "",
         "orientation": "v",
         "showlegend": false,
         "textposition": "auto",
         "type": "bar",
         "x": [
          "Birmingham",
          "Leeds",
          "Manchester",
          "Nottingham",
          "Buckinghamshire",
          "Bristol",
          "Sheffield",
          "Liverpool",
          "Wiltshire",
          "Bournemouth, Christchurch and Poole",
          "Cardiff",
          "Cornwall",
          "Newcastle upon Tyne",
          "West Northamptonshire",
          "Oxford",
          "Brighton and Hove",
          "County Durham",
          "Coventry",
          "Wandsworth",
          "Cambridge",
          "Lambeth",
          "Leicester",
          "Bath and North East Somerset",
          "York",
          "Dorset",
          "Milton Keynes",
          "Tower Hamlets",
          "Cheshire East",
          "Charnwood",
          "Southwark",
          "Shropshire",
          "Exeter",
          "Southampton",
          "Guildford",
          "North Northamptonshire",
          "Camden",
          "Cheshire West and Chester",
          "Canterbury",
          "Salford",
          "Central Bedfordshire",
          "Islington",
          "Reading",
          "Medway",
          "Elmbridge",
          "Westminster",
          "Portsmouth",
          "Hammersmith and Fulham",
          "Thurrock",
          "Warwick",
          "Ealing",
          "Barnet",
          "Herefordshire",
          "Reigate and Banstead",
          "Hillingdon",
          "Plymouth",
          "Epping Forest",
          "Colchester",
          "South Gloucestershire",
          "Lincoln",
          "Norwich",
          "Dartford",
          "Bradford",
          "Derby",
          "Swansea",
          "Greenwich",
          "Welwyn Hatfield",
          "Kirklees",
          "Peterborough",
          "Luton",
          "Northumberland",
          "Brent",
          "Hertsmere",
          "Newham",
          "Croydon",
          "St Albans",
          "Hackney",
          "Cherwell",
          "Windsor and Maidenhead",
          "Dacorum",
          "Bedford",
          "Lewisham",
          "Winchester",
          "New Forest",
          "Lancaster",
          "Sevenoaks",
          "Runnymede",
          "Kingston upon Thames",
          "East Riding of Yorkshire",
          "Harrogate",
          "Spelthorne",
          "Slough",
          "Vale of White Horse",
          "Chelmsford",
          "Stoke-on-Trent",
          "Waverley",
          "South Oxfordshire",
          "Swindon",
          "Haringey",
          "Cheltenham",
          "East Lindsey",
          "Basildon",
          "Hounslow",
          "Bromley",
          "Powys",
          "Huntingdonshire",
          "Maidstone",
          "East Suffolk",
          "Watford",
          "Cotswold",
          "Wokingham",
          "East Hertfordshire",
          "West Oxfordshire",
          "Enfield",
          "Doncaster",
          "South Kesteven",
          "Richmond upon Thames",
          "Epsom and Ewell",
          "Stratford-on-Avon",
          "Three Rivers",
          "Tandridge",
          "Gwynedd",
          "Chichester",
          "Rugby",
          "Broxbourne",
          "Bexley",
          "Redbridge",
          "Southend-on-Sea",
          "Tunbridge Wells",
          "South Somerset",
          "West Berkshire",
          "Kingston upon Hull",
          "Harrow",
          "East Devon",
          "South Cambridgeshire",
          "Kensington and Chelsea",
          "Havering",
          "Telford and Wrekin",
          "Wolverhampton",
          "South Holland",
          "Test Valley",
          "Merton",
          "Newcastle-under-Lyme",
          "Mid Sussex",
          "Ceredigion",
          "East Staffordshire",
          "Waltham Forest",
          "Richmondshire",
          "Basingstoke and Deane",
          "Flintshire",
          "Bassetlaw",
          "Brentwood",
          "Somerset West and Taunton",
          "High Peak",
          "North Kesteven",
          "Stockport",
          "North Hertfordshire",
          "South Derbyshire",
          "Wealden",
          "Horsham",
          "Bracknell Forest",
          "Rushcliffe",
          "Hambleton",
          "King's Lynn and West Norfolk",
          "Thanet",
          "Sandwell",
          "Trafford",
          "Wirral",
          "Sutton",
          "Wakefield",
          "Tonbridge and Malling",
          "Woking",
          "Monmouthshire",
          "North Somerset",
          "Stockton-on-Tees",
          "Braintree",
          "Mendip",
          "West Suffolk",
          "Calderdale",
          "Preston",
          "Carmarthenshire",
          "Wychavon",
          "Isle of Wight",
          "Ashford",
          "Forest of Dean",
          "Torbay",
          "Stafford",
          "West Lindsey",
          "South Hams",
          "Broxtowe",
          "Mole Valley",
          "Rotherham",
          "Tendring",
          "Conwy",
          "Pembrokeshire",
          "Gravesham",
          "Solihull",
          "North Devon",
          "Wrexham",
          "North East Lincolnshire",
          "Gloucester",
          "Newport",
          "Teignbridge",
          "Swale",
          "North East Derbyshire",
          "Arun",
          "Gateshead",
          "East Hampshire",
          "Hart",
          "Sefton",
          "Harlow",
          "Hinckley and Bosworth",
          "Derbyshire Dales",
          "Carlisle",
          "Rushmoor",
          "South Lakeland",
          "Darlington",
          "Worcester",
          "Middlesbrough",
          "Sunderland",
          "North Lincolnshire",
          "Neath Port Talbot",
          "Newark and Sherwood",
          "Breckland",
          "Stroud",
          "Crawley",
          "North Norfolk",
          "Walsall",
          "Harborough",
          "Sedgemoor",
          "Bolton",
          "Folkestone and Hythe",
          "South Norfolk",
          "Uttlesford",
          "Surrey Heath",
          "Tewkesbury",
          "North Tyneside",
          "West Lancashire",
          "Rutland",
          "Wigan",
          "Rhondda Cynon Taf",
          "Vale of Glamorgan",
          "Barking and Dagenham",
          "Warrington",
          "Dudley",
          "Scarborough",
          "Hastings",
          "North West Leicestershire",
          "Malvern Hills",
          "Nuneaton and Bedworth",
          "Denbighshire",
          "Barnsley",
          "Oadby and Wigston",
          "Eastbourne",
          "Dover",
          "Rother",
          "Ipswich",
          "Redcar and Cleveland",
          "Tameside",
          "Chesterfield",
          "Torridge",
          "Oldham",
          "Fenland",
          "Lewes",
          "Stevenage",
          "Staffordshire Moorlands",
          "Mid Suffolk",
          "Eastleigh",
          "Isle of Anglesey",
          "Rochdale",
          "Worthing",
          "Lichfield",
          "Babergh",
          "Craven",
          "Fareham",
          "Blackpool",
          "Bury",
          "Mid Devon",
          "Broadland",
          "Amber Valley",
          "East Cambridgeshire",
          "Allerdale",
          "Mansfield",
          "Wyre",
          "St. Helens",
          "Eden",
          "Castle Point",
          "Boston",
          "Bolsover",
          "West Devon",
          "Bridgend",
          "Havant",
          "Ryedale",
          "Fylde",
          "Gedling",
          "South Staffordshire",
          "Rochford",
          "Gosport",
          "Maldon",
          "Great Yarmouth",
          "Blackburn with Darwen",
          "South Tyneside",
          "Blaby",
          "Ashfield",
          "Caerphilly",
          "Pendle",
          "Selby",
          "Bromsgrove",
          "Erewash",
          "Chorley",
          "Hartlepool",
          "Copeland",
          "Knowsley",
          "Wyre Forest",
          "Burnley",
          "Ribble Valley",
          "Halton",
          "Torfaen",
          "South Ribble",
          "North Warwickshire",
          "Tamworth",
          "Melton",
          "Cannock Chase",
          "Barrow-in-Furness",
          "Redditch",
          "Adur",
          "Hyndburn",
          "Rossendale",
          "Blaenau Gwent",
          "City of London",
          "Merthyr Tydfil",
          "Isles of Scilly"
         ],
         "xaxis": "x",
         "y": [
          23607,
          22459,
          21882,
          20937,
          18711,
          18514,
          17263,
          15221,
          15094,
          13813,
          13346,
          13197,
          13026,
          11826,
          11589,
          11424,
          11323,
          11247,
          11087,
          10348,
          10263,
          10090,
          10042,
          9719,
          9189,
          9092,
          8354,
          8099,
          8073,
          7936,
          7935,
          7639,
          7351,
          7153,
          6796,
          6692,
          6568,
          6506,
          6334,
          6309,
          6251,
          6098,
          6033,
          6024,
          5867,
          5856,
          5775,
          5481,
          5462,
          5450,
          5397,
          5252,
          5187,
          5156,
          5114,
          5082,
          5071,
          5033,
          5033,
          4990,
          4925,
          4925,
          4916,
          4885,
          4762,
          4750,
          4739,
          4717,
          4694,
          4680,
          4650,
          4568,
          4527,
          4509,
          4465,
          4411,
          4389,
          4387,
          4365,
          4357,
          4294,
          4292,
          4290,
          4240,
          4167,
          4116,
          4102,
          4088,
          4061,
          4015,
          3993,
          3984,
          3963,
          3953,
          3942,
          3886,
          3883,
          3858,
          3848,
          3847,
          3813,
          3792,
          3777,
          3752,
          3751,
          3738,
          3730,
          3725,
          3720,
          3719,
          3620,
          3577,
          3571,
          3567,
          3564,
          3558,
          3543,
          3468,
          3459,
          3404,
          3367,
          3364,
          3339,
          3317,
          3286,
          3283,
          3265,
          3259,
          3230,
          3165,
          3161,
          3142,
          3134,
          3106,
          3081,
          3057,
          3034,
          3030,
          3026,
          3012,
          2998,
          2943,
          2891,
          2886,
          2858,
          2856,
          2824,
          2820,
          2818,
          2815,
          2792,
          2774,
          2752,
          2747,
          2745,
          2741,
          2735,
          2727,
          2706,
          2664,
          2629,
          2627,
          2627,
          2612,
          2609,
          2599,
          2583,
          2579,
          2569,
          2525,
          2475,
          2467,
          2448,
          2443,
          2436,
          2432,
          2428,
          2419,
          2418,
          2410,
          2384,
          2366,
          2362,
          2352,
          2330,
          2325,
          2313,
          2310,
          2305,
          2300,
          2292,
          2284,
          2261,
          2257,
          2252,
          2247,
          2243,
          2238,
          2237,
          2237,
          2228,
          2215,
          2187,
          2177,
          2176,
          2156,
          2152,
          2150,
          2146,
          2120,
          2110,
          2108,
          2108,
          2100,
          2069,
          2067,
          2066,
          2051,
          2028,
          2021,
          2009,
          2009,
          2002,
          1992,
          1986,
          1984,
          1970,
          1945,
          1929,
          1922,
          1920,
          1910,
          1901,
          1895,
          1883,
          1878,
          1872,
          1831,
          1818,
          1807,
          1799,
          1788,
          1787,
          1780,
          1765,
          1764,
          1750,
          1748,
          1731,
          1724,
          1719,
          1712,
          1698,
          1672,
          1655,
          1644,
          1610,
          1606,
          1583,
          1581,
          1569,
          1553,
          1539,
          1478,
          1473,
          1468,
          1467,
          1465,
          1455,
          1446,
          1440,
          1425,
          1404,
          1397,
          1381,
          1329,
          1284,
          1265,
          1259,
          1241,
          1227,
          1221,
          1197,
          1182,
          1160,
          1159,
          1148,
          1147,
          1093,
          1080,
          1067,
          1060,
          1055,
          1049,
          1046,
          1040,
          1035,
          1034,
          1032,
          1022,
          992,
          989,
          980,
          948,
          939,
          931,
          924,
          895,
          866,
          864,
          856,
          800,
          776,
          754,
          735,
          728,
          687,
          673,
          670,
          658,
          655,
          650,
          543,
          525,
          514,
          487,
          471,
          467,
          370,
          320,
          43
         ],
         "yaxis": "y"
        }
       ],
       "layout": {
        "barmode": "relative",
        "legend": {
         "tracegroupgap": 0
        },
        "template": {
         "data": {
          "bar": [
           {
            "error_x": {
             "color": "#2a3f5f"
            },
            "error_y": {
             "color": "#2a3f5f"
            },
            "marker": {
             "line": {
              "color": "#E5ECF6",
              "width": 0.5
             },
             "pattern": {
              "fillmode": "overlay",
              "size": 10,
              "solidity": 0.2
             }
            },
            "type": "bar"
           }
          ],
          "barpolar": [
           {
            "marker": {
             "line": {
              "color": "#E5ECF6",
              "width": 0.5
             },
             "pattern": {
              "fillmode": "overlay",
              "size": 10,
              "solidity": 0.2
             }
            },
            "type": "barpolar"
           }
          ],
          "carpet": [
           {
            "aaxis": {
             "endlinecolor": "#2a3f5f",
             "gridcolor": "white",
             "linecolor": "white",
             "minorgridcolor": "white",
             "startlinecolor": "#2a3f5f"
            },
            "baxis": {
             "endlinecolor": "#2a3f5f",
             "gridcolor": "white",
             "linecolor": "white",
             "minorgridcolor": "white",
             "startlinecolor": "#2a3f5f"
            },
            "type": "carpet"
           }
          ],
          "choropleth": [
           {
            "colorbar": {
             "outlinewidth": 0,
             "ticks": ""
            },
            "type": "choropleth"
           }
          ],
          "contour": [
           {
            "colorbar": {
             "outlinewidth": 0,
             "ticks": ""
            },
            "colorscale": [
             [
              0,
              "#0d0887"
             ],
             [
              0.1111111111111111,
              "#46039f"
             ],
             [
              0.2222222222222222,
              "#7201a8"
             ],
             [
              0.3333333333333333,
              "#9c179e"
             ],
             [
              0.4444444444444444,
              "#bd3786"
             ],
             [
              0.5555555555555556,
              "#d8576b"
             ],
             [
              0.6666666666666666,
              "#ed7953"
             ],
             [
              0.7777777777777778,
              "#fb9f3a"
             ],
             [
              0.8888888888888888,
              "#fdca26"
             ],
             [
              1,
              "#f0f921"
             ]
            ],
            "type": "contour"
           }
          ],
          "contourcarpet": [
           {
            "colorbar": {
             "outlinewidth": 0,
             "ticks": ""
            },
            "type": "contourcarpet"
           }
          ],
          "heatmap": [
           {
            "colorbar": {
             "outlinewidth": 0,
             "ticks": ""
            },
            "colorscale": [
             [
              0,
              "#0d0887"
             ],
             [
              0.1111111111111111,
              "#46039f"
             ],
             [
              0.2222222222222222,
              "#7201a8"
             ],
             [
              0.3333333333333333,
              "#9c179e"
             ],
             [
              0.4444444444444444,
              "#bd3786"
             ],
             [
              0.5555555555555556,
              "#d8576b"
             ],
             [
              0.6666666666666666,
              "#ed7953"
             ],
             [
              0.7777777777777778,
              "#fb9f3a"
             ],
             [
              0.8888888888888888,
              "#fdca26"
             ],
             [
              1,
              "#f0f921"
             ]
            ],
            "type": "heatmap"
           }
          ],
          "heatmapgl": [
           {
            "colorbar": {
             "outlinewidth": 0,
             "ticks": ""
            },
            "colorscale": [
             [
              0,
              "#0d0887"
             ],
             [
              0.1111111111111111,
              "#46039f"
             ],
             [
              0.2222222222222222,
              "#7201a8"
             ],
             [
              0.3333333333333333,
              "#9c179e"
             ],
             [
              0.4444444444444444,
              "#bd3786"
             ],
             [
              0.5555555555555556,
              "#d8576b"
             ],
             [
              0.6666666666666666,
              "#ed7953"
             ],
             [
              0.7777777777777778,
              "#fb9f3a"
             ],
             [
              0.8888888888888888,
              "#fdca26"
             ],
             [
              1,
              "#f0f921"
             ]
            ],
            "type": "heatmapgl"
           }
          ],
          "histogram": [
           {
            "marker": {
             "pattern": {
              "fillmode": "overlay",
              "size": 10,
              "solidity": 0.2
             }
            },
            "type": "histogram"
           }
          ],
          "histogram2d": [
           {
            "colorbar": {
             "outlinewidth": 0,
             "ticks": ""
            },
            "colorscale": [
             [
              0,
              "#0d0887"
             ],
             [
              0.1111111111111111,
              "#46039f"
             ],
             [
              0.2222222222222222,
              "#7201a8"
             ],
             [
              0.3333333333333333,
              "#9c179e"
             ],
             [
              0.4444444444444444,
              "#bd3786"
             ],
             [
              0.5555555555555556,
              "#d8576b"
             ],
             [
              0.6666666666666666,
              "#ed7953"
             ],
             [
              0.7777777777777778,
              "#fb9f3a"
             ],
             [
              0.8888888888888888,
              "#fdca26"
             ],
             [
              1,
              "#f0f921"
             ]
            ],
            "type": "histogram2d"
           }
          ],
          "histogram2dcontour": [
           {
            "colorbar": {
             "outlinewidth": 0,
             "ticks": ""
            },
            "colorscale": [
             [
              0,
              "#0d0887"
             ],
             [
              0.1111111111111111,
              "#46039f"
             ],
             [
              0.2222222222222222,
              "#7201a8"
             ],
             [
              0.3333333333333333,
              "#9c179e"
             ],
             [
              0.4444444444444444,
              "#bd3786"
             ],
             [
              0.5555555555555556,
              "#d8576b"
             ],
             [
              0.6666666666666666,
              "#ed7953"
             ],
             [
              0.7777777777777778,
              "#fb9f3a"
             ],
             [
              0.8888888888888888,
              "#fdca26"
             ],
             [
              1,
              "#f0f921"
             ]
            ],
            "type": "histogram2dcontour"
           }
          ],
          "mesh3d": [
           {
            "colorbar": {
             "outlinewidth": 0,
             "ticks": ""
            },
            "type": "mesh3d"
           }
          ],
          "parcoords": [
           {
            "line": {
             "colorbar": {
              "outlinewidth": 0,
              "ticks": ""
             }
            },
            "type": "parcoords"
           }
          ],
          "pie": [
           {
            "automargin": true,
            "type": "pie"
           }
          ],
          "scatter": [
           {
            "fillpattern": {
             "fillmode": "overlay",
             "size": 10,
             "solidity": 0.2
            },
            "type": "scatter"
           }
          ],
          "scatter3d": [
           {
            "line": {
             "colorbar": {
              "outlinewidth": 0,
              "ticks": ""
             }
            },
            "marker": {
             "colorbar": {
              "outlinewidth": 0,
              "ticks": ""
             }
            },
            "type": "scatter3d"
           }
          ],
          "scattercarpet": [
           {
            "marker": {
             "colorbar": {
              "outlinewidth": 0,
              "ticks": ""
             }
            },
            "type": "scattercarpet"
           }
          ],
          "scattergeo": [
           {
            "marker": {
             "colorbar": {
              "outlinewidth": 0,
              "ticks": ""
             }
            },
            "type": "scattergeo"
           }
          ],
          "scattergl": [
           {
            "marker": {
             "colorbar": {
              "outlinewidth": 0,
              "ticks": ""
             }
            },
            "type": "scattergl"
           }
          ],
          "scattermapbox": [
           {
            "marker": {
             "colorbar": {
              "outlinewidth": 0,
              "ticks": ""
             }
            },
            "type": "scattermapbox"
           }
          ],
          "scatterpolar": [
           {
            "marker": {
             "colorbar": {
              "outlinewidth": 0,
              "ticks": ""
             }
            },
            "type": "scatterpolar"
           }
          ],
          "scatterpolargl": [
           {
            "marker": {
             "colorbar": {
              "outlinewidth": 0,
              "ticks": ""
             }
            },
            "type": "scatterpolargl"
           }
          ],
          "scatterternary": [
           {
            "marker": {
             "colorbar": {
              "outlinewidth": 0,
              "ticks": ""
             }
            },
            "type": "scatterternary"
           }
          ],
          "surface": [
           {
            "colorbar": {
             "outlinewidth": 0,
             "ticks": ""
            },
            "colorscale": [
             [
              0,
              "#0d0887"
             ],
             [
              0.1111111111111111,
              "#46039f"
             ],
             [
              0.2222222222222222,
              "#7201a8"
             ],
             [
              0.3333333333333333,
              "#9c179e"
             ],
             [
              0.4444444444444444,
              "#bd3786"
             ],
             [
              0.5555555555555556,
              "#d8576b"
             ],
             [
              0.6666666666666666,
              "#ed7953"
             ],
             [
              0.7777777777777778,
              "#fb9f3a"
             ],
             [
              0.8888888888888888,
              "#fdca26"
             ],
             [
              1,
              "#f0f921"
             ]
            ],
            "type": "surface"
           }
          ],
          "table": [
           {
            "cells": {
             "fill": {
              "color": "#EBF0F8"
             },
             "line": {
              "color": "white"
             }
            },
            "header": {
             "fill": {
              "color": "#C8D4E3"
             },
             "line": {
              "color": "white"
             }
            },
            "type": "table"
           }
          ]
         },
         "layout": {
          "annotationdefaults": {
           "arrowcolor": "#2a3f5f",
           "arrowhead": 0,
           "arrowwidth": 1
          },
          "autotypenumbers": "strict",
          "coloraxis": {
           "colorbar": {
            "outlinewidth": 0,
            "ticks": ""
           }
          },
          "colorscale": {
           "diverging": [
            [
             0,
             "#8e0152"
            ],
            [
             0.1,
             "#c51b7d"
            ],
            [
             0.2,
             "#de77ae"
            ],
            [
             0.3,
             "#f1b6da"
            ],
            [
             0.4,
             "#fde0ef"
            ],
            [
             0.5,
             "#f7f7f7"
            ],
            [
             0.6,
             "#e6f5d0"
            ],
            [
             0.7,
             "#b8e186"
            ],
            [
             0.8,
             "#7fbc41"
            ],
            [
             0.9,
             "#4d9221"
            ],
            [
             1,
             "#276419"
            ]
           ],
           "sequential": [
            [
             0,
             "#0d0887"
            ],
            [
             0.1111111111111111,
             "#46039f"
            ],
            [
             0.2222222222222222,
             "#7201a8"
            ],
            [
             0.3333333333333333,
             "#9c179e"
            ],
            [
             0.4444444444444444,
             "#bd3786"
            ],
            [
             0.5555555555555556,
             "#d8576b"
            ],
            [
             0.6666666666666666,
             "#ed7953"
            ],
            [
             0.7777777777777778,
             "#fb9f3a"
            ],
            [
             0.8888888888888888,
             "#fdca26"
            ],
            [
             1,
             "#f0f921"
            ]
           ],
           "sequentialminus": [
            [
             0,
             "#0d0887"
            ],
            [
             0.1111111111111111,
             "#46039f"
            ],
            [
             0.2222222222222222,
             "#7201a8"
            ],
            [
             0.3333333333333333,
             "#9c179e"
            ],
            [
             0.4444444444444444,
             "#bd3786"
            ],
            [
             0.5555555555555556,
             "#d8576b"
            ],
            [
             0.6666666666666666,
             "#ed7953"
            ],
            [
             0.7777777777777778,
             "#fb9f3a"
            ],
            [
             0.8888888888888888,
             "#fdca26"
            ],
            [
             1,
             "#f0f921"
            ]
           ]
          },
          "colorway": [
           "#636efa",
           "#EF553B",
           "#00cc96",
           "#ab63fa",
           "#FFA15A",
           "#19d3f3",
           "#FF6692",
           "#B6E880",
           "#FF97FF",
           "#FECB52"
          ],
          "font": {
           "color": "#2a3f5f"
          },
          "geo": {
           "bgcolor": "white",
           "lakecolor": "white",
           "landcolor": "#E5ECF6",
           "showlakes": true,
           "showland": true,
           "subunitcolor": "white"
          },
          "hoverlabel": {
           "align": "left"
          },
          "hovermode": "closest",
          "mapbox": {
           "style": "light"
          },
          "paper_bgcolor": "white",
          "plot_bgcolor": "#E5ECF6",
          "polar": {
           "angularaxis": {
            "gridcolor": "white",
            "linecolor": "white",
            "ticks": ""
           },
           "bgcolor": "#E5ECF6",
           "radialaxis": {
            "gridcolor": "white",
            "linecolor": "white",
            "ticks": ""
           }
          },
          "scene": {
           "xaxis": {
            "backgroundcolor": "#E5ECF6",
            "gridcolor": "white",
            "gridwidth": 2,
            "linecolor": "white",
            "showbackground": true,
            "ticks": "",
            "zerolinecolor": "white"
           },
           "yaxis": {
            "backgroundcolor": "#E5ECF6",
            "gridcolor": "white",
            "gridwidth": 2,
            "linecolor": "white",
            "showbackground": true,
            "ticks": "",
            "zerolinecolor": "white"
           },
           "zaxis": {
            "backgroundcolor": "#E5ECF6",
            "gridcolor": "white",
            "gridwidth": 2,
            "linecolor": "white",
            "showbackground": true,
            "ticks": "",
            "zerolinecolor": "white"
           }
          },
          "shapedefaults": {
           "line": {
            "color": "#2a3f5f"
           }
          },
          "ternary": {
           "aaxis": {
            "gridcolor": "white",
            "linecolor": "white",
            "ticks": ""
           },
           "baxis": {
            "gridcolor": "white",
            "linecolor": "white",
            "ticks": ""
           },
           "bgcolor": "#E5ECF6",
           "caxis": {
            "gridcolor": "white",
            "linecolor": "white",
            "ticks": ""
           }
          },
          "title": {
           "x": 0.05
          },
          "xaxis": {
           "automargin": true,
           "gridcolor": "white",
           "linecolor": "white",
           "ticks": "",
           "title": {
            "standoff": 15
           },
           "zerolinecolor": "white",
           "zerolinewidth": 2
          },
          "yaxis": {
           "automargin": true,
           "gridcolor": "white",
           "linecolor": "white",
           "ticks": "",
           "title": {
            "standoff": 15
           },
           "zerolinecolor": "white",
           "zerolinewidth": 2
          }
         }
        },
        "title": {
         "text": "Migration LTLA: Inflow: lived elsewhere one year ago outside the associated area, but within the UK"
        },
        "xaxis": {
         "anchor": "y",
         "categoryorder": "total ascending",
         "domain": [
          0,
          1
         ],
         "title": {
          "text": "Local Authority"
         }
        },
        "yaxis": {
         "anchor": "x",
         "domain": [
          0,
          1
         ],
         "title": {
          "text": "Count"
         }
        }
       }
      }
     },
     "metadata": {},
     "output_type": "display_data"
    },
    {
     "data": {
      "application/vnd.plotly.v1+json": {
       "config": {
        "plotlyServerURL": "https://plot.ly"
       },
       "data": [
        {
         "alignmentgroup": "True",
         "hovertemplate": "Lower tier local authorities label=%{x}<br>Count=%{y}<extra></extra>",
         "legendgroup": "",
         "marker": {
          "color": "#636efa",
          "pattern": {
           "shape": ""
          }
         },
         "name": "",
         "offsetgroup": "",
         "orientation": "v",
         "showlegend": false,
         "textposition": "auto",
         "type": "bar",
         "x": [
          "Birmingham",
          "Manchester",
          "Tower Hamlets",
          "Westminster",
          "Leeds",
          "Camden",
          "Newham",
          "Liverpool",
          "Coventry",
          "Leicester",
          "Southwark",
          "Sheffield",
          "Bristol",
          "Oxford",
          "Nottingham",
          "Wandsworth",
          "Cambridge",
          "Ealing",
          "Barnet",
          "Islington",
          "Lambeth",
          "Brent",
          "Kensington and Chelsea",
          "Hounslow",
          "Cardiff",
          "Hammersmith and Fulham",
          "Southampton",
          "Newcastle upon Tyne",
          "Hillingdon",
          "West Northamptonshire",
          "Brighton and Hove",
          "West Suffolk",
          "Hackney",
          "Greenwich",
          "Redbridge",
          "Haringey",
          "Reading",
          "Salford",
          "Buckinghamshire",
          "Bournemouth, Christchurch and Poole",
          "Bradford",
          "Luton",
          "Harrow",
          "Croydon",
          "Lewisham",
          "Wiltshire",
          "Richmond upon Thames",
          "Milton Keynes",
          "Enfield",
          "Merton",
          "Kingston upon Thames",
          "Bath and North East Somerset",
          "Portsmouth",
          "Wolverhampton",
          "Kirklees",
          "Guildford",
          "County Durham",
          "Cheshire East",
          "Cornwall",
          "Waltham Forest",
          "Sandwell",
          "Exeter",
          "York",
          "North Northamptonshire",
          "Preston",
          "Peterborough",
          "Welwyn Hatfield",
          "Cheshire West and Chester",
          "Bolton",
          "Bromley",
          "Swindon",
          "Middlesbrough",
          "Slough",
          "Barking and Dagenham",
          "Derby",
          "Canterbury",
          "Trafford",
          "Warwick",
          "South Gloucestershire",
          "Norwich",
          "Kingston upon Hull",
          "Colchester",
          "Charnwood",
          "Windsor and Maidenhead",
          "Central Bedfordshire",
          "Lancaster",
          "Wokingham",
          "Dorset",
          "Sunderland",
          "Shropshire",
          "Swansea",
          "Stoke-on-Trent",
          "Plymouth",
          "Medway",
          "Elmbridge",
          "Bedford",
          "Sutton",
          "Basingstoke and Deane",
          "Cherwell",
          "Oldham",
          "Havering",
          "Stockport",
          "Doncaster",
          "Rochdale",
          "St Albans",
          "Walsall",
          "Sefton",
          "South Cambridgeshire",
          "Vale of White Horse",
          "Woking",
          "Bexley",
          "Watford",
          "Chelmsford",
          "Wakefield",
          "Warrington",
          "Winchester",
          "Wigan",
          "Somerset West and Taunton",
          "Runnymede",
          "Lincoln",
          "Huntingdonshire",
          "Blackburn with Darwen",
          "Cheltenham",
          "Reigate and Banstead",
          "Harrogate",
          "Maidstone",
          "Telford and Wrekin",
          "East Riding of Yorkshire",
          "Wirral",
          "Solihull",
          "King's Lynn and West Norfolk",
          "Waverley",
          "Herefordshire",
          "Mid Sussex",
          "North Somerset",
          "West Berkshire",
          "Ipswich",
          "Crawley",
          "South Oxfordshire",
          "Bracknell Forest",
          "Newport",
          "Dudley",
          "Horsham",
          "Southend-on-Sea",
          "Thurrock",
          "Tameside",
          "Bury",
          "Pendle",
          "Northumberland",
          "Tunbridge Wells",
          "South Somerset",
          "East Hertfordshire",
          "Dacorum",
          "Ashford",
          "Worcester",
          "Rushmoor",
          "Rhondda Cynon Taf",
          "Rugby",
          "Gateshead",
          "Blackpool",
          "West Oxfordshire",
          "Burnley",
          "North Lincolnshire",
          "Broxtowe",
          "Basildon",
          "Chichester",
          "Stockton-on-Tees",
          "East Suffolk",
          "Breckland",
          "Barnsley",
          "Eastbourne",
          "Arun",
          "North Tyneside",
          "Rotherham",
          "Spelthorne",
          "Hertsmere",
          "Boston",
          "Dartford",
          "Stevenage",
          "Surrey Heath",
          "Epsom and Ewell",
          "Calderdale",
          "Sevenoaks",
          "Mendip",
          "East Staffordshire",
          "East Devon",
          "New Forest",
          "Test Valley",
          "Fylde",
          "Gwynedd",
          "East Hampshire",
          "Rushcliffe",
          "Thanet",
          "Stratford-on-Avon",
          "Wealden",
          "Cotswold",
          "Isle of Wight",
          "North East Lincolnshire",
          "Hart",
          "South Lakeland",
          "Torbay",
          "Gloucester",
          "Harlow",
          "Vale of Glamorgan",
          "Richmondshire",
          "Epping Forest",
          "South Norfolk",
          "South Kesteven",
          "East Cambridgeshire",
          "Three Rivers",
          "St. Helens",
          "Mansfield",
          "Great Yarmouth",
          "Eastleigh",
          "Nuneaton and Bedworth",
          "Worthing",
          "North Hertfordshire",
          "Knowsley",
          "Carmarthenshire",
          "Carlisle",
          "Tonbridge and Malling",
          "Scarborough",
          "Stafford",
          "Sedgemoor",
          "Newcastle-under-Lyme",
          "Hastings",
          "Mole Valley",
          "Folkestone and Hythe",
          "West Lancashire",
          "Dover",
          "City of London",
          "Wychavon",
          "Mid Suffolk",
          "North Devon",
          "North Kesteven",
          "South Tyneside",
          "Gravesham",
          "South Hams",
          "Wrexham",
          "Ceredigion",
          "East Lindsey",
          "Pembrokeshire",
          "Darlington",
          "Tandridge",
          "Halton",
          "Fareham",
          "Harborough",
          "Stroud",
          "Flintshire",
          "South Holland",
          "Newark and Sherwood",
          "Teignbridge",
          "Brentwood",
          "Swale",
          "Powys",
          "Neath Port Talbot",
          "Bridgend",
          "Uttlesford",
          "Lewes",
          "Oadby and Wigston",
          "Tewkesbury",
          "Braintree",
          "Fenland",
          "Rother",
          "Hambleton",
          "Wyre",
          "Malvern Hills",
          "Monmouthshire",
          "Redditch",
          "Havant",
          "Conwy",
          "Broxbourne",
          "Broadland",
          "North Norfolk",
          "Gedling",
          "Chorley",
          "North West Leicestershire",
          "Bassetlaw",
          "Mid Devon",
          "Forest of Dean",
          "Bromsgrove",
          "Gosport",
          "Ashfield",
          "Barrow-in-Furness",
          "West Lindsey",
          "South Derbyshire",
          "Tendring",
          "Redcar and Cleveland",
          "Amber Valley",
          "Lichfield",
          "Babergh",
          "Blaby",
          "Chesterfield",
          "Ribble Valley",
          "Derbyshire Dales",
          "Denbighshire",
          "Torridge",
          "Hinckley and Bosworth",
          "Craven",
          "High Peak",
          "South Ribble",
          "Hyndburn",
          "Erewash",
          "Selby",
          "West Devon",
          "Rutland",
          "Bolsover",
          "Hartlepool",
          "Ryedale",
          "Allerdale",
          "Tamworth",
          "Merthyr Tydfil",
          "Caerphilly",
          "North East Derbyshire",
          "Adur",
          "Copeland",
          "Eden",
          "Melton",
          "Maldon",
          "Cannock Chase",
          "Wyre Forest",
          "Staffordshire Moorlands",
          "South Staffordshire",
          "Rossendale",
          "Rochford",
          "Castle Point",
          "North Warwickshire",
          "Torfaen",
          "Isle of Anglesey",
          "Blaenau Gwent",
          "Isles of Scilly"
         ],
         "xaxis": "x",
         "y": [
          13642,
          12667,
          10525,
          9889,
          9592,
          8192,
          7621,
          7212,
          7120,
          7032,
          6838,
          6704,
          6665,
          6582,
          6246,
          6245,
          6194,
          6105,
          5918,
          5861,
          5748,
          5669,
          5642,
          5226,
          5185,
          4984,
          4963,
          4740,
          4325,
          4228,
          4162,
          4106,
          4069,
          3981,
          3952,
          3917,
          3913,
          3891,
          3841,
          3811,
          3809,
          3752,
          3667,
          3492,
          3430,
          3334,
          3280,
          3162,
          3006,
          2960,
          2827,
          2806,
          2802,
          2794,
          2788,
          2775,
          2657,
          2646,
          2643,
          2628,
          2622,
          2568,
          2564,
          2534,
          2384,
          2315,
          2315,
          2306,
          2272,
          2264,
          2246,
          2244,
          2185,
          2179,
          2175,
          2166,
          2131,
          2125,
          2095,
          2069,
          2009,
          1962,
          1906,
          1903,
          1897,
          1883,
          1859,
          1827,
          1800,
          1785,
          1771,
          1771,
          1715,
          1711,
          1708,
          1672,
          1669,
          1615,
          1530,
          1487,
          1469,
          1457,
          1454,
          1454,
          1433,
          1400,
          1396,
          1395,
          1387,
          1384,
          1382,
          1380,
          1360,
          1351,
          1346,
          1333,
          1304,
          1303,
          1290,
          1282,
          1261,
          1250,
          1244,
          1225,
          1207,
          1190,
          1180,
          1176,
          1175,
          1153,
          1128,
          1127,
          1126,
          1110,
          1088,
          1083,
          1080,
          1077,
          1077,
          1071,
          1065,
          1056,
          1021,
          1003,
          1000,
          991,
          991,
          986,
          986,
          981,
          968,
          966,
          962,
          960,
          943,
          928,
          924,
          911,
          908,
          896,
          896,
          892,
          886,
          886,
          875,
          869,
          854,
          836,
          836,
          812,
          805,
          802,
          800,
          799,
          795,
          783,
          782,
          781,
          781,
          780,
          775,
          774,
          767,
          760,
          744,
          743,
          742,
          736,
          727,
          726,
          721,
          716,
          711,
          697,
          692,
          685,
          680,
          679,
          675,
          673,
          673,
          669,
          660,
          658,
          658,
          645,
          642,
          632,
          628,
          625,
          620,
          615,
          615,
          609,
          607,
          606,
          603,
          601,
          599,
          585,
          584,
          578,
          572,
          572,
          563,
          562,
          559,
          557,
          553,
          552,
          550,
          549,
          544,
          543,
          539,
          532,
          529,
          528,
          527,
          518,
          517,
          515,
          512,
          504,
          501,
          495,
          492,
          489,
          487,
          485,
          483,
          482,
          482,
          480,
          476,
          472,
          471,
          466,
          465,
          464,
          454,
          450,
          441,
          435,
          418,
          415,
          402,
          401,
          393,
          391,
          391,
          389,
          387,
          372,
          362,
          358,
          356,
          353,
          351,
          344,
          339,
          338,
          337,
          335,
          334,
          334,
          333,
          332,
          331,
          319,
          319,
          318,
          317,
          316,
          307,
          306,
          304,
          299,
          294,
          288,
          287,
          287,
          286,
          285,
          283,
          282,
          278,
          273,
          271,
          263,
          247,
          244,
          235,
          233,
          230,
          228,
          228,
          213,
          208,
          204,
          194,
          191,
          189,
          182,
          180,
          179,
          161,
          157,
          141,
          105,
          14
         ],
         "yaxis": "y"
        }
       ],
       "layout": {
        "barmode": "relative",
        "legend": {
         "tracegroupgap": 0
        },
        "template": {
         "data": {
          "bar": [
           {
            "error_x": {
             "color": "#2a3f5f"
            },
            "error_y": {
             "color": "#2a3f5f"
            },
            "marker": {
             "line": {
              "color": "#E5ECF6",
              "width": 0.5
             },
             "pattern": {
              "fillmode": "overlay",
              "size": 10,
              "solidity": 0.2
             }
            },
            "type": "bar"
           }
          ],
          "barpolar": [
           {
            "marker": {
             "line": {
              "color": "#E5ECF6",
              "width": 0.5
             },
             "pattern": {
              "fillmode": "overlay",
              "size": 10,
              "solidity": 0.2
             }
            },
            "type": "barpolar"
           }
          ],
          "carpet": [
           {
            "aaxis": {
             "endlinecolor": "#2a3f5f",
             "gridcolor": "white",
             "linecolor": "white",
             "minorgridcolor": "white",
             "startlinecolor": "#2a3f5f"
            },
            "baxis": {
             "endlinecolor": "#2a3f5f",
             "gridcolor": "white",
             "linecolor": "white",
             "minorgridcolor": "white",
             "startlinecolor": "#2a3f5f"
            },
            "type": "carpet"
           }
          ],
          "choropleth": [
           {
            "colorbar": {
             "outlinewidth": 0,
             "ticks": ""
            },
            "type": "choropleth"
           }
          ],
          "contour": [
           {
            "colorbar": {
             "outlinewidth": 0,
             "ticks": ""
            },
            "colorscale": [
             [
              0,
              "#0d0887"
             ],
             [
              0.1111111111111111,
              "#46039f"
             ],
             [
              0.2222222222222222,
              "#7201a8"
             ],
             [
              0.3333333333333333,
              "#9c179e"
             ],
             [
              0.4444444444444444,
              "#bd3786"
             ],
             [
              0.5555555555555556,
              "#d8576b"
             ],
             [
              0.6666666666666666,
              "#ed7953"
             ],
             [
              0.7777777777777778,
              "#fb9f3a"
             ],
             [
              0.8888888888888888,
              "#fdca26"
             ],
             [
              1,
              "#f0f921"
             ]
            ],
            "type": "contour"
           }
          ],
          "contourcarpet": [
           {
            "colorbar": {
             "outlinewidth": 0,
             "ticks": ""
            },
            "type": "contourcarpet"
           }
          ],
          "heatmap": [
           {
            "colorbar": {
             "outlinewidth": 0,
             "ticks": ""
            },
            "colorscale": [
             [
              0,
              "#0d0887"
             ],
             [
              0.1111111111111111,
              "#46039f"
             ],
             [
              0.2222222222222222,
              "#7201a8"
             ],
             [
              0.3333333333333333,
              "#9c179e"
             ],
             [
              0.4444444444444444,
              "#bd3786"
             ],
             [
              0.5555555555555556,
              "#d8576b"
             ],
             [
              0.6666666666666666,
              "#ed7953"
             ],
             [
              0.7777777777777778,
              "#fb9f3a"
             ],
             [
              0.8888888888888888,
              "#fdca26"
             ],
             [
              1,
              "#f0f921"
             ]
            ],
            "type": "heatmap"
           }
          ],
          "heatmapgl": [
           {
            "colorbar": {
             "outlinewidth": 0,
             "ticks": ""
            },
            "colorscale": [
             [
              0,
              "#0d0887"
             ],
             [
              0.1111111111111111,
              "#46039f"
             ],
             [
              0.2222222222222222,
              "#7201a8"
             ],
             [
              0.3333333333333333,
              "#9c179e"
             ],
             [
              0.4444444444444444,
              "#bd3786"
             ],
             [
              0.5555555555555556,
              "#d8576b"
             ],
             [
              0.6666666666666666,
              "#ed7953"
             ],
             [
              0.7777777777777778,
              "#fb9f3a"
             ],
             [
              0.8888888888888888,
              "#fdca26"
             ],
             [
              1,
              "#f0f921"
             ]
            ],
            "type": "heatmapgl"
           }
          ],
          "histogram": [
           {
            "marker": {
             "pattern": {
              "fillmode": "overlay",
              "size": 10,
              "solidity": 0.2
             }
            },
            "type": "histogram"
           }
          ],
          "histogram2d": [
           {
            "colorbar": {
             "outlinewidth": 0,
             "ticks": ""
            },
            "colorscale": [
             [
              0,
              "#0d0887"
             ],
             [
              0.1111111111111111,
              "#46039f"
             ],
             [
              0.2222222222222222,
              "#7201a8"
             ],
             [
              0.3333333333333333,
              "#9c179e"
             ],
             [
              0.4444444444444444,
              "#bd3786"
             ],
             [
              0.5555555555555556,
              "#d8576b"
             ],
             [
              0.6666666666666666,
              "#ed7953"
             ],
             [
              0.7777777777777778,
              "#fb9f3a"
             ],
             [
              0.8888888888888888,
              "#fdca26"
             ],
             [
              1,
              "#f0f921"
             ]
            ],
            "type": "histogram2d"
           }
          ],
          "histogram2dcontour": [
           {
            "colorbar": {
             "outlinewidth": 0,
             "ticks": ""
            },
            "colorscale": [
             [
              0,
              "#0d0887"
             ],
             [
              0.1111111111111111,
              "#46039f"
             ],
             [
              0.2222222222222222,
              "#7201a8"
             ],
             [
              0.3333333333333333,
              "#9c179e"
             ],
             [
              0.4444444444444444,
              "#bd3786"
             ],
             [
              0.5555555555555556,
              "#d8576b"
             ],
             [
              0.6666666666666666,
              "#ed7953"
             ],
             [
              0.7777777777777778,
              "#fb9f3a"
             ],
             [
              0.8888888888888888,
              "#fdca26"
             ],
             [
              1,
              "#f0f921"
             ]
            ],
            "type": "histogram2dcontour"
           }
          ],
          "mesh3d": [
           {
            "colorbar": {
             "outlinewidth": 0,
             "ticks": ""
            },
            "type": "mesh3d"
           }
          ],
          "parcoords": [
           {
            "line": {
             "colorbar": {
              "outlinewidth": 0,
              "ticks": ""
             }
            },
            "type": "parcoords"
           }
          ],
          "pie": [
           {
            "automargin": true,
            "type": "pie"
           }
          ],
          "scatter": [
           {
            "fillpattern": {
             "fillmode": "overlay",
             "size": 10,
             "solidity": 0.2
            },
            "type": "scatter"
           }
          ],
          "scatter3d": [
           {
            "line": {
             "colorbar": {
              "outlinewidth": 0,
              "ticks": ""
             }
            },
            "marker": {
             "colorbar": {
              "outlinewidth": 0,
              "ticks": ""
             }
            },
            "type": "scatter3d"
           }
          ],
          "scattercarpet": [
           {
            "marker": {
             "colorbar": {
              "outlinewidth": 0,
              "ticks": ""
             }
            },
            "type": "scattercarpet"
           }
          ],
          "scattergeo": [
           {
            "marker": {
             "colorbar": {
              "outlinewidth": 0,
              "ticks": ""
             }
            },
            "type": "scattergeo"
           }
          ],
          "scattergl": [
           {
            "marker": {
             "colorbar": {
              "outlinewidth": 0,
              "ticks": ""
             }
            },
            "type": "scattergl"
           }
          ],
          "scattermapbox": [
           {
            "marker": {
             "colorbar": {
              "outlinewidth": 0,
              "ticks": ""
             }
            },
            "type": "scattermapbox"
           }
          ],
          "scatterpolar": [
           {
            "marker": {
             "colorbar": {
              "outlinewidth": 0,
              "ticks": ""
             }
            },
            "type": "scatterpolar"
           }
          ],
          "scatterpolargl": [
           {
            "marker": {
             "colorbar": {
              "outlinewidth": 0,
              "ticks": ""
             }
            },
            "type": "scatterpolargl"
           }
          ],
          "scatterternary": [
           {
            "marker": {
             "colorbar": {
              "outlinewidth": 0,
              "ticks": ""
             }
            },
            "type": "scatterternary"
           }
          ],
          "surface": [
           {
            "colorbar": {
             "outlinewidth": 0,
             "ticks": ""
            },
            "colorscale": [
             [
              0,
              "#0d0887"
             ],
             [
              0.1111111111111111,
              "#46039f"
             ],
             [
              0.2222222222222222,
              "#7201a8"
             ],
             [
              0.3333333333333333,
              "#9c179e"
             ],
             [
              0.4444444444444444,
              "#bd3786"
             ],
             [
              0.5555555555555556,
              "#d8576b"
             ],
             [
              0.6666666666666666,
              "#ed7953"
             ],
             [
              0.7777777777777778,
              "#fb9f3a"
             ],
             [
              0.8888888888888888,
              "#fdca26"
             ],
             [
              1,
              "#f0f921"
             ]
            ],
            "type": "surface"
           }
          ],
          "table": [
           {
            "cells": {
             "fill": {
              "color": "#EBF0F8"
             },
             "line": {
              "color": "white"
             }
            },
            "header": {
             "fill": {
              "color": "#C8D4E3"
             },
             "line": {
              "color": "white"
             }
            },
            "type": "table"
           }
          ]
         },
         "layout": {
          "annotationdefaults": {
           "arrowcolor": "#2a3f5f",
           "arrowhead": 0,
           "arrowwidth": 1
          },
          "autotypenumbers": "strict",
          "coloraxis": {
           "colorbar": {
            "outlinewidth": 0,
            "ticks": ""
           }
          },
          "colorscale": {
           "diverging": [
            [
             0,
             "#8e0152"
            ],
            [
             0.1,
             "#c51b7d"
            ],
            [
             0.2,
             "#de77ae"
            ],
            [
             0.3,
             "#f1b6da"
            ],
            [
             0.4,
             "#fde0ef"
            ],
            [
             0.5,
             "#f7f7f7"
            ],
            [
             0.6,
             "#e6f5d0"
            ],
            [
             0.7,
             "#b8e186"
            ],
            [
             0.8,
             "#7fbc41"
            ],
            [
             0.9,
             "#4d9221"
            ],
            [
             1,
             "#276419"
            ]
           ],
           "sequential": [
            [
             0,
             "#0d0887"
            ],
            [
             0.1111111111111111,
             "#46039f"
            ],
            [
             0.2222222222222222,
             "#7201a8"
            ],
            [
             0.3333333333333333,
             "#9c179e"
            ],
            [
             0.4444444444444444,
             "#bd3786"
            ],
            [
             0.5555555555555556,
             "#d8576b"
            ],
            [
             0.6666666666666666,
             "#ed7953"
            ],
            [
             0.7777777777777778,
             "#fb9f3a"
            ],
            [
             0.8888888888888888,
             "#fdca26"
            ],
            [
             1,
             "#f0f921"
            ]
           ],
           "sequentialminus": [
            [
             0,
             "#0d0887"
            ],
            [
             0.1111111111111111,
             "#46039f"
            ],
            [
             0.2222222222222222,
             "#7201a8"
            ],
            [
             0.3333333333333333,
             "#9c179e"
            ],
            [
             0.4444444444444444,
             "#bd3786"
            ],
            [
             0.5555555555555556,
             "#d8576b"
            ],
            [
             0.6666666666666666,
             "#ed7953"
            ],
            [
             0.7777777777777778,
             "#fb9f3a"
            ],
            [
             0.8888888888888888,
             "#fdca26"
            ],
            [
             1,
             "#f0f921"
            ]
           ]
          },
          "colorway": [
           "#636efa",
           "#EF553B",
           "#00cc96",
           "#ab63fa",
           "#FFA15A",
           "#19d3f3",
           "#FF6692",
           "#B6E880",
           "#FF97FF",
           "#FECB52"
          ],
          "font": {
           "color": "#2a3f5f"
          },
          "geo": {
           "bgcolor": "white",
           "lakecolor": "white",
           "landcolor": "#E5ECF6",
           "showlakes": true,
           "showland": true,
           "subunitcolor": "white"
          },
          "hoverlabel": {
           "align": "left"
          },
          "hovermode": "closest",
          "mapbox": {
           "style": "light"
          },
          "paper_bgcolor": "white",
          "plot_bgcolor": "#E5ECF6",
          "polar": {
           "angularaxis": {
            "gridcolor": "white",
            "linecolor": "white",
            "ticks": ""
           },
           "bgcolor": "#E5ECF6",
           "radialaxis": {
            "gridcolor": "white",
            "linecolor": "white",
            "ticks": ""
           }
          },
          "scene": {
           "xaxis": {
            "backgroundcolor": "#E5ECF6",
            "gridcolor": "white",
            "gridwidth": 2,
            "linecolor": "white",
            "showbackground": true,
            "ticks": "",
            "zerolinecolor": "white"
           },
           "yaxis": {
            "backgroundcolor": "#E5ECF6",
            "gridcolor": "white",
            "gridwidth": 2,
            "linecolor": "white",
            "showbackground": true,
            "ticks": "",
            "zerolinecolor": "white"
           },
           "zaxis": {
            "backgroundcolor": "#E5ECF6",
            "gridcolor": "white",
            "gridwidth": 2,
            "linecolor": "white",
            "showbackground": true,
            "ticks": "",
            "zerolinecolor": "white"
           }
          },
          "shapedefaults": {
           "line": {
            "color": "#2a3f5f"
           }
          },
          "ternary": {
           "aaxis": {
            "gridcolor": "white",
            "linecolor": "white",
            "ticks": ""
           },
           "baxis": {
            "gridcolor": "white",
            "linecolor": "white",
            "ticks": ""
           },
           "bgcolor": "#E5ECF6",
           "caxis": {
            "gridcolor": "white",
            "linecolor": "white",
            "ticks": ""
           }
          },
          "title": {
           "x": 0.05
          },
          "xaxis": {
           "automargin": true,
           "gridcolor": "white",
           "linecolor": "white",
           "ticks": "",
           "title": {
            "standoff": 15
           },
           "zerolinecolor": "white",
           "zerolinewidth": 2
          },
          "yaxis": {
           "automargin": true,
           "gridcolor": "white",
           "linecolor": "white",
           "ticks": "",
           "title": {
            "standoff": 15
           },
           "zerolinecolor": "white",
           "zerolinewidth": 2
          }
         }
        },
        "title": {
         "text": "Migration LTLA: Inflow: lived elsewhere one year ago outside the UK"
        },
        "xaxis": {
         "anchor": "y",
         "categoryorder": "total ascending",
         "domain": [
          0,
          1
         ],
         "title": {
          "text": "Local Authority"
         }
        },
        "yaxis": {
         "anchor": "x",
         "domain": [
          0,
          1
         ],
         "title": {
          "text": "Count"
         }
        }
       }
      }
     },
     "metadata": {},
     "output_type": "display_data"
    },
    {
     "data": {
      "application/vnd.plotly.v1+json": {
       "config": {
        "plotlyServerURL": "https://plot.ly"
       },
       "data": [
        {
         "alignmentgroup": "True",
         "hovertemplate": "Lower tier local authorities label=%{x}<br>Count=%{y}<extra></extra>",
         "legendgroup": "",
         "marker": {
          "color": "#636efa",
          "pattern": {
           "shape": ""
          }
         },
         "name": "",
         "offsetgroup": "",
         "orientation": "v",
         "showlegend": false,
         "textposition": "auto",
         "type": "bar",
         "x": [
          "West Northamptonshire",
          "North Northamptonshire",
          "Monmouthshire",
          "Cambridge",
          "East Cambridgeshire",
          "Wandsworth",
          "Buckinghamshire",
          "Westminster",
          "Dorset",
          "Babergh",
          "Bury",
          "Bournemouth, Christchurch and Poole",
          "North East Lincolnshire",
          "Northumberland",
          "Central Bedfordshire",
          "Isle of Anglesey",
          "Crawley",
          "Ipswich",
          "Bedford",
          "Wiltshire",
          "Gwynedd",
          "Mid Suffolk",
          "Warrington",
          "Isles of Scilly",
          "Blackburn with Darwen",
          "Conwy",
          "Chichester",
          "Wyre Forest",
          "Fenland",
          "Tamworth",
          "Huntingdonshire",
          "Richmond upon Thames",
          "Worcester",
          "South Staffordshire",
          "Newcastle-under-Lyme",
          "Stockton-on-Tees",
          "South Lakeland",
          "Powys",
          "Worthing",
          "Bromsgrove",
          "Eden",
          "Amber Valley",
          "Redcar and Cleveland",
          "Middlesbrough",
          "Merthyr Tydfil",
          "Lichfield",
          "Bolsover",
          "Redditch",
          "Darlington",
          "Southwark",
          "Waltham Forest",
          "Horsham",
          "Shropshire",
          "South Cambridgeshire",
          "Allerdale",
          "Wychavon",
          "Halton",
          "Tower Hamlets",
          "Barrow-in-Furness",
          "Manchester",
          "Oldham",
          "Staffordshire Moorlands",
          "Carlisle",
          "Sutton",
          "Stafford",
          "Copeland",
          "Newport",
          "Mid Sussex",
          "Cornwall",
          "Denbighshire",
          "Cheshire West and Chester",
          "Waverley",
          "Adur",
          "Stevenage",
          "Bridgend",
          "Stoke-on-Trent",
          "Bath and North East Somerset",
          "Bristol",
          "North Somerset",
          "Neath Port Talbot",
          "North Warwickshire",
          "Tandridge",
          "South Gloucestershire",
          "Plymouth",
          "Torbay",
          "East Suffolk",
          "Swansea",
          "Swindon",
          "Woking",
          "Telford and Wrekin",
          "Luton",
          "Leicester",
          "Welwyn Hatfield",
          "Rugby",
          "Rhondda Cynon Taf",
          "North Lincolnshire",
          "Nuneaton and Bedworth",
          "York",
          "Derby",
          "Cardiff",
          "East Riding of Yorkshire",
          "Rutland",
          "Warwick",
          "Caerphilly",
          "Nottingham",
          "Herefordshire",
          "East Hertfordshire",
          "Vale of Glamorgan",
          "Peterborough",
          "Kingston upon Hull",
          "Cheshire East",
          "Portsmouth",
          "Somerset West and Taunton",
          "Epsom and Ewell",
          "Blackpool",
          "Wrexham",
          "Wokingham",
          "Milton Keynes",
          "Brighton and Hove",
          "Elmbridge",
          "Slough",
          "Flintshire",
          "Southampton",
          "Isle of Wight",
          "Torfaen",
          "Bolton",
          "County Durham",
          "Stratford-on-Avon",
          "Windsor and Maidenhead",
          "Arun",
          "Southend-on-Sea",
          "West Suffolk",
          "Surrey Heath",
          "Carmarthenshire",
          "Spelthorne",
          "Thurrock",
          "Blaenau Gwent",
          "Runnymede",
          "Medway",
          "Pembrokeshire",
          "Reading",
          "Bracknell Forest",
          "Reigate and Banstead",
          "West Berkshire",
          "Mole Valley",
          "Guildford",
          "Ceredigion",
          "St Albans",
          "Redbridge",
          "Coventry",
          "Rochdale",
          "Hambleton",
          "Dartford",
          "Dover",
          "Barking and Dagenham",
          "Craven",
          "Doncaster",
          "South Norfolk",
          "City of London",
          "Gravesham",
          "Norwich",
          "Maidstone",
          "North Norfolk",
          "Gateshead",
          "Sevenoaks",
          "Rotherham",
          "Folkestone and Hythe",
          "King's Lynn and West Norfolk",
          "Swale",
          "Wakefield",
          "Great Yarmouth",
          "Canterbury",
          "Barnet",
          "Camden",
          "Ashford",
          "Sefton",
          "Rushmoor",
          "Test Valley",
          "Bromley",
          "Ryedale",
          "Winchester",
          "Broxbourne",
          "Wirral",
          "Brent",
          "Dacorum",
          "Malvern Hills",
          "Hertsmere",
          "Richmondshire",
          "North Hertfordshire",
          "Bexley",
          "Harrogate",
          "Three Rivers",
          "Barnsley",
          "Watford",
          "Thanet",
          "Sheffield",
          "Tonbridge and Malling",
          "Leeds",
          "Rossendale",
          "Walsall",
          "Lincoln",
          "South Ribble",
          "East Lindsey",
          "Sunderland",
          "Solihull",
          "West Lancashire",
          "Boston",
          "Wyre",
          "Birmingham",
          "Oadby and Wigston",
          "Sandwell",
          "Blaby",
          "Charnwood",
          "North West Leicestershire",
          "Dudley",
          "Harborough",
          "Hinckley and Bosworth",
          "South Tyneside",
          "Ribble Valley",
          "Wolverhampton",
          "Calderdale",
          "Tunbridge Wells",
          "Burnley",
          "Broadland",
          "Breckland",
          "Kirklees",
          "Chorley",
          "Newcastle upon Tyne",
          "Fylde",
          "West Lindsey",
          "Preston",
          "South Kesteven",
          "Hyndburn",
          "North Tyneside",
          "Bradford",
          "Lancaster",
          "Pendle",
          "South Holland",
          "North Kesteven",
          "New Forest",
          "Scarborough",
          "Chesterfield",
          "Torridge",
          "Kensington and Chelsea",
          "Sedgemoor",
          "Eastbourne",
          "Stockport",
          "Hastings",
          "Islington",
          "Mendip",
          "Lewes",
          "West Oxfordshire",
          "Rother",
          "Vale of White Horse",
          "Hounslow",
          "Wealden",
          "Tameside",
          "Basildon",
          "South Oxfordshire",
          "Braintree",
          "Hillingdon",
          "Oxford",
          "West Devon",
          "South Somerset",
          "Havant",
          "Teignbridge",
          "Derbyshire Dales",
          "Newham",
          "Erewash",
          "East Staffordshire",
          "High Peak",
          "Merton",
          "North East Derbyshire",
          "South Derbyshire",
          "Lewisham",
          "East Devon",
          "Melton",
          "Exeter",
          "Mid Devon",
          "Lambeth",
          "North Devon",
          "Cannock Chase",
          "South Hams",
          "Salford",
          "Kingston upon Thames",
          "Brentwood",
          "Cherwell",
          "Trafford",
          "Castle Point",
          "Forest of Dean",
          "Gloucester",
          "Greenwich",
          "Stroud",
          "Bassetlaw",
          "Tewkesbury",
          "Liverpool",
          "Enfield",
          "Basingstoke and Deane",
          "East Hampshire",
          "Eastleigh",
          "Ashfield",
          "Ealing",
          "Fareham",
          "Gosport",
          "St. Helens",
          "Croydon",
          "Hart",
          "Selby",
          "Broxtowe",
          "Cotswold",
          "Hackney",
          "Wigan",
          "Havering",
          "Rushcliffe",
          "Chelmsford",
          "Colchester",
          "Epping Forest",
          "Harrow",
          "Newark and Sherwood",
          "Harlow",
          "Maldon",
          "Knowsley",
          "Haringey",
          "Mansfield",
          "Rochford",
          "Tendring",
          "Hammersmith and Fulham",
          "Uttlesford",
          "Gedling",
          "Cheltenham",
          "Hartlepool"
         ],
         "xaxis": "x",
         "y": [
          0,
          0,
          0,
          0,
          0,
          0,
          0,
          0,
          0,
          0,
          0,
          0,
          0,
          0,
          0,
          0,
          0,
          0,
          0,
          0,
          0,
          0,
          0,
          0,
          0,
          0,
          0,
          0,
          0,
          0,
          0,
          0,
          0,
          0,
          0,
          0,
          0,
          0,
          0,
          0,
          0,
          0,
          0,
          0,
          0,
          0,
          0,
          0,
          0,
          0,
          0,
          0,
          0,
          0,
          0,
          0,
          0,
          0,
          0,
          0,
          0,
          0,
          0,
          0,
          0,
          0,
          0,
          0,
          0,
          0,
          0,
          0,
          0,
          0,
          0,
          0,
          0,
          0,
          0,
          0,
          0,
          0,
          0,
          0,
          0,
          0,
          0,
          0,
          0,
          0,
          0,
          0,
          0,
          0,
          0,
          0,
          0,
          0,
          0,
          0,
          0,
          0,
          0,
          0,
          0,
          0,
          0,
          0,
          0,
          0,
          0,
          0,
          0,
          0,
          0,
          0,
          0,
          0,
          0,
          0,
          0,
          0,
          0,
          0,
          0,
          0,
          0,
          0,
          0,
          0,
          0,
          0,
          0,
          0,
          0,
          0,
          0,
          0,
          0,
          0,
          0,
          0,
          0,
          0,
          0,
          0,
          0,
          0,
          0,
          0,
          0,
          0,
          0,
          0,
          0,
          0,
          0,
          0,
          0,
          0,
          0,
          0,
          0,
          0,
          0,
          0,
          0,
          0,
          0,
          0,
          0,
          0,
          0,
          0,
          0,
          0,
          0,
          0,
          0,
          0,
          0,
          0,
          0,
          0,
          0,
          0,
          0,
          0,
          0,
          0,
          0,
          0,
          0,
          0,
          0,
          0,
          0,
          0,
          0,
          0,
          0,
          0,
          0,
          0,
          0,
          0,
          0,
          0,
          0,
          0,
          0,
          0,
          0,
          0,
          0,
          0,
          0,
          0,
          0,
          0,
          0,
          0,
          0,
          0,
          0,
          0,
          0,
          0,
          0,
          0,
          0,
          0,
          0,
          0,
          0,
          0,
          0,
          0,
          0,
          0,
          0,
          0,
          0,
          0,
          0,
          0,
          0,
          0,
          0,
          0,
          0,
          0,
          0,
          0,
          0,
          0,
          0,
          0,
          0,
          0,
          0,
          0,
          0,
          0,
          0,
          0,
          0,
          0,
          0,
          0,
          0,
          0,
          0,
          0,
          0,
          0,
          0,
          0,
          0,
          0,
          0,
          0,
          0,
          0,
          0,
          0,
          0,
          0,
          0,
          0,
          0,
          0,
          0,
          0,
          0,
          0,
          0,
          0,
          0,
          0,
          0,
          0,
          0,
          0,
          0,
          0,
          0,
          0,
          0,
          0,
          0,
          0,
          0,
          0,
          0,
          0,
          0,
          0,
          0,
          0,
          0,
          0,
          0,
          0,
          0,
          0,
          0,
          0,
          0,
          0,
          0
         ],
         "yaxis": "y"
        }
       ],
       "layout": {
        "barmode": "relative",
        "legend": {
         "tracegroupgap": 0
        },
        "template": {
         "data": {
          "bar": [
           {
            "error_x": {
             "color": "#2a3f5f"
            },
            "error_y": {
             "color": "#2a3f5f"
            },
            "marker": {
             "line": {
              "color": "#E5ECF6",
              "width": 0.5
             },
             "pattern": {
              "fillmode": "overlay",
              "size": 10,
              "solidity": 0.2
             }
            },
            "type": "bar"
           }
          ],
          "barpolar": [
           {
            "marker": {
             "line": {
              "color": "#E5ECF6",
              "width": 0.5
             },
             "pattern": {
              "fillmode": "overlay",
              "size": 10,
              "solidity": 0.2
             }
            },
            "type": "barpolar"
           }
          ],
          "carpet": [
           {
            "aaxis": {
             "endlinecolor": "#2a3f5f",
             "gridcolor": "white",
             "linecolor": "white",
             "minorgridcolor": "white",
             "startlinecolor": "#2a3f5f"
            },
            "baxis": {
             "endlinecolor": "#2a3f5f",
             "gridcolor": "white",
             "linecolor": "white",
             "minorgridcolor": "white",
             "startlinecolor": "#2a3f5f"
            },
            "type": "carpet"
           }
          ],
          "choropleth": [
           {
            "colorbar": {
             "outlinewidth": 0,
             "ticks": ""
            },
            "type": "choropleth"
           }
          ],
          "contour": [
           {
            "colorbar": {
             "outlinewidth": 0,
             "ticks": ""
            },
            "colorscale": [
             [
              0,
              "#0d0887"
             ],
             [
              0.1111111111111111,
              "#46039f"
             ],
             [
              0.2222222222222222,
              "#7201a8"
             ],
             [
              0.3333333333333333,
              "#9c179e"
             ],
             [
              0.4444444444444444,
              "#bd3786"
             ],
             [
              0.5555555555555556,
              "#d8576b"
             ],
             [
              0.6666666666666666,
              "#ed7953"
             ],
             [
              0.7777777777777778,
              "#fb9f3a"
             ],
             [
              0.8888888888888888,
              "#fdca26"
             ],
             [
              1,
              "#f0f921"
             ]
            ],
            "type": "contour"
           }
          ],
          "contourcarpet": [
           {
            "colorbar": {
             "outlinewidth": 0,
             "ticks": ""
            },
            "type": "contourcarpet"
           }
          ],
          "heatmap": [
           {
            "colorbar": {
             "outlinewidth": 0,
             "ticks": ""
            },
            "colorscale": [
             [
              0,
              "#0d0887"
             ],
             [
              0.1111111111111111,
              "#46039f"
             ],
             [
              0.2222222222222222,
              "#7201a8"
             ],
             [
              0.3333333333333333,
              "#9c179e"
             ],
             [
              0.4444444444444444,
              "#bd3786"
             ],
             [
              0.5555555555555556,
              "#d8576b"
             ],
             [
              0.6666666666666666,
              "#ed7953"
             ],
             [
              0.7777777777777778,
              "#fb9f3a"
             ],
             [
              0.8888888888888888,
              "#fdca26"
             ],
             [
              1,
              "#f0f921"
             ]
            ],
            "type": "heatmap"
           }
          ],
          "heatmapgl": [
           {
            "colorbar": {
             "outlinewidth": 0,
             "ticks": ""
            },
            "colorscale": [
             [
              0,
              "#0d0887"
             ],
             [
              0.1111111111111111,
              "#46039f"
             ],
             [
              0.2222222222222222,
              "#7201a8"
             ],
             [
              0.3333333333333333,
              "#9c179e"
             ],
             [
              0.4444444444444444,
              "#bd3786"
             ],
             [
              0.5555555555555556,
              "#d8576b"
             ],
             [
              0.6666666666666666,
              "#ed7953"
             ],
             [
              0.7777777777777778,
              "#fb9f3a"
             ],
             [
              0.8888888888888888,
              "#fdca26"
             ],
             [
              1,
              "#f0f921"
             ]
            ],
            "type": "heatmapgl"
           }
          ],
          "histogram": [
           {
            "marker": {
             "pattern": {
              "fillmode": "overlay",
              "size": 10,
              "solidity": 0.2
             }
            },
            "type": "histogram"
           }
          ],
          "histogram2d": [
           {
            "colorbar": {
             "outlinewidth": 0,
             "ticks": ""
            },
            "colorscale": [
             [
              0,
              "#0d0887"
             ],
             [
              0.1111111111111111,
              "#46039f"
             ],
             [
              0.2222222222222222,
              "#7201a8"
             ],
             [
              0.3333333333333333,
              "#9c179e"
             ],
             [
              0.4444444444444444,
              "#bd3786"
             ],
             [
              0.5555555555555556,
              "#d8576b"
             ],
             [
              0.6666666666666666,
              "#ed7953"
             ],
             [
              0.7777777777777778,
              "#fb9f3a"
             ],
             [
              0.8888888888888888,
              "#fdca26"
             ],
             [
              1,
              "#f0f921"
             ]
            ],
            "type": "histogram2d"
           }
          ],
          "histogram2dcontour": [
           {
            "colorbar": {
             "outlinewidth": 0,
             "ticks": ""
            },
            "colorscale": [
             [
              0,
              "#0d0887"
             ],
             [
              0.1111111111111111,
              "#46039f"
             ],
             [
              0.2222222222222222,
              "#7201a8"
             ],
             [
              0.3333333333333333,
              "#9c179e"
             ],
             [
              0.4444444444444444,
              "#bd3786"
             ],
             [
              0.5555555555555556,
              "#d8576b"
             ],
             [
              0.6666666666666666,
              "#ed7953"
             ],
             [
              0.7777777777777778,
              "#fb9f3a"
             ],
             [
              0.8888888888888888,
              "#fdca26"
             ],
             [
              1,
              "#f0f921"
             ]
            ],
            "type": "histogram2dcontour"
           }
          ],
          "mesh3d": [
           {
            "colorbar": {
             "outlinewidth": 0,
             "ticks": ""
            },
            "type": "mesh3d"
           }
          ],
          "parcoords": [
           {
            "line": {
             "colorbar": {
              "outlinewidth": 0,
              "ticks": ""
             }
            },
            "type": "parcoords"
           }
          ],
          "pie": [
           {
            "automargin": true,
            "type": "pie"
           }
          ],
          "scatter": [
           {
            "fillpattern": {
             "fillmode": "overlay",
             "size": 10,
             "solidity": 0.2
            },
            "type": "scatter"
           }
          ],
          "scatter3d": [
           {
            "line": {
             "colorbar": {
              "outlinewidth": 0,
              "ticks": ""
             }
            },
            "marker": {
             "colorbar": {
              "outlinewidth": 0,
              "ticks": ""
             }
            },
            "type": "scatter3d"
           }
          ],
          "scattercarpet": [
           {
            "marker": {
             "colorbar": {
              "outlinewidth": 0,
              "ticks": ""
             }
            },
            "type": "scattercarpet"
           }
          ],
          "scattergeo": [
           {
            "marker": {
             "colorbar": {
              "outlinewidth": 0,
              "ticks": ""
             }
            },
            "type": "scattergeo"
           }
          ],
          "scattergl": [
           {
            "marker": {
             "colorbar": {
              "outlinewidth": 0,
              "ticks": ""
             }
            },
            "type": "scattergl"
           }
          ],
          "scattermapbox": [
           {
            "marker": {
             "colorbar": {
              "outlinewidth": 0,
              "ticks": ""
             }
            },
            "type": "scattermapbox"
           }
          ],
          "scatterpolar": [
           {
            "marker": {
             "colorbar": {
              "outlinewidth": 0,
              "ticks": ""
             }
            },
            "type": "scatterpolar"
           }
          ],
          "scatterpolargl": [
           {
            "marker": {
             "colorbar": {
              "outlinewidth": 0,
              "ticks": ""
             }
            },
            "type": "scatterpolargl"
           }
          ],
          "scatterternary": [
           {
            "marker": {
             "colorbar": {
              "outlinewidth": 0,
              "ticks": ""
             }
            },
            "type": "scatterternary"
           }
          ],
          "surface": [
           {
            "colorbar": {
             "outlinewidth": 0,
             "ticks": ""
            },
            "colorscale": [
             [
              0,
              "#0d0887"
             ],
             [
              0.1111111111111111,
              "#46039f"
             ],
             [
              0.2222222222222222,
              "#7201a8"
             ],
             [
              0.3333333333333333,
              "#9c179e"
             ],
             [
              0.4444444444444444,
              "#bd3786"
             ],
             [
              0.5555555555555556,
              "#d8576b"
             ],
             [
              0.6666666666666666,
              "#ed7953"
             ],
             [
              0.7777777777777778,
              "#fb9f3a"
             ],
             [
              0.8888888888888888,
              "#fdca26"
             ],
             [
              1,
              "#f0f921"
             ]
            ],
            "type": "surface"
           }
          ],
          "table": [
           {
            "cells": {
             "fill": {
              "color": "#EBF0F8"
             },
             "line": {
              "color": "white"
             }
            },
            "header": {
             "fill": {
              "color": "#C8D4E3"
             },
             "line": {
              "color": "white"
             }
            },
            "type": "table"
           }
          ]
         },
         "layout": {
          "annotationdefaults": {
           "arrowcolor": "#2a3f5f",
           "arrowhead": 0,
           "arrowwidth": 1
          },
          "autotypenumbers": "strict",
          "coloraxis": {
           "colorbar": {
            "outlinewidth": 0,
            "ticks": ""
           }
          },
          "colorscale": {
           "diverging": [
            [
             0,
             "#8e0152"
            ],
            [
             0.1,
             "#c51b7d"
            ],
            [
             0.2,
             "#de77ae"
            ],
            [
             0.3,
             "#f1b6da"
            ],
            [
             0.4,
             "#fde0ef"
            ],
            [
             0.5,
             "#f7f7f7"
            ],
            [
             0.6,
             "#e6f5d0"
            ],
            [
             0.7,
             "#b8e186"
            ],
            [
             0.8,
             "#7fbc41"
            ],
            [
             0.9,
             "#4d9221"
            ],
            [
             1,
             "#276419"
            ]
           ],
           "sequential": [
            [
             0,
             "#0d0887"
            ],
            [
             0.1111111111111111,
             "#46039f"
            ],
            [
             0.2222222222222222,
             "#7201a8"
            ],
            [
             0.3333333333333333,
             "#9c179e"
            ],
            [
             0.4444444444444444,
             "#bd3786"
            ],
            [
             0.5555555555555556,
             "#d8576b"
            ],
            [
             0.6666666666666666,
             "#ed7953"
            ],
            [
             0.7777777777777778,
             "#fb9f3a"
            ],
            [
             0.8888888888888888,
             "#fdca26"
            ],
            [
             1,
             "#f0f921"
            ]
           ],
           "sequentialminus": [
            [
             0,
             "#0d0887"
            ],
            [
             0.1111111111111111,
             "#46039f"
            ],
            [
             0.2222222222222222,
             "#7201a8"
            ],
            [
             0.3333333333333333,
             "#9c179e"
            ],
            [
             0.4444444444444444,
             "#bd3786"
            ],
            [
             0.5555555555555556,
             "#d8576b"
            ],
            [
             0.6666666666666666,
             "#ed7953"
            ],
            [
             0.7777777777777778,
             "#fb9f3a"
            ],
            [
             0.8888888888888888,
             "#fdca26"
            ],
            [
             1,
             "#f0f921"
            ]
           ]
          },
          "colorway": [
           "#636efa",
           "#EF553B",
           "#00cc96",
           "#ab63fa",
           "#FFA15A",
           "#19d3f3",
           "#FF6692",
           "#B6E880",
           "#FF97FF",
           "#FECB52"
          ],
          "font": {
           "color": "#2a3f5f"
          },
          "geo": {
           "bgcolor": "white",
           "lakecolor": "white",
           "landcolor": "#E5ECF6",
           "showlakes": true,
           "showland": true,
           "subunitcolor": "white"
          },
          "hoverlabel": {
           "align": "left"
          },
          "hovermode": "closest",
          "mapbox": {
           "style": "light"
          },
          "paper_bgcolor": "white",
          "plot_bgcolor": "#E5ECF6",
          "polar": {
           "angularaxis": {
            "gridcolor": "white",
            "linecolor": "white",
            "ticks": ""
           },
           "bgcolor": "#E5ECF6",
           "radialaxis": {
            "gridcolor": "white",
            "linecolor": "white",
            "ticks": ""
           }
          },
          "scene": {
           "xaxis": {
            "backgroundcolor": "#E5ECF6",
            "gridcolor": "white",
            "gridwidth": 2,
            "linecolor": "white",
            "showbackground": true,
            "ticks": "",
            "zerolinecolor": "white"
           },
           "yaxis": {
            "backgroundcolor": "#E5ECF6",
            "gridcolor": "white",
            "gridwidth": 2,
            "linecolor": "white",
            "showbackground": true,
            "ticks": "",
            "zerolinecolor": "white"
           },
           "zaxis": {
            "backgroundcolor": "#E5ECF6",
            "gridcolor": "white",
            "gridwidth": 2,
            "linecolor": "white",
            "showbackground": true,
            "ticks": "",
            "zerolinecolor": "white"
           }
          },
          "shapedefaults": {
           "line": {
            "color": "#2a3f5f"
           }
          },
          "ternary": {
           "aaxis": {
            "gridcolor": "white",
            "linecolor": "white",
            "ticks": ""
           },
           "baxis": {
            "gridcolor": "white",
            "linecolor": "white",
            "ticks": ""
           },
           "bgcolor": "#E5ECF6",
           "caxis": {
            "gridcolor": "white",
            "linecolor": "white",
            "ticks": ""
           }
          },
          "title": {
           "x": 0.05
          },
          "xaxis": {
           "automargin": true,
           "gridcolor": "white",
           "linecolor": "white",
           "ticks": "",
           "title": {
            "standoff": 15
           },
           "zerolinecolor": "white",
           "zerolinewidth": 2
          },
          "yaxis": {
           "automargin": true,
           "gridcolor": "white",
           "linecolor": "white",
           "ticks": "",
           "title": {
            "standoff": 15
           },
           "zerolinecolor": "white",
           "zerolinewidth": 2
          }
         }
        },
        "title": {
         "text": "Migration LTLA: Does not apply"
        },
        "xaxis": {
         "anchor": "y",
         "categoryorder": "total ascending",
         "domain": [
          0,
          1
         ],
         "title": {
          "text": "Local Authority"
         }
        },
        "yaxis": {
         "anchor": "x",
         "domain": [
          0,
          1
         ],
         "title": {
          "text": "Count"
         }
        }
       }
      }
     },
     "metadata": {},
     "output_type": "display_data"
    }
   ],
   "source": [
    "\n",
    "migration_categories = in_authority['Migration LTLA (inflow) (6 categories) label'].unique()\n",
    "\n",
    "# Create a separate bar graph for each category\n",
    "for category in migration_categories:\n",
    "    filtered_data = in_authority[in_authority['Migration LTLA (inflow) (6 categories) label'] == category]\n",
    "    \n",
    "    fig = px.bar(filtered_data, x='Lower tier local authorities label', y='Count',\n",
    "                 title=f'Migration LTLA: {category}')\n",
    "    \n",
    "    fig.update_layout(xaxis_title='Local Authority', yaxis_title='Count')\n",
    "    fig.update_xaxes(categoryorder='total ascending')  # Sort authorities by total count\n",
    "    fig.show()"
   ]
  },
  {
   "cell_type": "markdown",
   "metadata": {},
   "source": [
    "# API For Authority Areas\n",
    "\n",
    "Can be found here: https://findthatpostcode.uk/#api"
   ]
  },
  {
   "cell_type": "code",
   "execution_count": 40,
   "metadata": {},
   "outputs": [
    {
     "name": "stdout",
     "output_type": "stream",
     "text": [
      "Fetched GeoJSON 1 for E08000025\n",
      "Fetched GeoJSON 2 for E08000035\n",
      "Fetched GeoJSON 3 for E06000052\n",
      "Fetched GeoJSON 4 for E08000032\n",
      "Fetched GeoJSON 5 for E06000060\n",
      "Fetched GeoJSON 6 for E08000019\n",
      "Fetched GeoJSON 7 for E06000047\n",
      "Fetched GeoJSON 8 for E06000054\n",
      "Fetched GeoJSON 9 for E08000003\n",
      "Fetched GeoJSON 10 for E08000012\n",
      "Fetched GeoJSON 11 for E08000034\n",
      "Fetched GeoJSON 12 for E06000023\n",
      "Fetched GeoJSON 13 for E06000062\n",
      "Fetched GeoJSON 14 for E06000049\n",
      "Fetched GeoJSON 15 for E09000008\n",
      "Fetched GeoJSON 16 for E06000058\n",
      "Fetched GeoJSON 17 for E09000003\n",
      "Fetched GeoJSON 18 for E06000059\n",
      "Fetched GeoJSON 19 for E08000036\n",
      "Fetched GeoJSON 20 for E06000061\n",
      "Fetched GeoJSON 21 for E06000050\n",
      "Fetched GeoJSON 22 for E09000009\n",
      "Fetched GeoJSON 23 for E06000016\n",
      "Fetched GeoJSON 24 for E08000028\n",
      "Fetched GeoJSON 25 for E06000011\n",
      "Fetched GeoJSON 26 for E09000025\n",
      "Fetched GeoJSON 27 for E08000010\n",
      "Fetched GeoJSON 28 for W06000015\n",
      "Fetched GeoJSON 29 for E09000010\n",
      "Fetched GeoJSON 30 for E08000027\n",
      "Fetched GeoJSON 31 for E09000006\n",
      "Fetched GeoJSON 32 for E08000015\n",
      "Fetched GeoJSON 33 for E09000005\n",
      "Fetched GeoJSON 34 for E08000026\n",
      "Fetched GeoJSON 35 for E06000057\n",
      "Fetched GeoJSON 36 for E06000051\n",
      "Fetched GeoJSON 37 for E08000017\n",
      "Fetched GeoJSON 38 for E09000026\n",
      "Fetched GeoJSON 39 for E08000001\n",
      "Fetched GeoJSON 40 for E09000017\n",
      "Fetched GeoJSON 41 for E08000007\n",
      "Fetched GeoJSON 42 for E06000056\n",
      "Fetched GeoJSON 43 for E09000023\n",
      "Fetched GeoJSON 44 for E08000030\n",
      "Fetched GeoJSON 45 for E09000032\n",
      "Fetched GeoJSON 46 for E09000022\n",
      "Fetched GeoJSON 47 for E06000025\n",
      "Fetched GeoJSON 48 for E08000014\n",
      "Fetched GeoJSON 49 for E06000018\n",
      "Fetched GeoJSON 50 for E09000028\n",
      "Fetched GeoJSON 51 for E06000042\n",
      "Fetched GeoJSON 52 for E09000018\n",
      "Fetched GeoJSON 53 for E09000011\n",
      "Fetched GeoJSON 54 for E08000024\n",
      "Fetched GeoJSON 55 for E06000035\n",
      "Fetched GeoJSON 56 for E09000031\n",
      "Fetched GeoJSON 57 for E08000018\n",
      "Fetched GeoJSON 58 for E09000030\n",
      "Fetched GeoJSON 59 for E08000021\n",
      "Fetched GeoJSON 60 for E08000031\n",
      "Fetched GeoJSON 61 for E09000016\n",
      "Fetched GeoJSON 62 for E06000010\n",
      "Fetched GeoJSON 63 for E09000015\n",
      "Fetched GeoJSON 64 for E06000021\n",
      "Fetched GeoJSON 65 for E06000015\n",
      "Fetched GeoJSON 66 for E06000026\n",
      "Fetched GeoJSON 67 for E08000006\n",
      "Fetched GeoJSON 68 for E09000014\n",
      "Fetched GeoJSON 69 for E09000004\n",
      "Fetched GeoJSON 70 for E08000016\n",
      "Fetched GeoJSON 71 for E08000004\n",
      "Fetched GeoJSON 72 for E06000043\n",
      "Fetched GeoJSON 73 for E07000244\n",
      "Fetched GeoJSON 74 for W06000016\n",
      "Fetched GeoJSON 75 for E09000012\n",
      "Fetched GeoJSON 76 for E08000009\n",
      "Fetched GeoJSON 77 for E08000008\n",
      "Fetched GeoJSON 78 for W06000011\n",
      "Fetched GeoJSON 79 for E06000030\n",
      "Fetched GeoJSON 80 for E06000045\n",
      "Fetched GeoJSON 81 for E08000005\n",
      "Fetched GeoJSON 82 for E06000032\n",
      "Fetched GeoJSON 83 for E09000002\n",
      "Fetched GeoJSON 84 for E08000029\n",
      "Fetched GeoJSON 85 for E06000024\n",
      "Fetched GeoJSON 86 for E06000007\n",
      "Fetched GeoJSON 87 for E08000022\n",
      "Fetched GeoJSON 88 for E06000031\n",
      "Fetched GeoJSON 89 for E09000029\n",
      "Fetched GeoJSON 90 for E08000033\n",
      "Fetched GeoJSON 91 for E09000024\n",
      "Fetched GeoJSON 92 for E08000002\n",
      "Fetched GeoJSON 93 for E06000004\n",
      "Fetched GeoJSON 94 for E08000037\n",
      "Fetched GeoJSON 95 for E06000044\n",
      "Fetched GeoJSON 96 for E09000019\n",
      "Fetched GeoJSON 97 for W06000010\n",
      "Fetched GeoJSON 98 for E07000066\n",
      "Fetched GeoJSON 99 for E09000027\n",
      "Fetched GeoJSON 100 for E08000013\n",
      "Fetched GeoJSON 101 for E06000019\n",
      "Fetched GeoJSON 102 for E06000014\n",
      "Fetched GeoJSON 103 for E09000007\n",
      "Fetched GeoJSON 104 for E07000071\n",
      "Fetched GeoJSON 105 for E06000020\n",
      "Fetched GeoJSON 106 for E06000055\n",
      "Fetched GeoJSON 107 for E07000084\n",
      "Fetched GeoJSON 108 for W06000018\n",
      "Fetched GeoJSON 109 for E06000033\n",
      "Fetched GeoJSON 110 for E07000070\n",
      "Fetched GeoJSON 111 for E07000011\n",
      "Fetched GeoJSON 112 for E09000033\n",
      "Fetched GeoJSON 113 for E06000034\n",
      "Fetched GeoJSON 114 for E07000091\n",
      "Fetched GeoJSON 115 for E06000022\n",
      "Fetched GeoJSON 116 for E07000245\n",
      "Fetched GeoJSON 117 for E06000041\n",
      "Fetched GeoJSON 118 for E07000130\n",
      "Fetched GeoJSON 119 for E07000110\n",
      "Fetched GeoJSON 120 for E06000013\n",
      "Fetched GeoJSON 121 for E07000189\n",
      "Fetched GeoJSON 122 for E07000224\n",
      "Fetched GeoJSON 123 for E09000021\n",
      "Fetched GeoJSON 124 for W06000022\n",
      "Fetched GeoJSON 125 for E09000013\n",
      "Fetched GeoJSON 126 for E07000012\n",
      "Fetched GeoJSON 127 for E06000037\n",
      "Fetched GeoJSON 128 for E06000038\n",
      "Fetched GeoJSON 129 for E07000065\n",
      "Fetched GeoJSON 130 for E07000165\n",
      "Fetched GeoJSON 131 for E08000011\n",
      "Fetched GeoJSON 132 for W06000005\n",
      "Fetched GeoJSON 133 for E06000012\n",
      "Fetched GeoJSON 134 for E06000039\n",
      "Fetched GeoJSON 135 for E07000177\n",
      "Fetched GeoJSON 136 for E06000008\n",
      "Fetched GeoJSON 137 for E07000246\n",
      "Fetched GeoJSON 138 for E07000067\n",
      "Fetched GeoJSON 139 for E07000096\n",
      "Fetched GeoJSON 140 for E07000146\n",
      "Fetched GeoJSON 141 for E07000113\n",
      "Fetched GeoJSON 142 for E08000023\n",
      "Fetched GeoJSON 143 for E07000228\n",
      "Fetched GeoJSON 144 for E06000040\n",
      "Fetched GeoJSON 145 for E07000211\n",
      "Fetched GeoJSON 146 for E07000040\n",
      "Fetched GeoJSON 147 for E07000242\n",
      "Fetched GeoJSON 148 for E07000076\n",
      "Fetched GeoJSON 149 for W06000013\n",
      "Fetched GeoJSON 150 for E07000240\n",
      "Fetched GeoJSON 151 for E07000179\n",
      "Fetched GeoJSON 152 for E07000227\n",
      "Fetched GeoJSON 153 for W06000012\n",
      "Fetched GeoJSON 154 for E07000106\n",
      "Fetched GeoJSON 155 for E07000141\n",
      "Fetched GeoJSON 156 for E07000137\n",
      "Fetched GeoJSON 157 for E07000149\n",
      "Fetched GeoJSON 158 for E07000123\n",
      "Fetched GeoJSON 159 for E06000002\n",
      "Fetched GeoJSON 160 for E07000143\n",
      "Fetched GeoJSON 161 for E06000009\n",
      "Fetched GeoJSON 162 for E07000114\n",
      "Fetched GeoJSON 163 for E06000027\n",
      "Fetched GeoJSON 164 for E06000003\n",
      "Fetched GeoJSON 165 for E06000046\n",
      "Fetched GeoJSON 166 for E07000222\n",
      "Fetched GeoJSON 167 for E07000202\n",
      "Fetched GeoJSON 168 for W06000006\n",
      "Fetched GeoJSON 169 for E07000197\n",
      "Fetched GeoJSON 170 for E07000086\n",
      "Fetched GeoJSON 171 for E07000207\n",
      "Fetched GeoJSON 172 for E07000072\n",
      "Fetched GeoJSON 173 for E07000219\n",
      "Fetched GeoJSON 174 for E07000045\n",
      "Fetched GeoJSON 175 for W06000023\n",
      "Fetched GeoJSON 176 for E07000180\n",
      "Fetched GeoJSON 177 for E07000121\n",
      "Fetched GeoJSON 178 for E07000144\n",
      "Fetched GeoJSON 179 for E07000238\n",
      "Fetched GeoJSON 180 for E07000099\n",
      "Fetched GeoJSON 181 for E07000115\n",
      "Fetched GeoJSON 182 for E07000178\n",
      "Fetched GeoJSON 183 for W06000014\n",
      "Fetched GeoJSON 184 for E07000221\n",
      "Fetched GeoJSON 185 for E06000006\n",
      "Fetched GeoJSON 186 for E07000105\n",
      "Fetched GeoJSON 187 for E07000081\n",
      "Fetched GeoJSON 188 for E07000209\n",
      "Fetched GeoJSON 189 for E09000020\n",
      "Fetched GeoJSON 190 for E07000093\n",
      "Fetched GeoJSON 191 for E07000148\n",
      "Fetched GeoJSON 192 for E07000170\n",
      "Fetched GeoJSON 193 for E07000032\n",
      "Fetched GeoJSON 194 for E07000090\n",
      "Fetched GeoJSON 195 for E07000188\n",
      "Fetched GeoJSON 196 for E07000216\n",
      "Fetched GeoJSON 197 for E07000085\n",
      "Fetched GeoJSON 198 for W06000009\n",
      "Fetched GeoJSON 199 for E07000193\n",
      "Fetched GeoJSON 200 for E07000008\n",
      "Fetched GeoJSON 201 for E07000175\n",
      "Fetched GeoJSON 202 for E07000195\n",
      "Fetched GeoJSON 203 for E06000036\n",
      "Fetched GeoJSON 204 for E07000082\n",
      "Fetched GeoJSON 205 for E07000111\n",
      "Fetched GeoJSON 206 for E07000225\n",
      "Fetched GeoJSON 207 for E07000094\n",
      "Fetched GeoJSON 208 for E07000118\n",
      "Fetched GeoJSON 209 for E07000173\n",
      "Fetched GeoJSON 210 for E07000171\n",
      "Fetched GeoJSON 211 for E07000139\n",
      "Fetched GeoJSON 212 for E07000176\n",
      "Fetched GeoJSON 213 for E07000226\n",
      "Fetched GeoJSON 214 for W06000003\n",
      "Fetched GeoJSON 215 for E07000107\n",
      "Fetched GeoJSON 216 for E07000108\n",
      "Fetched GeoJSON 217 for E07000187\n",
      "Fetched GeoJSON 218 for E07000087\n",
      "Fetched GeoJSON 219 for E07000132\n",
      "Fetched GeoJSON 220 for W06000002\n",
      "Fetched GeoJSON 221 for E07000036\n",
      "Fetched GeoJSON 222 for E07000127\n",
      "Fetched GeoJSON 223 for E07000241\n",
      "Fetched GeoJSON 224 for E07000126\n",
      "Fetched GeoJSON 225 for E07000041\n",
      "Fetched GeoJSON 226 for E07000078\n",
      "Fetched GeoJSON 227 for E07000116\n",
      "Fetched GeoJSON 228 for E07000196\n",
      "Fetched GeoJSON 229 for E07000220\n",
      "Fetched GeoJSON 230 for E07000128\n",
      "Fetched GeoJSON 231 for E07000174\n",
      "Fetched GeoJSON 232 for E07000181\n",
      "Fetched GeoJSON 233 for E07000229\n",
      "Fetched GeoJSON 234 for E07000172\n",
      "Fetched GeoJSON 235 for E07000112\n",
      "Fetched GeoJSON 236 for E07000028\n",
      "Fetched GeoJSON 237 for E07000168\n",
      "Fetched GeoJSON 238 for E07000109\n",
      "Fetched GeoJSON 239 for E07000098\n",
      "Fetched GeoJSON 240 for E06000005\n",
      "Fetched GeoJSON 241 for E07000194\n",
      "Fetched GeoJSON 242 for E07000039\n",
      "Fetched GeoJSON 243 for E07000034\n",
      "Fetched GeoJSON 244 for E07000031\n",
      "Fetched GeoJSON 245 for E07000129\n",
      "Fetched GeoJSON 246 for E07000134\n",
      "Fetched GeoJSON 247 for E07000038\n",
      "Fetched GeoJSON 248 for E07000147\n",
      "Fetched GeoJSON 249 for E07000239\n",
      "Fetched GeoJSON 250 for E07000010\n",
      "Fetched GeoJSON 251 for E07000213\n",
      "Fetched GeoJSON 252 for E07000203\n",
      "Fetched GeoJSON 253 for E07000192\n",
      "Fetched GeoJSON 254 for E07000217\n",
      "Fetched GeoJSON 255 for E07000237\n",
      "Fetched GeoJSON 256 for E07000234\n",
      "Fetched GeoJSON 257 for E07000103\n",
      "Fetched GeoJSON 258 for E07000095\n",
      "Fetched GeoJSON 259 for E07000063\n",
      "Fetched GeoJSON 260 for E07000061\n",
      "Fetched GeoJSON 261 for E07000145\n",
      "Fetched GeoJSON 262 for E07000089\n",
      "Fetched GeoJSON 263 for E07000026\n",
      "Fetched GeoJSON 264 for E07000198\n",
      "Fetched GeoJSON 265 for E07000092\n",
      "Fetched GeoJSON 266 for E07000043\n",
      "Fetched GeoJSON 267 for E07000122\n",
      "Fetched GeoJSON 268 for W06000004\n",
      "Fetched GeoJSON 269 for E07000131\n",
      "Fetched GeoJSON 270 for E07000142\n",
      "Fetched GeoJSON 271 for E07000117\n",
      "Fetched GeoJSON 272 for W06000020\n",
      "Fetched GeoJSON 273 for E07000083\n",
      "Fetched GeoJSON 274 for E07000102\n",
      "Fetched GeoJSON 275 for E07000140\n",
      "Fetched GeoJSON 276 for W06000021\n",
      "Fetched GeoJSON 277 for E07000073\n",
      "Fetched GeoJSON 278 for E07000064\n",
      "Fetched GeoJSON 279 for E06000001\n",
      "Fetched GeoJSON 280 for E07000200\n",
      "Fetched GeoJSON 281 for E07000169\n",
      "Fetched GeoJSON 282 for E07000037\n",
      "Fetched GeoJSON 283 for E07000138\n",
      "Fetched GeoJSON 284 for E07000069\n",
      "Fetched GeoJSON 285 for E07000077\n",
      "Fetched GeoJSON 286 for E07000062\n",
      "Fetched GeoJSON 287 for E07000164\n",
      "Fetched GeoJSON 288 for E07000243\n",
      "Fetched GeoJSON 289 for E07000214\n",
      "Fetched GeoJSON 290 for E07000079\n",
      "Fetched GeoJSON 291 for E07000215\n",
      "Fetched GeoJSON 292 for E07000236\n",
      "Fetched GeoJSON 293 for E07000009\n",
      "Fetched GeoJSON 294 for E07000210\n",
      "Fetched GeoJSON 295 for E07000080\n",
      "Fetched GeoJSON 296 for E07000044\n",
      "Fetched GeoJSON 297 for E07000075\n",
      "Fetched GeoJSON 298 for E07000120\n",
      "Fetched GeoJSON 299 for E07000042\n",
      "Fetched GeoJSON 300 for E07000088\n",
      "Fetched GeoJSON 301 for E07000212\n",
      "Fetched GeoJSON 302 for E07000033\n",
      "Fetched GeoJSON 303 for E07000119\n",
      "Fetched GeoJSON 304 for E07000208\n",
      "Fetched GeoJSON 305 for E08000025\n",
      "Fetched GeoJSON 306 for E07000235\n",
      "Fetched GeoJSON 307 for E07000199\n",
      "Fetched GeoJSON 308 for E08000035\n",
      "Fetched GeoJSON 309 for E07000068\n",
      "Fetched GeoJSON 310 for E07000125\n",
      "Fetched GeoJSON 311 for E07000035\n",
      "Fetched GeoJSON 312 for W06000001\n",
      "Fetched GeoJSON 313 for E07000136\n",
      "Fetched GeoJSON 314 for W06000019\n",
      "Fetched GeoJSON 315 for E07000027\n",
      "Fetched GeoJSON 316 for E07000029\n",
      "Fetched GeoJSON 317 for E07000046\n",
      "Fetched GeoJSON 318 for W06000008\n",
      "Fetched GeoJSON 319 for E07000074\n",
      "Fetched GeoJSON 320 for E07000218\n",
      "Fetched GeoJSON 321 for E07000223\n",
      "Fetched GeoJSON 322 for E07000124\n",
      "Fetched GeoJSON 323 for W06000024\n",
      "Fetched GeoJSON 324 for E07000135\n",
      "Fetched GeoJSON 325 for E07000047\n",
      "Fetched GeoJSON 326 for E07000163\n",
      "Fetched GeoJSON 327 for E07000030\n",
      "Fetched GeoJSON 328 for E07000167\n",
      "Fetched GeoJSON 329 for E07000133\n",
      "Fetched GeoJSON 330 for E08000003\n",
      "Fetched GeoJSON 331 for E06000023\n",
      "Fetched GeoJSON 332 for E08000019\n",
      "Fetched GeoJSON 333 for E07000166\n",
      "Fetched GeoJSON 334 for E08000012\n",
      "Fetched GeoJSON 335 for E06000052\n",
      "Fetched GeoJSON 336 for E06000017\n",
      "Fetched GeoJSON 337 for E06000047\n",
      "Fetched GeoJSON 338 for W06000015\n",
      "Fetched GeoJSON 339 for E06000058\n",
      "Fetched GeoJSON 340 for E08000021\n",
      "Fetched GeoJSON 341 for E08000032\n",
      "Fetched GeoJSON 342 for E06000018\n",
      "Fetched GeoJSON 343 for E06000043\n",
      "Fetched GeoJSON 344 for E06000054\n",
      "Fetched GeoJSON 345 for E06000062\n",
      "Fetched GeoJSON 346 for E06000060\n",
      "Fetched GeoJSON 347 for E08000026\n",
      "Fetched GeoJSON 348 for E06000016\n",
      "Fetched GeoJSON 349 for E09000032\n",
      "Fetched GeoJSON 350 for E09000022\n",
      "Fetched GeoJSON 351 for E08000025\n",
      "Fetched GeoJSON 352 for E09000030\n",
      "Fetched GeoJSON 353 for E08000034\n",
      "Fetched GeoJSON 354 for E08000035\n",
      "Fetched GeoJSON 355 for E09000032\n",
      "Fetched GeoJSON 356 for E06000049\n",
      "Fetched GeoJSON 357 for E08000003\n",
      "Fetched GeoJSON 358 for E06000061\n",
      "Fetched GeoJSON 359 for E09000030\n",
      "Fetched GeoJSON 360 for E06000045\n",
      "Fetched GeoJSON 361 for E09000028\n",
      "Fetched GeoJSON 362 for E06000018\n",
      "Fetched GeoJSON 363 for E06000026\n",
      "Fetched GeoJSON 364 for E06000010\n",
      "Fetched GeoJSON 365 for E06000050\n",
      "Fetched GeoJSON 366 for E06000059\n",
      "Fetched GeoJSON 367 for E09000019\n",
      "Fetched GeoJSON 368 for E06000060\n",
      "Fetched GeoJSON 369 for E06000023\n",
      "Fetched GeoJSON 370 for E09000025\n",
      "Fetched GeoJSON 371 for E06000042\n",
      "Fetched GeoJSON 372 for E09000005\n",
      "Fetched GeoJSON 373 for E09000012\n",
      "Fetched GeoJSON 374 for E09000009\n",
      "Fetched GeoJSON 375 for E06000044\n",
      "Fetched GeoJSON 376 for E06000014\n",
      "Fetched GeoJSON 377 for E07000178\n",
      "Fetched GeoJSON 378 for E09000003\n",
      "Fetched GeoJSON 379 for E08000003\n",
      "Fetched GeoJSON 380 for E08000015\n",
      "Fetched GeoJSON 381 for E08000019\n",
      "Fetched GeoJSON 382 for E06000011\n",
      "Fetched GeoJSON 383 for E08000017\n",
      "Fetched GeoJSON 384 for E08000036\n",
      "Fetched GeoJSON 385 for E06000051\n",
      "Fetched GeoJSON 386 for E09000008\n",
      "Fetched GeoJSON 387 for E09000022\n",
      "Fetched GeoJSON 388 for E06000057\n",
      "Fetched GeoJSON 389 for E09000033\n",
      "Fetched GeoJSON 390 for E06000015\n",
      "Fetched GeoJSON 391 for E08000006\n",
      "Fetched GeoJSON 392 for E09000007\n",
      "Fetched GeoJSON 393 for W06000011\n",
      "Fetched GeoJSON 394 for E09000028\n",
      "Fetched GeoJSON 395 for E06000030\n",
      "Fetched GeoJSON 396 for E09000023\n",
      "Fetched GeoJSON 397 for E08000010\n",
      "Fetched GeoJSON 398 for E09000014\n",
      "Fetched GeoJSON 399 for E08000012\n",
      "Fetched GeoJSON 400 for E06000054\n",
      "Fetched GeoJSON 401 for E09000025\n",
      "Fetched GeoJSON 402 for E08000024\n",
      "Fetched GeoJSON 403 for E09000013\n",
      "Fetched GeoJSON 404 for E06000022\n",
      "Fetched GeoJSON 405 for E09000003\n",
      "Fetched GeoJSON 406 for E09000005\n",
      "Fetched GeoJSON 407 for E06000035\n",
      "Fetched GeoJSON 408 for E09000009\n",
      "Fetched GeoJSON 409 for E09000018\n",
      "Fetched GeoJSON 410 for E06000021\n",
      "Fetched GeoJSON 411 for E06000025\n",
      "Fetched GeoJSON 412 for E08000025\n",
      "Fetched GeoJSON 413 for E08000001\n",
      "Fetched GeoJSON 414 for E09000011\n",
      "Fetched GeoJSON 415 for E06000058\n",
      "Fetched GeoJSON 416 for E08000025\n",
      "Fetched GeoJSON 417 for E09000017\n",
      "Fetched GeoJSON 418 for E06000038\n",
      "Fetched GeoJSON 419 for W06000015\n",
      "Fetched GeoJSON 420 for E06000031\n",
      "Fetched GeoJSON 421 for E09000012\n",
      "Fetched GeoJSON 422 for E06000052\n",
      "Fetched GeoJSON 423 for E09000010\n",
      "Fetched GeoJSON 424 for E07000008\n",
      "Fetched GeoJSON 425 for E07000106\n",
      "Fetched GeoJSON 426 for E08000021\n",
      "Fetched GeoJSON 427 for E08000027\n",
      "Fetched GeoJSON 428 for E09000008\n",
      "Fetched GeoJSON 429 for E07000041\n",
      "Fetched GeoJSON 430 for E07000071\n",
      "Fetched GeoJSON 431 for E08000035\n",
      "Fetched GeoJSON 432 for E07000148\n",
      "Fetched GeoJSON 433 for E09000014\n",
      "Fetched GeoJSON 434 for E08000003\n",
      "Fetched GeoJSON 435 for E08000007\n",
      "Fetched GeoJSON 436 for E08000014\n",
      "Fetched GeoJSON 437 for E08000006\n",
      "Fetched GeoJSON 438 for E06000023\n",
      "Fetched GeoJSON 439 for E09000031\n",
      "Fetched GeoJSON 440 for E09000023\n",
      "Fetched GeoJSON 441 for E09000006\n",
      "Fetched GeoJSON 442 for E08000031\n",
      "Fetched GeoJSON 443 for E08000028\n",
      "Fetched GeoJSON 444 for E08000018\n",
      "Fetched GeoJSON 445 for E08000016\n",
      "Fetched GeoJSON 446 for E06000024\n",
      "Fetched GeoJSON 447 for E07000244\n",
      "Fetched GeoJSON 448 for E08000012\n",
      "Fetched GeoJSON 449 for E06000056\n",
      "Fetched GeoJSON 450 for E06000032\n",
      "Fetched GeoJSON 451 for E07000130\n",
      "Fetched GeoJSON 452 for E06000062\n",
      "Fetched GeoJSON 453 for E09000031\n",
      "Fetched GeoJSON 454 for E07000121\n",
      "Fetched GeoJSON 455 for E09000011\n",
      "Fetched GeoJSON 456 for W06000016\n",
      "Fetched GeoJSON 457 for E07000178\n",
      "Fetched GeoJSON 458 for E06000020\n",
      "Fetched GeoJSON 459 for E06000043\n",
      "Fetched GeoJSON 460 for E06000047\n",
      "Fetched GeoJSON 461 for E09000026\n",
      "Fetched GeoJSON 462 for E09000019\n",
      "Fetched GeoJSON 463 for E08000026\n",
      "Fetched GeoJSON 464 for E09000007\n",
      "Fetched GeoJSON 465 for E09000006\n",
      "Fetched GeoJSON 466 for E09000032\n",
      "Fetched GeoJSON 467 for E09000024\n",
      "Fetched GeoJSON 468 for E09000026\n",
      "Fetched GeoJSON 469 for E06000007\n",
      "Fetched GeoJSON 470 for E09000013\n",
      "Fetched GeoJSON 471 for E08000033\n",
      "Fetched GeoJSON 472 for E09000033\n",
      "Fetched GeoJSON 473 for E06000004\n",
      "Fetched GeoJSON 474 for E07000084\n",
      "Fetched GeoJSON 475 for E08000030\n",
      "Fetched GeoJSON 476 for E09000030\n",
      "Fetched GeoJSON 477 for E09000020\n",
      "Fetched GeoJSON 478 for E09000015\n",
      "Fetched GeoJSON 479 for E07000008\n",
      "Fetched GeoJSON 480 for E09000022\n",
      "Fetched GeoJSON 481 for E06000019\n",
      "Fetched GeoJSON 482 for E09000017\n",
      "Fetched GeoJSON 483 for E06000016\n",
      "Fetched GeoJSON 484 for E06000055\n",
      "Fetched GeoJSON 485 for E06000012\n",
      "Fetched GeoJSON 486 for E07000138\n",
      "Fetched GeoJSON 487 for E06000022\n",
      "Fetched GeoJSON 488 for E06000025\n",
      "Fetched GeoJSON 489 for E07000165\n",
      "Fetched GeoJSON 490 for E09000033\n",
      "Fetched GeoJSON 491 for E07000222\n",
      "Fetched GeoJSON 492 for E07000123\n",
      "Fetched GeoJSON 493 for E08000022\n",
      "Fetched GeoJSON 494 for E08000005\n",
      "Fetched GeoJSON 495 for E09000018\n",
      "Fetched GeoJSON 496 for E06000046\n",
      "Fetched GeoJSON 497 for E06000014\n",
      "Fetched GeoJSON 498 for E08000035\n",
      "Fetched GeoJSON 499 for E08000004\n",
      "Fetched GeoJSON 500 for E06000013\n",
      "Fetched GeoJSON 501 for E06000018\n",
      "Fetched GeoJSON 502 for E08000008\n",
      "Fetched GeoJSON 503 for E09000015\n",
      "Fetched GeoJSON 504 for E07000245\n",
      "Fetched GeoJSON 505 for E06000033\n",
      "Fetched GeoJSON 506 for E09000016\n",
      "Fetched GeoJSON 507 for E08000037\n",
      "Fetched GeoJSON 508 for E07000209\n",
      "Fetched GeoJSON 509 for E06000059\n",
      "Fetched GeoJSON 510 for E06000042\n",
      "Fetched GeoJSON 511 for E09000010\n",
      "Fetched GeoJSON 512 for E07000189\n",
      "Fetched GeoJSON 513 for E08000009\n",
      "Fetched GeoJSON 514 for E07000011\n",
      "Fetched GeoJSON 515 for E08000021\n",
      "Fetched GeoJSON 516 for W06000010\n",
      "Fetched GeoJSON 517 for E09000027\n",
      "Fetched GeoJSON 518 for E07000110\n",
      "Fetched GeoJSON 519 for E07000177\n",
      "Fetched GeoJSON 520 for E07000246\n",
      "Fetched GeoJSON 521 for E06000002\n",
      "Fetched GeoJSON 522 for E08000029\n",
      "Fetched GeoJSON 523 for E06000056\n",
      "Fetched GeoJSON 524 for E07000070\n",
      "Fetched GeoJSON 525 for E09000030\n",
      "Fetched GeoJSON 526 for E07000224\n",
      "Fetched GeoJSON 527 for E09000016\n",
      "Fetched GeoJSON 528 for W06000015\n",
      "Fetched GeoJSON 529 for E06000011\n",
      "Fetched GeoJSON 530 for E07000114\n",
      "Fetched GeoJSON 531 for E07000078\n",
      "Fetched GeoJSON 532 for E09000007\n",
      "Fetched GeoJSON 533 for E09000002\n",
      "Fetched GeoJSON 534 for E09000027\n",
      "Fetched GeoJSON 535 for E06000049\n",
      "Fetched GeoJSON 536 for E09000004\n",
      "Fetched GeoJSON 537 for E07000130\n",
      "Fetched GeoJSON 538 for E09000024\n",
      "Fetched GeoJSON 539 for E09000021\n",
      "Fetched GeoJSON 540 for E06000043\n",
      "Fetched GeoJSON 541 for E09000028\n",
      "Fetched GeoJSON 542 for E06000009\n",
      "Fetched GeoJSON 543 for E06000051\n",
      "Fetched GeoJSON 544 for E07000091\n",
      "Fetched GeoJSON 545 for E06000059\n",
      "Fetched GeoJSON 546 for E08000013\n",
      "Fetched GeoJSON 547 for E06000054\n",
      "Fetched GeoJSON 548 for E07000146\n",
      "Fetched GeoJSON 549 for E06000049\n",
      "Fetched GeoJSON 550 for E07000202\n",
      "Fetched GeoJSON 551 for E08000002\n",
      "Fetched GeoJSON 552 for E07000041\n",
      "Fetched GeoJSON 553 for E09000025\n",
      "Fetched GeoJSON 554 for E09000029\n",
      "Fetched GeoJSON 555 for E06000008\n",
      "Fetched GeoJSON 556 for E06000027\n",
      "Fetched GeoJSON 557 for E08000007\n",
      "Fetched GeoJSON 558 for E07000076\n",
      "Fetched GeoJSON 559 for W06000002\n",
      "Fetched GeoJSON 560 for E06000037\n",
      "Fetched GeoJSON 561 for E07000113\n",
      "Fetched GeoJSON 562 for E08000028\n",
      "Fetched GeoJSON 563 for W06000018\n",
      "Fetched GeoJSON 564 for E06000041\n",
      "Fetched GeoJSON 565 for E06000045\n",
      "Fetched GeoJSON 566 for E06000039\n",
      "Fetched GeoJSON 567 for E07000040\n",
      "Fetched GeoJSON 568 for E07000066\n",
      "Fetched GeoJSON 569 for E08000012\n",
      "Fetched GeoJSON 570 for E07000209\n",
      "Fetched GeoJSON 571 for E06000045\n",
      "Fetched GeoJSON 572 for E07000081\n",
      "Fetched GeoJSON 573 for E07000094\n",
      "Fetched GeoJSON 574 for E08000026\n",
      "Fetched GeoJSON 575 for E08000010\n",
      "Fetched GeoJSON 576 for E07000148\n",
      "Fetched GeoJSON 577 for E07000105\n",
      "Fetched GeoJSON 578 for E06000016\n",
      "Fetched GeoJSON 579 for E08000023\n",
      "Fetched GeoJSON 580 for E06000034\n",
      "Fetched GeoJSON 581 for W06000005\n",
      "Fetched GeoJSON 582 for E09000004\n",
      "Fetched GeoJSON 583 for W06000013\n",
      "Fetched GeoJSON 584 for E07000028\n",
      "Fetched GeoJSON 585 for E07000241\n",
      "Fetched GeoJSON 586 for E09000020\n",
      "Fetched GeoJSON 587 for W06000022\n",
      "Fetched GeoJSON 588 for E06000041\n",
      "Fetched GeoJSON 589 for E07000240\n",
      "Fetched GeoJSON 590 for W06000006\n",
      "Fetched GeoJSON 591 for E07000137\n",
      "Fetched GeoJSON 592 for E09000028\n",
      "Fetched GeoJSON 593 for E06000003\n",
      "Fetched GeoJSON 594 for E06000061\n",
      "Fetched GeoJSON 595 for E07000141\n",
      "Fetched GeoJSON 596 for E06000044\n",
      "Fetched GeoJSON 597 for E06000047\n",
      "Fetched GeoJSON 598 for E07000228\n",
      "Fetched GeoJSON 599 for E07000197\n",
      "Fetched GeoJSON 600 for E09000029\n",
      "Fetched GeoJSON 601 for E08000019\n",
      "Fetched GeoJSON 602 for E07000180\n",
      "Fetched GeoJSON 603 for E09000007\n",
      "Fetched GeoJSON 604 for E08000027\n",
      "Fetched GeoJSON 605 for E07000226\n",
      "Fetched GeoJSON 606 for E07000065\n",
      "Fetched GeoJSON 607 for E06000023\n",
      "Fetched GeoJSON 608 for E07000067\n",
      "Fetched GeoJSON 609 for E08000036\n",
      "Fetched GeoJSON 610 for E06000050\n",
      "Fetched GeoJSON 611 for E06000052\n",
      "Fetched GeoJSON 612 for E07000242\n",
      "Fetched GeoJSON 613 for E07000178\n",
      "Fetched GeoJSON 614 for E06000050\n",
      "Fetched GeoJSON 615 for E07000143\n",
      "Fetched GeoJSON 616 for E08000009\n",
      "Fetched GeoJSON 617 for E08000034\n",
      "Fetched GeoJSON 618 for E07000106\n",
      "Fetched GeoJSON 619 for E06000060\n",
      "Fetched GeoJSON 620 for E07000227\n",
      "Fetched GeoJSON 621 for W06000009\n",
      "Fetched GeoJSON 622 for E07000221\n",
      "Fetched GeoJSON 623 for E07000094\n",
      "Fetched GeoJSON 624 for E07000209\n",
      "Fetched GeoJSON 625 for E08000032\n",
      "Fetched GeoJSON 626 for E07000188\n",
      "Fetched GeoJSON 627 for E07000179\n",
      "Fetched GeoJSON 628 for E07000045\n",
      "Fetched GeoJSON 629 for E08000006\n",
      "Fetched GeoJSON 630 for E07000096\n",
      "Fetched GeoJSON 631 for W06000014\n",
      "Fetched GeoJSON 632 for E09000002\n",
      "Fetched GeoJSON 633 for E06000040\n",
      "Fetched GeoJSON 634 for E06000056\n",
      "Fetched GeoJSON 635 for E08000030\n",
      "Fetched GeoJSON 636 for E09000021\n",
      "Fetched GeoJSON 637 for E07000237\n",
      "Fetched GeoJSON 638 for E07000220\n",
      "Fetched GeoJSON 639 for E09000019\n",
      "Fetched GeoJSON 640 for E07000181\n",
      "Fetched GeoJSON 641 for E06000018\n",
      "Fetched GeoJSON 642 for E09000032\n",
      "Fetched GeoJSON 643 for E09000001\n",
      "Fetched GeoJSON 644 for E07000008\n",
      "Fetched GeoJSON 645 for E07000225\n",
      "Fetched GeoJSON 646 for E07000168\n",
      "Fetched GeoJSON 647 for E06000005\n",
      "Fetched GeoJSON 648 for E09000009\n",
      "Fetched GeoJSON 649 for E06000038\n",
      "Fetched GeoJSON 650 for E06000022\n",
      "Fetched GeoJSON 651 for W06000023\n",
      "Fetched GeoJSON 652 for E08000029\n",
      "Fetched GeoJSON 653 for E06000035\n",
      "Fetched GeoJSON 654 for E07000207\n",
      "Fetched GeoJSON 655 for E07000108\n",
      "Fetched GeoJSON 656 for E07000127\n",
      "Fetched GeoJSON 657 for E07000219\n",
      "Fetched GeoJSON 658 for E07000193\n",
      "Fetched GeoJSON 659 for E07000175\n",
      "Fetched GeoJSON 660 for E06000001\n",
      "Fetched GeoJSON 661 for E07000012\n",
      "Fetched GeoJSON 662 for E09000003\n",
      "Fetched GeoJSON 663 for E06000026\n",
      "Fetched GeoJSON 664 for E07000211\n",
      "Fetched GeoJSON 665 for E07000195\n",
      "Fetched GeoJSON 666 for E07000012\n",
      "Fetched GeoJSON 667 for E09000033\n",
      "Fetched GeoJSON 668 for E09000019\n",
      "Fetched GeoJSON 669 for E06000044\n",
      "Fetched GeoJSON 670 for W06000012\n",
      "Fetched GeoJSON 671 for E06000006\n",
      "Fetched GeoJSON 672 for E07000145\n",
      "Fetched GeoJSON 673 for E08000019\n",
      "Fetched GeoJSON 674 for E06000016\n",
      "Fetched GeoJSON 675 for E07000086\n",
      "Fetched GeoJSON 676 for E09000013\n",
      "Fetched GeoJSON 677 for E09000022\n",
      "Fetched GeoJSON 678 for E07000065\n",
      "Fetched GeoJSON 679 for E06000051\n",
      "Fetched GeoJSON 680 for E07000110\n",
      "Fetched GeoJSON 681 for E07000171\n",
      "Fetched GeoJSON 682 for E07000043\n",
      "Fetched GeoJSON 683 for E09000005\n",
      "Fetched GeoJSON 684 for E09000020\n",
      "Fetched GeoJSON 685 for E06000038\n",
      "Fetched GeoJSON 686 for E06000036\n",
      "Fetched GeoJSON 687 for E07000061\n",
      "Fetched GeoJSON 688 for E07000149\n",
      "Fetched GeoJSON 689 for E07000229\n",
      "Fetched GeoJSON 690 for E07000178\n",
      "Fetched GeoJSON 691 for E07000093\n",
      "Fetched GeoJSON 692 for E07000207\n",
      "Fetched GeoJSON 693 for E07000127\n",
      "Fetched GeoJSON 694 for E07000244\n",
      "Fetched GeoJSON 695 for E06000034\n",
      "Fetched GeoJSON 696 for W06000008\n",
      "Fetched GeoJSON 697 for E07000222\n",
      "Fetched GeoJSON 698 for E09000009\n",
      "Fetched GeoJSON 699 for E07000116\n",
      "Fetched GeoJSON 700 for E07000106\n",
      "Fetched GeoJSON 701 for E08000031\n",
      "Fetched GeoJSON 702 for W06000011\n",
      "Fetched GeoJSON 703 for E07000216\n",
      "Fetched GeoJSON 704 for E09000003\n",
      "Fetched GeoJSON 705 for E08000014\n",
      "Fetched GeoJSON 706 for E07000179\n",
      "Fetched GeoJSON 707 for E07000149\n",
      "Fetched GeoJSON 708 for E07000086\n",
      "Fetched GeoJSON 709 for W06000003\n",
      "Fetched GeoJSON 710 for E06000057\n",
      "Fetched GeoJSON 711 for E06000019\n",
      "Fetched GeoJSON 712 for E07000212\n",
      "Fetched GeoJSON 713 for E07000245\n",
      "Fetched GeoJSON 714 for E09000018\n",
      "Fetched GeoJSON 715 for E07000112\n",
      "Fetched GeoJSON 716 for E07000041\n",
      "Fetched GeoJSON 717 for E07000211\n",
      "Fetched GeoJSON 718 for W06000015\n",
      "Fetched GeoJSON 719 for E09000017\n",
      "Fetched GeoJSON 720 for E07000225\n",
      "Fetched GeoJSON 721 for E07000130\n",
      "Fetched GeoJSON 722 for E06000026\n",
      "Fetched GeoJSON 723 for E06000024\n",
      "Fetched GeoJSON 724 for E07000180\n",
      "Fetched GeoJSON 725 for E07000072\n",
      "Fetched GeoJSON 726 for E07000071\n",
      "Fetched GeoJSON 727 for E07000071\n",
      "Fetched GeoJSON 728 for E06000058\n",
      "Fetched GeoJSON 729 for E07000128\n",
      "Fetched GeoJSON 730 for E07000227\n",
      "Fetched GeoJSON 731 for E07000187\n",
      "Fetched GeoJSON 732 for E06000025\n",
      "Fetched GeoJSON 733 for E07000138\n",
      "Fetched GeoJSON 734 for E07000032\n",
      "Fetched GeoJSON 735 for E07000176\n",
      "Fetched GeoJSON 736 for E07000085\n",
      "Fetched GeoJSON 737 for E07000224\n",
      "Fetched GeoJSON 738 for E07000148\n",
      "Fetched GeoJSON 739 for E09000013\n",
      "Fetched GeoJSON 740 for E08000026\n",
      "Fetched GeoJSON 741 for E07000222\n",
      "Fetched GeoJSON 742 for E07000140\n",
      "Fetched GeoJSON 743 for E07000139\n",
      "Fetched GeoJSON 744 for E06000045\n",
      "Fetched GeoJSON 745 for E06000035\n",
      "Fetched GeoJSON 746 for E07000099\n",
      "Fetched GeoJSON 747 for E07000082\n",
      "Fetched GeoJSON 748 for E07000107\n",
      "Fetched GeoJSON 749 for E08000032\n",
      "Fetched GeoJSON 750 for E06000015\n",
      "Fetched GeoJSON 751 for E07000031\n",
      "Fetched GeoJSON 752 for E07000067\n",
      "Fetched GeoJSON 753 for E07000238\n",
      "Fetched GeoJSON 754 for W06000011\n",
      "Fetched GeoJSON 755 for E07000196\n",
      "Fetched GeoJSON 756 for E06000014\n",
      "Fetched GeoJSON 757 for E07000228\n",
      "Fetched GeoJSON 758 for E07000010\n",
      "Fetched GeoJSON 759 for E07000117\n",
      "Fetched GeoJSON 760 for E07000070\n",
      "Fetched GeoJSON 761 for E06000036\n",
      "Fetched GeoJSON 762 for E09000011\n",
      "Fetched GeoJSON 763 for E07000085\n",
      "Fetched GeoJSON 764 for E07000241\n",
      "Fetched GeoJSON 765 for E07000239\n",
      "Fetched GeoJSON 766 for E08000021\n",
      "Fetched GeoJSON 767 for E07000040\n",
      "Fetched GeoJSON 768 for E08000034\n",
      "Fetched GeoJSON 769 for E07000174\n",
      "Fetched GeoJSON 770 for E08000011\n",
      "Fetched GeoJSON 771 for E06000031\n",
      "Fetched GeoJSON 772 for E07000217\n",
      "Fetched GeoJSON 773 for E08000037\n",
      "Fetched GeoJSON 774 for E06000032\n",
      "Fetched GeoJSON 775 for E07000176\n",
      "Fetched GeoJSON 776 for E07000144\n",
      "Fetched GeoJSON 777 for E06000057\n",
      "Fetched GeoJSON 778 for E07000118\n",
      "Fetched GeoJSON 779 for E07000062\n",
      "Fetched GeoJSON 780 for E09000005\n",
      "Fetched GeoJSON 781 for E06000010\n",
      "Fetched GeoJSON 782 for E07000084\n",
      "Fetched GeoJSON 783 for E08000011\n",
      "Fetched GeoJSON 784 for E07000134\n",
      "Fetched GeoJSON 785 for E07000123\n",
      "Fetched GeoJSON 786 for W06000004\n",
      "Fetched GeoJSON 787 for E08000001\n",
      "Fetched GeoJSON 788 for E07000090\n",
      "Fetched GeoJSON 789 for E07000132\n",
      "Fetched GeoJSON 790 for E07000098\n",
      "Fetched GeoJSON 791 for E07000216\n",
      "Fetched GeoJSON 792 for E07000144\n",
      "Fetched GeoJSON 793 for E07000011\n",
      "Fetched GeoJSON 794 for E07000092\n",
      "Fetched GeoJSON 795 for E07000170\n",
      "Fetched GeoJSON 796 for E07000034\n",
      "Fetched GeoJSON 797 for E09000025\n",
      "Fetched GeoJSON 798 for E07000026\n",
      "Fetched GeoJSON 799 for E09000008\n",
      "Fetched GeoJSON 800 for E07000240\n",
      "Fetched GeoJSON 801 for E07000122\n",
      "Fetched GeoJSON 802 for E07000036\n",
      "Fetched GeoJSON 803 for E07000136\n",
      "Fetched GeoJSON 804 for E09000012\n",
      "Fetched GeoJSON 805 for E06000007\n",
      "Fetched GeoJSON 806 for E06000015\n",
      "Fetched GeoJSON 807 for E07000177\n",
      "Fetched GeoJSON 808 for E07000008\n",
      "Fetched GeoJSON 809 for E06000040\n",
      "Fetched GeoJSON 810 for E07000096\n",
      "Fetched GeoJSON 811 for E06000055\n",
      "Fetched GeoJSON 812 for E08000022\n",
      "Fetched GeoJSON 813 for E07000143\n",
      "Fetched GeoJSON 814 for E09000017\n",
      "Fetched GeoJSON 815 for E07000221\n",
      "Fetched GeoJSON 816 for E07000087\n",
      "Fetched GeoJSON 817 for E07000072\n",
      "Fetched GeoJSON 818 for E08000008\n",
      "Fetched GeoJSON 819 for E09000023\n",
      "Fetched GeoJSON 820 for E07000094\n",
      "Fetched GeoJSON 821 for E07000242\n",
      "Fetched GeoJSON 822 for E07000091\n",
      "Fetched GeoJSON 823 for E06000021\n",
      "Fetched GeoJSON 824 for E06000040\n",
      "Fetched GeoJSON 825 for E07000073\n",
      "Fetched GeoJSON 826 for E08000017\n",
      "Fetched GeoJSON 827 for E07000115\n",
      "Fetched GeoJSON 828 for E07000189\n",
      "Fetched GeoJSON 829 for E08000018\n",
      "Fetched GeoJSON 830 for E07000126\n",
      "Fetched GeoJSON 831 for E07000121\n",
      "Fetched GeoJSON 832 for E07000172\n",
      "Fetched GeoJSON 833 for E08000002\n",
      "Fetched GeoJSON 834 for E06000062\n",
      "Fetched GeoJSON 835 for E07000088\n",
      "Fetched GeoJSON 836 for E07000236\n",
      "Fetched GeoJSON 837 for E08000016\n",
      "Fetched GeoJSON 838 for E07000128\n",
      "Fetched GeoJSON 839 for E07000037\n",
      "Fetched GeoJSON 840 for E08000013\n",
      "Fetched GeoJSON 841 for E08000005\n",
      "Fetched GeoJSON 842 for E07000103\n",
      "Fetched GeoJSON 843 for E07000090\n",
      "Fetched GeoJSON 844 for E07000111\n",
      "Fetched GeoJSON 845 for E06000043\n",
      "Fetched GeoJSON 846 for E07000203\n",
      "Fetched GeoJSON 847 for E07000212\n",
      "Fetched GeoJSON 848 for E07000147\n",
      "Fetched GeoJSON 849 for E07000245\n",
      "Fetched GeoJSON 850 for E09000021\n",
      "Fetched GeoJSON 851 for E06000037\n",
      "Fetched GeoJSON 852 for E06000011\n",
      "Fetched GeoJSON 853 for W06000020\n",
      "Fetched GeoJSON 854 for E09000012\n",
      "Fetched GeoJSON 855 for E07000093\n",
      "Fetched GeoJSON 856 for E07000165\n",
      "Fetched GeoJSON 857 for E07000063\n",
      "Fetched GeoJSON 858 for E07000138\n",
      "Fetched GeoJSON 859 for E07000213\n",
      "Fetched GeoJSON 860 for E07000173\n",
      "Fetched GeoJSON 861 for E07000142\n",
      "Fetched GeoJSON 862 for E06000039\n",
      "Fetched GeoJSON 863 for E07000079\n",
      "Fetched GeoJSON 864 for E07000180\n",
      "Fetched GeoJSON 865 for E09000011\n",
      "Fetched GeoJSON 866 for E07000039\n",
      "Fetched GeoJSON 867 for E07000131\n",
      "Fetched GeoJSON 868 for E07000115\n",
      "Fetched GeoJSON 869 for E07000203\n",
      "Fetched GeoJSON 870 for E07000173\n",
      "Fetched GeoJSON 871 for E07000070\n",
      "Fetched GeoJSON 872 for E06000021\n",
      "Fetched GeoJSON 873 for E09000026\n",
      "Fetched GeoJSON 874 for E07000216\n",
      "Fetched GeoJSON 875 for E07000027\n",
      "Fetched GeoJSON 876 for E07000177\n",
      "Fetched GeoJSON 877 for E07000099\n",
      "Fetched GeoJSON 878 for E09000014\n",
      "Fetched GeoJSON 879 for E06000038\n",
      "Fetched GeoJSON 880 for E07000089\n",
      "Fetched GeoJSON 881 for E07000109\n",
      "Fetched GeoJSON 882 for E07000234\n",
      "Fetched GeoJSON 883 for E07000042\n",
      "Fetched GeoJSON 884 for E07000076\n",
      "Fetched GeoJSON 885 for E08000006\n",
      "Fetched GeoJSON 886 for E07000179\n",
      "Fetched GeoJSON 887 for E06000030\n",
      "Fetched GeoJSON 888 for E07000194\n",
      "Fetched GeoJSON 889 for E07000192\n",
      "Fetched GeoJSON 890 for E09000014\n",
      "Fetched GeoJSON 891 for E07000087\n",
      "Fetched GeoJSON 892 for E07000172\n",
      "Fetched GeoJSON 893 for E07000078\n",
      "Fetched GeoJSON 894 for E07000137\n",
      "Fetched GeoJSON 895 for E06000060\n",
      "Fetched GeoJSON 896 for E07000045\n",
      "Fetched GeoJSON 897 for E07000164\n",
      "Fetched GeoJSON 898 for E07000066\n",
      "Fetched GeoJSON 899 for E06000058\n",
      "Fetched GeoJSON 900 for E08000032\n",
      "Fetched GeoJSON 901 for E09000018\n",
      "Fetched GeoJSON 902 for E07000165\n",
      "Fetched GeoJSON 903 for E07000131\n",
      "Fetched GeoJSON 904 for E09000006\n",
      "Fetched GeoJSON 905 for E07000194\n",
      "Fetched GeoJSON 906 for E07000118\n",
      "Fetched GeoJSON 907 for E06000032\n",
      "Fetched GeoJSON 908 for W06000023\n",
      "Fetched GeoJSON 909 for E07000011\n",
      "Fetched GeoJSON 910 for E07000110\n",
      "Fetched GeoJSON 911 for E07000244\n",
      "Fetched GeoJSON 912 for E07000129\n",
      "Fetched GeoJSON 913 for E07000103\n",
      "Fetched GeoJSON 914 for E07000079\n",
      "Fetched GeoJSON 915 for E06000041\n",
      "Fetched GeoJSON 916 for E07000169\n",
      "Fetched GeoJSON 917 for E07000238\n",
      "Fetched GeoJSON 918 for E06000020\n",
      "Fetched GeoJSON 919 for E07000175\n",
      "Fetched GeoJSON 920 for E08000004\n",
      "Fetched GeoJSON 921 for E07000113\n",
      "Fetched GeoJSON 922 for E07000009\n",
      "Fetched GeoJSON 923 for E09000015\n",
      "Fetched GeoJSON 924 for E07000170\n",
      "Fetched GeoJSON 925 for E07000199\n",
      "Fetched GeoJSON 926 for E07000229\n",
      "Fetched GeoJSON 927 for E07000242\n",
      "Fetched GeoJSON 928 for E07000116\n",
      "Fetched GeoJSON 929 for E08000015\n",
      "Fetched GeoJSON 930 for E07000139\n",
      "Fetched GeoJSON 931 for E07000089\n",
      "Fetched GeoJSON 932 for E07000200\n",
      "Fetched GeoJSON 933 for E07000243\n",
      "Fetched GeoJSON 934 for E07000044\n",
      "Fetched GeoJSON 935 for E07000181\n",
      "Fetched GeoJSON 936 for E07000082\n",
      "Fetched GeoJSON 937 for E09000010\n",
      "Fetched GeoJSON 938 for E08000017\n",
      "Fetched GeoJSON 939 for W06000016\n",
      "Fetched GeoJSON 940 for E07000141\n",
      "Fetched GeoJSON 941 for E07000121\n",
      "Fetched GeoJSON 942 for E09000027\n",
      "Fetched GeoJSON 943 for E07000195\n",
      "Fetched GeoJSON 944 for E07000208\n",
      "Fetched GeoJSON 945 for E07000120\n",
      "Fetched GeoJSON 946 for E07000213\n",
      "Fetched GeoJSON 947 for E08000024\n",
      "Fetched GeoJSON 948 for E07000197\n",
      "Fetched GeoJSON 949 for E07000081\n",
      "Fetched GeoJSON 950 for E06000061\n",
      "Fetched GeoJSON 951 for E09000008\n",
      "Fetched GeoJSON 952 for E07000126\n",
      "Fetched GeoJSON 953 for E07000200\n",
      "Fetched GeoJSON 954 for E07000221\n",
      "Fetched GeoJSON 955 for E07000064\n",
      "Fetched GeoJSON 956 for E07000102\n",
      "Fetched GeoJSON 957 for W06000021\n",
      "Fetched GeoJSON 958 for E07000198\n",
      "Fetched GeoJSON 959 for E07000092\n",
      "Fetched GeoJSON 960 for E07000214\n",
      "Fetched GeoJSON 961 for E07000083\n",
      "Fetched GeoJSON 962 for E07000111\n",
      "Fetched GeoJSON 963 for E07000212\n",
      "Fetched GeoJSON 964 for E09000023\n",
      "Fetched GeoJSON 965 for E07000078\n",
      "Fetched GeoJSON 966 for E06000033\n",
      "Fetched GeoJSON 967 for E07000119\n",
      "Fetched GeoJSON 968 for E07000215\n",
      "Fetched GeoJSON 969 for E07000064\n",
      "Fetched GeoJSON 970 for E06000055\n",
      "Fetched GeoJSON 971 for E07000029\n",
      "Fetched GeoJSON 972 for E07000169\n",
      "Fetched GeoJSON 973 for W06000002\n",
      "Fetched GeoJSON 974 for E07000225\n",
      "Fetched GeoJSON 975 for E07000063\n",
      "Fetched GeoJSON 976 for E07000105\n",
      "Fetched GeoJSON 977 for E07000220\n",
      "Fetched GeoJSON 978 for E07000107\n",
      "Fetched GeoJSON 979 for E06000054\n",
      "Fetched GeoJSON 980 for E07000095\n",
      "Fetched GeoJSON 981 for E07000246\n",
      "Fetched GeoJSON 982 for E07000098\n",
      "Fetched GeoJSON 983 for E07000032\n",
      "Fetched GeoJSON 984 for E09000004\n",
      "Fetched GeoJSON 985 for E09000026\n",
      "Fetched GeoJSON 986 for E09000027\n",
      "Fetched GeoJSON 987 for E06000033\n",
      "Fetched GeoJSON 988 for E07000116\n",
      "Fetched GeoJSON 989 for E07000134\n",
      "Fetched GeoJSON 990 for E07000188\n",
      "Fetched GeoJSON 991 for E07000044\n",
      "Fetched GeoJSON 992 for E07000189\n",
      "Fetched GeoJSON 993 for E07000237\n",
      "Fetched GeoJSON 994 for E07000080\n",
      "Fetched GeoJSON 995 for E06000004\n",
      "Fetched GeoJSON 996 for E07000066\n",
      "Fetched GeoJSON 997 for E07000083\n",
      "Fetched GeoJSON 998 for E07000077\n",
      "Fetched GeoJSON 999 for E07000202\n",
      "Fetched GeoJSON 1000 for E07000046\n",
      "Fetched GeoJSON 1001 for E07000192\n",
      "Fetched GeoJSON 1002 for E06000037\n",
      "Fetched GeoJSON 1003 for E07000039\n",
      "Fetched GeoJSON 1004 for E06000042\n",
      "Fetched GeoJSON 1005 for E06000010\n",
      "Fetched GeoJSON 1006 for E09000015\n",
      "Fetched GeoJSON 1007 for E07000187\n",
      "Fetched GeoJSON 1008 for E07000095\n",
      "Fetched GeoJSON 1009 for E07000040\n",
      "Fetched GeoJSON 1010 for E07000036\n",
      "Fetched GeoJSON 1011 for E07000038\n",
      "Fetched GeoJSON 1012 for E07000077\n",
      "Fetched GeoJSON 1013 for E07000012\n",
      "Fetched GeoJSON 1014 for W06000001\n",
      "Fetched GeoJSON 1015 for E07000211\n",
      "Fetched GeoJSON 1016 for E07000146\n",
      "Fetched GeoJSON 1017 for E07000147\n",
      "Fetched GeoJSON 1018 for E09000020\n",
      "Fetched GeoJSON 1019 for E08000033\n",
      "Fetched GeoJSON 1020 for E07000119\n",
      "Fetched GeoJSON 1021 for E09000016\n",
      "Fetched GeoJSON 1022 for E07000234\n",
      "Fetched GeoJSON 1023 for E06000020\n",
      "Fetched GeoJSON 1024 for E08000031\n",
      "Fetched GeoJSON 1025 for E07000140\n",
      "Fetched GeoJSON 1026 for E07000061\n",
      "Fetched GeoJSON 1027 for E07000241\n",
      "Fetched GeoJSON 1028 for W06000010\n",
      "Fetched GeoJSON 1029 for E06000009\n",
      "Fetched GeoJSON 1030 for E07000093\n",
      "Fetched GeoJSON 1031 for E09000010\n",
      "Fetched GeoJSON 1032 for E07000129\n",
      "Fetched GeoJSON 1033 for E09000024\n",
      "Fetched GeoJSON 1034 for W06000014\n",
      "Fetched GeoJSON 1035 for W06000019\n",
      "Fetched GeoJSON 1036 for E07000214\n",
      "Fetched GeoJSON 1037 for E09000024\n",
      "Fetched GeoJSON 1038 for E07000195\n",
      "Fetched GeoJSON 1039 for E07000174\n",
      "Fetched GeoJSON 1040 for E07000069\n",
      "Fetched GeoJSON 1041 for E07000219\n",
      "Fetched GeoJSON 1042 for E07000217\n",
      "Fetched GeoJSON 1043 for E07000228\n",
      "Fetched GeoJSON 1044 for W06000008\n",
      "Fetched GeoJSON 1045 for E07000096\n",
      "Fetched GeoJSON 1046 for E07000181\n",
      "Fetched GeoJSON 1047 for E07000193\n",
      "Fetched GeoJSON 1048 for E09000031\n",
      "Fetched GeoJSON 1049 for E07000125\n",
      "Fetched GeoJSON 1050 for E07000235\n",
      "Fetched GeoJSON 1051 for E09000021\n",
      "Fetched GeoJSON 1052 for E07000166\n",
      "Fetched GeoJSON 1053 for E07000084\n",
      "Fetched GeoJSON 1054 for W06000005\n",
      "Fetched GeoJSON 1055 for E07000171\n",
      "Fetched GeoJSON 1056 for E07000068\n",
      "Fetched GeoJSON 1057 for E07000033\n",
      "Fetched GeoJSON 1058 for E06000002\n",
      "Fetched GeoJSON 1059 for E06000022\n",
      "Fetched GeoJSON 1060 for E06000044\n",
      "Fetched GeoJSON 1061 for E08000031\n",
      "Fetched GeoJSON 1062 for E07000068\n",
      "Fetched GeoJSON 1063 for E08000034\n",
      "Fetched GeoJSON 1064 for E07000075\n",
      "Fetched GeoJSON 1065 for E07000209\n",
      "Fetched GeoJSON 1066 for E07000246\n",
      "Fetched GeoJSON 1067 for E07000108\n",
      "Fetched GeoJSON 1068 for E07000091\n",
      "Fetched GeoJSON 1069 for E07000196\n",
      "Fetched GeoJSON 1070 for W06000013\n",
      "Fetched GeoJSON 1071 for E07000037\n",
      "Fetched GeoJSON 1072 for E07000139\n",
      "Fetched GeoJSON 1073 for E07000009\n",
      "Fetched GeoJSON 1074 for E08000007\n",
      "Fetched GeoJSON 1075 for E07000099\n",
      "Fetched GeoJSON 1076 for E07000210\n",
      "Fetched GeoJSON 1077 for E07000039\n",
      "Fetched GeoJSON 1078 for E07000240\n",
      "Fetched GeoJSON 1079 for E07000065\n",
      "Fetched GeoJSON 1080 for E06000008\n",
      "Fetched GeoJSON 1081 for E06000062\n",
      "Fetched GeoJSON 1082 for E07000227\n",
      "Fetched GeoJSON 1083 for W06000012\n",
      "Fetched GeoJSON 1084 for E06000036\n",
      "Fetched GeoJSON 1085 for E07000124\n",
      "Fetched GeoJSON 1086 for E06000047\n",
      "Fetched GeoJSON 1087 for E07000075\n",
      "Fetched GeoJSON 1088 for E07000042\n",
      "Fetched GeoJSON 1089 for E06000049\n",
      "Fetched GeoJSON 1090 for E06000052\n",
      "Fetched GeoJSON 1091 for E07000176\n",
      "Fetched GeoJSON 1092 for E09000031\n",
      "Fetched GeoJSON 1093 for E07000164\n",
      "Fetched GeoJSON 1094 for E07000146\n",
      "Fetched GeoJSON 1095 for E07000010\n",
      "Fetched GeoJSON 1096 for E08000028\n",
      "Fetched GeoJSON 1097 for E07000114\n",
      "Fetched GeoJSON 1098 for E08000028\n",
      "Fetched GeoJSON 1099 for E08000009\n",
      "Fetched GeoJSON 1100 for W06000018\n",
      "Fetched GeoJSON 1101 for E06000031\n",
      "Fetched GeoJSON 1102 for W06000022\n",
      "Fetched GeoJSON 1103 for E08000015\n",
      "Fetched GeoJSON 1104 for E07000033\n",
      "Fetched GeoJSON 1105 for E09000029\n",
      "Fetched GeoJSON 1106 for E07000226\n",
      "Fetched GeoJSON 1107 for E08000036\n",
      "Fetched GeoJSON 1108 for E07000041\n",
      "Fetched GeoJSON 1109 for E06000014\n",
      "Fetched GeoJSON 1110 for E07000210\n",
      "Fetched GeoJSON 1111 for E07000235\n",
      "Fetched GeoJSON 1112 for E07000074\n",
      "Fetched GeoJSON 1113 for E06000061\n",
      "Fetched GeoJSON 1114 for E06000027\n",
      "Fetched GeoJSON 1115 for E07000115\n",
      "Fetched GeoJSON 1116 for E07000218\n",
      "Fetched GeoJSON 1117 for E07000112\n",
      "Fetched GeoJSON 1118 for E07000035\n",
      "Fetched GeoJSON 1119 for E07000167\n",
      "Fetched GeoJSON 1120 for E07000223\n",
      "Fetched GeoJSON 1121 for E07000217\n",
      "Fetched GeoJSON 1122 for W06000021\n",
      "Fetched GeoJSON 1123 for E06000024\n",
      "Fetched GeoJSON 1124 for E06000004\n",
      "Fetched GeoJSON 1125 for E07000067\n",
      "Fetched GeoJSON 1126 for E07000187\n",
      "Fetched GeoJSON 1127 for E07000069\n",
      "Fetched GeoJSON 1128 for E07000245\n",
      "Fetched GeoJSON 1129 for E08000033\n",
      "Fetched GeoJSON 1130 for E07000123\n",
      "Fetched GeoJSON 1131 for W06000010\n",
      "Fetched GeoJSON 1132 for E07000239\n",
      "Fetched GeoJSON 1133 for E07000124\n",
      "Fetched GeoJSON 1134 for E07000123\n",
      "Fetched GeoJSON 1135 for E07000238\n",
      "Fetched GeoJSON 1136 for E07000030\n",
      "Fetched GeoJSON 1137 for E06000032\n",
      "Fetched GeoJSON 1138 for E07000038\n",
      "Fetched GeoJSON 1139 for E06000046\n",
      "Fetched GeoJSON 1140 for W06000024\n",
      "Fetched GeoJSON 1141 for E07000105\n",
      "Fetched GeoJSON 1142 for E07000142\n",
      "Fetched GeoJSON 1143 for E07000080\n",
      "Fetched GeoJSON 1144 for E06000027\n",
      "Fetched GeoJSON 1145 for E07000197\n",
      "Fetched GeoJSON 1146 for E07000163\n",
      "Fetched GeoJSON 1147 for E07000135\n",
      "Fetched GeoJSON 1148 for E06000031\n",
      "Fetched GeoJSON 1149 for E07000241\n",
      "Fetched GeoJSON 1150 for E07000142\n",
      "Fetched GeoJSON 1151 for E07000111\n",
      "Fetched GeoJSON 1152 for E07000044\n",
      "Fetched GeoJSON 1153 for E06000050\n",
      "Fetched GeoJSON 1154 for E07000172\n",
      "Fetched GeoJSON 1155 for E07000074\n",
      "Fetched GeoJSON 1156 for E07000210\n",
      "Fetched GeoJSON 1157 for E07000133\n",
      "Fetched GeoJSON 1158 for E08000018\n",
      "Fetched GeoJSON 1159 for E07000164\n",
      "Fetched GeoJSON 1160 for E07000076\n",
      "Fetched GeoJSON 1161 for E07000199\n",
      "Fetched GeoJSON 1162 for E07000141\n",
      "Fetched GeoJSON 1163 for E07000132\n",
      "Fetched GeoJSON 1164 for E08000001\n",
      "Fetched GeoJSON 1165 for E06000006\n",
      "Fetched GeoJSON 1166 for E09000006\n",
      "Fetched GeoJSON 1167 for W06000003\n",
      "Fetched GeoJSON 1168 for W06000009\n",
      "Fetched GeoJSON 1169 for E07000109\n",
      "Fetched GeoJSON 1170 for E08000029\n",
      "Fetched GeoJSON 1171 for E06000030\n",
      "Fetched GeoJSON 1172 for E06000002\n",
      "Fetched GeoJSON 1173 for E07000043\n",
      "Fetched GeoJSON 1174 for W06000006\n",
      "Fetched GeoJSON 1175 for E06000012\n",
      "Fetched GeoJSON 1176 for E07000081\n",
      "Fetched GeoJSON 1177 for E07000047\n",
      "Fetched GeoJSON 1178 for W06000022\n",
      "Fetched GeoJSON 1179 for E07000137\n",
      "Fetched GeoJSON 1180 for E07000045\n",
      "Fetched GeoJSON 1181 for E07000113\n",
      "Fetched GeoJSON 1182 for E06000039\n",
      "Fetched GeoJSON 1183 for E07000220\n",
      "Fetched GeoJSON 1184 for E07000208\n",
      "Fetched GeoJSON 1185 for E09000002\n",
      "Fetched GeoJSON 1186 for E07000038\n",
      "Fetched GeoJSON 1187 for E07000224\n",
      "Fetched GeoJSON 1188 for E06000015\n",
      "Fetched GeoJSON 1189 for E07000106\n",
      "Fetched GeoJSON 1190 for E08000037\n",
      "Fetched GeoJSON 1191 for E07000085\n",
      "Fetched GeoJSON 1192 for E07000089\n",
      "Fetched GeoJSON 1193 for E07000215\n",
      "Fetched GeoJSON 1194 for E08000014\n",
      "Fetched GeoJSON 1195 for E07000088\n",
      "Fetched GeoJSON 1196 for E07000102\n",
      "Fetched GeoJSON 1197 for E07000207\n",
      "Fetched GeoJSON 1198 for E08000009\n",
      "Fetched GeoJSON 1199 for E07000222\n",
      "Fetched GeoJSON 1200 for E07000073\n",
      "Fetched GeoJSON 1201 for E07000132\n",
      "Fetched GeoJSON 1202 for E07000035\n",
      "Fetched GeoJSON 1203 for E07000028\n",
      "Fetched GeoJSON 1204 for E07000092\n",
      "Fetched GeoJSON 1205 for E06000025\n",
      "Fetched GeoJSON 1206 for E07000079\n",
      "Fetched GeoJSON 1207 for E08000023\n",
      "Fetched GeoJSON 1208 for E06000030\n",
      "Fetched GeoJSON 1209 for E07000120\n",
      "Fetched GeoJSON 1210 for E07000148\n",
      "Fetched GeoJSON 1211 for E07000031\n",
      "Fetched GeoJSON 1212 for E06000005\n",
      "Fetched GeoJSON 1213 for E07000237\n",
      "Fetched GeoJSON 1214 for E06000002\n",
      "Fetched GeoJSON 1215 for E07000243\n",
      "Fetched GeoJSON 1216 for E07000114\n",
      "Fetched GeoJSON 1217 for E08000024\n",
      "Fetched GeoJSON 1218 for E06000013\n",
      "Fetched GeoJSON 1219 for E07000166\n",
      "Fetched GeoJSON 1220 for W06000012\n",
      "Fetched GeoJSON 1221 for E07000117\n",
      "Fetched GeoJSON 1222 for E07000175\n",
      "Fetched GeoJSON 1223 for E06000010\n",
      "Fetched GeoJSON 1224 for E07000043\n",
      "Fetched GeoJSON 1225 for E07000143\n",
      "Fetched GeoJSON 1226 for E07000031\n",
      "Fetched GeoJSON 1227 for E07000082\n",
      "Fetched GeoJSON 1228 for E07000226\n",
      "Fetched GeoJSON 1229 for E07000223\n",
      "Fetched GeoJSON 1230 for E07000147\n",
      "Fetched GeoJSON 1231 for E07000125\n",
      "Fetched GeoJSON 1232 for E08000030\n",
      "Fetched GeoJSON 1233 for E07000071\n",
      "Fetched GeoJSON 1234 for E07000131\n",
      "Fetched GeoJSON 1235 for E07000236\n",
      "Fetched GeoJSON 1236 for E07000218\n",
      "Fetched GeoJSON 1237 for E07000080\n",
      "Fetched GeoJSON 1238 for E07000188\n",
      "Fetched GeoJSON 1239 for E07000198\n",
      "Fetched GeoJSON 1240 for E08000001\n",
      "Fetched GeoJSON 1241 for E07000112\n",
      "Fetched GeoJSON 1242 for E06000013\n",
      "Fetched GeoJSON 1243 for E07000047\n",
      "Fetched GeoJSON 1244 for E07000149\n",
      "Fetched GeoJSON 1245 for E07000130\n",
      "Fetched GeoJSON 1246 for E06000040\n",
      "Fetched GeoJSON 1247 for E07000109\n",
      "Fetched GeoJSON 1248 for E07000077\n",
      "Fetched GeoJSON 1249 for E06000056\n",
      "Fetched GeoJSON 1250 for E07000214\n",
      "Fetched GeoJSON 1251 for E07000034\n",
      "Fetched GeoJSON 1252 for E07000062\n",
      "Fetched GeoJSON 1253 for E07000083\n",
      "Fetched GeoJSON 1254 for E07000121\n",
      "Fetched GeoJSON 1255 for E08000022\n",
      "Fetched GeoJSON 1256 for E07000127\n",
      "Fetched GeoJSON 1257 for E06000041\n",
      "Fetched GeoJSON 1258 for E07000145\n",
      "Fetched GeoJSON 1259 for E06000053\n",
      "Fetched GeoJSON 1260 for E06000017\n",
      "Fetched GeoJSON 1261 for E06000059\n",
      "Fetched GeoJSON 1262 for E08000010\n",
      "Fetched GeoJSON 1263 for W06000016\n",
      "Fetched GeoJSON 1264 for E08000024\n",
      "Fetched GeoJSON 1265 for W06000014\n",
      "Fetched GeoJSON 1266 for E09000002\n",
      "Fetched GeoJSON 1267 for E06000007\n",
      "Fetched GeoJSON 1268 for E06000051\n",
      "Fetched GeoJSON 1269 for E08000027\n",
      "Fetched GeoJSON 1270 for W06000011\n",
      "Fetched GeoJSON 1271 for E06000021\n",
      "Fetched GeoJSON 1272 for E07000168\n",
      "Fetched GeoJSON 1273 for E07000062\n",
      "Fetched GeoJSON 1274 for E07000103\n",
      "Fetched GeoJSON 1275 for E07000134\n",
      "Fetched GeoJSON 1276 for E07000235\n",
      "Fetched GeoJSON 1277 for E07000102\n",
      "Fetched GeoJSON 1278 for E07000193\n",
      "Fetched GeoJSON 1279 for E07000168\n",
      "Fetched GeoJSON 1280 for E07000219\n",
      "Fetched GeoJSON 1281 for W06000004\n",
      "Fetched GeoJSON 1282 for E08000016\n",
      "Fetched GeoJSON 1283 for E06000026\n",
      "Fetched GeoJSON 1284 for E07000135\n",
      "Fetched GeoJSON 1285 for E06000035\n",
      "Fetched GeoJSON 1286 for E07000207\n",
      "Fetched GeoJSON 1287 for E07000215\n",
      "Fetched GeoJSON 1288 for E06000042\n",
      "Fetched GeoJSON 1289 for E07000061\n",
      "Fetched GeoJSON 1290 for E06000039\n",
      "Fetched GeoJSON 1291 for E07000046\n",
      "Fetched GeoJSON 1292 for E06000055\n",
      "Fetched GeoJSON 1293 for E07000108\n",
      "Fetched GeoJSON 1294 for W06000008\n",
      "Fetched GeoJSON 1295 for E09000029\n",
      "Fetched GeoJSON 1296 for W06000004\n",
      "Fetched GeoJSON 1297 for E06000005\n",
      "Fetched GeoJSON 1298 for E07000072\n",
      "Fetched GeoJSON 1299 for E07000064\n",
      "Fetched GeoJSON 1300 for E07000202\n",
      "Fetched GeoJSON 1301 for E06000046\n",
      "Fetched GeoJSON 1302 for E07000107\n",
      "Fetched GeoJSON 1303 for E07000084\n",
      "Fetched GeoJSON 1304 for E06000003\n",
      "Fetched GeoJSON 1305 for E07000171\n",
      "Fetched GeoJSON 1306 for E08000008\n",
      "Fetched GeoJSON 1307 for E07000073\n",
      "Fetched GeoJSON 1308 for W06000002\n",
      "Fetched GeoJSON 1309 for E06000019\n",
      "Fetched GeoJSON 1310 for E07000034\n",
      "Fetched GeoJSON 1311 for E07000046\n",
      "Fetched GeoJSON 1312 for E08000004\n",
      "Fetched GeoJSON 1313 for E07000010\n",
      "Fetched GeoJSON 1314 for E07000035\n",
      "Fetched GeoJSON 1315 for E07000133\n",
      "Fetched GeoJSON 1316 for W06000021\n",
      "Fetched GeoJSON 1317 for E07000063\n",
      "Fetched GeoJSON 1318 for E07000177\n",
      "Fetched GeoJSON 1319 for E07000213\n",
      "Fetched GeoJSON 1320 for E07000122\n",
      "Fetched GeoJSON 1321 for E06000003\n",
      "Fetched GeoJSON 1322 for E07000167\n",
      "Fetched GeoJSON 1323 for E08000004\n",
      "Fetched GeoJSON 1324 for E07000243\n",
      "Fetched GeoJSON 1325 for E07000198\n",
      "Fetched GeoJSON 1326 for E09000016\n",
      "Fetched GeoJSON 1327 for E07000203\n",
      "Fetched GeoJSON 1328 for E07000086\n",
      "Fetched GeoJSON 1329 for E07000135\n",
      "Fetched GeoJSON 1330 for W06000001\n",
      "Fetched GeoJSON 1331 for E08000007\n",
      "Fetched GeoJSON 1332 for E08000005\n",
      "Fetched GeoJSON 1333 for E08000017\n",
      "Fetched GeoJSON 1334 for E08000005\n",
      "Fetched GeoJSON 1335 for W06000020\n",
      "Fetched GeoJSON 1336 for E07000229\n",
      "Fetched GeoJSON 1337 for E07000194\n",
      "Fetched GeoJSON 1338 for E07000240\n",
      "Fetched GeoJSON 1339 for E07000028\n",
      "Fetched GeoJSON 1340 for E07000163\n",
      "Fetched GeoJSON 1341 for E07000200\n",
      "Fetched GeoJSON 1342 for W06000009\n",
      "Fetched GeoJSON 1343 for E07000163\n",
      "Fetched GeoJSON 1344 for E08000030\n",
      "Fetched GeoJSON 1345 for E07000087\n",
      "Fetched GeoJSON 1346 for E08000014\n",
      "Fetched GeoJSON 1347 for E07000012\n",
      "Fetched GeoJSON 1348 for E07000098\n",
      "Fetched GeoJSON 1349 for E07000180\n",
      "Fetched GeoJSON 1350 for E07000217\n",
      "Fetched GeoJSON 1351 for E09000004\n",
      "Fetched GeoJSON 1352 for E06000009\n",
      "Fetched GeoJSON 1353 for E07000103\n",
      "Fetched GeoJSON 1354 for W06000005\n",
      "Fetched GeoJSON 1355 for E07000070\n",
      "Fetched GeoJSON 1356 for E08000036\n",
      "Fetched GeoJSON 1357 for E06000007\n",
      "Fetched GeoJSON 1358 for E06000017\n",
      "Fetched GeoJSON 1359 for E07000094\n",
      "Fetched GeoJSON 1360 for E08000002\n",
      "Fetched GeoJSON 1361 for E06000034\n",
      "Fetched GeoJSON 1362 for E08000010\n",
      "Fetched GeoJSON 1363 for E07000246\n",
      "Fetched GeoJSON 1364 for E07000212\n",
      "Fetched GeoJSON 1365 for W06000003\n",
      "Fetched GeoJSON 1366 for E07000042\n",
      "Fetched GeoJSON 1367 for E07000138\n",
      "Fetched GeoJSON 1368 for E06000017\n",
      "Fetched GeoJSON 1369 for E07000026\n",
      "Fetched GeoJSON 1370 for E07000144\n",
      "Fetched GeoJSON 1371 for E07000011\n",
      "Fetched GeoJSON 1372 for E07000032\n",
      "Fetched GeoJSON 1373 for E07000068\n",
      "Fetched GeoJSON 1374 for W06000023\n",
      "Fetched GeoJSON 1375 for E06000008\n",
      "Fetched GeoJSON 1376 for E07000078\n",
      "Fetched GeoJSON 1377 for E07000009\n",
      "Fetched GeoJSON 1378 for E06000001\n",
      "Fetched GeoJSON 1379 for E07000026\n",
      "Fetched GeoJSON 1380 for E07000211\n",
      "Fetched GeoJSON 1381 for E07000174\n",
      "Fetched GeoJSON 1382 for E07000165\n",
      "Fetched GeoJSON 1383 for E09000001\n",
      "Fetched GeoJSON 1384 for E07000128\n",
      "Fetched GeoJSON 1385 for E07000110\n",
      "Fetched GeoJSON 1386 for E08000013\n",
      "Fetched GeoJSON 1387 for E06000020\n",
      "Fetched GeoJSON 1388 for E06000011\n",
      "Fetched GeoJSON 1389 for E08000015\n",
      "Fetched GeoJSON 1390 for E07000030\n",
      "Fetched GeoJSON 1391 for E07000069\n",
      "Fetched GeoJSON 1392 for E08000029\n",
      "Fetched GeoJSON 1393 for E07000136\n",
      "Fetched GeoJSON 1394 for E07000033\n",
      "Fetched GeoJSON 1395 for E07000146\n",
      "Fetched GeoJSON 1396 for E07000216\n",
      "Fetched GeoJSON 1397 for E06000019\n",
      "Fetched GeoJSON 1398 for E07000095\n",
      "Fetched GeoJSON 1399 for E07000228\n",
      "Fetched GeoJSON 1400 for E07000047\n",
      "Fetched GeoJSON 1401 for E06000024\n",
      "Fetched GeoJSON 1402 for W06000019\n",
      "Fetched GeoJSON 1403 for E06000037\n",
      "Fetched GeoJSON 1404 for E07000202\n",
      "Fetched GeoJSON 1405 for W06000013\n",
      "Fetched GeoJSON 1406 for E07000226\n",
      "Fetched GeoJSON 1407 for E07000179\n",
      "Fetched GeoJSON 1408 for E07000208\n",
      "Fetched GeoJSON 1409 for E06000036\n",
      "Fetched GeoJSON 1410 for E07000140\n",
      "Fetched GeoJSON 1411 for E07000090\n",
      "Fetched GeoJSON 1412 for W06000022\n",
      "Fetched GeoJSON 1413 for E07000167\n",
      "Fetched GeoJSON 1414 for E07000136\n",
      "Fetched GeoJSON 1415 for E08000027\n",
      "Fetched GeoJSON 1416 for E07000119\n",
      "Fetched GeoJSON 1417 for E07000173\n",
      "Fetched GeoJSON 1418 for E07000196\n",
      "Fetched GeoJSON 1419 for E07000075\n",
      "Fetched GeoJSON 1420 for E07000088\n",
      "Fetched GeoJSON 1421 for E07000074\n",
      "Fetched GeoJSON 1422 for W06000006\n",
      "Fetched GeoJSON 1423 for E07000145\n",
      "Fetched GeoJSON 1424 for E06000008\n",
      "Fetched GeoJSON 1425 for E07000227\n",
      "Fetched GeoJSON 1426 for E06000033\n",
      "Fetched GeoJSON 1427 for E06000034\n",
      "Fetched GeoJSON 1428 for E08000023\n",
      "Fetched GeoJSON 1429 for E08000008\n",
      "Fetched GeoJSON 1430 for E08000002\n",
      "Fetched GeoJSON 1431 for E07000129\n",
      "Fetched GeoJSON 1432 for E07000122\n",
      "Fetched GeoJSON 1433 for E06000057\n",
      "Fetched GeoJSON 1434 for E07000116\n",
      "Fetched GeoJSON 1435 for E07000170\n",
      "Fetched GeoJSON 1436 for E07000189\n",
      "Fetched GeoJSON 1437 for E07000242\n",
      "Fetched GeoJSON 1438 for E07000096\n",
      "Fetched GeoJSON 1439 for E07000105\n",
      "Fetched GeoJSON 1440 for W06000018\n",
      "Fetched GeoJSON 1441 for E07000237\n",
      "Fetched GeoJSON 1442 for E07000122\n",
      "Fetched GeoJSON 1443 for W06000024\n",
      "Fetched GeoJSON 1444 for E07000169\n",
      "Fetched GeoJSON 1445 for E07000092\n",
      "Fetched GeoJSON 1446 for E07000234\n",
      "Fetched GeoJSON 1447 for W06000016\n",
      "Fetched GeoJSON 1448 for E06000012\n",
      "Fetched GeoJSON 1449 for E07000220\n",
      "Fetched GeoJSON 1450 for E08000037\n",
      "Fetched GeoJSON 1451 for E06000009\n",
      "Fetched GeoJSON 1452 for E07000181\n",
      "Fetched GeoJSON 1453 for E07000036\n",
      "Fetched GeoJSON 1454 for E07000117\n",
      "Fetched GeoJSON 1455 for E06000013\n",
      "Fetched GeoJSON 1456 for E07000172\n",
      "Fetched GeoJSON 1457 for E07000066\n",
      "Fetched GeoJSON 1458 for E07000225\n",
      "Fetched GeoJSON 1459 for E07000118\n",
      "Fetched GeoJSON 1460 for E07000029\n",
      "Fetched GeoJSON 1461 for E06000001\n",
      "Fetched GeoJSON 1462 for E07000166\n",
      "Fetched GeoJSON 1463 for E07000029\n",
      "Fetched GeoJSON 1464 for E07000030\n",
      "Fetched GeoJSON 1465 for E06000004\n",
      "Fetched GeoJSON 1466 for E07000244\n",
      "Fetched GeoJSON 1467 for E07000143\n",
      "Fetched GeoJSON 1468 for E08000016\n",
      "Fetched GeoJSON 1469 for E07000061\n",
      "Fetched GeoJSON 1470 for W06000001\n",
      "Fetched GeoJSON 1471 for E07000224\n",
      "Fetched GeoJSON 1472 for E08000011\n",
      "Fetched GeoJSON 1473 for E08000022\n",
      "Fetched GeoJSON 1474 for E08000018\n",
      "Fetched GeoJSON 1475 for E07000213\n",
      "Fetched GeoJSON 1476 for E07000098\n",
      "Fetched GeoJSON 1477 for E07000136\n",
      "Fetched GeoJSON 1478 for E07000107\n",
      "Fetched GeoJSON 1479 for E07000243\n",
      "Fetched GeoJSON 1480 for E07000214\n",
      "Fetched GeoJSON 1481 for E07000239\n",
      "Fetched GeoJSON 1482 for E07000208\n",
      "Fetched GeoJSON 1483 for E08000033\n",
      "Fetched GeoJSON 1484 for E07000111\n",
      "Fetched GeoJSON 1485 for E07000187\n",
      "Fetched GeoJSON 1486 for E07000117\n",
      "Fetched GeoJSON 1487 for E07000193\n",
      "Fetched GeoJSON 1488 for E07000040\n",
      "Fetched GeoJSON 1489 for E07000091\n",
      "Fetched GeoJSON 1490 for E07000093\n",
      "Fetched GeoJSON 1491 for E07000124\n",
      "Fetched GeoJSON 1492 for E07000027\n",
      "Fetched GeoJSON 1493 for E06000006\n",
      "Fetched GeoJSON 1494 for E07000119\n",
      "Fetched GeoJSON 1495 for W06000002\n",
      "Fetched GeoJSON 1496 for E07000085\n",
      "Fetched GeoJSON 1497 for E07000176\n",
      "Fetched GeoJSON 1498 for E07000114\n",
      "Fetched GeoJSON 1499 for E07000221\n",
      "Fetched GeoJSON 1500 for E07000065\n",
      "Fetched GeoJSON 1501 for W06000020\n",
      "Fetched GeoJSON 1502 for E07000079\n",
      "Fetched GeoJSON 1503 for E06000046\n",
      "Fetched GeoJSON 1504 for E06000012\n",
      "Fetched GeoJSON 1505 for E07000089\n",
      "Fetched GeoJSON 1506 for E07000031\n",
      "Fetched GeoJSON 1507 for E07000126\n",
      "Fetched GeoJSON 1508 for E06000027\n",
      "Fetched GeoJSON 1509 for E07000218\n",
      "Fetched GeoJSON 1510 for E07000081\n",
      "Fetched GeoJSON 1511 for E07000073\n",
      "Fetched GeoJSON 1512 for W06000014\n",
      "Fetched GeoJSON 1513 for E07000199\n",
      "Fetched GeoJSON 1514 for E07000166\n",
      "Fetched GeoJSON 1515 for E07000133\n",
      "Fetched GeoJSON 1516 for E07000192\n",
      "Fetched GeoJSON 1517 for E07000072\n",
      "Fetched GeoJSON 1518 for E07000149\n",
      "Fetched GeoJSON 1519 for E07000141\n",
      "Fetched GeoJSON 1520 for E07000009\n",
      "Fetched GeoJSON 1521 for E07000102\n",
      "Fetched GeoJSON 1522 for E08000013\n",
      "Fetched GeoJSON 1523 for E07000174\n",
      "Fetched GeoJSON 1524 for E07000145\n",
      "Fetched GeoJSON 1525 for E07000086\n",
      "Fetched GeoJSON 1526 for E07000219\n",
      "Fetched GeoJSON 1527 for E07000229\n",
      "Fetched GeoJSON 1528 for E07000099\n",
      "Fetched GeoJSON 1529 for E08000011\n",
      "Fetched GeoJSON 1530 for W06000010\n",
      "Fetched GeoJSON 1531 for E07000028\n",
      "Fetched GeoJSON 1532 for E07000115\n",
      "Fetched GeoJSON 1533 for E07000168\n",
      "Fetched GeoJSON 1534 for E07000197\n",
      "Fetched GeoJSON 1535 for E07000188\n",
      "Fetched GeoJSON 1536 for E07000195\n",
      "Fetched GeoJSON 1537 for E07000062\n",
      "Fetched GeoJSON 1538 for E07000210\n",
      "Fetched GeoJSON 1539 for E07000112\n",
      "Fetched GeoJSON 1540 for E07000127\n",
      "Fetched GeoJSON 1541 for E07000108\n",
      "Fetched GeoJSON 1542 for E09000001\n",
      "Fetched GeoJSON 1543 for E07000238\n",
      "Fetched GeoJSON 1544 for E07000203\n",
      "Fetched GeoJSON 1545 for E07000027\n",
      "Fetched GeoJSON 1546 for E07000043\n",
      "Fetched GeoJSON 1547 for E07000139\n",
      "Fetched GeoJSON 1548 for E08000023\n",
      "Fetched GeoJSON 1549 for E07000109\n",
      "Fetched GeoJSON 1550 for E07000044\n",
      "Fetched GeoJSON 1551 for W06000006\n",
      "Fetched GeoJSON 1552 for E07000236\n",
      "Fetched GeoJSON 1553 for W06000008\n",
      "Fetched GeoJSON 1554 for E07000137\n",
      "Fetched GeoJSON 1555 for W06000009\n",
      "Fetched GeoJSON 1556 for E07000223\n",
      "Fetched GeoJSON 1557 for E06000005\n",
      "Fetched GeoJSON 1558 for E07000215\n",
      "Fetched GeoJSON 1559 for E06000006\n",
      "Fetched GeoJSON 1560 for E07000087\n",
      "Fetched GeoJSON 1561 for E07000131\n",
      "Fetched GeoJSON 1562 for E07000082\n",
      "Fetched GeoJSON 1563 for W06000005\n",
      "Fetched GeoJSON 1564 for E07000120\n",
      "Fetched GeoJSON 1565 for E07000140\n",
      "Fetched GeoJSON 1566 for E07000175\n",
      "Fetched GeoJSON 1567 for E07000045\n",
      "Fetched GeoJSON 1568 for E07000068\n",
      "Fetched GeoJSON 1569 for E07000113\n",
      "Fetched GeoJSON 1570 for W06000023\n",
      "Fetched GeoJSON 1571 for W06000012\n",
      "Fetched GeoJSON 1572 for E07000125\n",
      "Fetched GeoJSON 1573 for W06000013\n",
      "Fetched GeoJSON 1574 for W06000019\n",
      "Fetched GeoJSON 1575 for E07000077\n",
      "Fetched GeoJSON 1576 for E07000063\n",
      "Fetched GeoJSON 1577 for E07000135\n",
      "Fetched GeoJSON 1578 for E07000083\n",
      "Fetched GeoJSON 1579 for E07000067\n",
      "Fetched GeoJSON 1580 for E07000010\n",
      "Fetched GeoJSON 1581 for E07000064\n",
      "Fetched GeoJSON 1582 for E07000164\n",
      "Fetched GeoJSON 1583 for E07000128\n",
      "Fetched GeoJSON 1584 for E07000235\n",
      "Fetched GeoJSON 1585 for W06000021\n",
      "Fetched GeoJSON 1586 for E07000236\n",
      "Fetched GeoJSON 1587 for E07000090\n",
      "Fetched GeoJSON 1588 for W06000003\n",
      "Fetched GeoJSON 1589 for E07000095\n",
      "Fetched GeoJSON 1590 for E07000144\n",
      "Fetched GeoJSON 1591 for E07000147\n",
      "Fetched GeoJSON 1592 for E09000001\n",
      "Fetched GeoJSON 1593 for E07000173\n",
      "Fetched GeoJSON 1594 for E07000118\n",
      "Fetched GeoJSON 1595 for E07000134\n",
      "Fetched GeoJSON 1596 for E07000171\n",
      "Fetched GeoJSON 1597 for E07000042\n",
      "Fetched GeoJSON 1598 for E07000080\n",
      "Fetched GeoJSON 1599 for E07000037\n",
      "Fetched GeoJSON 1600 for E07000234\n",
      "Fetched GeoJSON 1601 for E07000088\n",
      "Fetched GeoJSON 1602 for E07000170\n",
      "Fetched GeoJSON 1603 for E07000027\n",
      "Fetched GeoJSON 1604 for E07000142\n",
      "Fetched GeoJSON 1605 for E07000039\n",
      "Fetched GeoJSON 1606 for E07000076\n",
      "Fetched GeoJSON 1607 for E06000003\n",
      "Fetched GeoJSON 1608 for E07000032\n",
      "Fetched GeoJSON 1609 for W06000024\n",
      "Fetched GeoJSON 1610 for E07000194\n",
      "Fetched GeoJSON 1611 for E07000200\n",
      "Fetched GeoJSON 1612 for E07000129\n",
      "Fetched GeoJSON 1613 for E07000034\n",
      "Fetched GeoJSON 1614 for E07000124\n",
      "Fetched GeoJSON 1615 for E07000035\n",
      "Fetched GeoJSON 1616 for W06000004\n",
      "Fetched GeoJSON 1617 for E07000046\n",
      "Fetched GeoJSON 1618 for E07000132\n",
      "Fetched GeoJSON 1619 for E07000163\n",
      "Fetched GeoJSON 1620 for E07000037\n",
      "Fetched GeoJSON 1621 for E07000126\n",
      "Fetched GeoJSON 1622 for E07000120\n",
      "Fetched GeoJSON 1623 for E07000036\n",
      "Fetched GeoJSON 1624 for E07000169\n",
      "Fetched GeoJSON 1625 for E07000047\n",
      "Fetched GeoJSON 1626 for E06000017\n",
      "Fetched GeoJSON 1627 for E07000033\n",
      "Fetched GeoJSON 1628 for E06000001\n",
      "Fetched GeoJSON 1629 for E07000167\n",
      "Fetched GeoJSON 1630 for E07000026\n",
      "Fetched GeoJSON 1631 for E07000199\n",
      "Fetched GeoJSON 1632 for W06000024\n",
      "Fetched GeoJSON 1633 for W06000018\n",
      "Fetched GeoJSON 1634 for E07000038\n",
      "Fetched GeoJSON 1635 for E07000223\n",
      "Fetched GeoJSON 1636 for E07000029\n",
      "Fetched GeoJSON 1637 for E07000030\n",
      "Fetched GeoJSON 1638 for E07000133\n",
      "Fetched GeoJSON 1639 for E07000074\n",
      "Fetched GeoJSON 1640 for E07000192\n",
      "Fetched GeoJSON 1641 for E07000239\n",
      "Fetched GeoJSON 1642 for E07000198\n",
      "Fetched GeoJSON 1643 for E07000196\n",
      "Fetched GeoJSON 1644 for E07000125\n",
      "Fetched GeoJSON 1645 for E07000075\n",
      "Fetched GeoJSON 1646 for E07000069\n",
      "Fetched GeoJSON 1647 for E09000001\n",
      "Fetched GeoJSON 1648 for E07000218\n",
      "Fetched GeoJSON 1649 for W06000020\n",
      "Fetched GeoJSON 1650 for W06000001\n",
      "Fetched GeoJSON 1651 for W06000019\n",
      "Fetched GeoJSON 1652 for E06000053\n",
      "Fetched GeoJSON 1653 for E06000053\n",
      "Fetched GeoJSON 1654 for E06000053\n",
      "Fetched GeoJSON 1655 for E06000053\n",
      "Fetched GeoJSON 1656 for E06000062\n",
      "Fetched GeoJSON 1657 for E06000061\n",
      "Fetched GeoJSON 1658 for W06000021\n",
      "Fetched GeoJSON 1659 for E07000008\n",
      "Fetched GeoJSON 1660 for E07000009\n",
      "Fetched GeoJSON 1661 for E09000032\n",
      "Fetched GeoJSON 1662 for E06000060\n",
      "Fetched GeoJSON 1663 for E09000033\n",
      "Fetched GeoJSON 1664 for E06000059\n",
      "Fetched GeoJSON 1665 for E07000200\n",
      "Fetched GeoJSON 1666 for E08000002\n",
      "Fetched GeoJSON 1667 for E06000058\n",
      "Fetched GeoJSON 1668 for E06000012\n",
      "Fetched GeoJSON 1669 for E06000057\n",
      "Fetched GeoJSON 1670 for E06000056\n",
      "Fetched GeoJSON 1671 for W06000001\n",
      "Fetched GeoJSON 1672 for E07000226\n",
      "Fetched GeoJSON 1673 for E07000202\n",
      "Fetched GeoJSON 1674 for E06000055\n",
      "Fetched GeoJSON 1675 for E06000054\n",
      "Fetched GeoJSON 1676 for W06000002\n",
      "Fetched GeoJSON 1677 for E07000203\n",
      "Fetched GeoJSON 1678 for E06000007\n",
      "Fetched GeoJSON 1679 for E06000053\n",
      "Fetched GeoJSON 1680 for E06000008\n",
      "Fetched GeoJSON 1681 for W06000003\n",
      "Fetched GeoJSON 1682 for E07000225\n",
      "Fetched GeoJSON 1683 for E07000239\n",
      "Fetched GeoJSON 1684 for E07000010\n",
      "Fetched GeoJSON 1685 for E07000199\n",
      "Fetched GeoJSON 1686 for E07000011\n",
      "Fetched GeoJSON 1687 for E09000027\n",
      "Fetched GeoJSON 1688 for E07000237\n",
      "Fetched GeoJSON 1689 for E07000196\n",
      "Fetched GeoJSON 1690 for E07000195\n",
      "Fetched GeoJSON 1691 for E06000004\n",
      "Fetched GeoJSON 1692 for E07000031\n",
      "Fetched GeoJSON 1693 for W06000023\n",
      "Fetched GeoJSON 1694 for E07000229\n",
      "Fetched GeoJSON 1695 for E07000234\n",
      "Fetched GeoJSON 1696 for E07000030\n",
      "Fetched GeoJSON 1697 for E07000032\n",
      "Fetched GeoJSON 1698 for E06000003\n",
      "Fetched GeoJSON 1699 for E06000002\n",
      "Fetched GeoJSON 1700 for W06000024\n",
      "Fetched GeoJSON 1701 for E07000194\n",
      "Fetched GeoJSON 1702 for E07000033\n",
      "Fetched GeoJSON 1703 for E07000236\n",
      "Fetched GeoJSON 1704 for E06000005\n",
      "Fetched GeoJSON 1705 for E09000028\n",
      "Fetched GeoJSON 1706 for E09000031\n",
      "Fetched GeoJSON 1707 for E07000227\n",
      "Fetched GeoJSON 1708 for E06000051\n",
      "Fetched GeoJSON 1709 for E07000012\n",
      "Fetched GeoJSON 1710 for E07000026\n",
      "Fetched GeoJSON 1711 for E07000238\n",
      "Fetched GeoJSON 1712 for E06000006\n",
      "Fetched GeoJSON 1713 for E09000030\n",
      "Fetched GeoJSON 1714 for E07000027\n",
      "Fetched GeoJSON 1715 for E08000003\n",
      "Fetched GeoJSON 1716 for E08000004\n",
      "Fetched GeoJSON 1717 for E07000198\n",
      "Fetched GeoJSON 1718 for E07000028\n",
      "Fetched GeoJSON 1719 for E09000029\n",
      "Fetched GeoJSON 1720 for E07000197\n",
      "Fetched GeoJSON 1721 for E07000029\n",
      "Fetched GeoJSON 1722 for W06000022\n",
      "Fetched GeoJSON 1723 for E07000228\n",
      "Fetched GeoJSON 1724 for E06000052\n",
      "Fetched GeoJSON 1725 for W06000004\n",
      "Fetched GeoJSON 1726 for E06000050\n",
      "Fetched GeoJSON 1727 for E07000216\n",
      "Fetched GeoJSON 1728 for E07000223\n",
      "Fetched GeoJSON 1729 for E07000243\n",
      "Fetched GeoJSON 1730 for W06000013\n",
      "Fetched GeoJSON 1731 for E06000021\n",
      "Fetched GeoJSON 1732 for E06000022\n",
      "Fetched GeoJSON 1733 for E06000023\n",
      "Fetched GeoJSON 1734 for E06000024\n",
      "Fetched GeoJSON 1735 for W06000012\n",
      "Fetched GeoJSON 1736 for E07000218\n",
      "Fetched GeoJSON 1737 for E07000215\n",
      "Fetched GeoJSON 1738 for E06000025\n",
      "Fetched GeoJSON 1739 for E06000026\n",
      "Fetched GeoJSON 1740 for E06000027\n",
      "Fetched GeoJSON 1741 for E07000244\n",
      "Fetched GeoJSON 1742 for W06000011\n",
      "Fetched GeoJSON 1743 for E06000030\n",
      "Fetched GeoJSON 1744 for E07000217\n",
      "Fetched GeoJSON 1745 for E06000020\n",
      "Fetched GeoJSON 1746 for E06000032\n",
      "Fetched GeoJSON 1747 for E06000016\n",
      "Fetched GeoJSON 1748 for E07000241\n",
      "Fetched GeoJSON 1749 for E07000220\n",
      "Fetched GeoJSON 1750 for W06000016\n",
      "Fetched GeoJSON 1751 for E06000013\n",
      "Fetched GeoJSON 1752 for E07000219\n",
      "Fetched GeoJSON 1753 for E06000014\n",
      "Fetched GeoJSON 1754 for E06000015\n",
      "Fetched GeoJSON 1755 for W06000015\n",
      "Fetched GeoJSON 1756 for E06000011\n",
      "Fetched GeoJSON 1757 for E06000017\n",
      "Fetched GeoJSON 1758 for E07000222\n",
      "Fetched GeoJSON 1759 for W06000018\n",
      "Fetched GeoJSON 1760 for E06000018\n",
      "Fetched GeoJSON 1761 for E06000019\n",
      "Fetched GeoJSON 1762 for E07000242\n",
      "Fetched GeoJSON 1763 for W06000014\n",
      "Fetched GeoJSON 1764 for E06000031\n",
      "Fetched GeoJSON 1765 for E06000010\n",
      "Fetched GeoJSON 1766 for E06000049\n",
      "Fetched GeoJSON 1767 for E06000044\n",
      "Fetched GeoJSON 1768 for E07000246\n",
      "Fetched GeoJSON 1769 for E07000208\n",
      "Fetched GeoJSON 1770 for E06000009\n",
      "Fetched GeoJSON 1771 for W06000006\n",
      "Fetched GeoJSON 1772 for E06000041\n",
      "Fetched GeoJSON 1773 for E06000042\n",
      "Fetched GeoJSON 1774 for E06000043\n",
      "Fetched GeoJSON 1775 for E07000207\n",
      "Fetched GeoJSON 1776 for E06000039\n",
      "Fetched GeoJSON 1777 for W06000005\n",
      "Fetched GeoJSON 1778 for E06000045\n",
      "Fetched GeoJSON 1779 for E06000046\n",
      "Fetched GeoJSON 1780 for W06000020\n",
      "Fetched GeoJSON 1781 for E08000001\n",
      "Fetched GeoJSON 1782 for E06000047\n",
      "Fetched GeoJSON 1783 for E07000221\n",
      "Fetched GeoJSON 1784 for E06000040\n",
      "Fetched GeoJSON 1785 for E07000224\n",
      "Fetched GeoJSON 1786 for E06000033\n",
      "Fetched GeoJSON 1787 for E07000245\n",
      "Fetched GeoJSON 1788 for E07000214\n",
      "Fetched GeoJSON 1789 for W06000010\n",
      "Fetched GeoJSON 1790 for E07000213\n",
      "Fetched GeoJSON 1791 for E06000034\n",
      "Fetched GeoJSON 1792 for W06000019\n",
      "Fetched GeoJSON 1793 for E07000212\n",
      "Fetched GeoJSON 1794 for E06000035\n",
      "Fetched GeoJSON 1795 for W06000009\n",
      "Fetched GeoJSON 1796 for E06000038\n",
      "Fetched GeoJSON 1797 for E06000036\n",
      "Fetched GeoJSON 1798 for E07000211\n",
      "Fetched GeoJSON 1799 for E06000037\n",
      "Fetched GeoJSON 1800 for E07000210\n",
      "Fetched GeoJSON 1801 for E07000209\n",
      "Fetched GeoJSON 1802 for W06000008\n",
      "Fetched GeoJSON 1803 for E07000240\n",
      "Fetched GeoJSON 1804 for E09000026\n",
      "Fetched GeoJSON 1805 for E08000026\n",
      "Fetched GeoJSON 1806 for E08000005\n",
      "Fetched GeoJSON 1807 for E07000164\n",
      "Fetched GeoJSON 1808 for E07000107\n",
      "Fetched GeoJSON 1809 for E07000108\n",
      "Fetched GeoJSON 1810 for E09000002\n",
      "Fetched GeoJSON 1811 for E07000163\n",
      "Fetched GeoJSON 1812 for E08000017\n",
      "Fetched GeoJSON 1813 for E07000149\n",
      "Fetched GeoJSON 1814 for E09000001\n",
      "Fetched GeoJSON 1815 for E07000109\n",
      "Fetched GeoJSON 1816 for E07000148\n",
      "Fetched GeoJSON 1817 for E07000110\n",
      "Fetched GeoJSON 1818 for E07000147\n",
      "Fetched GeoJSON 1819 for E08000037\n",
      "Fetched GeoJSON 1820 for E07000111\n",
      "Fetched GeoJSON 1821 for E08000018\n",
      "Fetched GeoJSON 1822 for E07000112\n",
      "Fetched GeoJSON 1823 for E07000146\n",
      "Fetched GeoJSON 1824 for E07000113\n",
      "Fetched GeoJSON 1825 for E08000036\n",
      "Fetched GeoJSON 1826 for E07000145\n",
      "Fetched GeoJSON 1827 for E07000106\n",
      "Fetched GeoJSON 1828 for E09000003\n",
      "Fetched GeoJSON 1829 for E09000007\n",
      "Fetched GeoJSON 1830 for E07000105\n",
      "Fetched GeoJSON 1831 for E08000014\n",
      "Fetched GeoJSON 1832 for E07000092\n",
      "Fetched GeoJSON 1833 for E07000093\n",
      "Fetched GeoJSON 1834 for E09000006\n",
      "Fetched GeoJSON 1835 for E07000167\n",
      "Fetched GeoJSON 1836 for E07000094\n",
      "Fetched GeoJSON 1837 for E07000095\n",
      "Fetched GeoJSON 1838 for E08000015\n",
      "Fetched GeoJSON 1839 for E09000005\n",
      "Fetched GeoJSON 1840 for E07000096\n",
      "Fetched GeoJSON 1841 for E07000235\n",
      "Fetched GeoJSON 1842 for E07000098\n",
      "Fetched GeoJSON 1843 for E07000166\n",
      "Fetched GeoJSON 1844 for E07000099\n",
      "Fetched GeoJSON 1845 for E09000004\n",
      "Fetched GeoJSON 1846 for E07000165\n",
      "Fetched GeoJSON 1847 for E07000102\n",
      "Fetched GeoJSON 1848 for E08000016\n",
      "Fetched GeoJSON 1849 for E07000103\n",
      "Fetched GeoJSON 1850 for E07000114\n",
      "Fetched GeoJSON 1851 for E08000019\n",
      "Fetched GeoJSON 1852 for E07000115\n",
      "Fetched GeoJSON 1853 for E08000035\n",
      "Fetched GeoJSON 1854 for E07000125\n",
      "Fetched GeoJSON 1855 for E08000030\n",
      "Fetched GeoJSON 1856 for E07000138\n",
      "Fetched GeoJSON 1857 for E07000126\n",
      "Fetched GeoJSON 1858 for E07000137\n",
      "Fetched GeoJSON 1859 for E08000024\n",
      "Fetched GeoJSON 1860 for E08000029\n",
      "Fetched GeoJSON 1861 for E07000127\n",
      "Fetched GeoJSON 1862 for E07000136\n",
      "Fetched GeoJSON 1863 for E07000128\n",
      "Fetched GeoJSON 1864 for E08000025\n",
      "Fetched GeoJSON 1865 for E07000135\n",
      "Fetched GeoJSON 1866 for E08000028\n",
      "Fetched GeoJSON 1867 for E07000129\n",
      "Fetched GeoJSON 1868 for E07000130\n",
      "Fetched GeoJSON 1869 for E07000134\n",
      "Fetched GeoJSON 1870 for E08000027\n",
      "Fetched GeoJSON 1871 for E07000131\n",
      "Fetched GeoJSON 1872 for E07000132\n",
      "Fetched GeoJSON 1873 for E08000023\n",
      "Fetched GeoJSON 1874 for E07000124\n",
      "Fetched GeoJSON 1875 for E08000031\n",
      "Fetched GeoJSON 1876 for E08000033\n",
      "Fetched GeoJSON 1877 for E07000116\n",
      "Fetched GeoJSON 1878 for E07000117\n",
      "Fetched GeoJSON 1879 for E07000144\n",
      "Fetched GeoJSON 1880 for E07000143\n",
      "Fetched GeoJSON 1881 for E08000034\n",
      "Fetched GeoJSON 1882 for E07000118\n",
      "Fetched GeoJSON 1883 for E08000021\n",
      "Fetched GeoJSON 1884 for E07000119\n",
      "Fetched GeoJSON 1885 for E07000142\n",
      "Fetched GeoJSON 1886 for E07000123\n",
      "Fetched GeoJSON 1887 for E07000141\n",
      "Fetched GeoJSON 1888 for E07000120\n",
      "Fetched GeoJSON 1889 for E08000022\n",
      "Fetched GeoJSON 1890 for E08000032\n",
      "Fetched GeoJSON 1891 for E07000121\n",
      "Fetched GeoJSON 1892 for E07000122\n",
      "Fetched GeoJSON 1893 for E07000140\n",
      "Fetched GeoJSON 1894 for E07000139\n",
      "Fetched GeoJSON 1895 for E07000091\n",
      "Fetched GeoJSON 1896 for E07000168\n",
      "Fetched GeoJSON 1897 for E07000034\n",
      "Fetched GeoJSON 1898 for E07000046\n",
      "Fetched GeoJSON 1899 for E09000020\n",
      "Fetched GeoJSON 1900 for E07000188\n",
      "Fetched GeoJSON 1901 for E07000061\n",
      "Fetched GeoJSON 1902 for E08000007\n",
      "Fetched GeoJSON 1903 for E07000062\n",
      "Fetched GeoJSON 1904 for E09000019\n",
      "Fetched GeoJSON 1905 for E07000187\n",
      "Fetched GeoJSON 1906 for E07000063\n",
      "Fetched GeoJSON 1907 for E07000181\n",
      "Fetched GeoJSON 1908 for E07000064\n",
      "Fetched GeoJSON 1909 for E07000180\n",
      "Fetched GeoJSON 1910 for E09000018\n",
      "Fetched GeoJSON 1911 for E07000065\n",
      "Fetched GeoJSON 1912 for E08000008\n",
      "Fetched GeoJSON 1913 for E07000066\n",
      "Fetched GeoJSON 1914 for E07000179\n",
      "Fetched GeoJSON 1915 for E07000067\n",
      "Fetched GeoJSON 1916 for E09000017\n",
      "Fetched GeoJSON 1917 for E07000178\n",
      "Fetched GeoJSON 1918 for E07000047\n",
      "Fetched GeoJSON 1919 for E07000189\n",
      "Fetched GeoJSON 1920 for E07000090\n",
      "Fetched GeoJSON 1921 for E07000045\n",
      "Fetched GeoJSON 1922 for E07000035\n",
      "Fetched GeoJSON 1923 for E09000025\n",
      "Fetched GeoJSON 1924 for E07000036\n",
      "Fetched GeoJSON 1925 for E07000193\n",
      "Fetched GeoJSON 1926 for E07000037\n",
      "Fetched GeoJSON 1927 for E09000024\n",
      "Fetched GeoJSON 1928 for E07000038\n",
      "Fetched GeoJSON 1929 for E07000039\n",
      "Fetched GeoJSON 1930 for E09000023\n",
      "Fetched GeoJSON 1931 for E07000040\n",
      "Fetched GeoJSON 1932 for E07000133\n",
      "Fetched GeoJSON 1933 for E07000041\n",
      "Fetched GeoJSON 1934 for E07000042\n",
      "Fetched GeoJSON 1935 for E09000022\n",
      "Fetched GeoJSON 1936 for E07000043\n",
      "Fetched GeoJSON 1937 for E07000192\n",
      "Fetched GeoJSON 1938 for E07000044\n",
      "Fetched GeoJSON 1939 for E08000006\n",
      "Fetched GeoJSON 1940 for E09000021\n",
      "Fetched GeoJSON 1941 for E07000068\n",
      "Fetched GeoJSON 1942 for E07000177\n",
      "Fetched GeoJSON 1943 for E08000009\n",
      "Fetched GeoJSON 1944 for E07000069\n",
      "Fetched GeoJSON 1945 for E07000080\n",
      "Fetched GeoJSON 1946 for E07000081\n",
      "Fetched GeoJSON 1947 for E09000011\n",
      "Fetched GeoJSON 1948 for E07000082\n",
      "Fetched GeoJSON 1949 for E07000171\n",
      "Fetched GeoJSON 1950 for E07000083\n",
      "Fetched GeoJSON 1951 for E08000012\n",
      "Fetched GeoJSON 1952 for E09000010\n",
      "Fetched GeoJSON 1953 for E07000084\n",
      "Fetched GeoJSON 1954 for E07000085\n",
      "Fetched GeoJSON 1955 for E07000086\n",
      "Fetched GeoJSON 1956 for E07000170\n",
      "Fetched GeoJSON 1957 for E09000009\n",
      "Fetched GeoJSON 1958 for E07000087\n",
      "Fetched GeoJSON 1959 for E07000088\n",
      "Fetched GeoJSON 1960 for E08000013\n",
      "Fetched GeoJSON 1961 for E09000008\n",
      "Fetched GeoJSON 1962 for E07000089\n",
      "Fetched GeoJSON 1963 for E07000169\n",
      "Fetched GeoJSON 1964 for E07000172\n",
      "Fetched GeoJSON 1965 for E07000079\n",
      "Fetched GeoJSON 1966 for E09000012\n",
      "Fetched GeoJSON 1967 for E08000010\n",
      "Fetched GeoJSON 1968 for E09000016\n",
      "Fetched GeoJSON 1969 for E07000176\n",
      "Fetched GeoJSON 1970 for E07000070\n",
      "Fetched GeoJSON 1971 for E07000071\n",
      "Fetched GeoJSON 1972 for E07000072\n",
      "Fetched GeoJSON 1973 for E09000015\n",
      "Fetched GeoJSON 1974 for E07000175\n",
      "Fetched GeoJSON 1975 for E07000073\n",
      "Fetched GeoJSON 1976 for E07000074\n",
      "Fetched GeoJSON 1977 for E08000011\n",
      "Fetched GeoJSON 1978 for E09000014\n",
      "Fetched GeoJSON 1979 for E07000174\n",
      "Fetched GeoJSON 1980 for E07000075\n",
      "Fetched GeoJSON 1981 for E07000076\n",
      "Fetched GeoJSON 1982 for E09000013\n",
      "Fetched GeoJSON 1983 for E07000077\n",
      "Fetched GeoJSON 1984 for E07000173\n",
      "Fetched GeoJSON 1985 for E07000078\n",
      "Fetched GeoJSON 1986 for E06000001\n"
     ]
    }
   ],
   "source": [
    "# Define a function to fetch GeoJSON data\n",
    "def get_geojson(lower_tier_local_authority_code):\n",
    "    base_url = \"https://findthatpostcode.uk/areas/\"\n",
    "    geojson_url = f\"{base_url}{lower_tier_local_authority_code}.geojson\"\n",
    "    try:\n",
    "        response = requests.get(geojson_url)\n",
    "        if response.status_code == 200:\n",
    "            global geojson_counter  # Define a global variable\n",
    "            if 'geojson_counter' not in globals():\n",
    "                geojson_counter = 1\n",
    "            print(f\"Fetched GeoJSON {geojson_counter} for {lower_tier_local_authority_code}\")\n",
    "            geojson_counter += 1\n",
    "            return response.json() \n",
    "    except Exception as e:\n",
    "        print(f\"Error fetching GeoJSON for {lower_tier_local_authority_code}: {str(e)}\")\n",
    "    return None\n",
    "\n",
    "# Apply the function to create a new column with GeoJSON data\n",
    "in_authority['GeoJSON'] = in_authority['Lower tier local authorities code'].apply(get_geojson)\n",
    "\n",
    "# Convert the 'GeoJSON' values to valid JSON strings\n",
    "in_authority['GeoJSON'] = in_authority['GeoJSON'].apply(lambda x: json.dumps(x) if isinstance(x, dict) else x)\n",
    "\n",
    "# Filter out rows with 'GeoJSON' values as None\n",
    "in_authority = in_authority[in_authority['GeoJSON'].notna()]\n",
    "\n",
    "# Convert the 'GeoJSON' strings to Python dictionaries\n",
    "in_authority['GeoJSON'] = in_authority['GeoJSON'].apply(json.loads)"
   ]
  },
  {
   "cell_type": "code",
   "execution_count": 42,
   "metadata": {},
   "outputs": [
    {
     "data": {
      "text/html": [
       "<div>\n",
       "<style scoped>\n",
       "    .dataframe tbody tr th:only-of-type {\n",
       "        vertical-align: middle;\n",
       "    }\n",
       "\n",
       "    .dataframe tbody tr th {\n",
       "        vertical-align: top;\n",
       "    }\n",
       "\n",
       "    .dataframe thead th {\n",
       "        text-align: right;\n",
       "    }\n",
       "</style>\n",
       "<table border=\"1\" class=\"dataframe\">\n",
       "  <thead>\n",
       "    <tr style=\"text-align: right;\">\n",
       "      <th></th>\n",
       "      <th>Lower tier local authorities code</th>\n",
       "      <th>Lower tier local authorities label</th>\n",
       "      <th>Migration LTLA (inflow) (6 categories) label</th>\n",
       "      <th>Count</th>\n",
       "      <th>GeoJSON</th>\n",
       "    </tr>\n",
       "  </thead>\n",
       "  <tbody>\n",
       "    <tr>\n",
       "      <th>0</th>\n",
       "      <td>E08000025</td>\n",
       "      <td>Birmingham</td>\n",
       "      <td>Lived at the same address one year ago</td>\n",
       "      <td>1007979</td>\n",
       "      <td>{'features': [{'geometry': {'coordinates': [[[...</td>\n",
       "    </tr>\n",
       "    <tr>\n",
       "      <th>1</th>\n",
       "      <td>E08000035</td>\n",
       "      <td>Leeds</td>\n",
       "      <td>Lived at the same address one year ago</td>\n",
       "      <td>689265</td>\n",
       "      <td>{'features': [{'geometry': {'coordinates': [[[...</td>\n",
       "    </tr>\n",
       "    <tr>\n",
       "      <th>2</th>\n",
       "      <td>E06000052</td>\n",
       "      <td>Cornwall</td>\n",
       "      <td>Lived at the same address one year ago</td>\n",
       "      <td>504531</td>\n",
       "      <td>{'features': [{'geometry': {'coordinates': [[[...</td>\n",
       "    </tr>\n",
       "    <tr>\n",
       "      <th>3</th>\n",
       "      <td>E08000032</td>\n",
       "      <td>Bradford</td>\n",
       "      <td>Lived at the same address one year ago</td>\n",
       "      <td>495205</td>\n",
       "      <td>{'features': [{'geometry': {'coordinates': [[[...</td>\n",
       "    </tr>\n",
       "    <tr>\n",
       "      <th>4</th>\n",
       "      <td>E06000060</td>\n",
       "      <td>Buckinghamshire</td>\n",
       "      <td>Lived at the same address one year ago</td>\n",
       "      <td>491753</td>\n",
       "      <td>{'features': [{'geometry': {'coordinates': [[[...</td>\n",
       "    </tr>\n",
       "    <tr>\n",
       "      <th>...</th>\n",
       "      <td>...</td>\n",
       "      <td>...</td>\n",
       "      <td>...</td>\n",
       "      <td>...</td>\n",
       "      <td>...</td>\n",
       "    </tr>\n",
       "    <tr>\n",
       "      <th>1981</th>\n",
       "      <td>E09000013</td>\n",
       "      <td>Hammersmith and Fulham</td>\n",
       "      <td>Does not apply</td>\n",
       "      <td>0</td>\n",
       "      <td>{'features': [{'geometry': {'coordinates': [[[...</td>\n",
       "    </tr>\n",
       "    <tr>\n",
       "      <th>1982</th>\n",
       "      <td>E07000077</td>\n",
       "      <td>Uttlesford</td>\n",
       "      <td>Does not apply</td>\n",
       "      <td>0</td>\n",
       "      <td>{'features': [{'geometry': {'coordinates': [[[...</td>\n",
       "    </tr>\n",
       "    <tr>\n",
       "      <th>1983</th>\n",
       "      <td>E07000173</td>\n",
       "      <td>Gedling</td>\n",
       "      <td>Does not apply</td>\n",
       "      <td>0</td>\n",
       "      <td>{'features': [{'geometry': {'coordinates': [[[...</td>\n",
       "    </tr>\n",
       "    <tr>\n",
       "      <th>1984</th>\n",
       "      <td>E07000078</td>\n",
       "      <td>Cheltenham</td>\n",
       "      <td>Does not apply</td>\n",
       "      <td>0</td>\n",
       "      <td>{'features': [{'geometry': {'coordinates': [[[...</td>\n",
       "    </tr>\n",
       "    <tr>\n",
       "      <th>1985</th>\n",
       "      <td>E06000001</td>\n",
       "      <td>Hartlepool</td>\n",
       "      <td>Does not apply</td>\n",
       "      <td>0</td>\n",
       "      <td>{'features': [{'geometry': {'coordinates': [[[...</td>\n",
       "    </tr>\n",
       "  </tbody>\n",
       "</table>\n",
       "<p>1986 rows × 5 columns</p>\n",
       "</div>"
      ],
      "text/plain": [
       "     Lower tier local authorities code Lower tier local authorities label  \\\n",
       "0                            E08000025                         Birmingham   \n",
       "1                            E08000035                              Leeds   \n",
       "2                            E06000052                           Cornwall   \n",
       "3                            E08000032                           Bradford   \n",
       "4                            E06000060                    Buckinghamshire   \n",
       "...                                ...                                ...   \n",
       "1981                         E09000013             Hammersmith and Fulham   \n",
       "1982                         E07000077                         Uttlesford   \n",
       "1983                         E07000173                            Gedling   \n",
       "1984                         E07000078                         Cheltenham   \n",
       "1985                         E06000001                         Hartlepool   \n",
       "\n",
       "     Migration LTLA (inflow) (6 categories) label    Count  \\\n",
       "0          Lived at the same address one year ago  1007979   \n",
       "1          Lived at the same address one year ago   689265   \n",
       "2          Lived at the same address one year ago   504531   \n",
       "3          Lived at the same address one year ago   495205   \n",
       "4          Lived at the same address one year ago   491753   \n",
       "...                                           ...      ...   \n",
       "1981                               Does not apply        0   \n",
       "1982                               Does not apply        0   \n",
       "1983                               Does not apply        0   \n",
       "1984                               Does not apply        0   \n",
       "1985                               Does not apply        0   \n",
       "\n",
       "                                                GeoJSON  \n",
       "0     {'features': [{'geometry': {'coordinates': [[[...  \n",
       "1     {'features': [{'geometry': {'coordinates': [[[...  \n",
       "2     {'features': [{'geometry': {'coordinates': [[[...  \n",
       "3     {'features': [{'geometry': {'coordinates': [[[...  \n",
       "4     {'features': [{'geometry': {'coordinates': [[[...  \n",
       "...                                                 ...  \n",
       "1981  {'features': [{'geometry': {'coordinates': [[[...  \n",
       "1982  {'features': [{'geometry': {'coordinates': [[[...  \n",
       "1983  {'features': [{'geometry': {'coordinates': [[[...  \n",
       "1984  {'features': [{'geometry': {'coordinates': [[[...  \n",
       "1985  {'features': [{'geometry': {'coordinates': [[[...  \n",
       "\n",
       "[1986 rows x 5 columns]"
      ]
     },
     "execution_count": 42,
     "metadata": {},
     "output_type": "execute_result"
    }
   ],
   "source": [
    "in_authority.to_csv(\"./Resources/mig_ltla_in_data.csv\", index=False)\n",
    "in_authority"
   ]
  },
  {
   "cell_type": "code",
   "execution_count": 45,
   "metadata": {},
   "outputs": [
    {
     "ename": "JSONDecodeError",
     "evalue": "Expecting value: line 1 column 21820 (char 21819)",
     "output_type": "error",
     "traceback": [
      "\u001b[1;31m---------------------------------------------------------------------------\u001b[0m",
      "\u001b[1;31mJSONDecodeError\u001b[0m                           Traceback (most recent call last)",
      "\u001b[1;32mc:\\Git\\British-Census\\MIG_LTLA_IN_OUT.ipynb Cell 9\u001b[0m line \u001b[0;36m1\n\u001b[0;32m     <a href='vscode-notebook-cell:/c%3A/Git/British-Census/MIG_LTLA_IN_OUT.ipynb#X16sZmlsZQ%3D%3D?line=10'>11</a>\u001b[0m in_authority[\u001b[39m'\u001b[39m\u001b[39mGeoJSON\u001b[39m\u001b[39m'\u001b[39m] \u001b[39m=\u001b[39m in_authority[\u001b[39m'\u001b[39m\u001b[39mGeoJSON\u001b[39m\u001b[39m'\u001b[39m]\u001b[39m.\u001b[39mapply(fix_geojson)\n\u001b[0;32m     <a href='vscode-notebook-cell:/c%3A/Git/British-Census/MIG_LTLA_IN_OUT.ipynb#X16sZmlsZQ%3D%3D?line=12'>13</a>\u001b[0m \u001b[39m# Convert the 'GeoJSON' strings to Python dictionaries\u001b[39;00m\n\u001b[1;32m---> <a href='vscode-notebook-cell:/c%3A/Git/British-Census/MIG_LTLA_IN_OUT.ipynb#X16sZmlsZQ%3D%3D?line=13'>14</a>\u001b[0m in_authority[\u001b[39m'\u001b[39m\u001b[39mGeoJSON\u001b[39m\u001b[39m'\u001b[39m] \u001b[39m=\u001b[39m in_authority[\u001b[39m'\u001b[39;49m\u001b[39mGeoJSON\u001b[39;49m\u001b[39m'\u001b[39;49m]\u001b[39m.\u001b[39;49mapply(json\u001b[39m.\u001b[39;49mloads)\n\u001b[0;32m     <a href='vscode-notebook-cell:/c%3A/Git/British-Census/MIG_LTLA_IN_OUT.ipynb#X16sZmlsZQ%3D%3D?line=15'>16</a>\u001b[0m \u001b[39m# Create a choropleth map\u001b[39;00m\n\u001b[0;32m     <a href='vscode-notebook-cell:/c%3A/Git/British-Census/MIG_LTLA_IN_OUT.ipynb#X16sZmlsZQ%3D%3D?line=16'>17</a>\u001b[0m fig \u001b[39m=\u001b[39m px\u001b[39m.\u001b[39mchoropleth(in_authority, \n\u001b[0;32m     <a href='vscode-notebook-cell:/c%3A/Git/British-Census/MIG_LTLA_IN_OUT.ipynb#X16sZmlsZQ%3D%3D?line=17'>18</a>\u001b[0m                    geojson\u001b[39m=\u001b[39min_authority[\u001b[39m'\u001b[39m\u001b[39mGeoJSON\u001b[39m\u001b[39m'\u001b[39m],  \u001b[39m# GeoJSON data\u001b[39;00m\n\u001b[0;32m     <a href='vscode-notebook-cell:/c%3A/Git/British-Census/MIG_LTLA_IN_OUT.ipynb#X16sZmlsZQ%3D%3D?line=18'>19</a>\u001b[0m                    locations\u001b[39m=\u001b[39min_authority[\u001b[39m'\u001b[39m\u001b[39mLower tier local authorities code\u001b[39m\u001b[39m'\u001b[39m],  \u001b[39m# Location identifiers\u001b[39;00m\n\u001b[1;32m   (...)\u001b[0m\n\u001b[0;32m     <a href='vscode-notebook-cell:/c%3A/Git/British-Census/MIG_LTLA_IN_OUT.ipynb#X16sZmlsZQ%3D%3D?line=23'>24</a>\u001b[0m                    title\u001b[39m=\u001b[39m\u001b[39m\"\u001b[39m\u001b[39mMigration LTLA Choropleth Map\u001b[39m\u001b[39m\"\u001b[39m,\n\u001b[0;32m     <a href='vscode-notebook-cell:/c%3A/Git/British-Census/MIG_LTLA_IN_OUT.ipynb#X16sZmlsZQ%3D%3D?line=24'>25</a>\u001b[0m                    color_continuous_scale\u001b[39m=\u001b[39m\u001b[39m\"\u001b[39m\u001b[39mViridis\u001b[39m\u001b[39m\"\u001b[39m)\n",
      "File \u001b[1;32mc:\\Users\\Kevin\\anaconda3\\envs\\3.10.4\\lib\\site-packages\\pandas\\core\\series.py:4760\u001b[0m, in \u001b[0;36mSeries.apply\u001b[1;34m(self, func, convert_dtype, args, by_row, **kwargs)\u001b[0m\n\u001b[0;32m   4625\u001b[0m \u001b[39mdef\u001b[39;00m \u001b[39mapply\u001b[39m(\n\u001b[0;32m   4626\u001b[0m     \u001b[39mself\u001b[39m,\n\u001b[0;32m   4627\u001b[0m     func: AggFuncType,\n\u001b[1;32m   (...)\u001b[0m\n\u001b[0;32m   4632\u001b[0m     \u001b[39m*\u001b[39m\u001b[39m*\u001b[39mkwargs,\n\u001b[0;32m   4633\u001b[0m ) \u001b[39m-\u001b[39m\u001b[39m>\u001b[39m DataFrame \u001b[39m|\u001b[39m Series:\n\u001b[0;32m   4634\u001b[0m \u001b[39m    \u001b[39m\u001b[39m\"\"\"\u001b[39;00m\n\u001b[0;32m   4635\u001b[0m \u001b[39m    Invoke function on values of Series.\u001b[39;00m\n\u001b[0;32m   4636\u001b[0m \n\u001b[1;32m   (...)\u001b[0m\n\u001b[0;32m   4751\u001b[0m \u001b[39m    dtype: float64\u001b[39;00m\n\u001b[0;32m   4752\u001b[0m \u001b[39m    \"\"\"\u001b[39;00m\n\u001b[0;32m   4753\u001b[0m     \u001b[39mreturn\u001b[39;00m SeriesApply(\n\u001b[0;32m   4754\u001b[0m         \u001b[39mself\u001b[39;49m,\n\u001b[0;32m   4755\u001b[0m         func,\n\u001b[0;32m   4756\u001b[0m         convert_dtype\u001b[39m=\u001b[39;49mconvert_dtype,\n\u001b[0;32m   4757\u001b[0m         by_row\u001b[39m=\u001b[39;49mby_row,\n\u001b[0;32m   4758\u001b[0m         args\u001b[39m=\u001b[39;49margs,\n\u001b[0;32m   4759\u001b[0m         kwargs\u001b[39m=\u001b[39;49mkwargs,\n\u001b[1;32m-> 4760\u001b[0m     )\u001b[39m.\u001b[39;49mapply()\n",
      "File \u001b[1;32mc:\\Users\\Kevin\\anaconda3\\envs\\3.10.4\\lib\\site-packages\\pandas\\core\\apply.py:1207\u001b[0m, in \u001b[0;36mSeriesApply.apply\u001b[1;34m(self)\u001b[0m\n\u001b[0;32m   1204\u001b[0m     \u001b[39mreturn\u001b[39;00m \u001b[39mself\u001b[39m\u001b[39m.\u001b[39mapply_compat()\n\u001b[0;32m   1206\u001b[0m \u001b[39m# self.func is Callable\u001b[39;00m\n\u001b[1;32m-> 1207\u001b[0m \u001b[39mreturn\u001b[39;00m \u001b[39mself\u001b[39;49m\u001b[39m.\u001b[39;49mapply_standard()\n",
      "File \u001b[1;32mc:\\Users\\Kevin\\anaconda3\\envs\\3.10.4\\lib\\site-packages\\pandas\\core\\apply.py:1287\u001b[0m, in \u001b[0;36mSeriesApply.apply_standard\u001b[1;34m(self)\u001b[0m\n\u001b[0;32m   1281\u001b[0m \u001b[39m# row-wise access\u001b[39;00m\n\u001b[0;32m   1282\u001b[0m \u001b[39m# apply doesn't have a `na_action` keyword and for backward compat reasons\u001b[39;00m\n\u001b[0;32m   1283\u001b[0m \u001b[39m# we need to give `na_action=\"ignore\"` for categorical data.\u001b[39;00m\n\u001b[0;32m   1284\u001b[0m \u001b[39m# TODO: remove the `na_action=\"ignore\"` when that default has been changed in\u001b[39;00m\n\u001b[0;32m   1285\u001b[0m \u001b[39m#  Categorical (GH51645).\u001b[39;00m\n\u001b[0;32m   1286\u001b[0m action \u001b[39m=\u001b[39m \u001b[39m\"\u001b[39m\u001b[39mignore\u001b[39m\u001b[39m\"\u001b[39m \u001b[39mif\u001b[39;00m \u001b[39misinstance\u001b[39m(obj\u001b[39m.\u001b[39mdtype, CategoricalDtype) \u001b[39melse\u001b[39;00m \u001b[39mNone\u001b[39;00m\n\u001b[1;32m-> 1287\u001b[0m mapped \u001b[39m=\u001b[39m obj\u001b[39m.\u001b[39;49m_map_values(\n\u001b[0;32m   1288\u001b[0m     mapper\u001b[39m=\u001b[39;49mcurried, na_action\u001b[39m=\u001b[39;49maction, convert\u001b[39m=\u001b[39;49m\u001b[39mself\u001b[39;49m\u001b[39m.\u001b[39;49mconvert_dtype\n\u001b[0;32m   1289\u001b[0m )\n\u001b[0;32m   1291\u001b[0m \u001b[39mif\u001b[39;00m \u001b[39mlen\u001b[39m(mapped) \u001b[39mand\u001b[39;00m \u001b[39misinstance\u001b[39m(mapped[\u001b[39m0\u001b[39m], ABCSeries):\n\u001b[0;32m   1292\u001b[0m     \u001b[39m# GH#43986 Need to do list(mapped) in order to get treated as nested\u001b[39;00m\n\u001b[0;32m   1293\u001b[0m     \u001b[39m#  See also GH#25959 regarding EA support\u001b[39;00m\n\u001b[0;32m   1294\u001b[0m     \u001b[39mreturn\u001b[39;00m obj\u001b[39m.\u001b[39m_constructor_expanddim(\u001b[39mlist\u001b[39m(mapped), index\u001b[39m=\u001b[39mobj\u001b[39m.\u001b[39mindex)\n",
      "File \u001b[1;32mc:\\Users\\Kevin\\anaconda3\\envs\\3.10.4\\lib\\site-packages\\pandas\\core\\base.py:921\u001b[0m, in \u001b[0;36mIndexOpsMixin._map_values\u001b[1;34m(self, mapper, na_action, convert)\u001b[0m\n\u001b[0;32m    918\u001b[0m \u001b[39mif\u001b[39;00m \u001b[39misinstance\u001b[39m(arr, ExtensionArray):\n\u001b[0;32m    919\u001b[0m     \u001b[39mreturn\u001b[39;00m arr\u001b[39m.\u001b[39mmap(mapper, na_action\u001b[39m=\u001b[39mna_action)\n\u001b[1;32m--> 921\u001b[0m \u001b[39mreturn\u001b[39;00m algorithms\u001b[39m.\u001b[39;49mmap_array(arr, mapper, na_action\u001b[39m=\u001b[39;49mna_action, convert\u001b[39m=\u001b[39;49mconvert)\n",
      "File \u001b[1;32mc:\\Users\\Kevin\\anaconda3\\envs\\3.10.4\\lib\\site-packages\\pandas\\core\\algorithms.py:1814\u001b[0m, in \u001b[0;36mmap_array\u001b[1;34m(arr, mapper, na_action, convert)\u001b[0m\n\u001b[0;32m   1812\u001b[0m values \u001b[39m=\u001b[39m arr\u001b[39m.\u001b[39mastype(\u001b[39mobject\u001b[39m, copy\u001b[39m=\u001b[39m\u001b[39mFalse\u001b[39;00m)\n\u001b[0;32m   1813\u001b[0m \u001b[39mif\u001b[39;00m na_action \u001b[39mis\u001b[39;00m \u001b[39mNone\u001b[39;00m:\n\u001b[1;32m-> 1814\u001b[0m     \u001b[39mreturn\u001b[39;00m lib\u001b[39m.\u001b[39;49mmap_infer(values, mapper, convert\u001b[39m=\u001b[39;49mconvert)\n\u001b[0;32m   1815\u001b[0m \u001b[39melse\u001b[39;00m:\n\u001b[0;32m   1816\u001b[0m     \u001b[39mreturn\u001b[39;00m lib\u001b[39m.\u001b[39mmap_infer_mask(\n\u001b[0;32m   1817\u001b[0m         values, mapper, mask\u001b[39m=\u001b[39misna(values)\u001b[39m.\u001b[39mview(np\u001b[39m.\u001b[39muint8), convert\u001b[39m=\u001b[39mconvert\n\u001b[0;32m   1818\u001b[0m     )\n",
      "File \u001b[1;32mlib.pyx:2917\u001b[0m, in \u001b[0;36mpandas._libs.lib.map_infer\u001b[1;34m()\u001b[0m\n",
      "File \u001b[1;32mc:\\Users\\Kevin\\anaconda3\\envs\\3.10.4\\lib\\json\\__init__.py:346\u001b[0m, in \u001b[0;36mloads\u001b[1;34m(s, cls, object_hook, parse_float, parse_int, parse_constant, object_pairs_hook, **kw)\u001b[0m\n\u001b[0;32m    341\u001b[0m     s \u001b[39m=\u001b[39m s\u001b[39m.\u001b[39mdecode(detect_encoding(s), \u001b[39m'\u001b[39m\u001b[39msurrogatepass\u001b[39m\u001b[39m'\u001b[39m)\n\u001b[0;32m    343\u001b[0m \u001b[39mif\u001b[39;00m (\u001b[39mcls\u001b[39m \u001b[39mis\u001b[39;00m \u001b[39mNone\u001b[39;00m \u001b[39mand\u001b[39;00m object_hook \u001b[39mis\u001b[39;00m \u001b[39mNone\u001b[39;00m \u001b[39mand\u001b[39;00m\n\u001b[0;32m    344\u001b[0m         parse_int \u001b[39mis\u001b[39;00m \u001b[39mNone\u001b[39;00m \u001b[39mand\u001b[39;00m parse_float \u001b[39mis\u001b[39;00m \u001b[39mNone\u001b[39;00m \u001b[39mand\u001b[39;00m\n\u001b[0;32m    345\u001b[0m         parse_constant \u001b[39mis\u001b[39;00m \u001b[39mNone\u001b[39;00m \u001b[39mand\u001b[39;00m object_pairs_hook \u001b[39mis\u001b[39;00m \u001b[39mNone\u001b[39;00m \u001b[39mand\u001b[39;00m \u001b[39mnot\u001b[39;00m kw):\n\u001b[1;32m--> 346\u001b[0m     \u001b[39mreturn\u001b[39;00m _default_decoder\u001b[39m.\u001b[39;49mdecode(s)\n\u001b[0;32m    347\u001b[0m \u001b[39mif\u001b[39;00m \u001b[39mcls\u001b[39m \u001b[39mis\u001b[39;00m \u001b[39mNone\u001b[39;00m:\n\u001b[0;32m    348\u001b[0m     \u001b[39mcls\u001b[39m \u001b[39m=\u001b[39m JSONDecoder\n",
      "File \u001b[1;32mc:\\Users\\Kevin\\anaconda3\\envs\\3.10.4\\lib\\json\\decoder.py:337\u001b[0m, in \u001b[0;36mJSONDecoder.decode\u001b[1;34m(self, s, _w)\u001b[0m\n\u001b[0;32m    332\u001b[0m \u001b[39mdef\u001b[39;00m \u001b[39mdecode\u001b[39m(\u001b[39mself\u001b[39m, s, _w\u001b[39m=\u001b[39mWHITESPACE\u001b[39m.\u001b[39mmatch):\n\u001b[0;32m    333\u001b[0m \u001b[39m    \u001b[39m\u001b[39m\"\"\"Return the Python representation of ``s`` (a ``str`` instance\u001b[39;00m\n\u001b[0;32m    334\u001b[0m \u001b[39m    containing a JSON document).\u001b[39;00m\n\u001b[0;32m    335\u001b[0m \n\u001b[0;32m    336\u001b[0m \u001b[39m    \"\"\"\u001b[39;00m\n\u001b[1;32m--> 337\u001b[0m     obj, end \u001b[39m=\u001b[39m \u001b[39mself\u001b[39;49m\u001b[39m.\u001b[39;49mraw_decode(s, idx\u001b[39m=\u001b[39;49m_w(s, \u001b[39m0\u001b[39;49m)\u001b[39m.\u001b[39;49mend())\n\u001b[0;32m    338\u001b[0m     end \u001b[39m=\u001b[39m _w(s, end)\u001b[39m.\u001b[39mend()\n\u001b[0;32m    339\u001b[0m     \u001b[39mif\u001b[39;00m end \u001b[39m!=\u001b[39m \u001b[39mlen\u001b[39m(s):\n",
      "File \u001b[1;32mc:\\Users\\Kevin\\anaconda3\\envs\\3.10.4\\lib\\json\\decoder.py:355\u001b[0m, in \u001b[0;36mJSONDecoder.raw_decode\u001b[1;34m(self, s, idx)\u001b[0m\n\u001b[0;32m    353\u001b[0m     obj, end \u001b[39m=\u001b[39m \u001b[39mself\u001b[39m\u001b[39m.\u001b[39mscan_once(s, idx)\n\u001b[0;32m    354\u001b[0m \u001b[39mexcept\u001b[39;00m \u001b[39mStopIteration\u001b[39;00m \u001b[39mas\u001b[39;00m err:\n\u001b[1;32m--> 355\u001b[0m     \u001b[39mraise\u001b[39;00m JSONDecodeError(\u001b[39m\"\u001b[39m\u001b[39mExpecting value\u001b[39m\u001b[39m\"\u001b[39m, s, err\u001b[39m.\u001b[39mvalue) \u001b[39mfrom\u001b[39;00m \u001b[39mNone\u001b[39;00m\n\u001b[0;32m    356\u001b[0m \u001b[39mreturn\u001b[39;00m obj, end\n",
      "\u001b[1;31mJSONDecodeError\u001b[0m: Expecting value: line 1 column 21820 (char 21819)"
     ]
    }
   ],
   "source": [
    "# Read the DataFrame from CSV file\n",
    "in_authority = pd.read_csv(\"./Resources/mig_ltla_in_data.csv\")\n",
    "\n",
    "# Define a function to correct the GeoJSON strings\n",
    "def fix_geojson(geojson_str):\n",
    "    # Replace single quotes with double quotes\n",
    "    fixed_geojson_str = geojson_str.replace(\"'\", \"\\\"\")\n",
    "    return fixed_geojson_str\n",
    "\n",
    "# Apply the fix_geojson function to the 'GeoJSON' column\n",
    "in_authority['GeoJSON'] = in_authority['GeoJSON'].apply(fix_geojson)\n",
    "\n",
    "# Convert the 'GeoJSON' strings to Python dictionaries\n",
    "in_authority['GeoJSON'] = in_authority['GeoJSON'].apply(json.loads)\n",
    "\n",
    "# Create a choropleth map\n",
    "fig = px.choropleth(in_authority, \n",
    "                   geojson=in_authority['GeoJSON'],  # GeoJSON data\n",
    "                   locations=in_authority['Lower tier local authorities code'],  # Location identifiers\n",
    "                   featureidkey=\"features[0].properties.code\",  # Key for the lower-tier local authorities code\n",
    "                   locationmode=\"geojson-id\",\n",
    "                   color=\"Count\",  # Data for coloring\n",
    "                   hover_name=\"Lower tier local authorities label\",  # Hover text\n",
    "                   title=\"Migration LTLA Choropleth Map\",\n",
    "                   color_continuous_scale=\"Viridis\")\n",
    "\n",
    "fig.update_geos(fitbounds=\"locations\", visible=False)\n",
    "fig.show()\n"
   ]
  },
  {
   "cell_type": "code",
   "execution_count": null,
   "metadata": {},
   "outputs": [],
   "source": [
    "\n",
    "\n"
   ]
  },
  {
   "cell_type": "code",
   "execution_count": null,
   "metadata": {},
   "outputs": [],
   "source": []
  },
  {
   "cell_type": "code",
   "execution_count": null,
   "metadata": {},
   "outputs": [],
   "source": []
  }
 ],
 "metadata": {
  "kernelspec": {
   "display_name": "3.10.4",
   "language": "python",
   "name": "python3"
  },
  "language_info": {
   "codemirror_mode": {
    "name": "ipython",
    "version": 3
   },
   "file_extension": ".py",
   "mimetype": "text/x-python",
   "name": "python",
   "nbconvert_exporter": "python",
   "pygments_lexer": "ipython3",
   "version": "3.10.4"
  }
 },
 "nbformat": 4,
 "nbformat_minor": 2
}
